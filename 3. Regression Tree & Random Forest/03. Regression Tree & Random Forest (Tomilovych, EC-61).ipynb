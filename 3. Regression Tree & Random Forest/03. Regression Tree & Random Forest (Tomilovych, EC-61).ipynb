{
 "cells": [
  {
   "cell_type": "code",
   "execution_count": 1,
   "metadata": {},
   "outputs": [],
   "source": [
    "# Regression Tree & Random Forest"
   ]
  },
  {
   "cell_type": "code",
   "execution_count": 2,
   "metadata": {},
   "outputs": [
    {
     "data": {
      "text/plain": [
       "'\\n    У даній лабораторній роботі на основі попередньо оброблених даних про автомобілі спробуємо використати моделі дерева\\nрішень і випадкового лісу для прогнозування ціни автомобіля.\\n     У роботі буде розглянуто моделі дерева рішень за одним фактором і за всіма факторам, модель випадкового лісу, а також\\nмодель дерева рішень по оптимальному набору факторів.\\n    Для цього дані для побудови моделей буде розділено на навчальну та тестову вибірку, аби перевірити прогнозні якості\\nмоделей. Для перевірки якості оцінки та прогнозу моделями будуть використовуватися такі метрики як коефіцієнт\\nдетермінації R^2 та cередньоквадратична помилка MSE.\\n'"
      ]
     },
     "execution_count": 2,
     "metadata": {},
     "output_type": "execute_result"
    }
   ],
   "source": [
    "'''\n",
    "    У даній лабораторній роботі на основі попередньо оброблених даних про автомобілі спробуємо використати моделі дерева\n",
    "рішень і випадкового лісу для прогнозування ціни автомобіля.\n",
    "     У роботі буде розглянуто моделі дерева рішень за одним фактором і за всіма факторам, модель випадкового лісу, а також\n",
    "модель дерева рішень по оптимальному набору факторів.\n",
    "    Для цього дані для побудови моделей буде розділено на навчальну та тестову вибірку, аби перевірити прогнозні якості\n",
    "моделей. Для перевірки якості оцінки та прогнозу моделями будуть використовуватися такі метрики як коефіцієнт\n",
    "детермінації R^2 та cередньоквадратична помилка MSE.\n",
    "'''"
   ]
  },
  {
   "cell_type": "code",
   "execution_count": 3,
   "metadata": {},
   "outputs": [],
   "source": [
    "# Importing the libraries\n",
    "import numpy as np\n",
    "import matplotlib.pyplot as plt\n",
    "import pandas as pd"
   ]
  },
  {
   "cell_type": "code",
   "execution_count": 4,
   "metadata": {},
   "outputs": [],
   "source": [
    "# Importing the datasets\n",
    "df=pd.read_csv('Cars_prep (Tomilovych, EC-61).csv', sep=';')"
   ]
  },
  {
   "cell_type": "code",
   "execution_count": 5,
   "metadata": {},
   "outputs": [
    {
     "data": {
      "text/plain": [
       "'\\n    Аналогічно лабораторній роботі по лінійній регресії, для перевірки прогнозних якостей моделей спостереження були розбиті\\nна навчальну (80%) і тестову (20%) вибірки. Оцінка параметрів моделі буде буде проводитися на навчальній вибірці, а для\\nперевірки прогнозних якостей моделі буде використано тестову вибірку.\\n'"
      ]
     },
     "execution_count": 5,
     "metadata": {},
     "output_type": "execute_result"
    }
   ],
   "source": [
    "'''\n",
    "    Аналогічно лабораторній роботі по лінійній регресії, для перевірки прогнозних якостей моделей спостереження були розбиті\n",
    "на навчальну (80%) і тестову (20%) вибірки. Оцінка параметрів моделі буде буде проводитися на навчальній вибірці, а для\n",
    "перевірки прогнозних якостей моделі буде використано тестову вибірку.\n",
    "'''"
   ]
  },
  {
   "cell_type": "code",
   "execution_count": 6,
   "metadata": {},
   "outputs": [],
   "source": [
    "# Splitting the dataset into the Training set and Test set\n",
    "y=df.iloc[:, 45:46].values\n",
    "X=df.iloc[:, 0:45].values\n",
    "from sklearn.model_selection import train_test_split\n",
    "X_train, X_test, y_train, y_test=train_test_split(X, y, test_size=0.2, random_state=123)"
   ]
  },
  {
   "cell_type": "code",
   "execution_count": 7,
   "metadata": {},
   "outputs": [
    {
     "data": {
      "text/plain": [
       "'\\n    Для побудови моделі дерева рішень за одним фактором використаємо аргумент engine-size, який, як показала попередня\\nлабораторна робота, найбільше корелює з ціною автомобіля. Побудувавши таку модель, проведемо прогноз та перевіримо якість\\nоцінки та прогнозу цієї моделі.\\n'"
      ]
     },
     "execution_count": 7,
     "metadata": {},
     "output_type": "execute_result"
    }
   ],
   "source": [
    "'''\n",
    "    Для побудови моделі дерева рішень за одним фактором використаємо аргумент engine-size, який, як показала попередня\n",
    "лабораторна робота, найбільше корелює з ціною автомобіля. Побудувавши таку модель, проведемо прогноз та перевіримо якість\n",
    "оцінки та прогнозу цієї моделі.\n",
    "'''"
   ]
  },
  {
   "cell_type": "code",
   "execution_count": 8,
   "metadata": {},
   "outputs": [],
   "source": [
    "# Fitting Tree to the Training set (engine-size)\n",
    "from sklearn.tree import DecisionTreeRegressor\n",
    "sdt=DecisionTreeRegressor(max_leaf_nodes=10).fit(X_train[:, 10:11], y_train)"
   ]
  },
  {
   "cell_type": "code",
   "execution_count": 9,
   "metadata": {},
   "outputs": [],
   "source": [
    "# Predicting the Test set results\n",
    "y_pred=sdt.predict(X_test[:, 10:11])"
   ]
  },
  {
   "cell_type": "code",
   "execution_count": 10,
   "metadata": {},
   "outputs": [
    {
     "data": {
      "text/plain": [
       "(0.8669351419342098, 0.8777736219649727)"
      ]
     },
     "execution_count": 10,
     "metadata": {},
     "output_type": "execute_result"
    }
   ],
   "source": [
    "# Coefficient of determination R^2\n",
    "sdt_metrics=['sdt']\n",
    "sdt_metrics.append(sdt.score(X_train[:, 10:11], y_train))\n",
    "sdt_metrics.append(sdt.score(X_test[:, 10:11], y_test))\n",
    "sdt.score(X_train[:, 10:11], y_train), sdt.score(X_test[:, 10:11], y_test)"
   ]
  },
  {
   "cell_type": "code",
   "execution_count": 11,
   "metadata": {},
   "outputs": [
    {
     "data": {
      "text/plain": [
       "(7916376.112619903, 4867334.903905718)"
      ]
     },
     "execution_count": 11,
     "metadata": {},
     "output_type": "execute_result"
    }
   ],
   "source": [
    "# Mean Squared Error\n",
    "from sklearn.metrics import mean_squared_error\n",
    "sdt_metrics.append(mean_squared_error(y_train, sdt.predict(X_train[:, 10:11])))\n",
    "sdt_metrics.append(mean_squared_error(y_test, y_pred))\n",
    "mean_squared_error(y_train, sdt.predict(X_train[:, 10:11])), mean_squared_error(y_test, y_pred)"
   ]
  },
  {
   "cell_type": "code",
   "execution_count": 12,
   "metadata": {},
   "outputs": [
    {
     "data": {
      "text/plain": [
       "'\\n    Було графічно відображено залежність реальних і модельних даних моделі дерева рішень за одним фактором engine-size від\\nвласне цього фактору для навчальної та тестової вибірки для можливості графічного порівняння результатів оцінки та прогнозу\\nмоделлю відповідно.\\n'"
      ]
     },
     "execution_count": 12,
     "metadata": {},
     "output_type": "execute_result"
    }
   ],
   "source": [
    "'''\n",
    "    Було графічно відображено залежність реальних і модельних даних моделі дерева рішень за одним фактором engine-size від\n",
    "власне цього фактору для навчальної та тестової вибірки для можливості графічного порівняння результатів оцінки та прогнозу\n",
    "моделлю відповідно.\n",
    "'''"
   ]
  },
  {
   "cell_type": "code",
   "execution_count": 13,
   "metadata": {},
   "outputs": [
    {
     "data": {
      "image/png": "[encoded data removed]",
      "text/plain": [
       "<Figure size 432x288 with 1 Axes>"
      ]
     },
     "metadata": {
      "needs_background": "light"
     },
     "output_type": "display_data"
    }
   ],
   "source": [
    "# Visualising the Training set results\n",
    "X_grid=np.arange(min(X[:, 10:11]), max(X[:, 10:11]), 0.01)\n",
    "X_grid=X_grid.reshape((len(X_grid), 1))\n",
    "plt.plot(X_grid, sdt.predict(X_grid), color='blue')\n",
    "plt.scatter(X_train[:, 10], y_train, color='red')\n",
    "plt.plot(X_train[:, 10], sdt.predict(X_train[:, 10:11]), 'bo')\n",
    "plt.title('Price vs Engine Size (Training set)')\n",
    "plt.xlabel('Engine Size')\n",
    "plt.ylabel('Price')\n",
    "plt.show()"
   ]
  },
  {
   "cell_type": "code",
   "execution_count": 14,
   "metadata": {},
   "outputs": [
    {
     "data": {
      "image/png": "[encoded data removed]",
      "text/plain": [
       "<Figure size 432x288 with 1 Axes>"
      ]
     },
     "metadata": {
      "needs_background": "light"
     },
     "output_type": "display_data"
    }
   ],
   "source": [
    "# Visualising the Test set results\n",
    "X_grid=np.arange(min(X[:, 10:11]), max(X[:, 10:11]), 0.01)\n",
    "X_grid=X_grid.reshape((len(X_grid), 1))\n",
    "plt.plot(X_grid, sdt.predict(X_grid), color='blue')\n",
    "plt.scatter(X_test[:, 10], y_test, color='red')\n",
    "plt.plot(X_test[:, 10], sdt.predict(X_test[:, 10:11]), 'bo')\n",
    "plt.title('Price vs Engine Size (Test set)')\n",
    "plt.xlabel('Engine Size')\n",
    "plt.ylabel('Price')\n",
    "plt.show()"
   ]
  },
  {
   "cell_type": "code",
   "execution_count": 15,
   "metadata": {},
   "outputs": [
    {
     "data": {
      "text/plain": [
       "'\\n    Побудуємо модель дерева рішень за всіма факторами, проведемо прогноз за нею, а також перевіримо якість оцінки та прогнозу\\nцієї моделі.\\n'"
      ]
     },
     "execution_count": 15,
     "metadata": {},
     "output_type": "execute_result"
    }
   ],
   "source": [
    "'''\n",
    "    Побудуємо модель дерева рішень за всіма факторами, проведемо прогноз за нею, а також перевіримо якість оцінки та прогнозу\n",
    "цієї моделі.\n",
    "'''"
   ]
  },
  {
   "cell_type": "code",
   "execution_count": 16,
   "metadata": {},
   "outputs": [],
   "source": [
    "# Fitting Tree to the Training set \n",
    "from sklearn.tree import DecisionTreeRegressor\n",
    "dt=DecisionTreeRegressor(max_leaf_nodes=10).fit(X_train, y_train)"
   ]
  },
  {
   "cell_type": "code",
   "execution_count": 17,
   "metadata": {},
   "outputs": [],
   "source": [
    "# Predicting the Test set results\n",
    "y_pred=dt.predict(X_test)"
   ]
  },
  {
   "cell_type": "code",
   "execution_count": 18,
   "metadata": {},
   "outputs": [
    {
     "data": {
      "text/plain": [
       "(0.9284674764713187, 0.8828203730140474)"
      ]
     },
     "execution_count": 18,
     "metadata": {},
     "output_type": "execute_result"
    }
   ],
   "source": [
    "# Coefficient of determination R^2\n",
    "dt_metrics=['dt']\n",
    "dt_metrics.append(dt.score(X_train, y_train))\n",
    "dt_metrics.append(dt.score(X_test, y_test))\n",
    "dt.score(X_train, y_train), dt.score(X_test, y_test)"
   ]
  },
  {
   "cell_type": "code",
   "execution_count": 19,
   "metadata": {},
   "outputs": [
    {
     "data": {
      "text/plain": [
       "(4255656.743404737, 4666361.693970262)"
      ]
     },
     "execution_count": 19,
     "metadata": {},
     "output_type": "execute_result"
    }
   ],
   "source": [
    "# Mean Squared Error\n",
    "from sklearn.metrics import mean_squared_error\n",
    "dt_metrics.append(mean_squared_error(y_train, dt.predict(X_train)))\n",
    "dt_metrics.append(mean_squared_error(y_test, y_pred))\n",
    "mean_squared_error(y_train, dt.predict(X_train)), mean_squared_error(y_test, y_pred)"
   ]
  },
  {
   "cell_type": "code",
   "execution_count": 20,
   "metadata": {},
   "outputs": [
    {
     "data": {
      "text/plain": [
       "'\\n    Було графічно відображено залежність реальних і модельних даних моделі дерева рішень за всіма факторами від аргументу\\nengine-size для навчальної та тестової вибірки для можливості графічного порівняння результатів оцінки та прогнозу цією\\nмоделлю відповідно.\\n'"
      ]
     },
     "execution_count": 20,
     "metadata": {},
     "output_type": "execute_result"
    }
   ],
   "source": [
    "'''\n",
    "    Було графічно відображено залежність реальних і модельних даних моделі дерева рішень за всіма факторами від аргументу\n",
    "engine-size для навчальної та тестової вибірки для можливості графічного порівняння результатів оцінки та прогнозу цією\n",
    "моделлю відповідно.\n",
    "'''"
   ]
  },
  {
   "cell_type": "code",
   "execution_count": 21,
   "metadata": {},
   "outputs": [
    {
     "data": {
      "image/png": "[encoded data removed]",
      "text/plain": [
       "<Figure size 432x288 with 1 Axes>"
      ]
     },
     "metadata": {
      "needs_background": "light"
     },
     "output_type": "display_data"
    }
   ],
   "source": [
    "# Visualising the Training set results\n",
    "plt.scatter(X_train[:, 10], y_train, color='red')\n",
    "plt.plot(X_train[:, 10], dt.predict(X_train), 'bo')\n",
    "plt.title('Price vs Engine Size (Training set)')\n",
    "plt.xlabel('Engine Size')\n",
    "plt.ylabel('Price')\n",
    "plt.show()"
   ]
  },
  {
   "cell_type": "code",
   "execution_count": 22,
   "metadata": {},
   "outputs": [
    {
     "data": {
      "image/png": "[encoded data removed]",
      "text/plain": [
       "<Figure size 432x288 with 1 Axes>"
      ]
     },
     "metadata": {
      "needs_background": "light"
     },
     "output_type": "display_data"
    }
   ],
   "source": [
    "# Visualising the Test set results\n",
    "plt.scatter(X_test[:, 10], y_test, color='red')\n",
    "plt.plot(X_test[:, 10], dt.predict(X_test), 'bo')\n",
    "plt.title('Price vs Engine Size (Test set)')\n",
    "plt.xlabel('Engine Size')\n",
    "plt.ylabel('Price')\n",
    "plt.show()"
   ]
  },
  {
   "cell_type": "code",
   "execution_count": 23,
   "metadata": {},
   "outputs": [
    {
     "data": {
      "text/plain": [
       "'\\n    Побудуємо модель випадкового лісу, проведемо прогноз за нею, а також перевіримо якість оцінки та прогнозу цієї моделі.\\n'"
      ]
     },
     "execution_count": 23,
     "metadata": {},
     "output_type": "execute_result"
    }
   ],
   "source": [
    "'''\n",
    "    Побудуємо модель випадкового лісу, проведемо прогноз за нею, а також перевіримо якість оцінки та прогнозу цієї моделі.\n",
    "'''"
   ]
  },
  {
   "cell_type": "code",
   "execution_count": 24,
   "metadata": {},
   "outputs": [
    {
     "name": "stderr",
     "output_type": "stream",
     "text": [
      "<ipython-input-24-7b656791511d>:3: DataConversionWarning: A column-vector y was passed when a 1d array was expected. Please change the shape of y to (n_samples,), for example using ravel().\n",
      "  rf=RandomForestRegressor(n_estimators=10, random_state=123).fit(X_train, y_train)\n"
     ]
    }
   ],
   "source": [
    "# Fitting Random Forest to the Training set\n",
    "from sklearn.ensemble import RandomForestRegressor\n",
    "rf=RandomForestRegressor(n_estimators=10, random_state=123).fit(X_train, y_train)"
   ]
  },
  {
   "cell_type": "code",
   "execution_count": 25,
   "metadata": {},
   "outputs": [],
   "source": [
    "# Predicting the Test set results\n",
    "y_pred=rf.predict(X_test)"
   ]
  },
  {
   "cell_type": "code",
   "execution_count": 26,
   "metadata": {},
   "outputs": [
    {
     "data": {
      "text/plain": [
       "(0.9719758859534974, 0.9084518698548177)"
      ]
     },
     "execution_count": 26,
     "metadata": {},
     "output_type": "execute_result"
    }
   ],
   "source": [
    "# Coefficient of determination R^2\n",
    "rf_metrics=['rf']\n",
    "rf_metrics.append(rf.score(X_train, y_train))\n",
    "rf_metrics.append(rf.score(X_test, y_test))\n",
    "rf.score(X_train, y_train), rf.score(X_test, y_test)"
   ]
  },
  {
   "cell_type": "code",
   "execution_count": 27,
   "metadata": {},
   "outputs": [
    {
     "data": {
      "text/plain": [
       "(1667227.773281674, 3645656.66107893)"
      ]
     },
     "execution_count": 27,
     "metadata": {},
     "output_type": "execute_result"
    }
   ],
   "source": [
    "# Mean Squared Error\n",
    "from sklearn.metrics import mean_squared_error\n",
    "rf_metrics.append(mean_squared_error(y_train, rf.predict(X_train)))\n",
    "rf_metrics.append(mean_squared_error(y_test, y_pred))\n",
    "mean_squared_error(y_train, rf.predict(X_train)), mean_squared_error(y_test, y_pred)"
   ]
  },
  {
   "cell_type": "code",
   "execution_count": 28,
   "metadata": {},
   "outputs": [
    {
     "data": {
      "text/plain": [
       "'\\n    Було графічно відображено залежність реальних і модельних даних моделі випадкового лісу від аргументу engine-size для\\nнавчальної та тестової вибірки для можливості графічного порівняння результатів оцінки та прогнозу моделлю відповідно.\\n'"
      ]
     },
     "execution_count": 28,
     "metadata": {},
     "output_type": "execute_result"
    }
   ],
   "source": [
    "'''\n",
    "    Було графічно відображено залежність реальних і модельних даних моделі випадкового лісу від аргументу engine-size для\n",
    "навчальної та тестової вибірки для можливості графічного порівняння результатів оцінки та прогнозу моделлю відповідно.\n",
    "'''"
   ]
  },
  {
   "cell_type": "code",
   "execution_count": 29,
   "metadata": {},
   "outputs": [
    {
     "data": {
      "image/png": "[encoded data removed]",
      "text/plain": [
       "<Figure size 432x288 with 1 Axes>"
      ]
     },
     "metadata": {
      "needs_background": "light"
     },
     "output_type": "display_data"
    }
   ],
   "source": [
    "# Visualising the Training set results\n",
    "plt.scatter(X_train[:, 10], y_train, color='red')\n",
    "plt.plot(X_train[:, 10], rf.predict(X_train), 'bo')\n",
    "plt.title('Price vs Engine Size (Training set)')\n",
    "plt.xlabel('Engine Size')\n",
    "plt.ylabel('Price')\n",
    "plt.show()"
   ]
  },
  {
   "cell_type": "code",
   "execution_count": 30,
   "metadata": {},
   "outputs": [
    {
     "data": {
      "image/png": "[encoded data removed]",
      "text/plain": [
       "<Figure size 432x288 with 1 Axes>"
      ]
     },
     "metadata": {
      "needs_background": "light"
     },
     "output_type": "display_data"
    }
   ],
   "source": [
    "# Visualising the Test set results\n",
    "plt.scatter(X_test[:, 10], y_test, color='red')\n",
    "plt.plot(X_test[:, 10], rf.predict(X_test), 'bo')\n",
    "plt.title('Price vs Engine Size (Test set)')\n",
    "plt.xlabel('Engine Size')\n",
    "plt.ylabel('Price')\n",
    "plt.show()"
   ]
  },
  {
   "cell_type": "code",
   "execution_count": 31,
   "metadata": {},
   "outputs": [
    {
     "data": {
      "text/plain": [
       "'\\n    Побудуємо модель дерева рішень за оптимальним набором факторів, значущих за p-значенням з рівнем значущості SL=0,05. Ці\\nфактори були визначені за методом зворотного виключення (Backward Elimination), що було пророблено в попередній лабораторній\\nроботі. Для побудованої моделі проведемо прогноз за нею, а також перевіримо якість оцінки та прогнозу цієї моделі.\\n'"
      ]
     },
     "execution_count": 31,
     "metadata": {},
     "output_type": "execute_result"
    }
   ],
   "source": [
    "'''\n",
    "    Побудуємо модель дерева рішень за оптимальним набором факторів, значущих за p-значенням з рівнем значущості SL=0,05. Ці\n",
    "фактори були визначені за методом зворотного виключення (Backward Elimination), що було пророблено в попередній лабораторній\n",
    "роботі. Для побудованої моделі проведемо прогноз за нею, а також перевіримо якість оцінки та прогнозу цієї моделі.\n",
    "'''"
   ]
  },
  {
   "cell_type": "code",
   "execution_count": 32,
   "metadata": {},
   "outputs": [],
   "source": [
    "# Fitting Tree to the Optimized Training set \n",
    "opt_columns=[1, 2, 4, 6, 7, 8, 9, 10, 12, 15, 17, 22, 23, 24, 26, 27, 29, 31, 32, 34, 35, 36, 37, 38, 39, 40, 43]\n",
    "from sklearn.tree import DecisionTreeRegressor\n",
    "odt=DecisionTreeRegressor(max_leaf_nodes=10).fit(X_train[:, opt_columns], y_train)"
   ]
  },
  {
   "cell_type": "code",
   "execution_count": 33,
   "metadata": {},
   "outputs": [],
   "source": [
    "# Predicting the Test set results\n",
    "y_pred=odt.predict(X_test[:, opt_columns])"
   ]
  },
  {
   "cell_type": "code",
   "execution_count": 34,
   "metadata": {},
   "outputs": [
    {
     "data": {
      "text/plain": [
       "(0.928212144522148, 0.8869860870982358)"
      ]
     },
     "execution_count": 34,
     "metadata": {},
     "output_type": "execute_result"
    }
   ],
   "source": [
    "# Coefficient of determination R^2\n",
    "odt_metrics=['odt']\n",
    "odt_metrics.append(odt.score(X_train[:, opt_columns], y_train))\n",
    "odt_metrics.append(odt.score(X_test[:, opt_columns], y_test))\n",
    "odt.score(X_train[:, opt_columns], y_train), odt.score(X_test[:, opt_columns], y_test)"
   ]
  },
  {
   "cell_type": "code",
   "execution_count": 35,
   "metadata": {},
   "outputs": [
    {
     "data": {
      "text/plain": [
       "(4270847.108258278, 4500473.398107879)"
      ]
     },
     "execution_count": 35,
     "metadata": {},
     "output_type": "execute_result"
    }
   ],
   "source": [
    "# Mean Squared Error\n",
    "from sklearn.metrics import mean_squared_error\n",
    "odt_metrics.append(mean_squared_error(y_train, odt.predict(X_train[:, opt_columns])))\n",
    "odt_metrics.append(mean_squared_error(y_test, y_pred))\n",
    "mean_squared_error(y_train, odt.predict(X_train[:, opt_columns])), mean_squared_error(y_test, y_pred)"
   ]
  },
  {
   "cell_type": "code",
   "execution_count": 36,
   "metadata": {},
   "outputs": [
    {
     "data": {
      "text/plain": [
       "'\\n    Було графічно відображено залежність реальних і модельних даних моделі дерева рішень по оптимальному набору факторів від\\nаргументу engine-size для навчальної та тестової вибірки для можливості графічного порівняння результатів оцінки та прогнозу\\nмоделлю відповідно.\\n'"
      ]
     },
     "execution_count": 36,
     "metadata": {},
     "output_type": "execute_result"
    }
   ],
   "source": [
    "'''\n",
    "    Було графічно відображено залежність реальних і модельних даних моделі дерева рішень по оптимальному набору факторів від\n",
    "аргументу engine-size для навчальної та тестової вибірки для можливості графічного порівняння результатів оцінки та прогнозу\n",
    "моделлю відповідно.\n",
    "'''"
   ]
  },
  {
   "cell_type": "code",
   "execution_count": 37,
   "metadata": {},
   "outputs": [
    {
     "data": {
      "image/png": "[encoded data removed]",
      "text/plain": [
       "<Figure size 432x288 with 1 Axes>"
      ]
     },
     "metadata": {
      "needs_background": "light"
     },
     "output_type": "display_data"
    }
   ],
   "source": [
    "# Visualising the Training set results\n",
    "plt.scatter(X_train[:, 10], y_train, color='red')\n",
    "plt.plot(X_train[:, 10], odt.predict(X_train[:, opt_columns]), 'bo')\n",
    "plt.title('Price vs Engine Size (Training set)')\n",
    "plt.xlabel('Engine Size')\n",
    "plt.ylabel('Price')\n",
    "plt.show()"
   ]
  },
  {
   "cell_type": "code",
   "execution_count": 38,
   "metadata": {},
   "outputs": [
    {
     "data": {
      "image/png": "[encoded data removed]",
      "text/plain": [
       "<Figure size 432x288 with 1 Axes>"
      ]
     },
     "metadata": {
      "needs_background": "light"
     },
     "output_type": "display_data"
    }
   ],
   "source": [
    "# Visualising the Test set results\n",
    "plt.scatter(X_test[:, 10], y_test, color='red')\n",
    "plt.plot(X_test[:, 10], odt.predict(X_test[:, opt_columns]), 'bo')\n",
    "plt.title('Price vs Engine Size')\n",
    "plt.xlabel('Engine Size')\n",
    "plt.ylabel('Price')\n",
    "plt.show()"
   ]
  },
  {
   "cell_type": "code",
   "execution_count": 39,
   "metadata": {},
   "outputs": [
    {
     "data": {
      "text/plain": [
       "'\\n    Для визначення найкращої з розглядуваних моделей порівняємо метрики якості між ними, а також з моделями з попередньої\\nлабораторної роботи. Для цього імпортуємо датасет з метриками якості моделей з попередньої роботи й доповнимо його метриками\\nз цієї роботи.\\n'"
      ]
     },
     "execution_count": 39,
     "metadata": {},
     "output_type": "execute_result"
    }
   ],
   "source": [
    "'''\n",
    "    Для визначення найкращої з розглядуваних моделей порівняємо метрики якості між ними, а також з моделями з попередньої\n",
    "лабораторної роботи. Для цього імпортуємо датасет з метриками якості моделей з попередньої роботи й доповнимо його метриками\n",
    "з цієї роботи.\n",
    "'''"
   ]
  },
  {
   "cell_type": "code",
   "execution_count": 40,
   "metadata": {},
   "outputs": [
    {
     "data": {
      "text/html": [
       "<div>\n",
       "<style scoped>\n",
       "    .dataframe tbody tr th:only-of-type {\n",
       "        vertical-align: middle;\n",
       "    }\n",
       "\n",
       "    .dataframe tbody tr th {\n",
       "        vertical-align: top;\n",
       "    }\n",
       "\n",
       "    .dataframe thead th {\n",
       "        text-align: right;\n",
       "    }\n",
       "</style>\n",
       "<table border=\"1\" class=\"dataframe\">\n",
       "  <thead>\n",
       "    <tr style=\"text-align: right;\">\n",
       "      <th></th>\n",
       "      <th>model</th>\n",
       "      <th>train_r2</th>\n",
       "      <th>test_r2</th>\n",
       "      <th>train_mse</th>\n",
       "      <th>test_mse</th>\n",
       "    </tr>\n",
       "  </thead>\n",
       "  <tbody>\n",
       "    <tr>\n",
       "      <th>4</th>\n",
       "      <td>sdt</td>\n",
       "      <td>0.866935</td>\n",
       "      <td>0.877774</td>\n",
       "      <td>7.916376e+06</td>\n",
       "      <td>4.867335e+06</td>\n",
       "    </tr>\n",
       "    <tr>\n",
       "      <th>5</th>\n",
       "      <td>dt</td>\n",
       "      <td>0.928467</td>\n",
       "      <td>0.882820</td>\n",
       "      <td>4.255657e+06</td>\n",
       "      <td>4.666362e+06</td>\n",
       "    </tr>\n",
       "    <tr>\n",
       "      <th>6</th>\n",
       "      <td>rf</td>\n",
       "      <td>0.971976</td>\n",
       "      <td>0.908452</td>\n",
       "      <td>1.667228e+06</td>\n",
       "      <td>3.645657e+06</td>\n",
       "    </tr>\n",
       "    <tr>\n",
       "      <th>7</th>\n",
       "      <td>odt</td>\n",
       "      <td>0.928212</td>\n",
       "      <td>0.886986</td>\n",
       "      <td>4.270847e+06</td>\n",
       "      <td>4.500473e+06</td>\n",
       "    </tr>\n",
       "  </tbody>\n",
       "</table>\n",
       "</div>"
      ],
      "text/plain": [
       "  model  train_r2   test_r2     train_mse      test_mse\n",
       "4   sdt  0.866935  0.877774  7.916376e+06  4.867335e+06\n",
       "5    dt  0.928467  0.882820  4.255657e+06  4.666362e+06\n",
       "6    rf  0.971976  0.908452  1.667228e+06  3.645657e+06\n",
       "7   odt  0.928212  0.886986  4.270847e+06  4.500473e+06"
      ]
     },
     "execution_count": 40,
     "metadata": {},
     "output_type": "execute_result"
    }
   ],
   "source": [
    "metrics_df=pd.read_csv('Metrics (Tomilovych, EC-61).csv', sep=';')\n",
    "for to_append in [sdt_metrics, dt_metrics, rf_metrics, odt_metrics]:\n",
    "    a_series=pd.Series(to_append, index=metrics_df.columns)\n",
    "    metrics_df=metrics_df.append(a_series, ignore_index=True)\n",
    "metrics_df.iloc[4:]"
   ]
  },
  {
   "cell_type": "code",
   "execution_count": 41,
   "metadata": {},
   "outputs": [
    {
     "data": {
      "text/plain": [
       "'\\n    З розглянутих даних можна побачити, що найкращий коефіцієнт детермінації, як для навчальної, так і для тестової вибірки,\\nмає модель випадкового лісу rf, хоча значення цієї метрики в інших моделей теж доволі високі.\\n    Результати по середньоквадратичній помилці MSE повторюють висновки по коефіцієнту детермінації. Таким чином, найкращою з\\nрозглядуваних моделей для прогнозування ціни автомобіля є модель випадкового лісу rf. Проте її варто порівняти з моделями\\nлінійної регресії.\\n'"
      ]
     },
     "execution_count": 41,
     "metadata": {},
     "output_type": "execute_result"
    }
   ],
   "source": [
    "'''\n",
    "    З розглянутих даних можна побачити, що найкращий коефіцієнт детермінації, як для навчальної, так і для тестової вибірки,\n",
    "має модель випадкового лісу rf, хоча значення цієї метрики в інших моделей теж доволі високі.\n",
    "    Результати по середньоквадратичній помилці MSE повторюють висновки по коефіцієнту детермінації. Таким чином, найкращою з\n",
    "розглядуваних моделей для прогнозування ціни автомобіля є модель випадкового лісу rf. Проте її варто порівняти з моделями\n",
    "лінійної регресії.\n",
    "'''"
   ]
  },
  {
   "cell_type": "code",
   "execution_count": 42,
   "metadata": {},
   "outputs": [
    {
     "data": {
      "text/html": [
       "<div>\n",
       "<style scoped>\n",
       "    .dataframe tbody tr th:only-of-type {\n",
       "        vertical-align: middle;\n",
       "    }\n",
       "\n",
       "    .dataframe tbody tr th {\n",
       "        vertical-align: top;\n",
       "    }\n",
       "\n",
       "    .dataframe thead th {\n",
       "        text-align: right;\n",
       "    }\n",
       "</style>\n",
       "<table border=\"1\" class=\"dataframe\">\n",
       "  <thead>\n",
       "    <tr style=\"text-align: right;\">\n",
       "      <th></th>\n",
       "      <th>model</th>\n",
       "      <th>train_r2</th>\n",
       "      <th>test_r2</th>\n",
       "      <th>train_mse</th>\n",
       "      <th>test_mse</th>\n",
       "    </tr>\n",
       "  </thead>\n",
       "  <tbody>\n",
       "    <tr>\n",
       "      <th>0</th>\n",
       "      <td>sr</td>\n",
       "      <td>0.712345</td>\n",
       "      <td>0.859868</td>\n",
       "      <td>1.719428e+07</td>\n",
       "      <td>5.580358e+06</td>\n",
       "    </tr>\n",
       "    <tr>\n",
       "      <th>1</th>\n",
       "      <td>mr</td>\n",
       "      <td>0.943201</td>\n",
       "      <td>0.875247</td>\n",
       "      <td>3.395103e+06</td>\n",
       "      <td>4.967967e+06</td>\n",
       "    </tr>\n",
       "    <tr>\n",
       "      <th>2</th>\n",
       "      <td>pr</td>\n",
       "      <td>0.724615</td>\n",
       "      <td>0.870935</td>\n",
       "      <td>1.646086e+07</td>\n",
       "      <td>5.139649e+06</td>\n",
       "    </tr>\n",
       "    <tr>\n",
       "      <th>3</th>\n",
       "      <td>omr</td>\n",
       "      <td>0.933351</td>\n",
       "      <td>0.914482</td>\n",
       "      <td>3.983876e+06</td>\n",
       "      <td>3.405523e+06</td>\n",
       "    </tr>\n",
       "    <tr>\n",
       "      <th>4</th>\n",
       "      <td>sdt</td>\n",
       "      <td>0.866935</td>\n",
       "      <td>0.877774</td>\n",
       "      <td>7.916376e+06</td>\n",
       "      <td>4.867335e+06</td>\n",
       "    </tr>\n",
       "    <tr>\n",
       "      <th>5</th>\n",
       "      <td>dt</td>\n",
       "      <td>0.928467</td>\n",
       "      <td>0.882820</td>\n",
       "      <td>4.255657e+06</td>\n",
       "      <td>4.666362e+06</td>\n",
       "    </tr>\n",
       "    <tr>\n",
       "      <th>6</th>\n",
       "      <td>rf</td>\n",
       "      <td>0.971976</td>\n",
       "      <td>0.908452</td>\n",
       "      <td>1.667228e+06</td>\n",
       "      <td>3.645657e+06</td>\n",
       "    </tr>\n",
       "    <tr>\n",
       "      <th>7</th>\n",
       "      <td>odt</td>\n",
       "      <td>0.928212</td>\n",
       "      <td>0.886986</td>\n",
       "      <td>4.270847e+06</td>\n",
       "      <td>4.500473e+06</td>\n",
       "    </tr>\n",
       "  </tbody>\n",
       "</table>\n",
       "</div>"
      ],
      "text/plain": [
       "  model  train_r2   test_r2     train_mse      test_mse\n",
       "0    sr  0.712345  0.859868  1.719428e+07  5.580358e+06\n",
       "1    mr  0.943201  0.875247  3.395103e+06  4.967967e+06\n",
       "2    pr  0.724615  0.870935  1.646086e+07  5.139649e+06\n",
       "3   omr  0.933351  0.914482  3.983876e+06  3.405523e+06\n",
       "4   sdt  0.866935  0.877774  7.916376e+06  4.867335e+06\n",
       "5    dt  0.928467  0.882820  4.255657e+06  4.666362e+06\n",
       "6    rf  0.971976  0.908452  1.667228e+06  3.645657e+06\n",
       "7   odt  0.928212  0.886986  4.270847e+06  4.500473e+06"
      ]
     },
     "execution_count": 42,
     "metadata": {},
     "output_type": "execute_result"
    }
   ],
   "source": [
    "metrics_df"
   ]
  },
  {
   "cell_type": "code",
   "execution_count": 43,
   "metadata": {},
   "outputs": [
    {
     "data": {
      "text/plain": [
       "'\\n    Найкращою моделлю серед лінійних у попередній лабораторній роботі була обрана оптимізована багатофакторна лінійна модель\\nomr. Порівняно з моделлю випадкового лісу rf вона має менший коефіцієнт детермінації для навчальної вибірки та більше\\nзначення MSE.\\n    З іншого боку, вона має більший коефіцієнт детермінації для тестової вибірки та менше значення MSE. Разом з тим, модель\\nomr, на відміну від моделі випадкового лісу, побудована не на всій множині факторів, а тільки на значущих за p-значенням з\\nрівнем значущості SL=0,05; тобто є простішою.\\n    Таким чином, для прогнозування ціни автомобіля оптимальнішою є оптимізована багатофакторна лінійна модель omr - простіша\\nта така, що має кращі прогнозні якості.\\n    Метрики якості моделей з цієї лабораторної роботи доповнили датасет метрик якості з попередньої роботи та будуть\\nекспортовані для подальшого порівняння з інишими типами моделей.\\n'"
      ]
     },
     "execution_count": 43,
     "metadata": {},
     "output_type": "execute_result"
    }
   ],
   "source": [
    "'''\n",
    "    Найкращою моделлю серед лінійних у попередній лабораторній роботі була обрана оптимізована багатофакторна лінійна модель\n",
    "omr. Порівняно з моделлю випадкового лісу rf вона має менший коефіцієнт детермінації для навчальної вибірки та більше\n",
    "значення MSE.\n",
    "    З іншого боку, вона має більший коефіцієнт детермінації для тестової вибірки та менше значення MSE. Разом з тим, модель\n",
    "omr, на відміну від моделі випадкового лісу, побудована не на всій множині факторів, а тільки на значущих за p-значенням з\n",
    "рівнем значущості SL=0,05; тобто є простішою.\n",
    "    Таким чином, для прогнозування ціни автомобіля оптимальнішою є оптимізована багатофакторна лінійна модель omr - простіша\n",
    "та така, що має кращі прогнозні якості.\n",
    "    Метрики якості моделей з цієї лабораторної роботи доповнили датасет метрик якості з попередньої роботи та будуть\n",
    "експортовані для подальшого порівняння з інишими типами моделей.\n",
    "'''"
   ]
  },
  {
   "cell_type": "code",
   "execution_count": 44,
   "metadata": {},
   "outputs": [],
   "source": [
    "# Exporting dataset with metrics\n",
    "metrics_df.to_csv('Metrics_after_LR3 (Tomilovych, EC-61).csv', sep=';', index=False)"
   ]
  }
 ],
 "metadata": {
  "kernelspec": {
   "display_name": "Python 3",
   "language": "python",
   "name": "python3"
  },
  "language_info": {
   "codemirror_mode": {
    "name": "ipython",
    "version": 3
   },
   "file_extension": ".py",
   "mimetype": "text/x-python",
   "name": "python",
   "nbconvert_exporter": "python",
   "pygments_lexer": "ipython3",
   "version": "3.8.3"
  }
 },
 "nbformat": 4,
 "nbformat_minor": 4
}
