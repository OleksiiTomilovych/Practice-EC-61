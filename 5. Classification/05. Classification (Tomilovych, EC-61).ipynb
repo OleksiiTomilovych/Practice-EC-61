{
 "cells": [
  {
   "cell_type": "code",
   "execution_count": 1,
   "metadata": {},
   "outputs": [],
   "source": [
    "# Classification"
   ]
  },
  {
   "cell_type": "markdown",
   "metadata": {},
   "source": [
    "    У даній лабораторній роботі на основі даних про автомобілі спробуємо побудувати моделі їхньої класифікації. Для цього розглянемо їхню класифікацію за ознакою symboling, яка означає рівень ризику від страхування автомобіля.\n",
    "    У даній роботі розглянемо класифікацію з використанням моделі логістичної регресії, методу опорних векторів, k-найближчих сусідів, байєсової класифікації, моделі лерева рішень та випадкового лісу, а також нейронних мереж.\n",
    "    Для кожної розглянутої моделі буде розраховуватися метрика Accuracy та будуватися матриця невідповідностей."
   ]
  },
  {
   "cell_type": "code",
   "execution_count": 2,
   "metadata": {},
   "outputs": [],
   "source": [
    "# Importing the libraries\n",
    "import numpy as np\n",
    "import matplotlib.pyplot as plt\n",
    "import pandas as pd"
   ]
  },
  {
   "cell_type": "code",
   "execution_count": 3,
   "metadata": {},
   "outputs": [
    {
     "data": {
      "text/html": [
       "<div>\n",
       "<style scoped>\n",
       "    .dataframe tbody tr th:only-of-type {\n",
       "        vertical-align: middle;\n",
       "    }\n",
       "\n",
       "    .dataframe tbody tr th {\n",
       "        vertical-align: top;\n",
       "    }\n",
       "\n",
       "    .dataframe thead th {\n",
       "        text-align: right;\n",
       "    }\n",
       "</style>\n",
       "<table border=\"1\" class=\"dataframe\">\n",
       "  <thead>\n",
       "    <tr style=\"text-align: right;\">\n",
       "      <th></th>\n",
       "      <th>symboling</th>\n",
       "      <th>fuel-type</th>\n",
       "      <th>aspiration</th>\n",
       "      <th>num-of-doors</th>\n",
       "      <th>engine-location</th>\n",
       "      <th>wheel-base</th>\n",
       "      <th>length</th>\n",
       "      <th>width</th>\n",
       "      <th>height</th>\n",
       "      <th>curb-weight</th>\n",
       "      <th>...</th>\n",
       "      <th>engine-type.ohcv</th>\n",
       "      <th>num-of-cylinders.five</th>\n",
       "      <th>num-of-cylinders.four</th>\n",
       "      <th>num-of-cylinders.more than six</th>\n",
       "      <th>num-of-cylinders.six</th>\n",
       "      <th>fuel-system.1bbl</th>\n",
       "      <th>fuel-system.2bbl</th>\n",
       "      <th>fuel-system.idi</th>\n",
       "      <th>fuel-system.mpfi</th>\n",
       "      <th>price</th>\n",
       "    </tr>\n",
       "  </thead>\n",
       "  <tbody>\n",
       "    <tr>\n",
       "      <th>0</th>\n",
       "      <td>3</td>\n",
       "      <td>1</td>\n",
       "      <td>0</td>\n",
       "      <td>1</td>\n",
       "      <td>0</td>\n",
       "      <td>88.6</td>\n",
       "      <td>168.8</td>\n",
       "      <td>64.1</td>\n",
       "      <td>48.8</td>\n",
       "      <td>2548</td>\n",
       "      <td>...</td>\n",
       "      <td>0</td>\n",
       "      <td>0</td>\n",
       "      <td>1</td>\n",
       "      <td>0</td>\n",
       "      <td>0</td>\n",
       "      <td>0</td>\n",
       "      <td>0</td>\n",
       "      <td>0</td>\n",
       "      <td>1</td>\n",
       "      <td>13495.0</td>\n",
       "    </tr>\n",
       "    <tr>\n",
       "      <th>1</th>\n",
       "      <td>3</td>\n",
       "      <td>1</td>\n",
       "      <td>0</td>\n",
       "      <td>1</td>\n",
       "      <td>0</td>\n",
       "      <td>88.6</td>\n",
       "      <td>168.8</td>\n",
       "      <td>64.1</td>\n",
       "      <td>48.8</td>\n",
       "      <td>2548</td>\n",
       "      <td>...</td>\n",
       "      <td>0</td>\n",
       "      <td>0</td>\n",
       "      <td>1</td>\n",
       "      <td>0</td>\n",
       "      <td>0</td>\n",
       "      <td>0</td>\n",
       "      <td>0</td>\n",
       "      <td>0</td>\n",
       "      <td>1</td>\n",
       "      <td>16500.0</td>\n",
       "    </tr>\n",
       "    <tr>\n",
       "      <th>2</th>\n",
       "      <td>1</td>\n",
       "      <td>1</td>\n",
       "      <td>0</td>\n",
       "      <td>1</td>\n",
       "      <td>0</td>\n",
       "      <td>94.5</td>\n",
       "      <td>171.2</td>\n",
       "      <td>65.5</td>\n",
       "      <td>52.4</td>\n",
       "      <td>2823</td>\n",
       "      <td>...</td>\n",
       "      <td>1</td>\n",
       "      <td>0</td>\n",
       "      <td>0</td>\n",
       "      <td>0</td>\n",
       "      <td>1</td>\n",
       "      <td>0</td>\n",
       "      <td>0</td>\n",
       "      <td>0</td>\n",
       "      <td>1</td>\n",
       "      <td>16500.0</td>\n",
       "    </tr>\n",
       "    <tr>\n",
       "      <th>3</th>\n",
       "      <td>2</td>\n",
       "      <td>1</td>\n",
       "      <td>0</td>\n",
       "      <td>0</td>\n",
       "      <td>0</td>\n",
       "      <td>99.8</td>\n",
       "      <td>176.6</td>\n",
       "      <td>66.2</td>\n",
       "      <td>54.3</td>\n",
       "      <td>2337</td>\n",
       "      <td>...</td>\n",
       "      <td>0</td>\n",
       "      <td>0</td>\n",
       "      <td>1</td>\n",
       "      <td>0</td>\n",
       "      <td>0</td>\n",
       "      <td>0</td>\n",
       "      <td>0</td>\n",
       "      <td>0</td>\n",
       "      <td>1</td>\n",
       "      <td>13950.0</td>\n",
       "    </tr>\n",
       "    <tr>\n",
       "      <th>4</th>\n",
       "      <td>2</td>\n",
       "      <td>1</td>\n",
       "      <td>0</td>\n",
       "      <td>0</td>\n",
       "      <td>0</td>\n",
       "      <td>99.4</td>\n",
       "      <td>176.6</td>\n",
       "      <td>66.4</td>\n",
       "      <td>54.3</td>\n",
       "      <td>2824</td>\n",
       "      <td>...</td>\n",
       "      <td>0</td>\n",
       "      <td>1</td>\n",
       "      <td>0</td>\n",
       "      <td>0</td>\n",
       "      <td>0</td>\n",
       "      <td>0</td>\n",
       "      <td>0</td>\n",
       "      <td>0</td>\n",
       "      <td>1</td>\n",
       "      <td>17450.0</td>\n",
       "    </tr>\n",
       "    <tr>\n",
       "      <th>...</th>\n",
       "      <td>...</td>\n",
       "      <td>...</td>\n",
       "      <td>...</td>\n",
       "      <td>...</td>\n",
       "      <td>...</td>\n",
       "      <td>...</td>\n",
       "      <td>...</td>\n",
       "      <td>...</td>\n",
       "      <td>...</td>\n",
       "      <td>...</td>\n",
       "      <td>...</td>\n",
       "      <td>...</td>\n",
       "      <td>...</td>\n",
       "      <td>...</td>\n",
       "      <td>...</td>\n",
       "      <td>...</td>\n",
       "      <td>...</td>\n",
       "      <td>...</td>\n",
       "      <td>...</td>\n",
       "      <td>...</td>\n",
       "      <td>...</td>\n",
       "    </tr>\n",
       "    <tr>\n",
       "      <th>200</th>\n",
       "      <td>-1</td>\n",
       "      <td>1</td>\n",
       "      <td>0</td>\n",
       "      <td>0</td>\n",
       "      <td>0</td>\n",
       "      <td>109.1</td>\n",
       "      <td>188.8</td>\n",
       "      <td>68.9</td>\n",
       "      <td>55.5</td>\n",
       "      <td>2952</td>\n",
       "      <td>...</td>\n",
       "      <td>0</td>\n",
       "      <td>0</td>\n",
       "      <td>1</td>\n",
       "      <td>0</td>\n",
       "      <td>0</td>\n",
       "      <td>0</td>\n",
       "      <td>0</td>\n",
       "      <td>0</td>\n",
       "      <td>1</td>\n",
       "      <td>16845.0</td>\n",
       "    </tr>\n",
       "    <tr>\n",
       "      <th>201</th>\n",
       "      <td>-1</td>\n",
       "      <td>1</td>\n",
       "      <td>1</td>\n",
       "      <td>0</td>\n",
       "      <td>0</td>\n",
       "      <td>109.1</td>\n",
       "      <td>188.8</td>\n",
       "      <td>68.8</td>\n",
       "      <td>55.5</td>\n",
       "      <td>3049</td>\n",
       "      <td>...</td>\n",
       "      <td>0</td>\n",
       "      <td>0</td>\n",
       "      <td>1</td>\n",
       "      <td>0</td>\n",
       "      <td>0</td>\n",
       "      <td>0</td>\n",
       "      <td>0</td>\n",
       "      <td>0</td>\n",
       "      <td>1</td>\n",
       "      <td>19045.0</td>\n",
       "    </tr>\n",
       "    <tr>\n",
       "      <th>202</th>\n",
       "      <td>-1</td>\n",
       "      <td>1</td>\n",
       "      <td>0</td>\n",
       "      <td>0</td>\n",
       "      <td>0</td>\n",
       "      <td>109.1</td>\n",
       "      <td>188.8</td>\n",
       "      <td>68.9</td>\n",
       "      <td>55.5</td>\n",
       "      <td>3012</td>\n",
       "      <td>...</td>\n",
       "      <td>1</td>\n",
       "      <td>0</td>\n",
       "      <td>0</td>\n",
       "      <td>0</td>\n",
       "      <td>1</td>\n",
       "      <td>0</td>\n",
       "      <td>0</td>\n",
       "      <td>0</td>\n",
       "      <td>1</td>\n",
       "      <td>21485.0</td>\n",
       "    </tr>\n",
       "    <tr>\n",
       "      <th>203</th>\n",
       "      <td>-1</td>\n",
       "      <td>0</td>\n",
       "      <td>1</td>\n",
       "      <td>0</td>\n",
       "      <td>0</td>\n",
       "      <td>109.1</td>\n",
       "      <td>188.8</td>\n",
       "      <td>68.9</td>\n",
       "      <td>55.5</td>\n",
       "      <td>3217</td>\n",
       "      <td>...</td>\n",
       "      <td>0</td>\n",
       "      <td>0</td>\n",
       "      <td>0</td>\n",
       "      <td>0</td>\n",
       "      <td>1</td>\n",
       "      <td>0</td>\n",
       "      <td>0</td>\n",
       "      <td>1</td>\n",
       "      <td>0</td>\n",
       "      <td>22470.0</td>\n",
       "    </tr>\n",
       "    <tr>\n",
       "      <th>204</th>\n",
       "      <td>-1</td>\n",
       "      <td>1</td>\n",
       "      <td>1</td>\n",
       "      <td>0</td>\n",
       "      <td>0</td>\n",
       "      <td>109.1</td>\n",
       "      <td>188.8</td>\n",
       "      <td>68.9</td>\n",
       "      <td>55.5</td>\n",
       "      <td>3062</td>\n",
       "      <td>...</td>\n",
       "      <td>0</td>\n",
       "      <td>0</td>\n",
       "      <td>1</td>\n",
       "      <td>0</td>\n",
       "      <td>0</td>\n",
       "      <td>0</td>\n",
       "      <td>0</td>\n",
       "      <td>0</td>\n",
       "      <td>1</td>\n",
       "      <td>22625.0</td>\n",
       "    </tr>\n",
       "  </tbody>\n",
       "</table>\n",
       "<p>205 rows × 46 columns</p>\n",
       "</div>"
      ],
      "text/plain": [
       "     symboling  fuel-type  aspiration  num-of-doors  engine-location  \\\n",
       "0            3          1           0             1                0   \n",
       "1            3          1           0             1                0   \n",
       "2            1          1           0             1                0   \n",
       "3            2          1           0             0                0   \n",
       "4            2          1           0             0                0   \n",
       "..         ...        ...         ...           ...              ...   \n",
       "200         -1          1           0             0                0   \n",
       "201         -1          1           1             0                0   \n",
       "202         -1          1           0             0                0   \n",
       "203         -1          0           1             0                0   \n",
       "204         -1          1           1             0                0   \n",
       "\n",
       "     wheel-base  length  width  height  curb-weight  ...  engine-type.ohcv  \\\n",
       "0          88.6   168.8   64.1    48.8         2548  ...                 0   \n",
       "1          88.6   168.8   64.1    48.8         2548  ...                 0   \n",
       "2          94.5   171.2   65.5    52.4         2823  ...                 1   \n",
       "3          99.8   176.6   66.2    54.3         2337  ...                 0   \n",
       "4          99.4   176.6   66.4    54.3         2824  ...                 0   \n",
       "..          ...     ...    ...     ...          ...  ...               ...   \n",
       "200       109.1   188.8   68.9    55.5         2952  ...                 0   \n",
       "201       109.1   188.8   68.8    55.5         3049  ...                 0   \n",
       "202       109.1   188.8   68.9    55.5         3012  ...                 1   \n",
       "203       109.1   188.8   68.9    55.5         3217  ...                 0   \n",
       "204       109.1   188.8   68.9    55.5         3062  ...                 0   \n",
       "\n",
       "     num-of-cylinders.five  num-of-cylinders.four  \\\n",
       "0                        0                      1   \n",
       "1                        0                      1   \n",
       "2                        0                      0   \n",
       "3                        0                      1   \n",
       "4                        1                      0   \n",
       "..                     ...                    ...   \n",
       "200                      0                      1   \n",
       "201                      0                      1   \n",
       "202                      0                      0   \n",
       "203                      0                      0   \n",
       "204                      0                      1   \n",
       "\n",
       "     num-of-cylinders.more than six  num-of-cylinders.six  fuel-system.1bbl  \\\n",
       "0                                 0                     0                 0   \n",
       "1                                 0                     0                 0   \n",
       "2                                 0                     1                 0   \n",
       "3                                 0                     0                 0   \n",
       "4                                 0                     0                 0   \n",
       "..                              ...                   ...               ...   \n",
       "200                               0                     0                 0   \n",
       "201                               0                     0                 0   \n",
       "202                               0                     1                 0   \n",
       "203                               0                     1                 0   \n",
       "204                               0                     0                 0   \n",
       "\n",
       "     fuel-system.2bbl  fuel-system.idi  fuel-system.mpfi    price  \n",
       "0                   0                0                 1  13495.0  \n",
       "1                   0                0                 1  16500.0  \n",
       "2                   0                0                 1  16500.0  \n",
       "3                   0                0                 1  13950.0  \n",
       "4                   0                0                 1  17450.0  \n",
       "..                ...              ...               ...      ...  \n",
       "200                 0                0                 1  16845.0  \n",
       "201                 0                0                 1  19045.0  \n",
       "202                 0                0                 1  21485.0  \n",
       "203                 0                1                 0  22470.0  \n",
       "204                 0                0                 1  22625.0  \n",
       "\n",
       "[205 rows x 46 columns]"
      ]
     },
     "execution_count": 3,
     "metadata": {},
     "output_type": "execute_result"
    }
   ],
   "source": [
    "# Importing the dataset\n",
    "df=pd.read_csv('Cars_prep (Tomilovych, EC-61).csv', sep=';')\n",
    "df"
   ]
  },
  {
   "cell_type": "code",
   "execution_count": 4,
   "metadata": {},
   "outputs": [
    {
     "data": {
      "text/html": [
       "<div>\n",
       "<style scoped>\n",
       "    .dataframe tbody tr th:only-of-type {\n",
       "        vertical-align: middle;\n",
       "    }\n",
       "\n",
       "    .dataframe tbody tr th {\n",
       "        vertical-align: top;\n",
       "    }\n",
       "\n",
       "    .dataframe thead th {\n",
       "        text-align: right;\n",
       "    }\n",
       "</style>\n",
       "<table border=\"1\" class=\"dataframe\">\n",
       "  <thead>\n",
       "    <tr style=\"text-align: right;\">\n",
       "      <th></th>\n",
       "      <th>symboling</th>\n",
       "      <th>fuel-type</th>\n",
       "      <th>aspiration</th>\n",
       "      <th>num-of-doors</th>\n",
       "      <th>engine-location</th>\n",
       "      <th>wheel-base</th>\n",
       "      <th>length</th>\n",
       "      <th>width</th>\n",
       "      <th>height</th>\n",
       "      <th>curb-weight</th>\n",
       "      <th>...</th>\n",
       "      <th>engine-type.ohcv</th>\n",
       "      <th>num-of-cylinders.five</th>\n",
       "      <th>num-of-cylinders.four</th>\n",
       "      <th>num-of-cylinders.more than six</th>\n",
       "      <th>num-of-cylinders.six</th>\n",
       "      <th>fuel-system.1bbl</th>\n",
       "      <th>fuel-system.2bbl</th>\n",
       "      <th>fuel-system.idi</th>\n",
       "      <th>fuel-system.mpfi</th>\n",
       "      <th>price</th>\n",
       "    </tr>\n",
       "  </thead>\n",
       "  <tbody>\n",
       "    <tr>\n",
       "      <th>count</th>\n",
       "      <td>205.000000</td>\n",
       "      <td>205.000000</td>\n",
       "      <td>205.000000</td>\n",
       "      <td>205.000000</td>\n",
       "      <td>205.000000</td>\n",
       "      <td>205.000000</td>\n",
       "      <td>205.000000</td>\n",
       "      <td>205.000000</td>\n",
       "      <td>205.000000</td>\n",
       "      <td>205.000000</td>\n",
       "      <td>...</td>\n",
       "      <td>205.000000</td>\n",
       "      <td>205.000000</td>\n",
       "      <td>205.000000</td>\n",
       "      <td>205.000000</td>\n",
       "      <td>205.000000</td>\n",
       "      <td>205.000000</td>\n",
       "      <td>205.000000</td>\n",
       "      <td>205.000000</td>\n",
       "      <td>205.000000</td>\n",
       "      <td>205.000000</td>\n",
       "    </tr>\n",
       "    <tr>\n",
       "      <th>mean</th>\n",
       "      <td>0.834146</td>\n",
       "      <td>0.902439</td>\n",
       "      <td>0.180488</td>\n",
       "      <td>0.434146</td>\n",
       "      <td>0.014634</td>\n",
       "      <td>98.736585</td>\n",
       "      <td>174.049268</td>\n",
       "      <td>65.907805</td>\n",
       "      <td>53.724878</td>\n",
       "      <td>2555.565854</td>\n",
       "      <td>...</td>\n",
       "      <td>0.063415</td>\n",
       "      <td>0.053659</td>\n",
       "      <td>0.775610</td>\n",
       "      <td>0.029268</td>\n",
       "      <td>0.117073</td>\n",
       "      <td>0.053659</td>\n",
       "      <td>0.321951</td>\n",
       "      <td>0.097561</td>\n",
       "      <td>0.458537</td>\n",
       "      <td>13121.673171</td>\n",
       "    </tr>\n",
       "    <tr>\n",
       "      <th>std</th>\n",
       "      <td>1.245307</td>\n",
       "      <td>0.297446</td>\n",
       "      <td>0.385535</td>\n",
       "      <td>0.496858</td>\n",
       "      <td>0.120377</td>\n",
       "      <td>5.954301</td>\n",
       "      <td>12.337289</td>\n",
       "      <td>2.145204</td>\n",
       "      <td>2.443522</td>\n",
       "      <td>520.680204</td>\n",
       "      <td>...</td>\n",
       "      <td>0.244304</td>\n",
       "      <td>0.225894</td>\n",
       "      <td>0.418201</td>\n",
       "      <td>0.168970</td>\n",
       "      <td>0.322294</td>\n",
       "      <td>0.225894</td>\n",
       "      <td>0.468368</td>\n",
       "      <td>0.297446</td>\n",
       "      <td>0.499498</td>\n",
       "      <td>7570.378110</td>\n",
       "    </tr>\n",
       "    <tr>\n",
       "      <th>min</th>\n",
       "      <td>-2.000000</td>\n",
       "      <td>0.000000</td>\n",
       "      <td>0.000000</td>\n",
       "      <td>0.000000</td>\n",
       "      <td>0.000000</td>\n",
       "      <td>86.600000</td>\n",
       "      <td>141.100000</td>\n",
       "      <td>60.300000</td>\n",
       "      <td>47.800000</td>\n",
       "      <td>1488.000000</td>\n",
       "      <td>...</td>\n",
       "      <td>0.000000</td>\n",
       "      <td>0.000000</td>\n",
       "      <td>0.000000</td>\n",
       "      <td>0.000000</td>\n",
       "      <td>0.000000</td>\n",
       "      <td>0.000000</td>\n",
       "      <td>0.000000</td>\n",
       "      <td>0.000000</td>\n",
       "      <td>0.000000</td>\n",
       "      <td>5118.000000</td>\n",
       "    </tr>\n",
       "    <tr>\n",
       "      <th>25%</th>\n",
       "      <td>0.000000</td>\n",
       "      <td>1.000000</td>\n",
       "      <td>0.000000</td>\n",
       "      <td>0.000000</td>\n",
       "      <td>0.000000</td>\n",
       "      <td>94.500000</td>\n",
       "      <td>166.300000</td>\n",
       "      <td>64.100000</td>\n",
       "      <td>52.000000</td>\n",
       "      <td>2145.000000</td>\n",
       "      <td>...</td>\n",
       "      <td>0.000000</td>\n",
       "      <td>0.000000</td>\n",
       "      <td>1.000000</td>\n",
       "      <td>0.000000</td>\n",
       "      <td>0.000000</td>\n",
       "      <td>0.000000</td>\n",
       "      <td>0.000000</td>\n",
       "      <td>0.000000</td>\n",
       "      <td>0.000000</td>\n",
       "      <td>7788.000000</td>\n",
       "    </tr>\n",
       "    <tr>\n",
       "      <th>50%</th>\n",
       "      <td>1.000000</td>\n",
       "      <td>1.000000</td>\n",
       "      <td>0.000000</td>\n",
       "      <td>0.000000</td>\n",
       "      <td>0.000000</td>\n",
       "      <td>97.000000</td>\n",
       "      <td>173.200000</td>\n",
       "      <td>65.500000</td>\n",
       "      <td>54.100000</td>\n",
       "      <td>2414.000000</td>\n",
       "      <td>...</td>\n",
       "      <td>0.000000</td>\n",
       "      <td>0.000000</td>\n",
       "      <td>1.000000</td>\n",
       "      <td>0.000000</td>\n",
       "      <td>0.000000</td>\n",
       "      <td>0.000000</td>\n",
       "      <td>0.000000</td>\n",
       "      <td>0.000000</td>\n",
       "      <td>0.000000</td>\n",
       "      <td>10595.000000</td>\n",
       "    </tr>\n",
       "    <tr>\n",
       "      <th>75%</th>\n",
       "      <td>2.000000</td>\n",
       "      <td>1.000000</td>\n",
       "      <td>0.000000</td>\n",
       "      <td>1.000000</td>\n",
       "      <td>0.000000</td>\n",
       "      <td>102.400000</td>\n",
       "      <td>183.100000</td>\n",
       "      <td>66.900000</td>\n",
       "      <td>55.500000</td>\n",
       "      <td>2935.000000</td>\n",
       "      <td>...</td>\n",
       "      <td>0.000000</td>\n",
       "      <td>0.000000</td>\n",
       "      <td>1.000000</td>\n",
       "      <td>0.000000</td>\n",
       "      <td>0.000000</td>\n",
       "      <td>0.000000</td>\n",
       "      <td>1.000000</td>\n",
       "      <td>0.000000</td>\n",
       "      <td>1.000000</td>\n",
       "      <td>16500.000000</td>\n",
       "    </tr>\n",
       "    <tr>\n",
       "      <th>max</th>\n",
       "      <td>3.000000</td>\n",
       "      <td>1.000000</td>\n",
       "      <td>1.000000</td>\n",
       "      <td>1.000000</td>\n",
       "      <td>1.000000</td>\n",
       "      <td>116.800000</td>\n",
       "      <td>208.100000</td>\n",
       "      <td>72.300000</td>\n",
       "      <td>59.800000</td>\n",
       "      <td>4066.000000</td>\n",
       "      <td>...</td>\n",
       "      <td>1.000000</td>\n",
       "      <td>1.000000</td>\n",
       "      <td>1.000000</td>\n",
       "      <td>1.000000</td>\n",
       "      <td>1.000000</td>\n",
       "      <td>1.000000</td>\n",
       "      <td>1.000000</td>\n",
       "      <td>1.000000</td>\n",
       "      <td>1.000000</td>\n",
       "      <td>36813.000000</td>\n",
       "    </tr>\n",
       "  </tbody>\n",
       "</table>\n",
       "<p>8 rows × 46 columns</p>\n",
       "</div>"
      ],
      "text/plain": [
       "        symboling   fuel-type  aspiration  num-of-doors  engine-location  \\\n",
       "count  205.000000  205.000000  205.000000    205.000000       205.000000   \n",
       "mean     0.834146    0.902439    0.180488      0.434146         0.014634   \n",
       "std      1.245307    0.297446    0.385535      0.496858         0.120377   \n",
       "min     -2.000000    0.000000    0.000000      0.000000         0.000000   \n",
       "25%      0.000000    1.000000    0.000000      0.000000         0.000000   \n",
       "50%      1.000000    1.000000    0.000000      0.000000         0.000000   \n",
       "75%      2.000000    1.000000    0.000000      1.000000         0.000000   \n",
       "max      3.000000    1.000000    1.000000      1.000000         1.000000   \n",
       "\n",
       "       wheel-base      length       width      height  curb-weight  ...  \\\n",
       "count  205.000000  205.000000  205.000000  205.000000   205.000000  ...   \n",
       "mean    98.736585  174.049268   65.907805   53.724878  2555.565854  ...   \n",
       "std      5.954301   12.337289    2.145204    2.443522   520.680204  ...   \n",
       "min     86.600000  141.100000   60.300000   47.800000  1488.000000  ...   \n",
       "25%     94.500000  166.300000   64.100000   52.000000  2145.000000  ...   \n",
       "50%     97.000000  173.200000   65.500000   54.100000  2414.000000  ...   \n",
       "75%    102.400000  183.100000   66.900000   55.500000  2935.000000  ...   \n",
       "max    116.800000  208.100000   72.300000   59.800000  4066.000000  ...   \n",
       "\n",
       "       engine-type.ohcv  num-of-cylinders.five  num-of-cylinders.four  \\\n",
       "count        205.000000             205.000000             205.000000   \n",
       "mean           0.063415               0.053659               0.775610   \n",
       "std            0.244304               0.225894               0.418201   \n",
       "min            0.000000               0.000000               0.000000   \n",
       "25%            0.000000               0.000000               1.000000   \n",
       "50%            0.000000               0.000000               1.000000   \n",
       "75%            0.000000               0.000000               1.000000   \n",
       "max            1.000000               1.000000               1.000000   \n",
       "\n",
       "       num-of-cylinders.more than six  num-of-cylinders.six  fuel-system.1bbl  \\\n",
       "count                      205.000000            205.000000        205.000000   \n",
       "mean                         0.029268              0.117073          0.053659   \n",
       "std                          0.168970              0.322294          0.225894   \n",
       "min                          0.000000              0.000000          0.000000   \n",
       "25%                          0.000000              0.000000          0.000000   \n",
       "50%                          0.000000              0.000000          0.000000   \n",
       "75%                          0.000000              0.000000          0.000000   \n",
       "max                          1.000000              1.000000          1.000000   \n",
       "\n",
       "       fuel-system.2bbl  fuel-system.idi  fuel-system.mpfi         price  \n",
       "count        205.000000       205.000000        205.000000    205.000000  \n",
       "mean           0.321951         0.097561          0.458537  13121.673171  \n",
       "std            0.468368         0.297446          0.499498   7570.378110  \n",
       "min            0.000000         0.000000          0.000000   5118.000000  \n",
       "25%            0.000000         0.000000          0.000000   7788.000000  \n",
       "50%            0.000000         0.000000          0.000000  10595.000000  \n",
       "75%            1.000000         0.000000          1.000000  16500.000000  \n",
       "max            1.000000         1.000000          1.000000  36813.000000  \n",
       "\n",
       "[8 rows x 46 columns]"
      ]
     },
     "execution_count": 4,
     "metadata": {},
     "output_type": "execute_result"
    }
   ],
   "source": [
    "# Descriptive Statistics\n",
    "df.describe()"
   ]
  },
  {
   "cell_type": "markdown",
   "metadata": {},
   "source": [
    "    Для початку зведемо задачу класифікації до бінарної класифікації. Автомобілі в наборі даних поділені на 6 упорядкованих класів: від -2 до 3: чим менший номер класу, тим менш ризиковим є страхування такого автомобіля і навпаки. Об'єднаємо класи -2, -1 і 0 в єдиний клас 0, який позначатиме низьку ризиковість страхування автомобіля, а класи 1, 2 і 3 - в єдиний клас 1, що позначатиме клас автомобілів з високою ризиковістю страхування."
   ]
  },
  {
   "cell_type": "code",
   "execution_count": 5,
   "metadata": {},
   "outputs": [
    {
     "data": {
      "text/html": [
       "<div>\n",
       "<style scoped>\n",
       "    .dataframe tbody tr th:only-of-type {\n",
       "        vertical-align: middle;\n",
       "    }\n",
       "\n",
       "    .dataframe tbody tr th {\n",
       "        vertical-align: top;\n",
       "    }\n",
       "\n",
       "    .dataframe thead th {\n",
       "        text-align: right;\n",
       "    }\n",
       "</style>\n",
       "<table border=\"1\" class=\"dataframe\">\n",
       "  <thead>\n",
       "    <tr style=\"text-align: right;\">\n",
       "      <th></th>\n",
       "      <th>fuel-type</th>\n",
       "      <th>aspiration</th>\n",
       "      <th>num-of-doors</th>\n",
       "      <th>engine-location</th>\n",
       "      <th>wheel-base</th>\n",
       "      <th>length</th>\n",
       "      <th>width</th>\n",
       "      <th>height</th>\n",
       "      <th>curb-weight</th>\n",
       "      <th>engine-size</th>\n",
       "      <th>...</th>\n",
       "      <th>num-of-cylinders.five</th>\n",
       "      <th>num-of-cylinders.four</th>\n",
       "      <th>num-of-cylinders.more than six</th>\n",
       "      <th>num-of-cylinders.six</th>\n",
       "      <th>fuel-system.1bbl</th>\n",
       "      <th>fuel-system.2bbl</th>\n",
       "      <th>fuel-system.idi</th>\n",
       "      <th>fuel-system.mpfi</th>\n",
       "      <th>price</th>\n",
       "      <th>symboling</th>\n",
       "    </tr>\n",
       "  </thead>\n",
       "  <tbody>\n",
       "    <tr>\n",
       "      <th>0</th>\n",
       "      <td>1</td>\n",
       "      <td>0</td>\n",
       "      <td>1</td>\n",
       "      <td>0</td>\n",
       "      <td>88.6</td>\n",
       "      <td>168.8</td>\n",
       "      <td>64.1</td>\n",
       "      <td>48.8</td>\n",
       "      <td>2548</td>\n",
       "      <td>130</td>\n",
       "      <td>...</td>\n",
       "      <td>0</td>\n",
       "      <td>1</td>\n",
       "      <td>0</td>\n",
       "      <td>0</td>\n",
       "      <td>0</td>\n",
       "      <td>0</td>\n",
       "      <td>0</td>\n",
       "      <td>1</td>\n",
       "      <td>13495.0</td>\n",
       "      <td>1</td>\n",
       "    </tr>\n",
       "    <tr>\n",
       "      <th>1</th>\n",
       "      <td>1</td>\n",
       "      <td>0</td>\n",
       "      <td>1</td>\n",
       "      <td>0</td>\n",
       "      <td>88.6</td>\n",
       "      <td>168.8</td>\n",
       "      <td>64.1</td>\n",
       "      <td>48.8</td>\n",
       "      <td>2548</td>\n",
       "      <td>130</td>\n",
       "      <td>...</td>\n",
       "      <td>0</td>\n",
       "      <td>1</td>\n",
       "      <td>0</td>\n",
       "      <td>0</td>\n",
       "      <td>0</td>\n",
       "      <td>0</td>\n",
       "      <td>0</td>\n",
       "      <td>1</td>\n",
       "      <td>16500.0</td>\n",
       "      <td>1</td>\n",
       "    </tr>\n",
       "    <tr>\n",
       "      <th>2</th>\n",
       "      <td>1</td>\n",
       "      <td>0</td>\n",
       "      <td>1</td>\n",
       "      <td>0</td>\n",
       "      <td>94.5</td>\n",
       "      <td>171.2</td>\n",
       "      <td>65.5</td>\n",
       "      <td>52.4</td>\n",
       "      <td>2823</td>\n",
       "      <td>152</td>\n",
       "      <td>...</td>\n",
       "      <td>0</td>\n",
       "      <td>0</td>\n",
       "      <td>0</td>\n",
       "      <td>1</td>\n",
       "      <td>0</td>\n",
       "      <td>0</td>\n",
       "      <td>0</td>\n",
       "      <td>1</td>\n",
       "      <td>16500.0</td>\n",
       "      <td>1</td>\n",
       "    </tr>\n",
       "    <tr>\n",
       "      <th>3</th>\n",
       "      <td>1</td>\n",
       "      <td>0</td>\n",
       "      <td>0</td>\n",
       "      <td>0</td>\n",
       "      <td>99.8</td>\n",
       "      <td>176.6</td>\n",
       "      <td>66.2</td>\n",
       "      <td>54.3</td>\n",
       "      <td>2337</td>\n",
       "      <td>109</td>\n",
       "      <td>...</td>\n",
       "      <td>0</td>\n",
       "      <td>1</td>\n",
       "      <td>0</td>\n",
       "      <td>0</td>\n",
       "      <td>0</td>\n",
       "      <td>0</td>\n",
       "      <td>0</td>\n",
       "      <td>1</td>\n",
       "      <td>13950.0</td>\n",
       "      <td>1</td>\n",
       "    </tr>\n",
       "    <tr>\n",
       "      <th>4</th>\n",
       "      <td>1</td>\n",
       "      <td>0</td>\n",
       "      <td>0</td>\n",
       "      <td>0</td>\n",
       "      <td>99.4</td>\n",
       "      <td>176.6</td>\n",
       "      <td>66.4</td>\n",
       "      <td>54.3</td>\n",
       "      <td>2824</td>\n",
       "      <td>136</td>\n",
       "      <td>...</td>\n",
       "      <td>1</td>\n",
       "      <td>0</td>\n",
       "      <td>0</td>\n",
       "      <td>0</td>\n",
       "      <td>0</td>\n",
       "      <td>0</td>\n",
       "      <td>0</td>\n",
       "      <td>1</td>\n",
       "      <td>17450.0</td>\n",
       "      <td>1</td>\n",
       "    </tr>\n",
       "    <tr>\n",
       "      <th>...</th>\n",
       "      <td>...</td>\n",
       "      <td>...</td>\n",
       "      <td>...</td>\n",
       "      <td>...</td>\n",
       "      <td>...</td>\n",
       "      <td>...</td>\n",
       "      <td>...</td>\n",
       "      <td>...</td>\n",
       "      <td>...</td>\n",
       "      <td>...</td>\n",
       "      <td>...</td>\n",
       "      <td>...</td>\n",
       "      <td>...</td>\n",
       "      <td>...</td>\n",
       "      <td>...</td>\n",
       "      <td>...</td>\n",
       "      <td>...</td>\n",
       "      <td>...</td>\n",
       "      <td>...</td>\n",
       "      <td>...</td>\n",
       "      <td>...</td>\n",
       "    </tr>\n",
       "    <tr>\n",
       "      <th>200</th>\n",
       "      <td>1</td>\n",
       "      <td>0</td>\n",
       "      <td>0</td>\n",
       "      <td>0</td>\n",
       "      <td>109.1</td>\n",
       "      <td>188.8</td>\n",
       "      <td>68.9</td>\n",
       "      <td>55.5</td>\n",
       "      <td>2952</td>\n",
       "      <td>141</td>\n",
       "      <td>...</td>\n",
       "      <td>0</td>\n",
       "      <td>1</td>\n",
       "      <td>0</td>\n",
       "      <td>0</td>\n",
       "      <td>0</td>\n",
       "      <td>0</td>\n",
       "      <td>0</td>\n",
       "      <td>1</td>\n",
       "      <td>16845.0</td>\n",
       "      <td>0</td>\n",
       "    </tr>\n",
       "    <tr>\n",
       "      <th>201</th>\n",
       "      <td>1</td>\n",
       "      <td>1</td>\n",
       "      <td>0</td>\n",
       "      <td>0</td>\n",
       "      <td>109.1</td>\n",
       "      <td>188.8</td>\n",
       "      <td>68.8</td>\n",
       "      <td>55.5</td>\n",
       "      <td>3049</td>\n",
       "      <td>141</td>\n",
       "      <td>...</td>\n",
       "      <td>0</td>\n",
       "      <td>1</td>\n",
       "      <td>0</td>\n",
       "      <td>0</td>\n",
       "      <td>0</td>\n",
       "      <td>0</td>\n",
       "      <td>0</td>\n",
       "      <td>1</td>\n",
       "      <td>19045.0</td>\n",
       "      <td>0</td>\n",
       "    </tr>\n",
       "    <tr>\n",
       "      <th>202</th>\n",
       "      <td>1</td>\n",
       "      <td>0</td>\n",
       "      <td>0</td>\n",
       "      <td>0</td>\n",
       "      <td>109.1</td>\n",
       "      <td>188.8</td>\n",
       "      <td>68.9</td>\n",
       "      <td>55.5</td>\n",
       "      <td>3012</td>\n",
       "      <td>173</td>\n",
       "      <td>...</td>\n",
       "      <td>0</td>\n",
       "      <td>0</td>\n",
       "      <td>0</td>\n",
       "      <td>1</td>\n",
       "      <td>0</td>\n",
       "      <td>0</td>\n",
       "      <td>0</td>\n",
       "      <td>1</td>\n",
       "      <td>21485.0</td>\n",
       "      <td>0</td>\n",
       "    </tr>\n",
       "    <tr>\n",
       "      <th>203</th>\n",
       "      <td>0</td>\n",
       "      <td>1</td>\n",
       "      <td>0</td>\n",
       "      <td>0</td>\n",
       "      <td>109.1</td>\n",
       "      <td>188.8</td>\n",
       "      <td>68.9</td>\n",
       "      <td>55.5</td>\n",
       "      <td>3217</td>\n",
       "      <td>145</td>\n",
       "      <td>...</td>\n",
       "      <td>0</td>\n",
       "      <td>0</td>\n",
       "      <td>0</td>\n",
       "      <td>1</td>\n",
       "      <td>0</td>\n",
       "      <td>0</td>\n",
       "      <td>1</td>\n",
       "      <td>0</td>\n",
       "      <td>22470.0</td>\n",
       "      <td>0</td>\n",
       "    </tr>\n",
       "    <tr>\n",
       "      <th>204</th>\n",
       "      <td>1</td>\n",
       "      <td>1</td>\n",
       "      <td>0</td>\n",
       "      <td>0</td>\n",
       "      <td>109.1</td>\n",
       "      <td>188.8</td>\n",
       "      <td>68.9</td>\n",
       "      <td>55.5</td>\n",
       "      <td>3062</td>\n",
       "      <td>141</td>\n",
       "      <td>...</td>\n",
       "      <td>0</td>\n",
       "      <td>1</td>\n",
       "      <td>0</td>\n",
       "      <td>0</td>\n",
       "      <td>0</td>\n",
       "      <td>0</td>\n",
       "      <td>0</td>\n",
       "      <td>1</td>\n",
       "      <td>22625.0</td>\n",
       "      <td>0</td>\n",
       "    </tr>\n",
       "  </tbody>\n",
       "</table>\n",
       "<p>205 rows × 46 columns</p>\n",
       "</div>"
      ],
      "text/plain": [
       "     fuel-type  aspiration  num-of-doors  engine-location  wheel-base  length  \\\n",
       "0            1           0             1                0        88.6   168.8   \n",
       "1            1           0             1                0        88.6   168.8   \n",
       "2            1           0             1                0        94.5   171.2   \n",
       "3            1           0             0                0        99.8   176.6   \n",
       "4            1           0             0                0        99.4   176.6   \n",
       "..         ...         ...           ...              ...         ...     ...   \n",
       "200          1           0             0                0       109.1   188.8   \n",
       "201          1           1             0                0       109.1   188.8   \n",
       "202          1           0             0                0       109.1   188.8   \n",
       "203          0           1             0                0       109.1   188.8   \n",
       "204          1           1             0                0       109.1   188.8   \n",
       "\n",
       "     width  height  curb-weight  engine-size  ...  num-of-cylinders.five  \\\n",
       "0     64.1    48.8         2548          130  ...                      0   \n",
       "1     64.1    48.8         2548          130  ...                      0   \n",
       "2     65.5    52.4         2823          152  ...                      0   \n",
       "3     66.2    54.3         2337          109  ...                      0   \n",
       "4     66.4    54.3         2824          136  ...                      1   \n",
       "..     ...     ...          ...          ...  ...                    ...   \n",
       "200   68.9    55.5         2952          141  ...                      0   \n",
       "201   68.8    55.5         3049          141  ...                      0   \n",
       "202   68.9    55.5         3012          173  ...                      0   \n",
       "203   68.9    55.5         3217          145  ...                      0   \n",
       "204   68.9    55.5         3062          141  ...                      0   \n",
       "\n",
       "     num-of-cylinders.four  num-of-cylinders.more than six  \\\n",
       "0                        1                               0   \n",
       "1                        1                               0   \n",
       "2                        0                               0   \n",
       "3                        1                               0   \n",
       "4                        0                               0   \n",
       "..                     ...                             ...   \n",
       "200                      1                               0   \n",
       "201                      1                               0   \n",
       "202                      0                               0   \n",
       "203                      0                               0   \n",
       "204                      1                               0   \n",
       "\n",
       "     num-of-cylinders.six  fuel-system.1bbl  fuel-system.2bbl  \\\n",
       "0                       0                 0                 0   \n",
       "1                       0                 0                 0   \n",
       "2                       1                 0                 0   \n",
       "3                       0                 0                 0   \n",
       "4                       0                 0                 0   \n",
       "..                    ...               ...               ...   \n",
       "200                     0                 0                 0   \n",
       "201                     0                 0                 0   \n",
       "202                     1                 0                 0   \n",
       "203                     1                 0                 0   \n",
       "204                     0                 0                 0   \n",
       "\n",
       "     fuel-system.idi  fuel-system.mpfi    price  symboling  \n",
       "0                  0                 1  13495.0          1  \n",
       "1                  0                 1  16500.0          1  \n",
       "2                  0                 1  16500.0          1  \n",
       "3                  0                 1  13950.0          1  \n",
       "4                  0                 1  17450.0          1  \n",
       "..               ...               ...      ...        ...  \n",
       "200                0                 1  16845.0          0  \n",
       "201                0                 1  19045.0          0  \n",
       "202                0                 1  21485.0          0  \n",
       "203                1                 0  22470.0          0  \n",
       "204                0                 1  22625.0          0  \n",
       "\n",
       "[205 rows x 46 columns]"
      ]
     },
     "execution_count": 5,
     "metadata": {},
     "output_type": "execute_result"
    }
   ],
   "source": [
    "# Merging Classes\n",
    "classes=[]\n",
    "for clss in df['symboling']:\n",
    "    if clss>=1:\n",
    "        clss=1\n",
    "    elif clss<=0:\n",
    "        clss=0\n",
    "    classes.append(clss)\n",
    "df.drop('symboling', axis=1, inplace=True)\n",
    "df['symboling']=classes\n",
    "df"
   ]
  },
  {
   "cell_type": "markdown",
   "metadata": {},
   "source": [
    "    Для перевірки класифікаційний якостей моделей спостереження були розбиті на навчальну (80%) і тестову (20%) вибірки. Навчання моделі буде проводитися відповідно на навчальній вибірці, а для перевірки їх здатності для класифікації буде використано тестову вибірку."
   ]
  },
  {
   "cell_type": "code",
   "execution_count": 6,
   "metadata": {},
   "outputs": [],
   "source": [
    "# Splitting the dataset into the Training set and Test set\n",
    "X=df.iloc[:, 0:45].values\n",
    "y=df.iloc[:, 45:46].values\n",
    "from sklearn.model_selection import train_test_split\n",
    "X_train, X_test, y_train, y_test=train_test_split(X, y, test_size=0.2, random_state=123)"
   ]
  },
  {
   "cell_type": "markdown",
   "metadata": {},
   "source": [
    "    Для задачі класифікації кількісні ознаки будуть прошкальовані. При цьому немає необхідності шкалювати ознаки, отримані в результаті кодування якісних змінних, а також залежну змінну symboling, яка була приведена до значень 0 і 1.\n",
    "    Для шкалювання і навчальної, і тестової вибірки будуть використовуватися параметри шкалювання навчальної вибірки."
   ]
  },
  {
   "cell_type": "code",
   "execution_count": 7,
   "metadata": {},
   "outputs": [],
   "source": [
    "# Feature Scaling\n",
    "numeric_columns=[4, 5, 6, 7, 8, 9, 10, 11, 12, 13, 14, 15, 16, 44]\n",
    "from sklearn.preprocessing import StandardScaler\n",
    "sc_X=StandardScaler().fit(X_train[:, numeric_columns])\n",
    "X_train[:, numeric_columns]=sc_X.transform(X_train[:, numeric_columns])\n",
    "X_test[:, numeric_columns]=sc_X.transform(X_test[:, numeric_columns])"
   ]
  },
  {
   "cell_type": "markdown",
   "metadata": {},
   "source": [
    "    Далі розглянемо першу з моделей класифікації - логістичну регресію. Для неї спробуємо визначити значущість залежних змінних за допомогою p-значень, аби відкинути незначущі змінни, спростивши таким чином модель, але незначно втративши в її якості."
   ]
  },
  {
   "cell_type": "code",
   "execution_count": 8,
   "metadata": {},
   "outputs": [],
   "source": [
    "# Logistic Regression"
   ]
  },
  {
   "cell_type": "code",
   "execution_count": 9,
   "metadata": {},
   "outputs": [
    {
     "name": "stderr",
     "output_type": "stream",
     "text": [
      "C:\\Users\\TOV\\anaconda3\\lib\\site-packages\\statsmodels\\discrete\\discrete_model.py:1747: RuntimeWarning: overflow encountered in exp\n",
      "  return 1/(1+np.exp(-X))\n",
      "C:\\Users\\TOV\\anaconda3\\lib\\site-packages\\statsmodels\\discrete\\discrete_model.py:1800: RuntimeWarning: divide by zero encountered in log\n",
      "  return np.sum(np.log(self.cdf(q*np.dot(X,params))))\n"
     ]
    },
    {
     "name": "stdout",
     "output_type": "stream",
     "text": [
      "Warning: Maximum number of iterations has been exceeded.\n",
      "         Current function value: inf\n",
      "         Iterations: 35\n"
     ]
    },
    {
     "ename": "LinAlgError",
     "evalue": "Singular matrix",
     "output_type": "error",
     "traceback": [
      "\u001b[1;31m---------------------------------------------------------------------------\u001b[0m",
      "\u001b[1;31mLinAlgError\u001b[0m                               Traceback (most recent call last)",
      "\u001b[1;32m<ipython-input-9-550a774921bb>\u001b[0m in \u001b[0;36m<module>\u001b[1;34m\u001b[0m\n\u001b[0;32m      1\u001b[0m \u001b[1;31m# Baseline model\u001b[0m\u001b[1;33m\u001b[0m\u001b[1;33m\u001b[0m\u001b[1;33m\u001b[0m\u001b[0m\n\u001b[0;32m      2\u001b[0m \u001b[1;32mimport\u001b[0m \u001b[0mstatsmodels\u001b[0m\u001b[1;33m.\u001b[0m\u001b[0mapi\u001b[0m \u001b[1;32mas\u001b[0m \u001b[0msm\u001b[0m\u001b[1;33m\u001b[0m\u001b[1;33m\u001b[0m\u001b[0m\n\u001b[1;32m----> 3\u001b[1;33m \u001b[0mlr\u001b[0m\u001b[1;33m=\u001b[0m\u001b[0msm\u001b[0m\u001b[1;33m.\u001b[0m\u001b[0mLogit\u001b[0m\u001b[1;33m(\u001b[0m\u001b[0my_train\u001b[0m\u001b[1;33m,\u001b[0m \u001b[0mX_train\u001b[0m\u001b[1;33m)\u001b[0m\u001b[1;33m.\u001b[0m\u001b[0mfit\u001b[0m\u001b[1;33m(\u001b[0m\u001b[1;33m)\u001b[0m\u001b[1;33m\u001b[0m\u001b[1;33m\u001b[0m\u001b[0m\n\u001b[0m\u001b[0;32m      4\u001b[0m \u001b[0mprint\u001b[0m\u001b[1;33m(\u001b[0m\u001b[0mlr\u001b[0m\u001b[1;33m.\u001b[0m\u001b[0msummary2\u001b[0m\u001b[1;33m(\u001b[0m\u001b[1;33m)\u001b[0m\u001b[1;33m)\u001b[0m\u001b[1;33m\u001b[0m\u001b[1;33m\u001b[0m\u001b[0m\n",
      "\u001b[1;32m~\\anaconda3\\lib\\site-packages\\statsmodels\\discrete\\discrete_model.py\u001b[0m in \u001b[0;36mfit\u001b[1;34m(self, start_params, method, maxiter, full_output, disp, callback, **kwargs)\u001b[0m\n\u001b[0;32m   1909\u001b[0m     def fit(self, start_params=None, method='newton', maxiter=35,\n\u001b[0;32m   1910\u001b[0m             full_output=1, disp=1, callback=None, **kwargs):\n\u001b[1;32m-> 1911\u001b[1;33m         bnryfit = super(Logit, self).fit(start_params=start_params,\n\u001b[0m\u001b[0;32m   1912\u001b[0m                 \u001b[0mmethod\u001b[0m\u001b[1;33m=\u001b[0m\u001b[0mmethod\u001b[0m\u001b[1;33m,\u001b[0m \u001b[0mmaxiter\u001b[0m\u001b[1;33m=\u001b[0m\u001b[0mmaxiter\u001b[0m\u001b[1;33m,\u001b[0m \u001b[0mfull_output\u001b[0m\u001b[1;33m=\u001b[0m\u001b[0mfull_output\u001b[0m\u001b[1;33m,\u001b[0m\u001b[1;33m\u001b[0m\u001b[1;33m\u001b[0m\u001b[0m\n\u001b[0;32m   1913\u001b[0m                 disp=disp, callback=callback, **kwargs)\n",
      "\u001b[1;32m~\\anaconda3\\lib\\site-packages\\statsmodels\\discrete\\discrete_model.py\u001b[0m in \u001b[0;36mfit\u001b[1;34m(self, start_params, method, maxiter, full_output, disp, callback, **kwargs)\u001b[0m\n\u001b[0;32m    211\u001b[0m             \u001b[1;32mpass\u001b[0m  \u001b[1;31m# TODO: make a function factory to have multiple call-backs\u001b[0m\u001b[1;33m\u001b[0m\u001b[1;33m\u001b[0m\u001b[0m\n\u001b[0;32m    212\u001b[0m \u001b[1;33m\u001b[0m\u001b[0m\n\u001b[1;32m--> 213\u001b[1;33m         mlefit = super(DiscreteModel, self).fit(\n\u001b[0m\u001b[0;32m    214\u001b[0m             \u001b[0mstart_params\u001b[0m\u001b[1;33m=\u001b[0m\u001b[0mstart_params\u001b[0m\u001b[1;33m,\u001b[0m\u001b[1;33m\u001b[0m\u001b[1;33m\u001b[0m\u001b[0m\n\u001b[0;32m    215\u001b[0m             \u001b[0mmethod\u001b[0m\u001b[1;33m=\u001b[0m\u001b[0mmethod\u001b[0m\u001b[1;33m,\u001b[0m \u001b[0mmaxiter\u001b[0m\u001b[1;33m=\u001b[0m\u001b[0mmaxiter\u001b[0m\u001b[1;33m,\u001b[0m \u001b[0mfull_output\u001b[0m\u001b[1;33m=\u001b[0m\u001b[0mfull_output\u001b[0m\u001b[1;33m,\u001b[0m\u001b[1;33m\u001b[0m\u001b[1;33m\u001b[0m\u001b[0m\n",
      "\u001b[1;32m~\\anaconda3\\lib\\site-packages\\statsmodels\\base\\model.py\u001b[0m in \u001b[0;36mfit\u001b[1;34m(self, start_params, method, maxiter, full_output, disp, fargs, callback, retall, skip_hessian, **kwargs)\u001b[0m\n\u001b[0;32m    531\u001b[0m             \u001b[0mHinv\u001b[0m \u001b[1;33m=\u001b[0m \u001b[0mcov_params_func\u001b[0m\u001b[1;33m(\u001b[0m\u001b[0mself\u001b[0m\u001b[1;33m,\u001b[0m \u001b[0mxopt\u001b[0m\u001b[1;33m,\u001b[0m \u001b[0mretvals\u001b[0m\u001b[1;33m)\u001b[0m\u001b[1;33m\u001b[0m\u001b[1;33m\u001b[0m\u001b[0m\n\u001b[0;32m    532\u001b[0m         \u001b[1;32melif\u001b[0m \u001b[0mmethod\u001b[0m \u001b[1;33m==\u001b[0m \u001b[1;34m'newton'\u001b[0m \u001b[1;32mand\u001b[0m \u001b[0mfull_output\u001b[0m\u001b[1;33m:\u001b[0m\u001b[1;33m\u001b[0m\u001b[1;33m\u001b[0m\u001b[0m\n\u001b[1;32m--> 533\u001b[1;33m             \u001b[0mHinv\u001b[0m \u001b[1;33m=\u001b[0m \u001b[0mnp\u001b[0m\u001b[1;33m.\u001b[0m\u001b[0mlinalg\u001b[0m\u001b[1;33m.\u001b[0m\u001b[0minv\u001b[0m\u001b[1;33m(\u001b[0m\u001b[1;33m-\u001b[0m\u001b[0mretvals\u001b[0m\u001b[1;33m[\u001b[0m\u001b[1;34m'Hessian'\u001b[0m\u001b[1;33m]\u001b[0m\u001b[1;33m)\u001b[0m \u001b[1;33m/\u001b[0m \u001b[0mnobs\u001b[0m\u001b[1;33m\u001b[0m\u001b[1;33m\u001b[0m\u001b[0m\n\u001b[0m\u001b[0;32m    534\u001b[0m         \u001b[1;32melif\u001b[0m \u001b[1;32mnot\u001b[0m \u001b[0mskip_hessian\u001b[0m\u001b[1;33m:\u001b[0m\u001b[1;33m\u001b[0m\u001b[1;33m\u001b[0m\u001b[0m\n\u001b[0;32m    535\u001b[0m             \u001b[0mH\u001b[0m \u001b[1;33m=\u001b[0m \u001b[1;33m-\u001b[0m\u001b[1;36m1\u001b[0m \u001b[1;33m*\u001b[0m \u001b[0mself\u001b[0m\u001b[1;33m.\u001b[0m\u001b[0mhessian\u001b[0m\u001b[1;33m(\u001b[0m\u001b[0mxopt\u001b[0m\u001b[1;33m)\u001b[0m\u001b[1;33m\u001b[0m\u001b[1;33m\u001b[0m\u001b[0m\n",
      "\u001b[1;32m<__array_function__ internals>\u001b[0m in \u001b[0;36minv\u001b[1;34m(*args, **kwargs)\u001b[0m\n",
      "\u001b[1;32m~\\anaconda3\\lib\\site-packages\\numpy\\linalg\\linalg.py\u001b[0m in \u001b[0;36minv\u001b[1;34m(a)\u001b[0m\n\u001b[0;32m    545\u001b[0m     \u001b[0msignature\u001b[0m \u001b[1;33m=\u001b[0m \u001b[1;34m'D->D'\u001b[0m \u001b[1;32mif\u001b[0m \u001b[0misComplexType\u001b[0m\u001b[1;33m(\u001b[0m\u001b[0mt\u001b[0m\u001b[1;33m)\u001b[0m \u001b[1;32melse\u001b[0m \u001b[1;34m'd->d'\u001b[0m\u001b[1;33m\u001b[0m\u001b[1;33m\u001b[0m\u001b[0m\n\u001b[0;32m    546\u001b[0m     \u001b[0mextobj\u001b[0m \u001b[1;33m=\u001b[0m \u001b[0mget_linalg_error_extobj\u001b[0m\u001b[1;33m(\u001b[0m\u001b[0m_raise_linalgerror_singular\u001b[0m\u001b[1;33m)\u001b[0m\u001b[1;33m\u001b[0m\u001b[1;33m\u001b[0m\u001b[0m\n\u001b[1;32m--> 547\u001b[1;33m     \u001b[0mainv\u001b[0m \u001b[1;33m=\u001b[0m \u001b[0m_umath_linalg\u001b[0m\u001b[1;33m.\u001b[0m\u001b[0minv\u001b[0m\u001b[1;33m(\u001b[0m\u001b[0ma\u001b[0m\u001b[1;33m,\u001b[0m \u001b[0msignature\u001b[0m\u001b[1;33m=\u001b[0m\u001b[0msignature\u001b[0m\u001b[1;33m,\u001b[0m \u001b[0mextobj\u001b[0m\u001b[1;33m=\u001b[0m\u001b[0mextobj\u001b[0m\u001b[1;33m)\u001b[0m\u001b[1;33m\u001b[0m\u001b[1;33m\u001b[0m\u001b[0m\n\u001b[0m\u001b[0;32m    548\u001b[0m     \u001b[1;32mreturn\u001b[0m \u001b[0mwrap\u001b[0m\u001b[1;33m(\u001b[0m\u001b[0mainv\u001b[0m\u001b[1;33m.\u001b[0m\u001b[0mastype\u001b[0m\u001b[1;33m(\u001b[0m\u001b[0mresult_t\u001b[0m\u001b[1;33m,\u001b[0m \u001b[0mcopy\u001b[0m\u001b[1;33m=\u001b[0m\u001b[1;32mFalse\u001b[0m\u001b[1;33m)\u001b[0m\u001b[1;33m)\u001b[0m\u001b[1;33m\u001b[0m\u001b[1;33m\u001b[0m\u001b[0m\n\u001b[0;32m    549\u001b[0m \u001b[1;33m\u001b[0m\u001b[0m\n",
      "\u001b[1;32m~\\anaconda3\\lib\\site-packages\\numpy\\linalg\\linalg.py\u001b[0m in \u001b[0;36m_raise_linalgerror_singular\u001b[1;34m(err, flag)\u001b[0m\n\u001b[0;32m     95\u001b[0m \u001b[1;33m\u001b[0m\u001b[0m\n\u001b[0;32m     96\u001b[0m \u001b[1;32mdef\u001b[0m \u001b[0m_raise_linalgerror_singular\u001b[0m\u001b[1;33m(\u001b[0m\u001b[0merr\u001b[0m\u001b[1;33m,\u001b[0m \u001b[0mflag\u001b[0m\u001b[1;33m)\u001b[0m\u001b[1;33m:\u001b[0m\u001b[1;33m\u001b[0m\u001b[1;33m\u001b[0m\u001b[0m\n\u001b[1;32m---> 97\u001b[1;33m     \u001b[1;32mraise\u001b[0m \u001b[0mLinAlgError\u001b[0m\u001b[1;33m(\u001b[0m\u001b[1;34m\"Singular matrix\"\u001b[0m\u001b[1;33m)\u001b[0m\u001b[1;33m\u001b[0m\u001b[1;33m\u001b[0m\u001b[0m\n\u001b[0m\u001b[0;32m     98\u001b[0m \u001b[1;33m\u001b[0m\u001b[0m\n\u001b[0;32m     99\u001b[0m \u001b[1;32mdef\u001b[0m \u001b[0m_raise_linalgerror_nonposdef\u001b[0m\u001b[1;33m(\u001b[0m\u001b[0merr\u001b[0m\u001b[1;33m,\u001b[0m \u001b[0mflag\u001b[0m\u001b[1;33m)\u001b[0m\u001b[1;33m:\u001b[0m\u001b[1;33m\u001b[0m\u001b[1;33m\u001b[0m\u001b[0m\n",
      "\u001b[1;31mLinAlgError\u001b[0m: Singular matrix"
     ]
    }
   ],
   "source": [
    "# Baseline model\n",
    "import statsmodels.api as sm\n",
    "lr=sm.Logit(y_train, X_train).fit()\n",
    "print(lr.summary2())"
   ]
  },
  {
   "cell_type": "markdown",
   "metadata": {},
   "source": [
    "    Спроба оцінити параметри логістичної регресії та відповідні p-значення не вдалася через виродженість матриці, яка використовувалася для цього.\n",
    "    Спроба оцінити параметри логістичної регресії та відповідні p-значення з використанням інших методів оптимізації та числа ітерацій не мало успішного результату: виникала помилка, що провести оптимізацію логістичної моделі не вдавалося, у результаті чого були отриманні або абсолютно незначущі параметри, або як параметри видавалися порожні значення.\n",
    "    Звідси постає необхідність вирішення такої проблеми, однією з яких є скорочення числа залежних змінних. Зважаючи, що їх у розглядуваному наборі даних аж 45, то їхнє скорочення все одно може дозволити ефективну класифікацію на основі залишкових факторних змінних.\n",
    "    Спочатку спробуємо використати автоматичний відбір найкращих змінних з допомогою методу рекурсивного виключення з кросвалідацією."
   ]
  },
  {
   "cell_type": "code",
   "execution_count": 10,
   "metadata": {},
   "outputs": [
    {
     "name": "stderr",
     "output_type": "stream",
     "text": [
      "C:\\Users\\TOV\\anaconda3\\lib\\site-packages\\sklearn\\utils\\validation.py:73: DataConversionWarning: A column-vector y was passed when a 1d array was expected. Please change the shape of y to (n_samples, ), for example using ravel().\n",
      "  return f(**kwargs)\n",
      "C:\\Users\\TOV\\anaconda3\\lib\\site-packages\\sklearn\\utils\\validation.py:73: DataConversionWarning: A column-vector y was passed when a 1d array was expected. Please change the shape of y to (n_samples, ), for example using ravel().\n",
      "  return f(**kwargs)\n",
      "C:\\Users\\TOV\\anaconda3\\lib\\site-packages\\sklearn\\utils\\validation.py:73: DataConversionWarning: A column-vector y was passed when a 1d array was expected. Please change the shape of y to (n_samples, ), for example using ravel().\n",
      "  return f(**kwargs)\n",
      "C:\\Users\\TOV\\anaconda3\\lib\\site-packages\\sklearn\\utils\\validation.py:73: DataConversionWarning: A column-vector y was passed when a 1d array was expected. Please change the shape of y to (n_samples, ), for example using ravel().\n",
      "  return f(**kwargs)\n",
      "C:\\Users\\TOV\\anaconda3\\lib\\site-packages\\sklearn\\utils\\validation.py:73: DataConversionWarning: A column-vector y was passed when a 1d array was expected. Please change the shape of y to (n_samples, ), for example using ravel().\n",
      "  return f(**kwargs)\n",
      "C:\\Users\\TOV\\anaconda3\\lib\\site-packages\\sklearn\\utils\\validation.py:73: DataConversionWarning: A column-vector y was passed when a 1d array was expected. Please change the shape of y to (n_samples, ), for example using ravel().\n",
      "  return f(**kwargs)\n",
      "C:\\Users\\TOV\\anaconda3\\lib\\site-packages\\sklearn\\utils\\validation.py:73: DataConversionWarning: A column-vector y was passed when a 1d array was expected. Please change the shape of y to (n_samples, ), for example using ravel().\n",
      "  return f(**kwargs)\n",
      "C:\\Users\\TOV\\anaconda3\\lib\\site-packages\\sklearn\\utils\\validation.py:73: DataConversionWarning: A column-vector y was passed when a 1d array was expected. Please change the shape of y to (n_samples, ), for example using ravel().\n",
      "  return f(**kwargs)\n",
      "C:\\Users\\TOV\\anaconda3\\lib\\site-packages\\sklearn\\utils\\validation.py:73: DataConversionWarning: A column-vector y was passed when a 1d array was expected. Please change the shape of y to (n_samples, ), for example using ravel().\n",
      "  return f(**kwargs)\n",
      "C:\\Users\\TOV\\anaconda3\\lib\\site-packages\\sklearn\\utils\\validation.py:73: DataConversionWarning: A column-vector y was passed when a 1d array was expected. Please change the shape of y to (n_samples, ), for example using ravel().\n",
      "  return f(**kwargs)\n",
      "C:\\Users\\TOV\\anaconda3\\lib\\site-packages\\sklearn\\utils\\validation.py:73: DataConversionWarning: A column-vector y was passed when a 1d array was expected. Please change the shape of y to (n_samples, ), for example using ravel().\n",
      "  return f(**kwargs)\n",
      "C:\\Users\\TOV\\anaconda3\\lib\\site-packages\\sklearn\\utils\\validation.py:73: DataConversionWarning: A column-vector y was passed when a 1d array was expected. Please change the shape of y to (n_samples, ), for example using ravel().\n",
      "  return f(**kwargs)\n",
      "C:\\Users\\TOV\\anaconda3\\lib\\site-packages\\sklearn\\utils\\validation.py:73: DataConversionWarning: A column-vector y was passed when a 1d array was expected. Please change the shape of y to (n_samples, ), for example using ravel().\n",
      "  return f(**kwargs)\n",
      "C:\\Users\\TOV\\anaconda3\\lib\\site-packages\\sklearn\\utils\\validation.py:73: DataConversionWarning: A column-vector y was passed when a 1d array was expected. Please change the shape of y to (n_samples, ), for example using ravel().\n",
      "  return f(**kwargs)\n",
      "C:\\Users\\TOV\\anaconda3\\lib\\site-packages\\sklearn\\utils\\validation.py:73: DataConversionWarning: A column-vector y was passed when a 1d array was expected. Please change the shape of y to (n_samples, ), for example using ravel().\n",
      "  return f(**kwargs)\n",
      "C:\\Users\\TOV\\anaconda3\\lib\\site-packages\\sklearn\\utils\\validation.py:73: DataConversionWarning: A column-vector y was passed when a 1d array was expected. Please change the shape of y to (n_samples, ), for example using ravel().\n",
      "  return f(**kwargs)\n",
      "C:\\Users\\TOV\\anaconda3\\lib\\site-packages\\sklearn\\utils\\validation.py:73: DataConversionWarning: A column-vector y was passed when a 1d array was expected. Please change the shape of y to (n_samples, ), for example using ravel().\n",
      "  return f(**kwargs)\n",
      "C:\\Users\\TOV\\anaconda3\\lib\\site-packages\\sklearn\\utils\\validation.py:73: DataConversionWarning: A column-vector y was passed when a 1d array was expected. Please change the shape of y to (n_samples, ), for example using ravel().\n",
      "  return f(**kwargs)\n",
      "C:\\Users\\TOV\\anaconda3\\lib\\site-packages\\sklearn\\utils\\validation.py:73: DataConversionWarning: A column-vector y was passed when a 1d array was expected. Please change the shape of y to (n_samples, ), for example using ravel().\n",
      "  return f(**kwargs)\n",
      "C:\\Users\\TOV\\anaconda3\\lib\\site-packages\\sklearn\\utils\\validation.py:73: DataConversionWarning: A column-vector y was passed when a 1d array was expected. Please change the shape of y to (n_samples, ), for example using ravel().\n",
      "  return f(**kwargs)\n",
      "C:\\Users\\TOV\\anaconda3\\lib\\site-packages\\sklearn\\utils\\validation.py:73: DataConversionWarning: A column-vector y was passed when a 1d array was expected. Please change the shape of y to (n_samples, ), for example using ravel().\n",
      "  return f(**kwargs)\n",
      "C:\\Users\\TOV\\anaconda3\\lib\\site-packages\\sklearn\\utils\\validation.py:73: DataConversionWarning: A column-vector y was passed when a 1d array was expected. Please change the shape of y to (n_samples, ), for example using ravel().\n",
      "  return f(**kwargs)\n",
      "C:\\Users\\TOV\\anaconda3\\lib\\site-packages\\sklearn\\utils\\validation.py:73: DataConversionWarning: A column-vector y was passed when a 1d array was expected. Please change the shape of y to (n_samples, ), for example using ravel().\n",
      "  return f(**kwargs)\n",
      "C:\\Users\\TOV\\anaconda3\\lib\\site-packages\\sklearn\\utils\\validation.py:73: DataConversionWarning: A column-vector y was passed when a 1d array was expected. Please change the shape of y to (n_samples, ), for example using ravel().\n",
      "  return f(**kwargs)\n",
      "C:\\Users\\TOV\\anaconda3\\lib\\site-packages\\sklearn\\utils\\validation.py:73: DataConversionWarning: A column-vector y was passed when a 1d array was expected. Please change the shape of y to (n_samples, ), for example using ravel().\n",
      "  return f(**kwargs)\n",
      "C:\\Users\\TOV\\anaconda3\\lib\\site-packages\\sklearn\\utils\\validation.py:73: DataConversionWarning: A column-vector y was passed when a 1d array was expected. Please change the shape of y to (n_samples, ), for example using ravel().\n",
      "  return f(**kwargs)\n",
      "C:\\Users\\TOV\\anaconda3\\lib\\site-packages\\sklearn\\utils\\validation.py:73: DataConversionWarning: A column-vector y was passed when a 1d array was expected. Please change the shape of y to (n_samples, ), for example using ravel().\n",
      "  return f(**kwargs)\n",
      "C:\\Users\\TOV\\anaconda3\\lib\\site-packages\\sklearn\\utils\\validation.py:73: DataConversionWarning: A column-vector y was passed when a 1d array was expected. Please change the shape of y to (n_samples, ), for example using ravel().\n",
      "  return f(**kwargs)\n",
      "C:\\Users\\TOV\\anaconda3\\lib\\site-packages\\sklearn\\utils\\validation.py:73: DataConversionWarning: A column-vector y was passed when a 1d array was expected. Please change the shape of y to (n_samples, ), for example using ravel().\n",
      "  return f(**kwargs)\n",
      "C:\\Users\\TOV\\anaconda3\\lib\\site-packages\\sklearn\\utils\\validation.py:73: DataConversionWarning: A column-vector y was passed when a 1d array was expected. Please change the shape of y to (n_samples, ), for example using ravel().\n",
      "  return f(**kwargs)\n",
      "C:\\Users\\TOV\\anaconda3\\lib\\site-packages\\sklearn\\utils\\validation.py:73: DataConversionWarning: A column-vector y was passed when a 1d array was expected. Please change the shape of y to (n_samples, ), for example using ravel().\n",
      "  return f(**kwargs)\n",
      "C:\\Users\\TOV\\anaconda3\\lib\\site-packages\\sklearn\\utils\\validation.py:73: DataConversionWarning: A column-vector y was passed when a 1d array was expected. Please change the shape of y to (n_samples, ), for example using ravel().\n",
      "  return f(**kwargs)\n",
      "C:\\Users\\TOV\\anaconda3\\lib\\site-packages\\sklearn\\utils\\validation.py:73: DataConversionWarning: A column-vector y was passed when a 1d array was expected. Please change the shape of y to (n_samples, ), for example using ravel().\n",
      "  return f(**kwargs)\n"
     ]
    },
    {
     "name": "stderr",
     "output_type": "stream",
     "text": [
      "C:\\Users\\TOV\\anaconda3\\lib\\site-packages\\sklearn\\utils\\validation.py:73: DataConversionWarning: A column-vector y was passed when a 1d array was expected. Please change the shape of y to (n_samples, ), for example using ravel().\n",
      "  return f(**kwargs)\n",
      "C:\\Users\\TOV\\anaconda3\\lib\\site-packages\\sklearn\\utils\\validation.py:73: DataConversionWarning: A column-vector y was passed when a 1d array was expected. Please change the shape of y to (n_samples, ), for example using ravel().\n",
      "  return f(**kwargs)\n",
      "C:\\Users\\TOV\\anaconda3\\lib\\site-packages\\sklearn\\utils\\validation.py:73: DataConversionWarning: A column-vector y was passed when a 1d array was expected. Please change the shape of y to (n_samples, ), for example using ravel().\n",
      "  return f(**kwargs)\n",
      "C:\\Users\\TOV\\anaconda3\\lib\\site-packages\\sklearn\\utils\\validation.py:73: DataConversionWarning: A column-vector y was passed when a 1d array was expected. Please change the shape of y to (n_samples, ), for example using ravel().\n",
      "  return f(**kwargs)\n",
      "C:\\Users\\TOV\\anaconda3\\lib\\site-packages\\sklearn\\utils\\validation.py:73: DataConversionWarning: A column-vector y was passed when a 1d array was expected. Please change the shape of y to (n_samples, ), for example using ravel().\n",
      "  return f(**kwargs)\n",
      "C:\\Users\\TOV\\anaconda3\\lib\\site-packages\\sklearn\\utils\\validation.py:73: DataConversionWarning: A column-vector y was passed when a 1d array was expected. Please change the shape of y to (n_samples, ), for example using ravel().\n",
      "  return f(**kwargs)\n",
      "C:\\Users\\TOV\\anaconda3\\lib\\site-packages\\sklearn\\utils\\validation.py:73: DataConversionWarning: A column-vector y was passed when a 1d array was expected. Please change the shape of y to (n_samples, ), for example using ravel().\n",
      "  return f(**kwargs)\n",
      "C:\\Users\\TOV\\anaconda3\\lib\\site-packages\\sklearn\\utils\\validation.py:73: DataConversionWarning: A column-vector y was passed when a 1d array was expected. Please change the shape of y to (n_samples, ), for example using ravel().\n",
      "  return f(**kwargs)\n",
      "C:\\Users\\TOV\\anaconda3\\lib\\site-packages\\sklearn\\utils\\validation.py:73: DataConversionWarning: A column-vector y was passed when a 1d array was expected. Please change the shape of y to (n_samples, ), for example using ravel().\n",
      "  return f(**kwargs)\n",
      "C:\\Users\\TOV\\anaconda3\\lib\\site-packages\\sklearn\\utils\\validation.py:73: DataConversionWarning: A column-vector y was passed when a 1d array was expected. Please change the shape of y to (n_samples, ), for example using ravel().\n",
      "  return f(**kwargs)\n",
      "C:\\Users\\TOV\\anaconda3\\lib\\site-packages\\sklearn\\utils\\validation.py:73: DataConversionWarning: A column-vector y was passed when a 1d array was expected. Please change the shape of y to (n_samples, ), for example using ravel().\n",
      "  return f(**kwargs)\n",
      "C:\\Users\\TOV\\anaconda3\\lib\\site-packages\\sklearn\\utils\\validation.py:73: DataConversionWarning: A column-vector y was passed when a 1d array was expected. Please change the shape of y to (n_samples, ), for example using ravel().\n",
      "  return f(**kwargs)\n",
      "C:\\Users\\TOV\\anaconda3\\lib\\site-packages\\sklearn\\utils\\validation.py:73: DataConversionWarning: A column-vector y was passed when a 1d array was expected. Please change the shape of y to (n_samples, ), for example using ravel().\n",
      "  return f(**kwargs)\n",
      "C:\\Users\\TOV\\anaconda3\\lib\\site-packages\\sklearn\\utils\\validation.py:73: DataConversionWarning: A column-vector y was passed when a 1d array was expected. Please change the shape of y to (n_samples, ), for example using ravel().\n",
      "  return f(**kwargs)\n",
      "C:\\Users\\TOV\\anaconda3\\lib\\site-packages\\sklearn\\utils\\validation.py:73: DataConversionWarning: A column-vector y was passed when a 1d array was expected. Please change the shape of y to (n_samples, ), for example using ravel().\n",
      "  return f(**kwargs)\n",
      "C:\\Users\\TOV\\anaconda3\\lib\\site-packages\\sklearn\\utils\\validation.py:73: DataConversionWarning: A column-vector y was passed when a 1d array was expected. Please change the shape of y to (n_samples, ), for example using ravel().\n",
      "  return f(**kwargs)\n",
      "C:\\Users\\TOV\\anaconda3\\lib\\site-packages\\sklearn\\utils\\validation.py:73: DataConversionWarning: A column-vector y was passed when a 1d array was expected. Please change the shape of y to (n_samples, ), for example using ravel().\n",
      "  return f(**kwargs)\n",
      "C:\\Users\\TOV\\anaconda3\\lib\\site-packages\\sklearn\\utils\\validation.py:73: DataConversionWarning: A column-vector y was passed when a 1d array was expected. Please change the shape of y to (n_samples, ), for example using ravel().\n",
      "  return f(**kwargs)\n",
      "C:\\Users\\TOV\\anaconda3\\lib\\site-packages\\sklearn\\utils\\validation.py:73: DataConversionWarning: A column-vector y was passed when a 1d array was expected. Please change the shape of y to (n_samples, ), for example using ravel().\n",
      "  return f(**kwargs)\n",
      "C:\\Users\\TOV\\anaconda3\\lib\\site-packages\\sklearn\\utils\\validation.py:73: DataConversionWarning: A column-vector y was passed when a 1d array was expected. Please change the shape of y to (n_samples, ), for example using ravel().\n",
      "  return f(**kwargs)\n",
      "C:\\Users\\TOV\\anaconda3\\lib\\site-packages\\sklearn\\utils\\validation.py:73: DataConversionWarning: A column-vector y was passed when a 1d array was expected. Please change the shape of y to (n_samples, ), for example using ravel().\n",
      "  return f(**kwargs)\n",
      "C:\\Users\\TOV\\anaconda3\\lib\\site-packages\\sklearn\\utils\\validation.py:73: DataConversionWarning: A column-vector y was passed when a 1d array was expected. Please change the shape of y to (n_samples, ), for example using ravel().\n",
      "  return f(**kwargs)\n",
      "C:\\Users\\TOV\\anaconda3\\lib\\site-packages\\sklearn\\utils\\validation.py:73: DataConversionWarning: A column-vector y was passed when a 1d array was expected. Please change the shape of y to (n_samples, ), for example using ravel().\n",
      "  return f(**kwargs)\n",
      "C:\\Users\\TOV\\anaconda3\\lib\\site-packages\\sklearn\\utils\\validation.py:73: DataConversionWarning: A column-vector y was passed when a 1d array was expected. Please change the shape of y to (n_samples, ), for example using ravel().\n",
      "  return f(**kwargs)\n",
      "C:\\Users\\TOV\\anaconda3\\lib\\site-packages\\sklearn\\utils\\validation.py:73: DataConversionWarning: A column-vector y was passed when a 1d array was expected. Please change the shape of y to (n_samples, ), for example using ravel().\n",
      "  return f(**kwargs)\n",
      "C:\\Users\\TOV\\anaconda3\\lib\\site-packages\\sklearn\\utils\\validation.py:73: DataConversionWarning: A column-vector y was passed when a 1d array was expected. Please change the shape of y to (n_samples, ), for example using ravel().\n",
      "  return f(**kwargs)\n",
      "C:\\Users\\TOV\\anaconda3\\lib\\site-packages\\sklearn\\utils\\validation.py:73: DataConversionWarning: A column-vector y was passed when a 1d array was expected. Please change the shape of y to (n_samples, ), for example using ravel().\n",
      "  return f(**kwargs)\n",
      "C:\\Users\\TOV\\anaconda3\\lib\\site-packages\\sklearn\\utils\\validation.py:73: DataConversionWarning: A column-vector y was passed when a 1d array was expected. Please change the shape of y to (n_samples, ), for example using ravel().\n",
      "  return f(**kwargs)\n",
      "C:\\Users\\TOV\\anaconda3\\lib\\site-packages\\sklearn\\utils\\validation.py:73: DataConversionWarning: A column-vector y was passed when a 1d array was expected. Please change the shape of y to (n_samples, ), for example using ravel().\n",
      "  return f(**kwargs)\n",
      "C:\\Users\\TOV\\anaconda3\\lib\\site-packages\\sklearn\\utils\\validation.py:73: DataConversionWarning: A column-vector y was passed when a 1d array was expected. Please change the shape of y to (n_samples, ), for example using ravel().\n",
      "  return f(**kwargs)\n",
      "C:\\Users\\TOV\\anaconda3\\lib\\site-packages\\sklearn\\utils\\validation.py:73: DataConversionWarning: A column-vector y was passed when a 1d array was expected. Please change the shape of y to (n_samples, ), for example using ravel().\n",
      "  return f(**kwargs)\n",
      "C:\\Users\\TOV\\anaconda3\\lib\\site-packages\\sklearn\\utils\\validation.py:73: DataConversionWarning: A column-vector y was passed when a 1d array was expected. Please change the shape of y to (n_samples, ), for example using ravel().\n",
      "  return f(**kwargs)\n",
      "C:\\Users\\TOV\\anaconda3\\lib\\site-packages\\sklearn\\utils\\validation.py:73: DataConversionWarning: A column-vector y was passed when a 1d array was expected. Please change the shape of y to (n_samples, ), for example using ravel().\n",
      "  return f(**kwargs)\n",
      "C:\\Users\\TOV\\anaconda3\\lib\\site-packages\\sklearn\\utils\\validation.py:73: DataConversionWarning: A column-vector y was passed when a 1d array was expected. Please change the shape of y to (n_samples, ), for example using ravel().\n",
      "  return f(**kwargs)\n",
      "C:\\Users\\TOV\\anaconda3\\lib\\site-packages\\sklearn\\utils\\validation.py:73: DataConversionWarning: A column-vector y was passed when a 1d array was expected. Please change the shape of y to (n_samples, ), for example using ravel().\n",
      "  return f(**kwargs)\n"
     ]
    },
    {
     "name": "stderr",
     "output_type": "stream",
     "text": [
      "C:\\Users\\TOV\\anaconda3\\lib\\site-packages\\sklearn\\utils\\validation.py:73: DataConversionWarning: A column-vector y was passed when a 1d array was expected. Please change the shape of y to (n_samples, ), for example using ravel().\n",
      "  return f(**kwargs)\n",
      "C:\\Users\\TOV\\anaconda3\\lib\\site-packages\\sklearn\\utils\\validation.py:73: DataConversionWarning: A column-vector y was passed when a 1d array was expected. Please change the shape of y to (n_samples, ), for example using ravel().\n",
      "  return f(**kwargs)\n",
      "C:\\Users\\TOV\\anaconda3\\lib\\site-packages\\sklearn\\utils\\validation.py:73: DataConversionWarning: A column-vector y was passed when a 1d array was expected. Please change the shape of y to (n_samples, ), for example using ravel().\n",
      "  return f(**kwargs)\n",
      "C:\\Users\\TOV\\anaconda3\\lib\\site-packages\\sklearn\\utils\\validation.py:73: DataConversionWarning: A column-vector y was passed when a 1d array was expected. Please change the shape of y to (n_samples, ), for example using ravel().\n",
      "  return f(**kwargs)\n",
      "C:\\Users\\TOV\\anaconda3\\lib\\site-packages\\sklearn\\utils\\validation.py:73: DataConversionWarning: A column-vector y was passed when a 1d array was expected. Please change the shape of y to (n_samples, ), for example using ravel().\n",
      "  return f(**kwargs)\n",
      "C:\\Users\\TOV\\anaconda3\\lib\\site-packages\\sklearn\\utils\\validation.py:73: DataConversionWarning: A column-vector y was passed when a 1d array was expected. Please change the shape of y to (n_samples, ), for example using ravel().\n",
      "  return f(**kwargs)\n",
      "C:\\Users\\TOV\\anaconda3\\lib\\site-packages\\sklearn\\utils\\validation.py:73: DataConversionWarning: A column-vector y was passed when a 1d array was expected. Please change the shape of y to (n_samples, ), for example using ravel().\n",
      "  return f(**kwargs)\n",
      "C:\\Users\\TOV\\anaconda3\\lib\\site-packages\\sklearn\\utils\\validation.py:73: DataConversionWarning: A column-vector y was passed when a 1d array was expected. Please change the shape of y to (n_samples, ), for example using ravel().\n",
      "  return f(**kwargs)\n",
      "C:\\Users\\TOV\\anaconda3\\lib\\site-packages\\sklearn\\utils\\validation.py:73: DataConversionWarning: A column-vector y was passed when a 1d array was expected. Please change the shape of y to (n_samples, ), for example using ravel().\n",
      "  return f(**kwargs)\n",
      "C:\\Users\\TOV\\anaconda3\\lib\\site-packages\\sklearn\\utils\\validation.py:73: DataConversionWarning: A column-vector y was passed when a 1d array was expected. Please change the shape of y to (n_samples, ), for example using ravel().\n",
      "  return f(**kwargs)\n",
      "C:\\Users\\TOV\\anaconda3\\lib\\site-packages\\sklearn\\utils\\validation.py:73: DataConversionWarning: A column-vector y was passed when a 1d array was expected. Please change the shape of y to (n_samples, ), for example using ravel().\n",
      "  return f(**kwargs)\n",
      "C:\\Users\\TOV\\anaconda3\\lib\\site-packages\\sklearn\\utils\\validation.py:73: DataConversionWarning: A column-vector y was passed when a 1d array was expected. Please change the shape of y to (n_samples, ), for example using ravel().\n",
      "  return f(**kwargs)\n",
      "C:\\Users\\TOV\\anaconda3\\lib\\site-packages\\sklearn\\utils\\validation.py:73: DataConversionWarning: A column-vector y was passed when a 1d array was expected. Please change the shape of y to (n_samples, ), for example using ravel().\n",
      "  return f(**kwargs)\n",
      "C:\\Users\\TOV\\anaconda3\\lib\\site-packages\\sklearn\\utils\\validation.py:73: DataConversionWarning: A column-vector y was passed when a 1d array was expected. Please change the shape of y to (n_samples, ), for example using ravel().\n",
      "  return f(**kwargs)\n",
      "C:\\Users\\TOV\\anaconda3\\lib\\site-packages\\sklearn\\utils\\validation.py:73: DataConversionWarning: A column-vector y was passed when a 1d array was expected. Please change the shape of y to (n_samples, ), for example using ravel().\n",
      "  return f(**kwargs)\n",
      "C:\\Users\\TOV\\anaconda3\\lib\\site-packages\\sklearn\\utils\\validation.py:73: DataConversionWarning: A column-vector y was passed when a 1d array was expected. Please change the shape of y to (n_samples, ), for example using ravel().\n",
      "  return f(**kwargs)\n",
      "C:\\Users\\TOV\\anaconda3\\lib\\site-packages\\sklearn\\utils\\validation.py:73: DataConversionWarning: A column-vector y was passed when a 1d array was expected. Please change the shape of y to (n_samples, ), for example using ravel().\n",
      "  return f(**kwargs)\n",
      "C:\\Users\\TOV\\anaconda3\\lib\\site-packages\\sklearn\\utils\\validation.py:73: DataConversionWarning: A column-vector y was passed when a 1d array was expected. Please change the shape of y to (n_samples, ), for example using ravel().\n",
      "  return f(**kwargs)\n",
      "C:\\Users\\TOV\\anaconda3\\lib\\site-packages\\sklearn\\utils\\validation.py:73: DataConversionWarning: A column-vector y was passed when a 1d array was expected. Please change the shape of y to (n_samples, ), for example using ravel().\n",
      "  return f(**kwargs)\n",
      "C:\\Users\\TOV\\anaconda3\\lib\\site-packages\\sklearn\\utils\\validation.py:73: DataConversionWarning: A column-vector y was passed when a 1d array was expected. Please change the shape of y to (n_samples, ), for example using ravel().\n",
      "  return f(**kwargs)\n",
      "C:\\Users\\TOV\\anaconda3\\lib\\site-packages\\sklearn\\utils\\validation.py:73: DataConversionWarning: A column-vector y was passed when a 1d array was expected. Please change the shape of y to (n_samples, ), for example using ravel().\n",
      "  return f(**kwargs)\n",
      "C:\\Users\\TOV\\anaconda3\\lib\\site-packages\\sklearn\\utils\\validation.py:73: DataConversionWarning: A column-vector y was passed when a 1d array was expected. Please change the shape of y to (n_samples, ), for example using ravel().\n",
      "  return f(**kwargs)\n",
      "C:\\Users\\TOV\\anaconda3\\lib\\site-packages\\sklearn\\utils\\validation.py:73: DataConversionWarning: A column-vector y was passed when a 1d array was expected. Please change the shape of y to (n_samples, ), for example using ravel().\n",
      "  return f(**kwargs)\n",
      "C:\\Users\\TOV\\anaconda3\\lib\\site-packages\\sklearn\\utils\\validation.py:73: DataConversionWarning: A column-vector y was passed when a 1d array was expected. Please change the shape of y to (n_samples, ), for example using ravel().\n",
      "  return f(**kwargs)\n",
      "C:\\Users\\TOV\\anaconda3\\lib\\site-packages\\sklearn\\utils\\validation.py:73: DataConversionWarning: A column-vector y was passed when a 1d array was expected. Please change the shape of y to (n_samples, ), for example using ravel().\n",
      "  return f(**kwargs)\n",
      "C:\\Users\\TOV\\anaconda3\\lib\\site-packages\\sklearn\\utils\\validation.py:73: DataConversionWarning: A column-vector y was passed when a 1d array was expected. Please change the shape of y to (n_samples, ), for example using ravel().\n",
      "  return f(**kwargs)\n",
      "C:\\Users\\TOV\\anaconda3\\lib\\site-packages\\sklearn\\utils\\validation.py:73: DataConversionWarning: A column-vector y was passed when a 1d array was expected. Please change the shape of y to (n_samples, ), for example using ravel().\n",
      "  return f(**kwargs)\n",
      "C:\\Users\\TOV\\anaconda3\\lib\\site-packages\\sklearn\\utils\\validation.py:73: DataConversionWarning: A column-vector y was passed when a 1d array was expected. Please change the shape of y to (n_samples, ), for example using ravel().\n",
      "  return f(**kwargs)\n",
      "C:\\Users\\TOV\\anaconda3\\lib\\site-packages\\sklearn\\utils\\validation.py:73: DataConversionWarning: A column-vector y was passed when a 1d array was expected. Please change the shape of y to (n_samples, ), for example using ravel().\n",
      "  return f(**kwargs)\n",
      "C:\\Users\\TOV\\anaconda3\\lib\\site-packages\\sklearn\\utils\\validation.py:73: DataConversionWarning: A column-vector y was passed when a 1d array was expected. Please change the shape of y to (n_samples, ), for example using ravel().\n",
      "  return f(**kwargs)\n",
      "C:\\Users\\TOV\\anaconda3\\lib\\site-packages\\sklearn\\utils\\validation.py:73: DataConversionWarning: A column-vector y was passed when a 1d array was expected. Please change the shape of y to (n_samples, ), for example using ravel().\n",
      "  return f(**kwargs)\n",
      "C:\\Users\\TOV\\anaconda3\\lib\\site-packages\\sklearn\\utils\\validation.py:73: DataConversionWarning: A column-vector y was passed when a 1d array was expected. Please change the shape of y to (n_samples, ), for example using ravel().\n",
      "  return f(**kwargs)\n",
      "C:\\Users\\TOV\\anaconda3\\lib\\site-packages\\sklearn\\utils\\validation.py:73: DataConversionWarning: A column-vector y was passed when a 1d array was expected. Please change the shape of y to (n_samples, ), for example using ravel().\n",
      "  return f(**kwargs)\n"
     ]
    },
    {
     "name": "stderr",
     "output_type": "stream",
     "text": [
      "C:\\Users\\TOV\\anaconda3\\lib\\site-packages\\sklearn\\utils\\validation.py:73: DataConversionWarning: A column-vector y was passed when a 1d array was expected. Please change the shape of y to (n_samples, ), for example using ravel().\n",
      "  return f(**kwargs)\n",
      "C:\\Users\\TOV\\anaconda3\\lib\\site-packages\\sklearn\\utils\\validation.py:73: DataConversionWarning: A column-vector y was passed when a 1d array was expected. Please change the shape of y to (n_samples, ), for example using ravel().\n",
      "  return f(**kwargs)\n",
      "C:\\Users\\TOV\\anaconda3\\lib\\site-packages\\sklearn\\utils\\validation.py:73: DataConversionWarning: A column-vector y was passed when a 1d array was expected. Please change the shape of y to (n_samples, ), for example using ravel().\n",
      "  return f(**kwargs)\n",
      "C:\\Users\\TOV\\anaconda3\\lib\\site-packages\\sklearn\\utils\\validation.py:73: DataConversionWarning: A column-vector y was passed when a 1d array was expected. Please change the shape of y to (n_samples, ), for example using ravel().\n",
      "  return f(**kwargs)\n",
      "C:\\Users\\TOV\\anaconda3\\lib\\site-packages\\sklearn\\utils\\validation.py:73: DataConversionWarning: A column-vector y was passed when a 1d array was expected. Please change the shape of y to (n_samples, ), for example using ravel().\n",
      "  return f(**kwargs)\n",
      "C:\\Users\\TOV\\anaconda3\\lib\\site-packages\\sklearn\\utils\\validation.py:73: DataConversionWarning: A column-vector y was passed when a 1d array was expected. Please change the shape of y to (n_samples, ), for example using ravel().\n",
      "  return f(**kwargs)\n",
      "C:\\Users\\TOV\\anaconda3\\lib\\site-packages\\sklearn\\utils\\validation.py:73: DataConversionWarning: A column-vector y was passed when a 1d array was expected. Please change the shape of y to (n_samples, ), for example using ravel().\n",
      "  return f(**kwargs)\n",
      "C:\\Users\\TOV\\anaconda3\\lib\\site-packages\\sklearn\\utils\\validation.py:73: DataConversionWarning: A column-vector y was passed when a 1d array was expected. Please change the shape of y to (n_samples, ), for example using ravel().\n",
      "  return f(**kwargs)\n",
      "C:\\Users\\TOV\\anaconda3\\lib\\site-packages\\sklearn\\utils\\validation.py:73: DataConversionWarning: A column-vector y was passed when a 1d array was expected. Please change the shape of y to (n_samples, ), for example using ravel().\n",
      "  return f(**kwargs)\n",
      "C:\\Users\\TOV\\anaconda3\\lib\\site-packages\\sklearn\\utils\\validation.py:73: DataConversionWarning: A column-vector y was passed when a 1d array was expected. Please change the shape of y to (n_samples, ), for example using ravel().\n",
      "  return f(**kwargs)\n",
      "C:\\Users\\TOV\\anaconda3\\lib\\site-packages\\sklearn\\utils\\validation.py:73: DataConversionWarning: A column-vector y was passed when a 1d array was expected. Please change the shape of y to (n_samples, ), for example using ravel().\n",
      "  return f(**kwargs)\n",
      "C:\\Users\\TOV\\anaconda3\\lib\\site-packages\\sklearn\\utils\\validation.py:73: DataConversionWarning: A column-vector y was passed when a 1d array was expected. Please change the shape of y to (n_samples, ), for example using ravel().\n",
      "  return f(**kwargs)\n",
      "C:\\Users\\TOV\\anaconda3\\lib\\site-packages\\sklearn\\utils\\validation.py:73: DataConversionWarning: A column-vector y was passed when a 1d array was expected. Please change the shape of y to (n_samples, ), for example using ravel().\n",
      "  return f(**kwargs)\n",
      "C:\\Users\\TOV\\anaconda3\\lib\\site-packages\\sklearn\\utils\\validation.py:73: DataConversionWarning: A column-vector y was passed when a 1d array was expected. Please change the shape of y to (n_samples, ), for example using ravel().\n",
      "  return f(**kwargs)\n",
      "C:\\Users\\TOV\\anaconda3\\lib\\site-packages\\sklearn\\utils\\validation.py:73: DataConversionWarning: A column-vector y was passed when a 1d array was expected. Please change the shape of y to (n_samples, ), for example using ravel().\n",
      "  return f(**kwargs)\n",
      "C:\\Users\\TOV\\anaconda3\\lib\\site-packages\\sklearn\\utils\\validation.py:73: DataConversionWarning: A column-vector y was passed when a 1d array was expected. Please change the shape of y to (n_samples, ), for example using ravel().\n",
      "  return f(**kwargs)\n",
      "C:\\Users\\TOV\\anaconda3\\lib\\site-packages\\sklearn\\utils\\validation.py:73: DataConversionWarning: A column-vector y was passed when a 1d array was expected. Please change the shape of y to (n_samples, ), for example using ravel().\n",
      "  return f(**kwargs)\n",
      "C:\\Users\\TOV\\anaconda3\\lib\\site-packages\\sklearn\\utils\\validation.py:73: DataConversionWarning: A column-vector y was passed when a 1d array was expected. Please change the shape of y to (n_samples, ), for example using ravel().\n",
      "  return f(**kwargs)\n",
      "C:\\Users\\TOV\\anaconda3\\lib\\site-packages\\sklearn\\utils\\validation.py:73: DataConversionWarning: A column-vector y was passed when a 1d array was expected. Please change the shape of y to (n_samples, ), for example using ravel().\n",
      "  return f(**kwargs)\n",
      "C:\\Users\\TOV\\anaconda3\\lib\\site-packages\\sklearn\\utils\\validation.py:73: DataConversionWarning: A column-vector y was passed when a 1d array was expected. Please change the shape of y to (n_samples, ), for example using ravel().\n",
      "  return f(**kwargs)\n",
      "C:\\Users\\TOV\\anaconda3\\lib\\site-packages\\sklearn\\utils\\validation.py:73: DataConversionWarning: A column-vector y was passed when a 1d array was expected. Please change the shape of y to (n_samples, ), for example using ravel().\n",
      "  return f(**kwargs)\n",
      "C:\\Users\\TOV\\anaconda3\\lib\\site-packages\\sklearn\\utils\\validation.py:73: DataConversionWarning: A column-vector y was passed when a 1d array was expected. Please change the shape of y to (n_samples, ), for example using ravel().\n",
      "  return f(**kwargs)\n",
      "C:\\Users\\TOV\\anaconda3\\lib\\site-packages\\sklearn\\utils\\validation.py:73: DataConversionWarning: A column-vector y was passed when a 1d array was expected. Please change the shape of y to (n_samples, ), for example using ravel().\n",
      "  return f(**kwargs)\n",
      "C:\\Users\\TOV\\anaconda3\\lib\\site-packages\\sklearn\\utils\\validation.py:73: DataConversionWarning: A column-vector y was passed when a 1d array was expected. Please change the shape of y to (n_samples, ), for example using ravel().\n",
      "  return f(**kwargs)\n",
      "C:\\Users\\TOV\\anaconda3\\lib\\site-packages\\sklearn\\utils\\validation.py:73: DataConversionWarning: A column-vector y was passed when a 1d array was expected. Please change the shape of y to (n_samples, ), for example using ravel().\n",
      "  return f(**kwargs)\n",
      "C:\\Users\\TOV\\anaconda3\\lib\\site-packages\\sklearn\\utils\\validation.py:73: DataConversionWarning: A column-vector y was passed when a 1d array was expected. Please change the shape of y to (n_samples, ), for example using ravel().\n",
      "  return f(**kwargs)\n",
      "C:\\Users\\TOV\\anaconda3\\lib\\site-packages\\sklearn\\utils\\validation.py:73: DataConversionWarning: A column-vector y was passed when a 1d array was expected. Please change the shape of y to (n_samples, ), for example using ravel().\n",
      "  return f(**kwargs)\n",
      "C:\\Users\\TOV\\anaconda3\\lib\\site-packages\\sklearn\\utils\\validation.py:73: DataConversionWarning: A column-vector y was passed when a 1d array was expected. Please change the shape of y to (n_samples, ), for example using ravel().\n",
      "  return f(**kwargs)\n",
      "C:\\Users\\TOV\\anaconda3\\lib\\site-packages\\sklearn\\utils\\validation.py:73: DataConversionWarning: A column-vector y was passed when a 1d array was expected. Please change the shape of y to (n_samples, ), for example using ravel().\n",
      "  return f(**kwargs)\n",
      "C:\\Users\\TOV\\anaconda3\\lib\\site-packages\\sklearn\\utils\\validation.py:73: DataConversionWarning: A column-vector y was passed when a 1d array was expected. Please change the shape of y to (n_samples, ), for example using ravel().\n",
      "  return f(**kwargs)\n",
      "C:\\Users\\TOV\\anaconda3\\lib\\site-packages\\sklearn\\utils\\validation.py:73: DataConversionWarning: A column-vector y was passed when a 1d array was expected. Please change the shape of y to (n_samples, ), for example using ravel().\n",
      "  return f(**kwargs)\n",
      "C:\\Users\\TOV\\anaconda3\\lib\\site-packages\\sklearn\\utils\\validation.py:73: DataConversionWarning: A column-vector y was passed when a 1d array was expected. Please change the shape of y to (n_samples, ), for example using ravel().\n",
      "  return f(**kwargs)\n",
      "C:\\Users\\TOV\\anaconda3\\lib\\site-packages\\sklearn\\utils\\validation.py:73: DataConversionWarning: A column-vector y was passed when a 1d array was expected. Please change the shape of y to (n_samples, ), for example using ravel().\n",
      "  return f(**kwargs)\n",
      "C:\\Users\\TOV\\anaconda3\\lib\\site-packages\\sklearn\\utils\\validation.py:73: DataConversionWarning: A column-vector y was passed when a 1d array was expected. Please change the shape of y to (n_samples, ), for example using ravel().\n",
      "  return f(**kwargs)\n",
      "C:\\Users\\TOV\\anaconda3\\lib\\site-packages\\sklearn\\utils\\validation.py:73: DataConversionWarning: A column-vector y was passed when a 1d array was expected. Please change the shape of y to (n_samples, ), for example using ravel().\n",
      "  return f(**kwargs)\n",
      "C:\\Users\\TOV\\anaconda3\\lib\\site-packages\\sklearn\\utils\\validation.py:73: DataConversionWarning: A column-vector y was passed when a 1d array was expected. Please change the shape of y to (n_samples, ), for example using ravel().\n",
      "  return f(**kwargs)\n"
     ]
    },
    {
     "name": "stderr",
     "output_type": "stream",
     "text": [
      "C:\\Users\\TOV\\anaconda3\\lib\\site-packages\\sklearn\\utils\\validation.py:73: DataConversionWarning: A column-vector y was passed when a 1d array was expected. Please change the shape of y to (n_samples, ), for example using ravel().\n",
      "  return f(**kwargs)\n",
      "C:\\Users\\TOV\\anaconda3\\lib\\site-packages\\sklearn\\utils\\validation.py:73: DataConversionWarning: A column-vector y was passed when a 1d array was expected. Please change the shape of y to (n_samples, ), for example using ravel().\n",
      "  return f(**kwargs)\n",
      "C:\\Users\\TOV\\anaconda3\\lib\\site-packages\\sklearn\\utils\\validation.py:73: DataConversionWarning: A column-vector y was passed when a 1d array was expected. Please change the shape of y to (n_samples, ), for example using ravel().\n",
      "  return f(**kwargs)\n",
      "C:\\Users\\TOV\\anaconda3\\lib\\site-packages\\sklearn\\utils\\validation.py:73: DataConversionWarning: A column-vector y was passed when a 1d array was expected. Please change the shape of y to (n_samples, ), for example using ravel().\n",
      "  return f(**kwargs)\n",
      "C:\\Users\\TOV\\anaconda3\\lib\\site-packages\\sklearn\\utils\\validation.py:73: DataConversionWarning: A column-vector y was passed when a 1d array was expected. Please change the shape of y to (n_samples, ), for example using ravel().\n",
      "  return f(**kwargs)\n",
      "C:\\Users\\TOV\\anaconda3\\lib\\site-packages\\sklearn\\utils\\validation.py:73: DataConversionWarning: A column-vector y was passed when a 1d array was expected. Please change the shape of y to (n_samples, ), for example using ravel().\n",
      "  return f(**kwargs)\n",
      "C:\\Users\\TOV\\anaconda3\\lib\\site-packages\\sklearn\\utils\\validation.py:73: DataConversionWarning: A column-vector y was passed when a 1d array was expected. Please change the shape of y to (n_samples, ), for example using ravel().\n",
      "  return f(**kwargs)\n",
      "C:\\Users\\TOV\\anaconda3\\lib\\site-packages\\sklearn\\utils\\validation.py:73: DataConversionWarning: A column-vector y was passed when a 1d array was expected. Please change the shape of y to (n_samples, ), for example using ravel().\n",
      "  return f(**kwargs)\n",
      "C:\\Users\\TOV\\anaconda3\\lib\\site-packages\\sklearn\\utils\\validation.py:73: DataConversionWarning: A column-vector y was passed when a 1d array was expected. Please change the shape of y to (n_samples, ), for example using ravel().\n",
      "  return f(**kwargs)\n",
      "C:\\Users\\TOV\\anaconda3\\lib\\site-packages\\sklearn\\utils\\validation.py:73: DataConversionWarning: A column-vector y was passed when a 1d array was expected. Please change the shape of y to (n_samples, ), for example using ravel().\n",
      "  return f(**kwargs)\n",
      "C:\\Users\\TOV\\anaconda3\\lib\\site-packages\\sklearn\\utils\\validation.py:73: DataConversionWarning: A column-vector y was passed when a 1d array was expected. Please change the shape of y to (n_samples, ), for example using ravel().\n",
      "  return f(**kwargs)\n",
      "C:\\Users\\TOV\\anaconda3\\lib\\site-packages\\sklearn\\utils\\validation.py:73: DataConversionWarning: A column-vector y was passed when a 1d array was expected. Please change the shape of y to (n_samples, ), for example using ravel().\n",
      "  return f(**kwargs)\n",
      "C:\\Users\\TOV\\anaconda3\\lib\\site-packages\\sklearn\\utils\\validation.py:73: DataConversionWarning: A column-vector y was passed when a 1d array was expected. Please change the shape of y to (n_samples, ), for example using ravel().\n",
      "  return f(**kwargs)\n",
      "C:\\Users\\TOV\\anaconda3\\lib\\site-packages\\sklearn\\utils\\validation.py:73: DataConversionWarning: A column-vector y was passed when a 1d array was expected. Please change the shape of y to (n_samples, ), for example using ravel().\n",
      "  return f(**kwargs)\n",
      "C:\\Users\\TOV\\anaconda3\\lib\\site-packages\\sklearn\\utils\\validation.py:73: DataConversionWarning: A column-vector y was passed when a 1d array was expected. Please change the shape of y to (n_samples, ), for example using ravel().\n",
      "  return f(**kwargs)\n",
      "C:\\Users\\TOV\\anaconda3\\lib\\site-packages\\sklearn\\utils\\validation.py:73: DataConversionWarning: A column-vector y was passed when a 1d array was expected. Please change the shape of y to (n_samples, ), for example using ravel().\n",
      "  return f(**kwargs)\n",
      "C:\\Users\\TOV\\anaconda3\\lib\\site-packages\\sklearn\\utils\\validation.py:73: DataConversionWarning: A column-vector y was passed when a 1d array was expected. Please change the shape of y to (n_samples, ), for example using ravel().\n",
      "  return f(**kwargs)\n",
      "C:\\Users\\TOV\\anaconda3\\lib\\site-packages\\sklearn\\utils\\validation.py:73: DataConversionWarning: A column-vector y was passed when a 1d array was expected. Please change the shape of y to (n_samples, ), for example using ravel().\n",
      "  return f(**kwargs)\n",
      "C:\\Users\\TOV\\anaconda3\\lib\\site-packages\\sklearn\\utils\\validation.py:73: DataConversionWarning: A column-vector y was passed when a 1d array was expected. Please change the shape of y to (n_samples, ), for example using ravel().\n",
      "  return f(**kwargs)\n",
      "C:\\Users\\TOV\\anaconda3\\lib\\site-packages\\sklearn\\utils\\validation.py:73: DataConversionWarning: A column-vector y was passed when a 1d array was expected. Please change the shape of y to (n_samples, ), for example using ravel().\n",
      "  return f(**kwargs)\n",
      "C:\\Users\\TOV\\anaconda3\\lib\\site-packages\\sklearn\\utils\\validation.py:73: DataConversionWarning: A column-vector y was passed when a 1d array was expected. Please change the shape of y to (n_samples, ), for example using ravel().\n",
      "  return f(**kwargs)\n",
      "C:\\Users\\TOV\\anaconda3\\lib\\site-packages\\sklearn\\utils\\validation.py:73: DataConversionWarning: A column-vector y was passed when a 1d array was expected. Please change the shape of y to (n_samples, ), for example using ravel().\n",
      "  return f(**kwargs)\n",
      "C:\\Users\\TOV\\anaconda3\\lib\\site-packages\\sklearn\\utils\\validation.py:73: DataConversionWarning: A column-vector y was passed when a 1d array was expected. Please change the shape of y to (n_samples, ), for example using ravel().\n",
      "  return f(**kwargs)\n",
      "C:\\Users\\TOV\\anaconda3\\lib\\site-packages\\sklearn\\utils\\validation.py:73: DataConversionWarning: A column-vector y was passed when a 1d array was expected. Please change the shape of y to (n_samples, ), for example using ravel().\n",
      "  return f(**kwargs)\n",
      "C:\\Users\\TOV\\anaconda3\\lib\\site-packages\\sklearn\\utils\\validation.py:73: DataConversionWarning: A column-vector y was passed when a 1d array was expected. Please change the shape of y to (n_samples, ), for example using ravel().\n",
      "  return f(**kwargs)\n",
      "C:\\Users\\TOV\\anaconda3\\lib\\site-packages\\sklearn\\utils\\validation.py:73: DataConversionWarning: A column-vector y was passed when a 1d array was expected. Please change the shape of y to (n_samples, ), for example using ravel().\n",
      "  return f(**kwargs)\n",
      "C:\\Users\\TOV\\anaconda3\\lib\\site-packages\\sklearn\\utils\\validation.py:73: DataConversionWarning: A column-vector y was passed when a 1d array was expected. Please change the shape of y to (n_samples, ), for example using ravel().\n",
      "  return f(**kwargs)\n",
      "C:\\Users\\TOV\\anaconda3\\lib\\site-packages\\sklearn\\utils\\validation.py:73: DataConversionWarning: A column-vector y was passed when a 1d array was expected. Please change the shape of y to (n_samples, ), for example using ravel().\n",
      "  return f(**kwargs)\n",
      "C:\\Users\\TOV\\anaconda3\\lib\\site-packages\\sklearn\\utils\\validation.py:73: DataConversionWarning: A column-vector y was passed when a 1d array was expected. Please change the shape of y to (n_samples, ), for example using ravel().\n",
      "  return f(**kwargs)\n",
      "C:\\Users\\TOV\\anaconda3\\lib\\site-packages\\sklearn\\utils\\validation.py:73: DataConversionWarning: A column-vector y was passed when a 1d array was expected. Please change the shape of y to (n_samples, ), for example using ravel().\n",
      "  return f(**kwargs)\n",
      "C:\\Users\\TOV\\anaconda3\\lib\\site-packages\\sklearn\\utils\\validation.py:73: DataConversionWarning: A column-vector y was passed when a 1d array was expected. Please change the shape of y to (n_samples, ), for example using ravel().\n",
      "  return f(**kwargs)\n",
      "C:\\Users\\TOV\\anaconda3\\lib\\site-packages\\sklearn\\utils\\validation.py:73: DataConversionWarning: A column-vector y was passed when a 1d array was expected. Please change the shape of y to (n_samples, ), for example using ravel().\n",
      "  return f(**kwargs)\n",
      "C:\\Users\\TOV\\anaconda3\\lib\\site-packages\\sklearn\\utils\\validation.py:73: DataConversionWarning: A column-vector y was passed when a 1d array was expected. Please change the shape of y to (n_samples, ), for example using ravel().\n",
      "  return f(**kwargs)\n",
      "C:\\Users\\TOV\\anaconda3\\lib\\site-packages\\sklearn\\utils\\validation.py:73: DataConversionWarning: A column-vector y was passed when a 1d array was expected. Please change the shape of y to (n_samples, ), for example using ravel().\n",
      "  return f(**kwargs)\n",
      "C:\\Users\\TOV\\anaconda3\\lib\\site-packages\\sklearn\\utils\\validation.py:73: DataConversionWarning: A column-vector y was passed when a 1d array was expected. Please change the shape of y to (n_samples, ), for example using ravel().\n",
      "  return f(**kwargs)\n",
      "C:\\Users\\TOV\\anaconda3\\lib\\site-packages\\sklearn\\utils\\validation.py:73: DataConversionWarning: A column-vector y was passed when a 1d array was expected. Please change the shape of y to (n_samples, ), for example using ravel().\n",
      "  return f(**kwargs)\n",
      "C:\\Users\\TOV\\anaconda3\\lib\\site-packages\\sklearn\\utils\\validation.py:73: DataConversionWarning: A column-vector y was passed when a 1d array was expected. Please change the shape of y to (n_samples, ), for example using ravel().\n",
      "  return f(**kwargs)\n"
     ]
    },
    {
     "name": "stderr",
     "output_type": "stream",
     "text": [
      "C:\\Users\\TOV\\anaconda3\\lib\\site-packages\\sklearn\\utils\\validation.py:73: DataConversionWarning: A column-vector y was passed when a 1d array was expected. Please change the shape of y to (n_samples, ), for example using ravel().\n",
      "  return f(**kwargs)\n",
      "C:\\Users\\TOV\\anaconda3\\lib\\site-packages\\sklearn\\utils\\validation.py:73: DataConversionWarning: A column-vector y was passed when a 1d array was expected. Please change the shape of y to (n_samples, ), for example using ravel().\n",
      "  return f(**kwargs)\n",
      "C:\\Users\\TOV\\anaconda3\\lib\\site-packages\\sklearn\\utils\\validation.py:73: DataConversionWarning: A column-vector y was passed when a 1d array was expected. Please change the shape of y to (n_samples, ), for example using ravel().\n",
      "  return f(**kwargs)\n",
      "C:\\Users\\TOV\\anaconda3\\lib\\site-packages\\sklearn\\utils\\validation.py:73: DataConversionWarning: A column-vector y was passed when a 1d array was expected. Please change the shape of y to (n_samples, ), for example using ravel().\n",
      "  return f(**kwargs)\n",
      "C:\\Users\\TOV\\anaconda3\\lib\\site-packages\\sklearn\\utils\\validation.py:73: DataConversionWarning: A column-vector y was passed when a 1d array was expected. Please change the shape of y to (n_samples, ), for example using ravel().\n",
      "  return f(**kwargs)\n",
      "C:\\Users\\TOV\\anaconda3\\lib\\site-packages\\sklearn\\utils\\validation.py:73: DataConversionWarning: A column-vector y was passed when a 1d array was expected. Please change the shape of y to (n_samples, ), for example using ravel().\n",
      "  return f(**kwargs)\n",
      "C:\\Users\\TOV\\anaconda3\\lib\\site-packages\\sklearn\\utils\\validation.py:73: DataConversionWarning: A column-vector y was passed when a 1d array was expected. Please change the shape of y to (n_samples, ), for example using ravel().\n",
      "  return f(**kwargs)\n",
      "C:\\Users\\TOV\\anaconda3\\lib\\site-packages\\sklearn\\utils\\validation.py:73: DataConversionWarning: A column-vector y was passed when a 1d array was expected. Please change the shape of y to (n_samples, ), for example using ravel().\n",
      "  return f(**kwargs)\n",
      "C:\\Users\\TOV\\anaconda3\\lib\\site-packages\\sklearn\\utils\\validation.py:73: DataConversionWarning: A column-vector y was passed when a 1d array was expected. Please change the shape of y to (n_samples, ), for example using ravel().\n",
      "  return f(**kwargs)\n",
      "C:\\Users\\TOV\\anaconda3\\lib\\site-packages\\sklearn\\utils\\validation.py:73: DataConversionWarning: A column-vector y was passed when a 1d array was expected. Please change the shape of y to (n_samples, ), for example using ravel().\n",
      "  return f(**kwargs)\n",
      "C:\\Users\\TOV\\anaconda3\\lib\\site-packages\\sklearn\\utils\\validation.py:73: DataConversionWarning: A column-vector y was passed when a 1d array was expected. Please change the shape of y to (n_samples, ), for example using ravel().\n",
      "  return f(**kwargs)\n",
      "C:\\Users\\TOV\\anaconda3\\lib\\site-packages\\sklearn\\utils\\validation.py:73: DataConversionWarning: A column-vector y was passed when a 1d array was expected. Please change the shape of y to (n_samples, ), for example using ravel().\n",
      "  return f(**kwargs)\n",
      "C:\\Users\\TOV\\anaconda3\\lib\\site-packages\\sklearn\\utils\\validation.py:73: DataConversionWarning: A column-vector y was passed when a 1d array was expected. Please change the shape of y to (n_samples, ), for example using ravel().\n",
      "  return f(**kwargs)\n",
      "C:\\Users\\TOV\\anaconda3\\lib\\site-packages\\sklearn\\utils\\validation.py:73: DataConversionWarning: A column-vector y was passed when a 1d array was expected. Please change the shape of y to (n_samples, ), for example using ravel().\n",
      "  return f(**kwargs)\n",
      "C:\\Users\\TOV\\anaconda3\\lib\\site-packages\\sklearn\\utils\\validation.py:73: DataConversionWarning: A column-vector y was passed when a 1d array was expected. Please change the shape of y to (n_samples, ), for example using ravel().\n",
      "  return f(**kwargs)\n",
      "C:\\Users\\TOV\\anaconda3\\lib\\site-packages\\sklearn\\utils\\validation.py:73: DataConversionWarning: A column-vector y was passed when a 1d array was expected. Please change the shape of y to (n_samples, ), for example using ravel().\n",
      "  return f(**kwargs)\n",
      "C:\\Users\\TOV\\anaconda3\\lib\\site-packages\\sklearn\\utils\\validation.py:73: DataConversionWarning: A column-vector y was passed when a 1d array was expected. Please change the shape of y to (n_samples, ), for example using ravel().\n",
      "  return f(**kwargs)\n",
      "C:\\Users\\TOV\\anaconda3\\lib\\site-packages\\sklearn\\utils\\validation.py:73: DataConversionWarning: A column-vector y was passed when a 1d array was expected. Please change the shape of y to (n_samples, ), for example using ravel().\n",
      "  return f(**kwargs)\n",
      "C:\\Users\\TOV\\anaconda3\\lib\\site-packages\\sklearn\\utils\\validation.py:73: DataConversionWarning: A column-vector y was passed when a 1d array was expected. Please change the shape of y to (n_samples, ), for example using ravel().\n",
      "  return f(**kwargs)\n",
      "C:\\Users\\TOV\\anaconda3\\lib\\site-packages\\sklearn\\utils\\validation.py:73: DataConversionWarning: A column-vector y was passed when a 1d array was expected. Please change the shape of y to (n_samples, ), for example using ravel().\n",
      "  return f(**kwargs)\n",
      "C:\\Users\\TOV\\anaconda3\\lib\\site-packages\\sklearn\\utils\\validation.py:73: DataConversionWarning: A column-vector y was passed when a 1d array was expected. Please change the shape of y to (n_samples, ), for example using ravel().\n",
      "  return f(**kwargs)\n",
      "C:\\Users\\TOV\\anaconda3\\lib\\site-packages\\sklearn\\utils\\validation.py:73: DataConversionWarning: A column-vector y was passed when a 1d array was expected. Please change the shape of y to (n_samples, ), for example using ravel().\n",
      "  return f(**kwargs)\n",
      "C:\\Users\\TOV\\anaconda3\\lib\\site-packages\\sklearn\\utils\\validation.py:73: DataConversionWarning: A column-vector y was passed when a 1d array was expected. Please change the shape of y to (n_samples, ), for example using ravel().\n",
      "  return f(**kwargs)\n",
      "C:\\Users\\TOV\\anaconda3\\lib\\site-packages\\sklearn\\utils\\validation.py:73: DataConversionWarning: A column-vector y was passed when a 1d array was expected. Please change the shape of y to (n_samples, ), for example using ravel().\n",
      "  return f(**kwargs)\n",
      "C:\\Users\\TOV\\anaconda3\\lib\\site-packages\\sklearn\\utils\\validation.py:73: DataConversionWarning: A column-vector y was passed when a 1d array was expected. Please change the shape of y to (n_samples, ), for example using ravel().\n",
      "  return f(**kwargs)\n",
      "C:\\Users\\TOV\\anaconda3\\lib\\site-packages\\sklearn\\utils\\validation.py:73: DataConversionWarning: A column-vector y was passed when a 1d array was expected. Please change the shape of y to (n_samples, ), for example using ravel().\n",
      "  return f(**kwargs)\n",
      "C:\\Users\\TOV\\anaconda3\\lib\\site-packages\\sklearn\\utils\\validation.py:73: DataConversionWarning: A column-vector y was passed when a 1d array was expected. Please change the shape of y to (n_samples, ), for example using ravel().\n",
      "  return f(**kwargs)\n",
      "C:\\Users\\TOV\\anaconda3\\lib\\site-packages\\sklearn\\utils\\validation.py:73: DataConversionWarning: A column-vector y was passed when a 1d array was expected. Please change the shape of y to (n_samples, ), for example using ravel().\n",
      "  return f(**kwargs)\n",
      "C:\\Users\\TOV\\anaconda3\\lib\\site-packages\\sklearn\\utils\\validation.py:73: DataConversionWarning: A column-vector y was passed when a 1d array was expected. Please change the shape of y to (n_samples, ), for example using ravel().\n",
      "  return f(**kwargs)\n",
      "C:\\Users\\TOV\\anaconda3\\lib\\site-packages\\sklearn\\utils\\validation.py:73: DataConversionWarning: A column-vector y was passed when a 1d array was expected. Please change the shape of y to (n_samples, ), for example using ravel().\n",
      "  return f(**kwargs)\n",
      "C:\\Users\\TOV\\anaconda3\\lib\\site-packages\\sklearn\\utils\\validation.py:73: DataConversionWarning: A column-vector y was passed when a 1d array was expected. Please change the shape of y to (n_samples, ), for example using ravel().\n",
      "  return f(**kwargs)\n",
      "C:\\Users\\TOV\\anaconda3\\lib\\site-packages\\sklearn\\utils\\validation.py:73: DataConversionWarning: A column-vector y was passed when a 1d array was expected. Please change the shape of y to (n_samples, ), for example using ravel().\n",
      "  return f(**kwargs)\n",
      "C:\\Users\\TOV\\anaconda3\\lib\\site-packages\\sklearn\\utils\\validation.py:73: DataConversionWarning: A column-vector y was passed when a 1d array was expected. Please change the shape of y to (n_samples, ), for example using ravel().\n",
      "  return f(**kwargs)\n",
      "C:\\Users\\TOV\\anaconda3\\lib\\site-packages\\sklearn\\utils\\validation.py:73: DataConversionWarning: A column-vector y was passed when a 1d array was expected. Please change the shape of y to (n_samples, ), for example using ravel().\n",
      "  return f(**kwargs)\n",
      "C:\\Users\\TOV\\anaconda3\\lib\\site-packages\\sklearn\\utils\\validation.py:73: DataConversionWarning: A column-vector y was passed when a 1d array was expected. Please change the shape of y to (n_samples, ), for example using ravel().\n",
      "  return f(**kwargs)\n",
      "C:\\Users\\TOV\\anaconda3\\lib\\site-packages\\sklearn\\utils\\validation.py:73: DataConversionWarning: A column-vector y was passed when a 1d array was expected. Please change the shape of y to (n_samples, ), for example using ravel().\n",
      "  return f(**kwargs)\n",
      "C:\\Users\\TOV\\anaconda3\\lib\\site-packages\\sklearn\\utils\\validation.py:73: DataConversionWarning: A column-vector y was passed when a 1d array was expected. Please change the shape of y to (n_samples, ), for example using ravel().\n",
      "  return f(**kwargs)\n",
      "C:\\Users\\TOV\\anaconda3\\lib\\site-packages\\sklearn\\utils\\validation.py:73: DataConversionWarning: A column-vector y was passed when a 1d array was expected. Please change the shape of y to (n_samples, ), for example using ravel().\n",
      "  return f(**kwargs)\n"
     ]
    },
    {
     "name": "stderr",
     "output_type": "stream",
     "text": [
      "C:\\Users\\TOV\\anaconda3\\lib\\site-packages\\sklearn\\utils\\validation.py:73: DataConversionWarning: A column-vector y was passed when a 1d array was expected. Please change the shape of y to (n_samples, ), for example using ravel().\n",
      "  return f(**kwargs)\n",
      "C:\\Users\\TOV\\anaconda3\\lib\\site-packages\\sklearn\\utils\\validation.py:73: DataConversionWarning: A column-vector y was passed when a 1d array was expected. Please change the shape of y to (n_samples, ), for example using ravel().\n",
      "  return f(**kwargs)\n",
      "C:\\Users\\TOV\\anaconda3\\lib\\site-packages\\sklearn\\utils\\validation.py:73: DataConversionWarning: A column-vector y was passed when a 1d array was expected. Please change the shape of y to (n_samples, ), for example using ravel().\n",
      "  return f(**kwargs)\n",
      "C:\\Users\\TOV\\anaconda3\\lib\\site-packages\\sklearn\\utils\\validation.py:73: DataConversionWarning: A column-vector y was passed when a 1d array was expected. Please change the shape of y to (n_samples, ), for example using ravel().\n",
      "  return f(**kwargs)\n",
      "C:\\Users\\TOV\\anaconda3\\lib\\site-packages\\sklearn\\utils\\validation.py:73: DataConversionWarning: A column-vector y was passed when a 1d array was expected. Please change the shape of y to (n_samples, ), for example using ravel().\n",
      "  return f(**kwargs)\n",
      "C:\\Users\\TOV\\anaconda3\\lib\\site-packages\\sklearn\\utils\\validation.py:73: DataConversionWarning: A column-vector y was passed when a 1d array was expected. Please change the shape of y to (n_samples, ), for example using ravel().\n",
      "  return f(**kwargs)\n",
      "C:\\Users\\TOV\\anaconda3\\lib\\site-packages\\sklearn\\utils\\validation.py:73: DataConversionWarning: A column-vector y was passed when a 1d array was expected. Please change the shape of y to (n_samples, ), for example using ravel().\n",
      "  return f(**kwargs)\n",
      "C:\\Users\\TOV\\anaconda3\\lib\\site-packages\\sklearn\\utils\\validation.py:73: DataConversionWarning: A column-vector y was passed when a 1d array was expected. Please change the shape of y to (n_samples, ), for example using ravel().\n",
      "  return f(**kwargs)\n",
      "C:\\Users\\TOV\\anaconda3\\lib\\site-packages\\sklearn\\utils\\validation.py:73: DataConversionWarning: A column-vector y was passed when a 1d array was expected. Please change the shape of y to (n_samples, ), for example using ravel().\n",
      "  return f(**kwargs)\n",
      "C:\\Users\\TOV\\anaconda3\\lib\\site-packages\\sklearn\\utils\\validation.py:73: DataConversionWarning: A column-vector y was passed when a 1d array was expected. Please change the shape of y to (n_samples, ), for example using ravel().\n",
      "  return f(**kwargs)\n",
      "C:\\Users\\TOV\\anaconda3\\lib\\site-packages\\sklearn\\utils\\validation.py:73: DataConversionWarning: A column-vector y was passed when a 1d array was expected. Please change the shape of y to (n_samples, ), for example using ravel().\n",
      "  return f(**kwargs)\n",
      "C:\\Users\\TOV\\anaconda3\\lib\\site-packages\\sklearn\\utils\\validation.py:73: DataConversionWarning: A column-vector y was passed when a 1d array was expected. Please change the shape of y to (n_samples, ), for example using ravel().\n",
      "  return f(**kwargs)\n",
      "C:\\Users\\TOV\\anaconda3\\lib\\site-packages\\sklearn\\utils\\validation.py:73: DataConversionWarning: A column-vector y was passed when a 1d array was expected. Please change the shape of y to (n_samples, ), for example using ravel().\n",
      "  return f(**kwargs)\n",
      "C:\\Users\\TOV\\anaconda3\\lib\\site-packages\\sklearn\\utils\\validation.py:73: DataConversionWarning: A column-vector y was passed when a 1d array was expected. Please change the shape of y to (n_samples, ), for example using ravel().\n",
      "  return f(**kwargs)\n",
      "C:\\Users\\TOV\\anaconda3\\lib\\site-packages\\sklearn\\utils\\validation.py:73: DataConversionWarning: A column-vector y was passed when a 1d array was expected. Please change the shape of y to (n_samples, ), for example using ravel().\n",
      "  return f(**kwargs)\n",
      "C:\\Users\\TOV\\anaconda3\\lib\\site-packages\\sklearn\\utils\\validation.py:73: DataConversionWarning: A column-vector y was passed when a 1d array was expected. Please change the shape of y to (n_samples, ), for example using ravel().\n",
      "  return f(**kwargs)\n",
      "C:\\Users\\TOV\\anaconda3\\lib\\site-packages\\sklearn\\utils\\validation.py:73: DataConversionWarning: A column-vector y was passed when a 1d array was expected. Please change the shape of y to (n_samples, ), for example using ravel().\n",
      "  return f(**kwargs)\n",
      "C:\\Users\\TOV\\anaconda3\\lib\\site-packages\\sklearn\\utils\\validation.py:73: DataConversionWarning: A column-vector y was passed when a 1d array was expected. Please change the shape of y to (n_samples, ), for example using ravel().\n",
      "  return f(**kwargs)\n",
      "C:\\Users\\TOV\\anaconda3\\lib\\site-packages\\sklearn\\utils\\validation.py:73: DataConversionWarning: A column-vector y was passed when a 1d array was expected. Please change the shape of y to (n_samples, ), for example using ravel().\n",
      "  return f(**kwargs)\n",
      "C:\\Users\\TOV\\anaconda3\\lib\\site-packages\\sklearn\\utils\\validation.py:73: DataConversionWarning: A column-vector y was passed when a 1d array was expected. Please change the shape of y to (n_samples, ), for example using ravel().\n",
      "  return f(**kwargs)\n",
      "C:\\Users\\TOV\\anaconda3\\lib\\site-packages\\sklearn\\utils\\validation.py:73: DataConversionWarning: A column-vector y was passed when a 1d array was expected. Please change the shape of y to (n_samples, ), for example using ravel().\n",
      "  return f(**kwargs)\n",
      "C:\\Users\\TOV\\anaconda3\\lib\\site-packages\\sklearn\\utils\\validation.py:73: DataConversionWarning: A column-vector y was passed when a 1d array was expected. Please change the shape of y to (n_samples, ), for example using ravel().\n",
      "  return f(**kwargs)\n",
      "C:\\Users\\TOV\\anaconda3\\lib\\site-packages\\sklearn\\utils\\validation.py:73: DataConversionWarning: A column-vector y was passed when a 1d array was expected. Please change the shape of y to (n_samples, ), for example using ravel().\n",
      "  return f(**kwargs)\n",
      "C:\\Users\\TOV\\anaconda3\\lib\\site-packages\\sklearn\\utils\\validation.py:73: DataConversionWarning: A column-vector y was passed when a 1d array was expected. Please change the shape of y to (n_samples, ), for example using ravel().\n",
      "  return f(**kwargs)\n",
      "C:\\Users\\TOV\\anaconda3\\lib\\site-packages\\sklearn\\utils\\validation.py:73: DataConversionWarning: A column-vector y was passed when a 1d array was expected. Please change the shape of y to (n_samples, ), for example using ravel().\n",
      "  return f(**kwargs)\n",
      "C:\\Users\\TOV\\anaconda3\\lib\\site-packages\\sklearn\\utils\\validation.py:73: DataConversionWarning: A column-vector y was passed when a 1d array was expected. Please change the shape of y to (n_samples, ), for example using ravel().\n",
      "  return f(**kwargs)\n",
      "C:\\Users\\TOV\\anaconda3\\lib\\site-packages\\sklearn\\utils\\validation.py:73: DataConversionWarning: A column-vector y was passed when a 1d array was expected. Please change the shape of y to (n_samples, ), for example using ravel().\n",
      "  return f(**kwargs)\n",
      "C:\\Users\\TOV\\anaconda3\\lib\\site-packages\\sklearn\\utils\\validation.py:73: DataConversionWarning: A column-vector y was passed when a 1d array was expected. Please change the shape of y to (n_samples, ), for example using ravel().\n",
      "  return f(**kwargs)\n",
      "C:\\Users\\TOV\\anaconda3\\lib\\site-packages\\sklearn\\utils\\validation.py:73: DataConversionWarning: A column-vector y was passed when a 1d array was expected. Please change the shape of y to (n_samples, ), for example using ravel().\n",
      "  return f(**kwargs)\n",
      "C:\\Users\\TOV\\anaconda3\\lib\\site-packages\\sklearn\\utils\\validation.py:73: DataConversionWarning: A column-vector y was passed when a 1d array was expected. Please change the shape of y to (n_samples, ), for example using ravel().\n",
      "  return f(**kwargs)\n",
      "C:\\Users\\TOV\\anaconda3\\lib\\site-packages\\sklearn\\utils\\validation.py:73: DataConversionWarning: A column-vector y was passed when a 1d array was expected. Please change the shape of y to (n_samples, ), for example using ravel().\n",
      "  return f(**kwargs)\n",
      "C:\\Users\\TOV\\anaconda3\\lib\\site-packages\\sklearn\\utils\\validation.py:73: DataConversionWarning: A column-vector y was passed when a 1d array was expected. Please change the shape of y to (n_samples, ), for example using ravel().\n",
      "  return f(**kwargs)\n",
      "C:\\Users\\TOV\\anaconda3\\lib\\site-packages\\sklearn\\utils\\validation.py:73: DataConversionWarning: A column-vector y was passed when a 1d array was expected. Please change the shape of y to (n_samples, ), for example using ravel().\n",
      "  return f(**kwargs)\n",
      "C:\\Users\\TOV\\anaconda3\\lib\\site-packages\\sklearn\\utils\\validation.py:73: DataConversionWarning: A column-vector y was passed when a 1d array was expected. Please change the shape of y to (n_samples, ), for example using ravel().\n",
      "  return f(**kwargs)\n",
      "C:\\Users\\TOV\\anaconda3\\lib\\site-packages\\sklearn\\utils\\validation.py:73: DataConversionWarning: A column-vector y was passed when a 1d array was expected. Please change the shape of y to (n_samples, ), for example using ravel().\n",
      "  return f(**kwargs)\n"
     ]
    },
    {
     "name": "stderr",
     "output_type": "stream",
     "text": [
      "C:\\Users\\TOV\\anaconda3\\lib\\site-packages\\sklearn\\utils\\validation.py:73: DataConversionWarning: A column-vector y was passed when a 1d array was expected. Please change the shape of y to (n_samples, ), for example using ravel().\n",
      "  return f(**kwargs)\n",
      "C:\\Users\\TOV\\anaconda3\\lib\\site-packages\\sklearn\\utils\\validation.py:73: DataConversionWarning: A column-vector y was passed when a 1d array was expected. Please change the shape of y to (n_samples, ), for example using ravel().\n",
      "  return f(**kwargs)\n",
      "C:\\Users\\TOV\\anaconda3\\lib\\site-packages\\sklearn\\utils\\validation.py:73: DataConversionWarning: A column-vector y was passed when a 1d array was expected. Please change the shape of y to (n_samples, ), for example using ravel().\n",
      "  return f(**kwargs)\n",
      "C:\\Users\\TOV\\anaconda3\\lib\\site-packages\\sklearn\\utils\\validation.py:73: DataConversionWarning: A column-vector y was passed when a 1d array was expected. Please change the shape of y to (n_samples, ), for example using ravel().\n",
      "  return f(**kwargs)\n",
      "C:\\Users\\TOV\\anaconda3\\lib\\site-packages\\sklearn\\utils\\validation.py:73: DataConversionWarning: A column-vector y was passed when a 1d array was expected. Please change the shape of y to (n_samples, ), for example using ravel().\n",
      "  return f(**kwargs)\n",
      "C:\\Users\\TOV\\anaconda3\\lib\\site-packages\\sklearn\\utils\\validation.py:73: DataConversionWarning: A column-vector y was passed when a 1d array was expected. Please change the shape of y to (n_samples, ), for example using ravel().\n",
      "  return f(**kwargs)\n",
      "C:\\Users\\TOV\\anaconda3\\lib\\site-packages\\sklearn\\utils\\validation.py:73: DataConversionWarning: A column-vector y was passed when a 1d array was expected. Please change the shape of y to (n_samples, ), for example using ravel().\n",
      "  return f(**kwargs)\n",
      "C:\\Users\\TOV\\anaconda3\\lib\\site-packages\\sklearn\\utils\\validation.py:73: DataConversionWarning: A column-vector y was passed when a 1d array was expected. Please change the shape of y to (n_samples, ), for example using ravel().\n",
      "  return f(**kwargs)\n",
      "C:\\Users\\TOV\\anaconda3\\lib\\site-packages\\sklearn\\utils\\validation.py:73: DataConversionWarning: A column-vector y was passed when a 1d array was expected. Please change the shape of y to (n_samples, ), for example using ravel().\n",
      "  return f(**kwargs)\n"
     ]
    },
    {
     "name": "stdout",
     "output_type": "stream",
     "text": [
      "15\n",
      "[False False  True False  True False  True False  True False False False\n",
      " False False False False False  True False  True False False  True  True\n",
      " False  True False  True  True False False  True False False  True False\n",
      " False False False False  True False False  True False]\n",
      "[14 27  1 17  1 23  1 28  1  3  6 22 24 26 29 15 16  1  2  1 19  4  1  1\n",
      " 13  1 31  1  1  7  5  1  8 21  1 30 12 25  9 18  1 11 10  1 20]\n"
     ]
    },
    {
     "name": "stderr",
     "output_type": "stream",
     "text": [
      "C:\\Users\\TOV\\anaconda3\\lib\\site-packages\\sklearn\\utils\\validation.py:73: DataConversionWarning: A column-vector y was passed when a 1d array was expected. Please change the shape of y to (n_samples, ), for example using ravel().\n",
      "  return f(**kwargs)\n"
     ]
    }
   ],
   "source": [
    "# Automatic Feature Selection\n",
    "from sklearn.feature_selection import RFECV\n",
    "from sklearn.linear_model import LogisticRegression\n",
    "estimator=LogisticRegression(random_state=123)\n",
    "selector=RFECV(estimator, step=1)\n",
    "selector=selector.fit(X_train, y_train)\n",
    "print(selector.n_features_)\n",
    "print(selector.support_)\n",
    "print(selector.ranking_)"
   ]
  },
  {
   "cell_type": "markdown",
   "metadata": {},
   "source": [
    "    Автоматично було відібрано 15 змінних з 45, які є найкращими для побудови моделі логістичної регресії. Ці ознаки відображені нижче."
   ]
  },
  {
   "cell_type": "code",
   "execution_count": 11,
   "metadata": {},
   "outputs": [
    {
     "name": "stdout",
     "output_type": "stream",
     "text": [
      "[2, 4, 6, 8, 17, 19, 22, 23, 25, 27, 28, 31, 34, 40, 43]\n",
      "№\tIndex\tFeature\n",
      "0\t2\tnum-of-doors\n",
      "1\t4\twheel-base\n",
      "2\t6\twidth\n",
      "3\t8\tcurb-weight\n",
      "4\t17\tmake.honda\n",
      "5\t19\tmake.mitsubishi\n",
      "6\t22\tmake.subaru\n",
      "7\t23\tmake.toyota\n",
      "8\t25\tmake.volvo\n",
      "9\t27\tbody-style.sedan\n",
      "10\t28\tbody-style.wagon\n",
      "11\t31\tengine-type.dohc\n",
      "12\t34\tengine-type.ohcf\n",
      "13\t40\tfuel-system.1bbl\n",
      "14\t43\tfuel-system.mpfi\n"
     ]
    }
   ],
   "source": [
    "# Selected Features\n",
    "selected_columns=[]\n",
    "for i in range(len(X_train[0])):\n",
    "    if selector.support_[i]==1:\n",
    "        selected_columns.append(i)\n",
    "print(selected_columns)\n",
    "print('№\\tIndex\\tFeature')\n",
    "i=0\n",
    "for column in selected_columns:\n",
    "    print(str(i)+'\\t'+str(column)+'\\t'+str(df.columns[column]))\n",
    "    i=i+1"
   ]
  },
  {
   "cell_type": "code",
   "execution_count": 12,
   "metadata": {},
   "outputs": [],
   "source": [
    "# Leaving only Selected Features\n",
    "X_train_select=X_train[:, selected_columns]\n",
    "X_test_select=X_test[:, selected_columns]"
   ]
  },
  {
   "cell_type": "markdown",
   "metadata": {},
   "source": [
    "    Спробуємо оцінити значущість відібраних 15 ознак для моделі логістичної регресії за p-значеннями."
   ]
  },
  {
   "cell_type": "code",
   "execution_count": 13,
   "metadata": {},
   "outputs": [
    {
     "name": "stdout",
     "output_type": "stream",
     "text": [
      "Warning: Maximum number of iterations has been exceeded.\n",
      "         Current function value: 0.207370\n",
      "         Iterations: 35\n",
      "                          Results: Logit\n",
      "===================================================================\n",
      "Model:                Logit            Pseudo R-squared: 0.699     \n",
      "Dependent Variable:   y                AIC:              98.0174   \n",
      "Date:                 2020-10-20 17:16 BIC:              144.5154  \n",
      "No. Observations:     164              Log-Likelihood:   -34.009   \n",
      "Df Model:             14               LL-Null:          -113.08   \n",
      "Df Residuals:         149              LLR p-value:      1.6796e-26\n",
      "Converged:            0.0000           Scale:            1.0000    \n",
      "No. Iterations:       35.0000                                      \n",
      "-------------------------------------------------------------------\n",
      "     Coef.     Std.Err.      z    P>|z|      [0.025       0.975]   \n",
      "-------------------------------------------------------------------\n",
      "x1    3.0780       0.8918  3.4514 0.0006        1.3301       4.8259\n",
      "x2   -2.3100       1.1066 -2.0874 0.0369       -4.4789      -0.1410\n",
      "x3    2.3716       0.7970  2.9757 0.0029        0.8095       3.9336\n",
      "x4   -3.1716       0.9013 -3.5189 0.0004       -4.9382      -1.4051\n",
      "x5  -29.0498 1219767.4488 -0.0000 1.0000 -2390729.3189 2390671.2193\n",
      "x6   21.7089   23678.7481  0.0009 0.9993   -46387.7846   46431.2024\n",
      "x7  -24.1455  556432.4008 -0.0000 1.0000 -1090611.6109 1090563.3200\n",
      "x8   -2.7101       0.9647 -2.8092 0.0050       -4.6008      -0.8193\n",
      "x9  -22.9841  173460.2441 -0.0001 0.9999  -339998.8152  339952.8470\n",
      "x10  -2.0897       0.6734 -3.1032 0.0019       -3.4096      -0.7699\n",
      "x11  -2.8031       1.3780 -2.0341 0.0419       -5.5040      -0.1022\n",
      "x12   4.1683       3.1466  1.3247 0.1853       -1.9991      10.3356\n",
      "x13  20.7716  556432.4008  0.0000 1.0000 -1090566.6938 1090608.2371\n",
      "x14  23.1501 1219767.4488  0.0000 1.0000 -2390677.1190 2390723.4192\n",
      "x15   2.1945       0.9123  2.4054 0.0162        0.4064       3.9827\n",
      "===================================================================\n"
     ]
    },
    {
     "name": "stderr",
     "output_type": "stream",
     "text": [
      "C:\\Users\\TOV\\anaconda3\\lib\\site-packages\\statsmodels\\base\\model.py:567: ConvergenceWarning: Maximum Likelihood optimization failed to converge. Check mle_retvals\n",
      "  warn(\"Maximum Likelihood optimization failed to converge. \"\n"
     ]
    },
    {
     "name": "stdout",
     "output_type": "stream",
     "text": [
      "\n"
     ]
    }
   ],
   "source": [
    "# Baseline model\n",
    "import statsmodels.api as sm\n",
    "lr=sm.Logit(y_train, X_train_select).fit()\n",
    "print(lr.summary2())"
   ]
  },
  {
   "cell_type": "markdown",
   "metadata": {},
   "source": [
    "    Для відібраних 15 змінних через помилку оптимізації знову не вдалося вивести оптимальні значення параметрі моделі логістичної регресії, що не дозволяє говорити про адекватність отриманих результатів: багато з них виявилися незначущими, а для деяких параметрів оптимізації взагалі видавалися порожні значення параметрів та p-значень.\n",
    "    Звідси розглянемо можливість скорочення відібраних ознак, для початку на одну, тобто до 14 найкращих. Для цього використаємо метод рекурсивного виключення, але цього разу не автоматичний, а задамо у параметрах відбір тільки 14 найкращих параметрів з усіх 45."
   ]
  },
  {
   "cell_type": "code",
   "execution_count": 14,
   "metadata": {},
   "outputs": [
    {
     "name": "stderr",
     "output_type": "stream",
     "text": [
      "C:\\Users\\TOV\\anaconda3\\lib\\site-packages\\sklearn\\utils\\validation.py:73: DataConversionWarning: A column-vector y was passed when a 1d array was expected. Please change the shape of y to (n_samples, ), for example using ravel().\n",
      "  return f(**kwargs)\n",
      "C:\\Users\\TOV\\anaconda3\\lib\\site-packages\\sklearn\\utils\\validation.py:73: DataConversionWarning: A column-vector y was passed when a 1d array was expected. Please change the shape of y to (n_samples, ), for example using ravel().\n",
      "  return f(**kwargs)\n",
      "C:\\Users\\TOV\\anaconda3\\lib\\site-packages\\sklearn\\utils\\validation.py:73: DataConversionWarning: A column-vector y was passed when a 1d array was expected. Please change the shape of y to (n_samples, ), for example using ravel().\n",
      "  return f(**kwargs)\n",
      "C:\\Users\\TOV\\anaconda3\\lib\\site-packages\\sklearn\\utils\\validation.py:73: DataConversionWarning: A column-vector y was passed when a 1d array was expected. Please change the shape of y to (n_samples, ), for example using ravel().\n",
      "  return f(**kwargs)\n",
      "C:\\Users\\TOV\\anaconda3\\lib\\site-packages\\sklearn\\utils\\validation.py:73: DataConversionWarning: A column-vector y was passed when a 1d array was expected. Please change the shape of y to (n_samples, ), for example using ravel().\n",
      "  return f(**kwargs)\n",
      "C:\\Users\\TOV\\anaconda3\\lib\\site-packages\\sklearn\\utils\\validation.py:73: DataConversionWarning: A column-vector y was passed when a 1d array was expected. Please change the shape of y to (n_samples, ), for example using ravel().\n",
      "  return f(**kwargs)\n",
      "C:\\Users\\TOV\\anaconda3\\lib\\site-packages\\sklearn\\utils\\validation.py:73: DataConversionWarning: A column-vector y was passed when a 1d array was expected. Please change the shape of y to (n_samples, ), for example using ravel().\n",
      "  return f(**kwargs)\n",
      "C:\\Users\\TOV\\anaconda3\\lib\\site-packages\\sklearn\\utils\\validation.py:73: DataConversionWarning: A column-vector y was passed when a 1d array was expected. Please change the shape of y to (n_samples, ), for example using ravel().\n",
      "  return f(**kwargs)\n",
      "C:\\Users\\TOV\\anaconda3\\lib\\site-packages\\sklearn\\utils\\validation.py:73: DataConversionWarning: A column-vector y was passed when a 1d array was expected. Please change the shape of y to (n_samples, ), for example using ravel().\n",
      "  return f(**kwargs)\n",
      "C:\\Users\\TOV\\anaconda3\\lib\\site-packages\\sklearn\\utils\\validation.py:73: DataConversionWarning: A column-vector y was passed when a 1d array was expected. Please change the shape of y to (n_samples, ), for example using ravel().\n",
      "  return f(**kwargs)\n",
      "C:\\Users\\TOV\\anaconda3\\lib\\site-packages\\sklearn\\utils\\validation.py:73: DataConversionWarning: A column-vector y was passed when a 1d array was expected. Please change the shape of y to (n_samples, ), for example using ravel().\n",
      "  return f(**kwargs)\n",
      "C:\\Users\\TOV\\anaconda3\\lib\\site-packages\\sklearn\\utils\\validation.py:73: DataConversionWarning: A column-vector y was passed when a 1d array was expected. Please change the shape of y to (n_samples, ), for example using ravel().\n",
      "  return f(**kwargs)\n",
      "C:\\Users\\TOV\\anaconda3\\lib\\site-packages\\sklearn\\utils\\validation.py:73: DataConversionWarning: A column-vector y was passed when a 1d array was expected. Please change the shape of y to (n_samples, ), for example using ravel().\n",
      "  return f(**kwargs)\n",
      "C:\\Users\\TOV\\anaconda3\\lib\\site-packages\\sklearn\\utils\\validation.py:73: DataConversionWarning: A column-vector y was passed when a 1d array was expected. Please change the shape of y to (n_samples, ), for example using ravel().\n",
      "  return f(**kwargs)\n",
      "C:\\Users\\TOV\\anaconda3\\lib\\site-packages\\sklearn\\utils\\validation.py:73: DataConversionWarning: A column-vector y was passed when a 1d array was expected. Please change the shape of y to (n_samples, ), for example using ravel().\n",
      "  return f(**kwargs)\n",
      "C:\\Users\\TOV\\anaconda3\\lib\\site-packages\\sklearn\\utils\\validation.py:73: DataConversionWarning: A column-vector y was passed when a 1d array was expected. Please change the shape of y to (n_samples, ), for example using ravel().\n",
      "  return f(**kwargs)\n",
      "C:\\Users\\TOV\\anaconda3\\lib\\site-packages\\sklearn\\utils\\validation.py:73: DataConversionWarning: A column-vector y was passed when a 1d array was expected. Please change the shape of y to (n_samples, ), for example using ravel().\n",
      "  return f(**kwargs)\n",
      "C:\\Users\\TOV\\anaconda3\\lib\\site-packages\\sklearn\\utils\\validation.py:73: DataConversionWarning: A column-vector y was passed when a 1d array was expected. Please change the shape of y to (n_samples, ), for example using ravel().\n",
      "  return f(**kwargs)\n",
      "C:\\Users\\TOV\\anaconda3\\lib\\site-packages\\sklearn\\utils\\validation.py:73: DataConversionWarning: A column-vector y was passed when a 1d array was expected. Please change the shape of y to (n_samples, ), for example using ravel().\n",
      "  return f(**kwargs)\n",
      "C:\\Users\\TOV\\anaconda3\\lib\\site-packages\\sklearn\\utils\\validation.py:73: DataConversionWarning: A column-vector y was passed when a 1d array was expected. Please change the shape of y to (n_samples, ), for example using ravel().\n",
      "  return f(**kwargs)\n",
      "C:\\Users\\TOV\\anaconda3\\lib\\site-packages\\sklearn\\utils\\validation.py:73: DataConversionWarning: A column-vector y was passed when a 1d array was expected. Please change the shape of y to (n_samples, ), for example using ravel().\n",
      "  return f(**kwargs)\n",
      "C:\\Users\\TOV\\anaconda3\\lib\\site-packages\\sklearn\\utils\\validation.py:73: DataConversionWarning: A column-vector y was passed when a 1d array was expected. Please change the shape of y to (n_samples, ), for example using ravel().\n",
      "  return f(**kwargs)\n",
      "C:\\Users\\TOV\\anaconda3\\lib\\site-packages\\sklearn\\utils\\validation.py:73: DataConversionWarning: A column-vector y was passed when a 1d array was expected. Please change the shape of y to (n_samples, ), for example using ravel().\n",
      "  return f(**kwargs)\n",
      "C:\\Users\\TOV\\anaconda3\\lib\\site-packages\\sklearn\\utils\\validation.py:73: DataConversionWarning: A column-vector y was passed when a 1d array was expected. Please change the shape of y to (n_samples, ), for example using ravel().\n",
      "  return f(**kwargs)\n",
      "C:\\Users\\TOV\\anaconda3\\lib\\site-packages\\sklearn\\utils\\validation.py:73: DataConversionWarning: A column-vector y was passed when a 1d array was expected. Please change the shape of y to (n_samples, ), for example using ravel().\n",
      "  return f(**kwargs)\n",
      "C:\\Users\\TOV\\anaconda3\\lib\\site-packages\\sklearn\\utils\\validation.py:73: DataConversionWarning: A column-vector y was passed when a 1d array was expected. Please change the shape of y to (n_samples, ), for example using ravel().\n",
      "  return f(**kwargs)\n",
      "C:\\Users\\TOV\\anaconda3\\lib\\site-packages\\sklearn\\utils\\validation.py:73: DataConversionWarning: A column-vector y was passed when a 1d array was expected. Please change the shape of y to (n_samples, ), for example using ravel().\n",
      "  return f(**kwargs)\n",
      "C:\\Users\\TOV\\anaconda3\\lib\\site-packages\\sklearn\\utils\\validation.py:73: DataConversionWarning: A column-vector y was passed when a 1d array was expected. Please change the shape of y to (n_samples, ), for example using ravel().\n",
      "  return f(**kwargs)\n",
      "C:\\Users\\TOV\\anaconda3\\lib\\site-packages\\sklearn\\utils\\validation.py:73: DataConversionWarning: A column-vector y was passed when a 1d array was expected. Please change the shape of y to (n_samples, ), for example using ravel().\n",
      "  return f(**kwargs)\n",
      "C:\\Users\\TOV\\anaconda3\\lib\\site-packages\\sklearn\\utils\\validation.py:73: DataConversionWarning: A column-vector y was passed when a 1d array was expected. Please change the shape of y to (n_samples, ), for example using ravel().\n",
      "  return f(**kwargs)\n"
     ]
    },
    {
     "name": "stdout",
     "output_type": "stream",
     "text": [
      "14\n",
      "[False False  True False  True False  True False  True False False False\n",
      " False False False False False  True False  True False False  True  True\n",
      " False False False  True  True False False  True False False  True False\n",
      " False False False False  True False False  True False]\n",
      "[15 28  1 18  1 24  1 29  1  4  7 23 25 27 30 16 17  1  3  1 20  5  1  1\n",
      " 14  2 32  1  1  8  6  1  9 22  1 31 13 26 10 19  1 12 11  1 21]\n"
     ]
    },
    {
     "name": "stderr",
     "output_type": "stream",
     "text": [
      "C:\\Users\\TOV\\anaconda3\\lib\\site-packages\\sklearn\\utils\\validation.py:73: DataConversionWarning: A column-vector y was passed when a 1d array was expected. Please change the shape of y to (n_samples, ), for example using ravel().\n",
      "  return f(**kwargs)\n",
      "C:\\Users\\TOV\\anaconda3\\lib\\site-packages\\sklearn\\utils\\validation.py:73: DataConversionWarning: A column-vector y was passed when a 1d array was expected. Please change the shape of y to (n_samples, ), for example using ravel().\n",
      "  return f(**kwargs)\n"
     ]
    }
   ],
   "source": [
    "# Feature Selection\n",
    "from sklearn.feature_selection import RFE\n",
    "from sklearn.linear_model import LogisticRegression\n",
    "estimator=LogisticRegression(random_state=123)\n",
    "selector=RFE(estimator, n_features_to_select=14, step=1)\n",
    "selector=selector.fit(X_train, y_train)\n",
    "print(selector.n_features_)\n",
    "print(selector.support_)\n",
    "print(selector.ranking_)"
   ]
  },
  {
   "cell_type": "markdown",
   "metadata": {},
   "source": [
    "    14 найкращих факторних змінних для побудови моделі лінійної регресії відображено нище."
   ]
  },
  {
   "cell_type": "code",
   "execution_count": 15,
   "metadata": {},
   "outputs": [
    {
     "name": "stdout",
     "output_type": "stream",
     "text": [
      "[2, 4, 6, 8, 17, 19, 22, 23, 27, 28, 31, 34, 40, 43]\n",
      "№\tIndex\tFeature\n",
      "0\t2\tnum-of-doors\n",
      "1\t4\twheel-base\n",
      "2\t6\twidth\n",
      "3\t8\tcurb-weight\n",
      "4\t17\tmake.honda\n",
      "5\t19\tmake.mitsubishi\n",
      "6\t22\tmake.subaru\n",
      "7\t23\tmake.toyota\n",
      "8\t27\tbody-style.sedan\n",
      "9\t28\tbody-style.wagon\n",
      "10\t31\tengine-type.dohc\n",
      "11\t34\tengine-type.ohcf\n",
      "12\t40\tfuel-system.1bbl\n",
      "13\t43\tfuel-system.mpfi\n"
     ]
    }
   ],
   "source": [
    "# Selected Features\n",
    "selected_columns=[]\n",
    "for i in range(len(X_train[0])):\n",
    "    if selector.support_[i]==1:\n",
    "        selected_columns.append(i)\n",
    "print(selected_columns)\n",
    "print('№\\tIndex\\tFeature')\n",
    "i=0\n",
    "for column in selected_columns:\n",
    "    print(str(i)+'\\t'+str(column)+'\\t'+str(df.columns[column]))\n",
    "    i=i+1"
   ]
  },
  {
   "cell_type": "code",
   "execution_count": 16,
   "metadata": {},
   "outputs": [],
   "source": [
    "# Leaving only Selected Features\n",
    "X_train_select=X_train[:, selected_columns]\n",
    "X_test_select=X_test[:, selected_columns]"
   ]
  },
  {
   "cell_type": "markdown",
   "metadata": {},
   "source": [
    "    Спробуємо оцінити значущість найкращих 14 ознак для моделі логістичної регресії за p-значеннями."
   ]
  },
  {
   "cell_type": "code",
   "execution_count": 17,
   "metadata": {},
   "outputs": [
    {
     "name": "stdout",
     "output_type": "stream",
     "text": [
      "                             Results: Logit\n",
      "=========================================================================\n",
      "Model:                  Logit              Pseudo R-squared:   0.697     \n",
      "Dependent Variable:     y                  AIC:                96.5722   \n",
      "Date:                   2020-10-20 17:16   BIC:                139.9704  \n",
      "No. Observations:       164                Log-Likelihood:     -34.286   \n",
      "Df Model:               13                 LL-Null:            -113.08   \n",
      "Df Residuals:           150                LLR p-value:        6.0758e-27\n",
      "Converged:              1.0000             Scale:              1.0000    \n",
      "No. Iterations:         55.0000                                          \n",
      "-------------------------------------------------------------------------\n",
      "     Coef.      Std.Err.       z    P>|z|       [0.025         0.975]    \n",
      "-------------------------------------------------------------------------\n",
      "x1    3.1183         0.9057  3.4430 0.0006          1.3432         4.8934\n",
      "x2   -2.5118         1.0683 -2.3513 0.0187         -4.6055        -0.4180\n",
      "x3    2.4848         0.7882  3.1523 0.0016          0.9398         4.0297\n",
      "x4   -3.2010         0.9045 -3.5388 0.0004         -4.9738        -1.4281\n",
      "x5  -34.6607  20216032.2809 -0.0000 1.0000  -39622729.8415  39622660.5201\n",
      "x6   63.4592 307357399.5511  0.0000 1.0000 -602409370.0428 602409496.9612\n",
      "x7   -9.4638       410.4694 -0.0231 0.9816       -813.9691       795.0415\n",
      "x8   -2.7301         0.9757 -2.7980 0.0051         -4.6424        -0.8177\n",
      "x9   -2.1493         0.6763 -3.1780 0.0015         -3.4749        -0.8238\n",
      "x10  -2.9143         1.3596 -2.1435 0.0321         -5.5792        -0.2495\n",
      "x11   4.3263         3.3167  1.3044 0.1921         -2.1743        10.8268\n",
      "x12   6.0338       410.4687  0.0147 0.9883       -798.4700       810.5376\n",
      "x13  28.6298  20216032.2809  0.0000 1.0000  -39622666.5510  39622723.8106\n",
      "x14   2.2087         0.9239  2.3906 0.0168          0.3979         4.0195\n",
      "=========================================================================\n",
      "\n"
     ]
    }
   ],
   "source": [
    "# Baseline model\n",
    "import statsmodels.api as sm\n",
    "lr=sm.Logit(y_train, X_train_select).fit(method='lbfgs', maxiter=100)\n",
    "print(lr.summary2())"
   ]
  },
  {
   "cell_type": "markdown",
   "metadata": {},
   "source": [
    "    Для 14 ознак вдалося провести оптимізацію моделі логістичної регресії з використанням методу lbfgs та задання числа ітерацій в 100, хоча для оптимізації вистачило всього 55 ітерацій, хоча деякі змінні й були показані як абсолютно незначущі (їхні p-значення рівні або близькі до 1).\n",
    "    З цих 14 змінних відберемо ті змінні, які значущі за p-значенням з рівнем значущості 0,05 (тобто з довірчою ймовірністю в 95%). Для цього їхні p-значення мають бути менші за 0,05. Таких ознак всього 8: якісна змінна num-of-doors, кількісні змінні wheel-base, width, curb-weight, а також знову якісні змінні make.toyota, body-style.sedan, body-style.wagon і fuel-system.mpfi.\n",
    "    Оскільки відібраних ознак більше, ніж 3, то немає можливості побудови графіку результатів класифікації моделями, що розглядатимуться в даній роботі: для цього необхідно будувати моделі на основі 3 і менше ознак, оскільки візуалізація результатів можлива максимум з використанням 3-вимірних графіків. Разом з тим, існують способи позначення значеннь більш, ніж 3 вимірів за допомогою кольору, форми, розміур точок на проекції на графік і т.п., але їх не буде розглянуто в даній роботі.\n",
    "    На основі відібраних 8 ознак побудуємо модель логістичної регресії і проведемо перевірку її здатності до класифікації, розрахувавши для неї метрику Accuracy і побудувавши матрицю невідповідностей її результатів для тествої вибірки."
   ]
  },
  {
   "cell_type": "code",
   "execution_count": 18,
   "metadata": {},
   "outputs": [],
   "source": [
    "# Features selection\n",
    "opt_columns=[0, 1, 2, 3, 7, 8, 9, 13]\n",
    "X_train_opt=X_train_select[:, opt_columns]\n",
    "X_test_opt=X_test_select[:, opt_columns]"
   ]
  },
  {
   "cell_type": "code",
   "execution_count": 19,
   "metadata": {},
   "outputs": [
    {
     "name": "stderr",
     "output_type": "stream",
     "text": [
      "C:\\Users\\TOV\\anaconda3\\lib\\site-packages\\sklearn\\utils\\validation.py:73: DataConversionWarning: A column-vector y was passed when a 1d array was expected. Please change the shape of y to (n_samples, ), for example using ravel().\n",
      "  return f(**kwargs)\n"
     ]
    }
   ],
   "source": [
    "# Fitting Logistic Regression to the Training set\n",
    "from sklearn.linear_model import LogisticRegression\n",
    "slr=LogisticRegression(random_state=123).fit(X_train_opt, y_train)"
   ]
  },
  {
   "cell_type": "code",
   "execution_count": 20,
   "metadata": {},
   "outputs": [
    {
     "data": {
      "text/plain": [
       "0.9024390243902439"
      ]
     },
     "execution_count": 20,
     "metadata": {},
     "output_type": "execute_result"
    }
   ],
   "source": [
    "# Predicting the Test set results\n",
    "y_pred_logit=slr.predict(X_test_opt)\n",
    "logistic_score=slr.score(X_test_opt, y_test)\n",
    "logistic_score"
   ]
  },
  {
   "cell_type": "code",
   "execution_count": 21,
   "metadata": {},
   "outputs": [
    {
     "name": "stdout",
     "output_type": "stream",
     "text": [
      "[[15  2]\n",
      " [ 2 22]]\n"
     ]
    }
   ],
   "source": [
    "# Making the Confusion Matrix\n",
    "from sklearn.metrics import confusion_matrix\n",
    "logistic_cm=confusion_matrix(y_test, y_pred_logit)\n",
    "print(logistic_cm)"
   ]
  },
  {
   "cell_type": "markdown",
   "metadata": {},
   "source": [
    "    Можна побачити, що точність класифікації автомобілів з тестової вибірки логістичною регресією складає приблизно 90%, що є досить непоганим результатом, а також, що всього 2 високоризикові для страхування автомобілі були класифіковані як низькоризикові і 2 низькоризикові - як високоризикові, тобто не спостерігається перекосу між непрвильним визначенням низько- та високоризикових автомобілів.\n",
    "    Далі розглянемо класифікацію з допомогою методу опорних векторів."
   ]
  },
  {
   "cell_type": "code",
   "execution_count": 22,
   "metadata": {},
   "outputs": [],
   "source": [
    "# Support Vector Machine (SVM)"
   ]
  },
  {
   "cell_type": "markdown",
   "metadata": {},
   "source": [
    "    Для методу опорних векторів розглянемо моделі з використанням різних ядр (кернелів)."
   ]
  },
  {
   "cell_type": "code",
   "execution_count": 23,
   "metadata": {},
   "outputs": [
    {
     "name": "stderr",
     "output_type": "stream",
     "text": [
      "C:\\Users\\TOV\\anaconda3\\lib\\site-packages\\sklearn\\utils\\validation.py:73: DataConversionWarning: A column-vector y was passed when a 1d array was expected. Please change the shape of y to (n_samples, ), for example using ravel().\n",
      "  return f(**kwargs)\n",
      "C:\\Users\\TOV\\anaconda3\\lib\\site-packages\\sklearn\\utils\\validation.py:73: DataConversionWarning: A column-vector y was passed when a 1d array was expected. Please change the shape of y to (n_samples, ), for example using ravel().\n",
      "  return f(**kwargs)\n",
      "C:\\Users\\TOV\\anaconda3\\lib\\site-packages\\sklearn\\utils\\validation.py:73: DataConversionWarning: A column-vector y was passed when a 1d array was expected. Please change the shape of y to (n_samples, ), for example using ravel().\n",
      "  return f(**kwargs)\n",
      "C:\\Users\\TOV\\anaconda3\\lib\\site-packages\\sklearn\\utils\\validation.py:73: DataConversionWarning: A column-vector y was passed when a 1d array was expected. Please change the shape of y to (n_samples, ), for example using ravel().\n",
      "  return f(**kwargs)\n"
     ]
    }
   ],
   "source": [
    "# Fitting SVM to the Training set\n",
    "from sklearn.svm import SVC\n",
    "svm1=SVC(kernel='rbf', random_state=123).fit(X_train_opt, y_train)\n",
    "svm2=SVC(kernel='linear', random_state=123).fit(X_train_opt, y_train)\n",
    "svm3=SVC(kernel='poly', random_state=123).fit(X_train_opt, y_train)\n",
    "svm4=SVC(kernel='sigmoid', random_state=123).fit(X_train_opt, y_train)\n",
    "# svm5=SVC(kernel='precomputed', random_state=123).fit(X_train_opt, y_train)"
   ]
  },
  {
   "cell_type": "markdown",
   "metadata": {},
   "source": [
    "    Було побудовано моделі з використанням 4 з 5 доступних ядр (кернелів). Єдине ядро, яке не було використано при моделюванні, вимагає квадратної матриці залежних змінних, якою не є розглядувана в даній роботі матриця.\n",
    "    Для цих моделей розрахуємо метрику точності Accuracy, аби відбрати найкращу та вести подальшу роботу з нею, а також використовувати її для порівняння з моделями іншого типу."
   ]
  },
  {
   "cell_type": "code",
   "execution_count": 24,
   "metadata": {},
   "outputs": [
    {
     "data": {
      "text/plain": [
       "(0.9024390243902439,\n",
       " 0.9024390243902439,\n",
       " 0.9024390243902439,\n",
       " 0.7560975609756098)"
      ]
     },
     "execution_count": 24,
     "metadata": {},
     "output_type": "execute_result"
    }
   ],
   "source": [
    "# Accuracy Scores\n",
    "svm1_score=svm1.score(X_test_opt, y_test)\n",
    "svm2_score=svm2.score(X_test_opt, y_test)\n",
    "svm3_score=svm3.score(X_test_opt, y_test)\n",
    "svm4_score=svm4.score(X_test_opt, y_test)\n",
    "svm1_score, svm2_score, svm3_score, svm4_score"
   ]
  },
  {
   "cell_type": "markdown",
   "metadata": {},
   "source": [
    "    3 з 4 побудованих моделей показали однакову найвищу точність класифікації для всіх моделей побудованих за методом опорних моделей - приблизно 90%. Для них проведемо розрахунки результатів тестової вибірки та побудуємо матриці невідповідностей."
   ]
  },
  {
   "cell_type": "code",
   "execution_count": 25,
   "metadata": {},
   "outputs": [],
   "source": [
    "# Predicting the Test set results\n",
    "y_pred_svm1=svm1.predict(X_test_opt)\n",
    "y_pred_svm2=svm2.predict(X_test_opt)\n",
    "y_pred_svm3=svm3.predict(X_test_opt)"
   ]
  },
  {
   "cell_type": "code",
   "execution_count": 26,
   "metadata": {},
   "outputs": [
    {
     "name": "stdout",
     "output_type": "stream",
     "text": [
      "[[16  1]\n",
      " [ 3 21]]\n",
      "[[15  2]\n",
      " [ 2 22]]\n",
      "[[16  1]\n",
      " [ 3 21]]\n"
     ]
    }
   ],
   "source": [
    "# Making the Confusion Matrix\n",
    "from sklearn.metrics import confusion_matrix\n",
    "SVM1_cm=confusion_matrix(y_test, y_pred_svm1)\n",
    "SVM2_cm=confusion_matrix(y_test, y_pred_svm2)\n",
    "SVM3_cm=confusion_matrix(y_test, y_pred_svm3)\n",
    "print(SVM1_cm)\n",
    "print(SVM2_cm)\n",
    "print(SVM3_cm)"
   ]
  },
  {
   "cell_type": "markdown",
   "metadata": {},
   "source": [
    "     Можна побачити, що матриці невідповідностей 1 і 3 моделі SVM є однаковими: у них 3 високоризикові для страхування автомобілі були класифіковані як низькоризикові і 1 низькоризиковий - як високоризиковий, тобто спостерігається незначний перекіс у сторону неправильного визначення високоризикових автомобілів. На практиці це означає, що страхова компанія піддається більшому ризику через неправильно визначений страховий клас високоризикових автомобіля.\n",
    "     Що ж до 2 моделі SVM, то її матриця невідповідностей відповідає матриці невідповідностей моделі логістичної регресії, а отже має ті самі висновки, що й вона.\n",
    "     Далі розглянемо байєсівську класифікацію."
   ]
  },
  {
   "cell_type": "code",
   "execution_count": 27,
   "metadata": {},
   "outputs": [],
   "source": [
    "# Naive Bayes"
   ]
  },
  {
   "cell_type": "code",
   "execution_count": 28,
   "metadata": {},
   "outputs": [
    {
     "name": "stderr",
     "output_type": "stream",
     "text": [
      "C:\\Users\\TOV\\anaconda3\\lib\\site-packages\\sklearn\\utils\\validation.py:73: DataConversionWarning: A column-vector y was passed when a 1d array was expected. Please change the shape of y to (n_samples, ), for example using ravel().\n",
      "  return f(**kwargs)\n"
     ]
    }
   ],
   "source": [
    "# Fitting Naive Bayes to the Training set\n",
    "from sklearn.naive_bayes import GaussianNB\n",
    "nb=GaussianNB().fit(X_train_opt, y_train)"
   ]
  },
  {
   "cell_type": "code",
   "execution_count": 29,
   "metadata": {},
   "outputs": [
    {
     "data": {
      "text/plain": [
       "0.7804878048780488"
      ]
     },
     "execution_count": 29,
     "metadata": {},
     "output_type": "execute_result"
    }
   ],
   "source": [
    "# Predicting the Test set results\n",
    "y_pred_nb=nb.predict(X_test_opt)\n",
    "nb_score=nb.score(X_test_opt, y_test)\n",
    "nb_score"
   ]
  },
  {
   "cell_type": "code",
   "execution_count": 30,
   "metadata": {},
   "outputs": [
    {
     "name": "stdout",
     "output_type": "stream",
     "text": [
      "[[10  7]\n",
      " [ 2 22]]\n"
     ]
    }
   ],
   "source": [
    "# Making the Confusion Matrix\n",
    "from sklearn.metrics import confusion_matrix\n",
    "nb_cm=confusion_matrix(y_test, y_pred_nb)\n",
    "print(nb_cm)"
   ]
  },
  {
   "cell_type": "markdown",
   "metadata": {},
   "source": [
    "    Отримана модель має меншу здатність до класифікації, ніж попередні розглянуті типи моделей: її точність складає всього 78%. Також спостерігається перекіс у сторону неправильно позначення низькоризикових автомобілів як високоризикових: усього виявлено 7 таких випадків проти 2 високоризикових автомобілів, позначених як низькоризикових.\n",
    "    Це може бути корисно в разі прагнення страхової компанії усунути ризик недооцінки рівня ризикованості автомобіля, хоча не позбавлється такого ризику повністю. З іншого боку, для великої частини низькоризикованих автомобілів може пропонуватися дорожчий страховий план для високоризикованих автомобілів, що може відвернути таких клієнтів від компанії, або взагалі нераціонально відмовляється в страхуванні, що також зиеншує число низькоризикових клієнтів компанії.\n",
    "    Далі розглянемо класифікацію за методом k найближчих сусідів."
   ]
  },
  {
   "cell_type": "code",
   "execution_count": 31,
   "metadata": {},
   "outputs": [],
   "source": [
    "# K-Nearest Neighbors (K-NN)"
   ]
  },
  {
   "cell_type": "markdown",
   "metadata": {},
   "source": [
    "    Для цього методу знайдемо оптимальне число k найближчих сусідів, якому відповідає найменше значення помилки передбачення для тестової вибірки, з усіх цілих чисел з інтервалу [1; 49]."
   ]
  },
  {
   "cell_type": "code",
   "execution_count": 32,
   "metadata": {},
   "outputs": [
    {
     "name": "stderr",
     "output_type": "stream",
     "text": [
      "<ipython-input-32-02c866f532bd>:6: DataConversionWarning: A column-vector y was passed when a 1d array was expected. Please change the shape of y to (n_samples, ), for example using ravel().\n",
      "  knn.fit(X_train_opt, y_train)\n",
      "<ipython-input-32-02c866f532bd>:6: DataConversionWarning: A column-vector y was passed when a 1d array was expected. Please change the shape of y to (n_samples, ), for example using ravel().\n",
      "  knn.fit(X_train_opt, y_train)\n",
      "<ipython-input-32-02c866f532bd>:6: DataConversionWarning: A column-vector y was passed when a 1d array was expected. Please change the shape of y to (n_samples, ), for example using ravel().\n",
      "  knn.fit(X_train_opt, y_train)\n",
      "<ipython-input-32-02c866f532bd>:6: DataConversionWarning: A column-vector y was passed when a 1d array was expected. Please change the shape of y to (n_samples, ), for example using ravel().\n",
      "  knn.fit(X_train_opt, y_train)\n",
      "<ipython-input-32-02c866f532bd>:6: DataConversionWarning: A column-vector y was passed when a 1d array was expected. Please change the shape of y to (n_samples, ), for example using ravel().\n",
      "  knn.fit(X_train_opt, y_train)\n",
      "<ipython-input-32-02c866f532bd>:6: DataConversionWarning: A column-vector y was passed when a 1d array was expected. Please change the shape of y to (n_samples, ), for example using ravel().\n",
      "  knn.fit(X_train_opt, y_train)\n",
      "<ipython-input-32-02c866f532bd>:6: DataConversionWarning: A column-vector y was passed when a 1d array was expected. Please change the shape of y to (n_samples, ), for example using ravel().\n",
      "  knn.fit(X_train_opt, y_train)\n",
      "<ipython-input-32-02c866f532bd>:6: DataConversionWarning: A column-vector y was passed when a 1d array was expected. Please change the shape of y to (n_samples, ), for example using ravel().\n",
      "  knn.fit(X_train_opt, y_train)\n",
      "<ipython-input-32-02c866f532bd>:6: DataConversionWarning: A column-vector y was passed when a 1d array was expected. Please change the shape of y to (n_samples, ), for example using ravel().\n",
      "  knn.fit(X_train_opt, y_train)\n",
      "<ipython-input-32-02c866f532bd>:6: DataConversionWarning: A column-vector y was passed when a 1d array was expected. Please change the shape of y to (n_samples, ), for example using ravel().\n",
      "  knn.fit(X_train_opt, y_train)\n",
      "<ipython-input-32-02c866f532bd>:6: DataConversionWarning: A column-vector y was passed when a 1d array was expected. Please change the shape of y to (n_samples, ), for example using ravel().\n",
      "  knn.fit(X_train_opt, y_train)\n",
      "<ipython-input-32-02c866f532bd>:6: DataConversionWarning: A column-vector y was passed when a 1d array was expected. Please change the shape of y to (n_samples, ), for example using ravel().\n",
      "  knn.fit(X_train_opt, y_train)\n",
      "<ipython-input-32-02c866f532bd>:6: DataConversionWarning: A column-vector y was passed when a 1d array was expected. Please change the shape of y to (n_samples, ), for example using ravel().\n",
      "  knn.fit(X_train_opt, y_train)\n",
      "<ipython-input-32-02c866f532bd>:6: DataConversionWarning: A column-vector y was passed when a 1d array was expected. Please change the shape of y to (n_samples, ), for example using ravel().\n",
      "  knn.fit(X_train_opt, y_train)\n",
      "<ipython-input-32-02c866f532bd>:6: DataConversionWarning: A column-vector y was passed when a 1d array was expected. Please change the shape of y to (n_samples, ), for example using ravel().\n",
      "  knn.fit(X_train_opt, y_train)\n",
      "<ipython-input-32-02c866f532bd>:6: DataConversionWarning: A column-vector y was passed when a 1d array was expected. Please change the shape of y to (n_samples, ), for example using ravel().\n",
      "  knn.fit(X_train_opt, y_train)\n",
      "<ipython-input-32-02c866f532bd>:6: DataConversionWarning: A column-vector y was passed when a 1d array was expected. Please change the shape of y to (n_samples, ), for example using ravel().\n",
      "  knn.fit(X_train_opt, y_train)\n",
      "<ipython-input-32-02c866f532bd>:6: DataConversionWarning: A column-vector y was passed when a 1d array was expected. Please change the shape of y to (n_samples, ), for example using ravel().\n",
      "  knn.fit(X_train_opt, y_train)\n",
      "<ipython-input-32-02c866f532bd>:6: DataConversionWarning: A column-vector y was passed when a 1d array was expected. Please change the shape of y to (n_samples, ), for example using ravel().\n",
      "  knn.fit(X_train_opt, y_train)\n",
      "<ipython-input-32-02c866f532bd>:6: DataConversionWarning: A column-vector y was passed when a 1d array was expected. Please change the shape of y to (n_samples, ), for example using ravel().\n",
      "  knn.fit(X_train_opt, y_train)\n",
      "<ipython-input-32-02c866f532bd>:6: DataConversionWarning: A column-vector y was passed when a 1d array was expected. Please change the shape of y to (n_samples, ), for example using ravel().\n",
      "  knn.fit(X_train_opt, y_train)\n",
      "<ipython-input-32-02c866f532bd>:6: DataConversionWarning: A column-vector y was passed when a 1d array was expected. Please change the shape of y to (n_samples, ), for example using ravel().\n",
      "  knn.fit(X_train_opt, y_train)\n",
      "<ipython-input-32-02c866f532bd>:6: DataConversionWarning: A column-vector y was passed when a 1d array was expected. Please change the shape of y to (n_samples, ), for example using ravel().\n",
      "  knn.fit(X_train_opt, y_train)\n",
      "<ipython-input-32-02c866f532bd>:6: DataConversionWarning: A column-vector y was passed when a 1d array was expected. Please change the shape of y to (n_samples, ), for example using ravel().\n",
      "  knn.fit(X_train_opt, y_train)\n",
      "<ipython-input-32-02c866f532bd>:6: DataConversionWarning: A column-vector y was passed when a 1d array was expected. Please change the shape of y to (n_samples, ), for example using ravel().\n",
      "  knn.fit(X_train_opt, y_train)\n",
      "<ipython-input-32-02c866f532bd>:6: DataConversionWarning: A column-vector y was passed when a 1d array was expected. Please change the shape of y to (n_samples, ), for example using ravel().\n",
      "  knn.fit(X_train_opt, y_train)\n",
      "<ipython-input-32-02c866f532bd>:6: DataConversionWarning: A column-vector y was passed when a 1d array was expected. Please change the shape of y to (n_samples, ), for example using ravel().\n",
      "  knn.fit(X_train_opt, y_train)\n",
      "<ipython-input-32-02c866f532bd>:6: DataConversionWarning: A column-vector y was passed when a 1d array was expected. Please change the shape of y to (n_samples, ), for example using ravel().\n",
      "  knn.fit(X_train_opt, y_train)\n",
      "<ipython-input-32-02c866f532bd>:6: DataConversionWarning: A column-vector y was passed when a 1d array was expected. Please change the shape of y to (n_samples, ), for example using ravel().\n",
      "  knn.fit(X_train_opt, y_train)\n",
      "<ipython-input-32-02c866f532bd>:6: DataConversionWarning: A column-vector y was passed when a 1d array was expected. Please change the shape of y to (n_samples, ), for example using ravel().\n",
      "  knn.fit(X_train_opt, y_train)\n",
      "<ipython-input-32-02c866f532bd>:6: DataConversionWarning: A column-vector y was passed when a 1d array was expected. Please change the shape of y to (n_samples, ), for example using ravel().\n",
      "  knn.fit(X_train_opt, y_train)\n",
      "<ipython-input-32-02c866f532bd>:6: DataConversionWarning: A column-vector y was passed when a 1d array was expected. Please change the shape of y to (n_samples, ), for example using ravel().\n",
      "  knn.fit(X_train_opt, y_train)\n",
      "<ipython-input-32-02c866f532bd>:6: DataConversionWarning: A column-vector y was passed when a 1d array was expected. Please change the shape of y to (n_samples, ), for example using ravel().\n",
      "  knn.fit(X_train_opt, y_train)\n",
      "<ipython-input-32-02c866f532bd>:6: DataConversionWarning: A column-vector y was passed when a 1d array was expected. Please change the shape of y to (n_samples, ), for example using ravel().\n",
      "  knn.fit(X_train_opt, y_train)\n",
      "<ipython-input-32-02c866f532bd>:6: DataConversionWarning: A column-vector y was passed when a 1d array was expected. Please change the shape of y to (n_samples, ), for example using ravel().\n",
      "  knn.fit(X_train_opt, y_train)\n",
      "<ipython-input-32-02c866f532bd>:6: DataConversionWarning: A column-vector y was passed when a 1d array was expected. Please change the shape of y to (n_samples, ), for example using ravel().\n",
      "  knn.fit(X_train_opt, y_train)\n",
      "<ipython-input-32-02c866f532bd>:6: DataConversionWarning: A column-vector y was passed when a 1d array was expected. Please change the shape of y to (n_samples, ), for example using ravel().\n",
      "  knn.fit(X_train_opt, y_train)\n",
      "<ipython-input-32-02c866f532bd>:6: DataConversionWarning: A column-vector y was passed when a 1d array was expected. Please change the shape of y to (n_samples, ), for example using ravel().\n",
      "  knn.fit(X_train_opt, y_train)\n",
      "<ipython-input-32-02c866f532bd>:6: DataConversionWarning: A column-vector y was passed when a 1d array was expected. Please change the shape of y to (n_samples, ), for example using ravel().\n",
      "  knn.fit(X_train_opt, y_train)\n"
     ]
    },
    {
     "name": "stderr",
     "output_type": "stream",
     "text": [
      "<ipython-input-32-02c866f532bd>:6: DataConversionWarning: A column-vector y was passed when a 1d array was expected. Please change the shape of y to (n_samples, ), for example using ravel().\n",
      "  knn.fit(X_train_opt, y_train)\n",
      "<ipython-input-32-02c866f532bd>:6: DataConversionWarning: A column-vector y was passed when a 1d array was expected. Please change the shape of y to (n_samples, ), for example using ravel().\n",
      "  knn.fit(X_train_opt, y_train)\n",
      "<ipython-input-32-02c866f532bd>:6: DataConversionWarning: A column-vector y was passed when a 1d array was expected. Please change the shape of y to (n_samples, ), for example using ravel().\n",
      "  knn.fit(X_train_opt, y_train)\n",
      "<ipython-input-32-02c866f532bd>:6: DataConversionWarning: A column-vector y was passed when a 1d array was expected. Please change the shape of y to (n_samples, ), for example using ravel().\n",
      "  knn.fit(X_train_opt, y_train)\n",
      "<ipython-input-32-02c866f532bd>:6: DataConversionWarning: A column-vector y was passed when a 1d array was expected. Please change the shape of y to (n_samples, ), for example using ravel().\n",
      "  knn.fit(X_train_opt, y_train)\n",
      "<ipython-input-32-02c866f532bd>:6: DataConversionWarning: A column-vector y was passed when a 1d array was expected. Please change the shape of y to (n_samples, ), for example using ravel().\n",
      "  knn.fit(X_train_opt, y_train)\n",
      "<ipython-input-32-02c866f532bd>:6: DataConversionWarning: A column-vector y was passed when a 1d array was expected. Please change the shape of y to (n_samples, ), for example using ravel().\n",
      "  knn.fit(X_train_opt, y_train)\n",
      "<ipython-input-32-02c866f532bd>:6: DataConversionWarning: A column-vector y was passed when a 1d array was expected. Please change the shape of y to (n_samples, ), for example using ravel().\n",
      "  knn.fit(X_train_opt, y_train)\n",
      "<ipython-input-32-02c866f532bd>:6: DataConversionWarning: A column-vector y was passed when a 1d array was expected. Please change the shape of y to (n_samples, ), for example using ravel().\n",
      "  knn.fit(X_train_opt, y_train)\n",
      "<ipython-input-32-02c866f532bd>:6: DataConversionWarning: A column-vector y was passed when a 1d array was expected. Please change the shape of y to (n_samples, ), for example using ravel().\n",
      "  knn.fit(X_train_opt, y_train)\n"
     ]
    },
    {
     "name": "stdout",
     "output_type": "stream",
     "text": [
      "Minimum error:- 0.4646044021415824 at K = 8\n"
     ]
    },
    {
     "data": {
      "image/png": "[encoded data removed]",
      "text/plain": [
       "<Figure size 720x432 with 1 Axes>"
      ]
     },
     "metadata": {
      "needs_background": "light"
     },
     "output_type": "display_data"
    }
   ],
   "source": [
    "# Optimal K \n",
    "from sklearn.neighbors import KNeighborsClassifier\n",
    "error_rate=[]\n",
    "for i in range(1,50):\n",
    "     knn=KNeighborsClassifier(n_neighbors=i)\n",
    "     knn.fit(X_train_opt, y_train)\n",
    "     pred_i=knn.predict(X_test_opt)\n",
    "     error_rate.append(np.mean(pred_i!=y_test))\n",
    "\n",
    "plt.figure(figsize=(10,6))\n",
    "plt.plot(range(1,50),error_rate,color='blue', linestyle='dashed', \n",
    "         marker='o',markerfacecolor='red', markersize=10)\n",
    "plt.title('Error Rate vs. K Value')\n",
    "plt.xlabel('K')\n",
    "plt.ylabel('Error Rate')\n",
    "print(\"Minimum error:-\",min(error_rate),\"at K =\",error_rate.index(min(error_rate)))"
   ]
  },
  {
   "cell_type": "markdown",
   "metadata": {},
   "source": [
    "    Оптимальним числом k для побудови моделі класифікації за методом k найближчих сусідів виявилося 8. Власне для нього й будуємо відповідну модель."
   ]
  },
  {
   "cell_type": "code",
   "execution_count": 33,
   "metadata": {},
   "outputs": [
    {
     "name": "stderr",
     "output_type": "stream",
     "text": [
      "<ipython-input-33-874b587b9665>:2: DataConversionWarning: A column-vector y was passed when a 1d array was expected. Please change the shape of y to (n_samples, ), for example using ravel().\n",
      "  knn=KNeighborsClassifier(n_neighbors=error_rate.index(min(error_rate)), metric='minkowski', p=2).fit(X_train_opt, y_train)\n"
     ]
    }
   ],
   "source": [
    "# Fitting K-NN to the Training set\n",
    "knn=KNeighborsClassifier(n_neighbors=error_rate.index(min(error_rate)), metric='minkowski', p=2).fit(X_train_opt, y_train)"
   ]
  },
  {
   "cell_type": "code",
   "execution_count": 34,
   "metadata": {},
   "outputs": [
    {
     "data": {
      "text/plain": [
       "0.7317073170731707"
      ]
     },
     "execution_count": 34,
     "metadata": {},
     "output_type": "execute_result"
    }
   ],
   "source": [
    "# Predicting the Test set results\n",
    "y_pred_knn=knn.predict(X_test_opt)\n",
    "knn_score=knn.score(X_test_opt, y_test)\n",
    "knn_score"
   ]
  },
  {
   "cell_type": "code",
   "execution_count": 35,
   "metadata": {},
   "outputs": [
    {
     "name": "stdout",
     "output_type": "stream",
     "text": [
      "[[11  6]\n",
      " [ 5 19]]\n"
     ]
    }
   ],
   "source": [
    "# Making the Confusion Matrix\n",
    "from sklearn.metrics import confusion_matrix\n",
    "knn_cm=confusion_matrix(y_test, y_pred_knn)\n",
    "print(knn_cm)"
   ]
  },
  {
   "cell_type": "markdown",
   "metadata": {},
   "source": [
    "    Отримана модель має меншу здатність до класифікації, ніж попередні розглянуті типи моделей: її точність складає всього 73%. Також 6 низькоризикових автомобілів було позначено як високоризикові, а 5 високоризикових - як низькоризикові.\n",
    "    Таким чином не можна говорити про високу здатність такої моделі до класифікації порівняно з іншими моделями, а отже й доцільності використання саме її, а не інших типів моделі.\n",
    "    Далі розглянемо класифікацію з використанням дерева рішень."
   ]
  },
  {
   "cell_type": "code",
   "execution_count": 36,
   "metadata": {},
   "outputs": [],
   "source": [
    "# Classification Tree"
   ]
  },
  {
   "cell_type": "markdown",
   "metadata": {},
   "source": [
    "    Для цієї моделі знайдемо оптимальне значення параметру max_leaf_nodes серед цілих чисел з інтервалу [2; 20] за критерієм найменшої метрики MSE для тестової вибірки."
   ]
  },
  {
   "cell_type": "code",
   "execution_count": 37,
   "metadata": {},
   "outputs": [],
   "source": [
    "# Function Max Leaf\n",
    "def max_leaf_nodes(X_train_opt, X_test_opt, y_train, y_test, n):\n",
    "    mse_train=[]\n",
    "    mse_test=[]\n",
    "    for i in n:\n",
    "        rf=DecisionTreeRegressor(max_leaf_nodes=i, random_state=123).fit(X_train_opt, y_train)\n",
    "        mse_train.append(mean_squared_error(y_train, rf.predict(X_train_opt)))\n",
    "        mse_test.append(mean_squared_error(y_test, rf.predict(X_test_opt)))\n",
    "        print(print(str(i)+' leaves\\t'+str(mean_squared_error(y_test, rf.predict(X_test_opt)))))\n",
    "    fig, ax=plt.subplots(figsize=(8, 4))\n",
    "    ax.plot(n, mse_train, alpha=0.5, color='blue', label='train')\n",
    "    ax.plot(n, mse_test, alpha=0.5, color='red', label='test')\n",
    "    ax.set_ylabel(\"MSE\")\n",
    "    ax.set_xlabel(\"max_leaf_nodes\")\n",
    "    i=2"
   ]
  },
  {
   "cell_type": "code",
   "execution_count": 38,
   "metadata": {},
   "outputs": [
    {
     "name": "stdout",
     "output_type": "stream",
     "text": [
      "2 leaves\t0.1254093447978693\n",
      "None\n",
      "3 leaves\t0.08543429300671439\n",
      "None\n",
      "4 leaves\t0.088018746548816\n",
      "None\n",
      "5 leaves\t0.06846623697413348\n",
      "None\n",
      "6 leaves\t0.06420072905660586\n",
      "None\n",
      "7 leaves\t0.04836357449128856\n",
      "None\n",
      "8 leaves\t0.055990396090756116\n",
      "None\n",
      "9 leaves\t0.047209908285878066\n",
      "None\n",
      "10 leaves\t0.04208795706636587\n",
      "None\n",
      "11 leaves\t0.04208795706636587\n",
      "None\n",
      "12 leaves\t0.06550259121270734\n",
      "None\n",
      "13 leaves\t0.06158131335196955\n",
      "None\n",
      "14 leaves\t0.050742898717823205\n",
      "None\n",
      "15 leaves\t0.078730703595872\n",
      "None\n",
      "16 leaves\t0.08610377477556339\n",
      "None\n",
      "17 leaves\t0.08560601469592177\n",
      "None\n",
      "18 leaves\t0.08560601469592177\n",
      "None\n",
      "19 leaves\t0.10414757766257184\n",
      "None\n",
      "20 leaves\t0.09805001668696209\n",
      "None\n"
     ]
    },
    {
     "data": {
      "image/png": "[encoded data removed]",
      "text/plain": [
       "<Figure size 576x288 with 1 Axes>"
      ]
     },
     "metadata": {
      "needs_background": "light"
     },
     "output_type": "display_data"
    }
   ],
   "source": [
    "# The optimal number of max_leaf_nodes\n",
    "from sklearn.tree import DecisionTreeRegressor\n",
    "from sklearn.metrics import mean_squared_error\n",
    "max_leaf_nodes(X_train_opt, X_test_opt, y_train, y_test, range(2,21))"
   ]
  },
  {
   "cell_type": "markdown",
   "metadata": {},
   "source": [
    "    Можна побачити, що найменше значення помилки MSE для тествої вибірки спостерігається для max_leaf_nodes рівних 10 і 11. Проведемо побудову моделей з цим параметром, а також з різними критеріямиоптимізації."
   ]
  },
  {
   "cell_type": "code",
   "execution_count": 39,
   "metadata": {},
   "outputs": [],
   "source": [
    "# Fitting Classification Tree to the Training set\n",
    "from sklearn.tree import DecisionTreeClassifier\n",
    "ct1=DecisionTreeClassifier(max_leaf_nodes=10, criterion='entropy', random_state=123).fit(X_train_opt, y_train)\n",
    "ct2=DecisionTreeClassifier(max_leaf_nodes=11, criterion='entropy', random_state=123).fit(X_train_opt, y_train)\n",
    "ct3=DecisionTreeClassifier(max_leaf_nodes=10, criterion='gini', random_state=123).fit(X_train_opt, y_train)\n",
    "ct4=DecisionTreeClassifier(max_leaf_nodes=11, criterion='gini', random_state=123).fit(X_train_opt, y_train)"
   ]
  },
  {
   "cell_type": "markdown",
   "metadata": {},
   "source": [
    "    Розрахуємо метрику точності Accuracy для цих варіантів дерева рішень, аби вибрати найкращий з них."
   ]
  },
  {
   "cell_type": "code",
   "execution_count": 40,
   "metadata": {},
   "outputs": [
    {
     "data": {
      "text/plain": [
       "(0.8780487804878049, 0.8780487804878049, 0.9512195121951219, 0.926829268292683)"
      ]
     },
     "execution_count": 40,
     "metadata": {},
     "output_type": "execute_result"
    }
   ],
   "source": [
    "# Accuracy Scores\n",
    "ct1_score=ct1.score(X_test_opt, y_test)\n",
    "ct2_score=ct2.score(X_test_opt, y_test)\n",
    "ct3_score=ct3.score(X_test_opt, y_test)\n",
    "ct4_score=ct4.score(X_test_opt, y_test)\n",
    "ct1_score, ct2_score, ct3_score, ct4_score"
   ]
  },
  {
   "cell_type": "markdown",
   "metadata": {},
   "source": [
    "    Найкращим варіантом дерева рішень виявилося дерево з параметром max_leaf_nodes рівним 10 і критерієм оптимізації gini: точність класифікації тестової вибірки для такого варіанту моделі виявилася рівною приблизно 95%. Саме таку модель і будемо використовувати для порівнняння з іншими типами моделей.\n",
    "    Для цієї моделі побудуємо матрицю невідповідіності для тестової вибірки."
   ]
  },
  {
   "cell_type": "code",
   "execution_count": 41,
   "metadata": {},
   "outputs": [],
   "source": [
    "# Predicting the Test set results\n",
    "y_pred_ct3=ct3.predict(X_test_opt)"
   ]
  },
  {
   "cell_type": "code",
   "execution_count": 42,
   "metadata": {},
   "outputs": [
    {
     "name": "stdout",
     "output_type": "stream",
     "text": [
      "[[17  0]\n",
      " [ 2 22]]\n"
     ]
    }
   ],
   "source": [
    "# Making the Confusion Matrix\n",
    "from sklearn.metrics import confusion_matrix\n",
    "ct3_cm=confusion_matrix(y_test, y_pred_ct3)\n",
    "print(ct3_cm)"
   ]
  },
  {
   "cell_type": "markdown",
   "metadata": {},
   "source": [
    "    Ця модель точно віднесла всі низькоризикові автомобілі до правильного класу, але також позначила низькоризикованими 2 високоризиковані автомобілі. Це означає, що модель, хоча й є якісною, проте все ще має ризик страхування високоризикованих автомобілів за розцінками низикоризикованих, що є ризиком для страхової компанії, оскільки може призвести до більш страхових виплат нею, ніж планувалося.\n",
    "    Далі розглянемо класифікацію за допомогою методу випадкового лісу."
   ]
  },
  {
   "cell_type": "code",
   "execution_count": 43,
   "metadata": {},
   "outputs": [],
   "source": [
    "# Random Forest Classification"
   ]
  },
  {
   "cell_type": "markdown",
   "metadata": {},
   "source": [
    "    Для початку виберемо оптимальне число дерев у випадковому лісу з інтервалів від 1 до 20 по мінімальному значенню метрики MSE для тестової вибірки. Разом з тим, ми виберемо оптимальне число дерев з інтервалу від 1 до 10, аби перевірити чи зростає якість класифікацію моделлю при її ускладненні."
   ]
  },
  {
   "cell_type": "code",
   "execution_count": 44,
   "metadata": {},
   "outputs": [],
   "source": [
    "def rf_best_n_estimator(X_train_opt, X_test_opt, y_train, y_test, n):\n",
    "    mse_train=[]\n",
    "    mse_test=[]\n",
    "    for i in n:\n",
    "        rf=RandomForestRegressor(n_estimators=i, random_state=123).fit(X_train_opt, y_train)\n",
    "        mse_train.append(mean_squared_error(y_train, rf.predict(X_train_opt)))\n",
    "        mse_test.append(mean_squared_error(y_test, rf.predict(X_test_opt)))\n",
    "        print(print(str(i)+' trees\\t'+str(mean_squared_error(y_test, rf.predict(X_test_opt)))))\n",
    "    fig, ax = plt.subplots(figsize=(8, 4))\n",
    "    ax.plot(n, mse_train, alpha=0.5, color='blue', label='train')\n",
    "    ax.plot(n, mse_test, alpha=0.5, color='red', label='test')\n",
    "    ax.set_ylabel(\"MSE\")\n",
    "    ax.set_xlabel(\"N_estimators\")"
   ]
  },
  {
   "cell_type": "code",
   "execution_count": 45,
   "metadata": {},
   "outputs": [
    {
     "name": "stderr",
     "output_type": "stream",
     "text": [
      "<ipython-input-44-2477ff17394a>:5: DataConversionWarning: A column-vector y was passed when a 1d array was expected. Please change the shape of y to (n_samples,), for example using ravel().\n",
      "  rf=RandomForestRegressor(n_estimators=i, random_state=123).fit(X_train_opt, y_train)\n",
      "<ipython-input-44-2477ff17394a>:5: DataConversionWarning: A column-vector y was passed when a 1d array was expected. Please change the shape of y to (n_samples,), for example using ravel().\n",
      "  rf=RandomForestRegressor(n_estimators=i, random_state=123).fit(X_train_opt, y_train)\n",
      "<ipython-input-44-2477ff17394a>:5: DataConversionWarning: A column-vector y was passed when a 1d array was expected. Please change the shape of y to (n_samples,), for example using ravel().\n",
      "  rf=RandomForestRegressor(n_estimators=i, random_state=123).fit(X_train_opt, y_train)\n",
      "<ipython-input-44-2477ff17394a>:5: DataConversionWarning: A column-vector y was passed when a 1d array was expected. Please change the shape of y to (n_samples,), for example using ravel().\n",
      "  rf=RandomForestRegressor(n_estimators=i, random_state=123).fit(X_train_opt, y_train)\n",
      "<ipython-input-44-2477ff17394a>:5: DataConversionWarning: A column-vector y was passed when a 1d array was expected. Please change the shape of y to (n_samples,), for example using ravel().\n",
      "  rf=RandomForestRegressor(n_estimators=i, random_state=123).fit(X_train_opt, y_train)\n"
     ]
    },
    {
     "name": "stdout",
     "output_type": "stream",
     "text": [
      "1 trees\t0.0975609756097561\n",
      "None\n",
      "2 trees\t0.0975609756097561\n",
      "None\n",
      "3 trees\t0.0813008130081301\n",
      "None\n",
      "4 trees\t0.07164634146341463\n",
      "None\n",
      "5 trees\t0.062439024390243916\n",
      "None\n"
     ]
    },
    {
     "name": "stderr",
     "output_type": "stream",
     "text": [
      "<ipython-input-44-2477ff17394a>:5: DataConversionWarning: A column-vector y was passed when a 1d array was expected. Please change the shape of y to (n_samples,), for example using ravel().\n",
      "  rf=RandomForestRegressor(n_estimators=i, random_state=123).fit(X_train_opt, y_train)\n",
      "<ipython-input-44-2477ff17394a>:5: DataConversionWarning: A column-vector y was passed when a 1d array was expected. Please change the shape of y to (n_samples,), for example using ravel().\n",
      "  rf=RandomForestRegressor(n_estimators=i, random_state=123).fit(X_train_opt, y_train)\n",
      "<ipython-input-44-2477ff17394a>:5: DataConversionWarning: A column-vector y was passed when a 1d array was expected. Please change the shape of y to (n_samples,), for example using ravel().\n",
      "  rf=RandomForestRegressor(n_estimators=i, random_state=123).fit(X_train_opt, y_train)\n"
     ]
    },
    {
     "name": "stdout",
     "output_type": "stream",
     "text": [
      "6 trees\t0.05758807588075881\n",
      "None\n",
      "7 trees\t0.05724240915878547\n",
      "None\n",
      "8 trees\t0.0586890243902439\n",
      "None\n"
     ]
    },
    {
     "name": "stderr",
     "output_type": "stream",
     "text": [
      "<ipython-input-44-2477ff17394a>:5: DataConversionWarning: A column-vector y was passed when a 1d array was expected. Please change the shape of y to (n_samples,), for example using ravel().\n",
      "  rf=RandomForestRegressor(n_estimators=i, random_state=123).fit(X_train_opt, y_train)\n",
      "<ipython-input-44-2477ff17394a>:5: DataConversionWarning: A column-vector y was passed when a 1d array was expected. Please change the shape of y to (n_samples,), for example using ravel().\n",
      "  rf=RandomForestRegressor(n_estimators=i, random_state=123).fit(X_train_opt, y_train)\n"
     ]
    },
    {
     "name": "stdout",
     "output_type": "stream",
     "text": [
      "9 trees\t0.05691056910569106\n",
      "None\n",
      "10 trees\t0.05756097560975611\n",
      "None\n",
      "11 trees\t0.06047167909695625\n",
      "None\n"
     ]
    },
    {
     "name": "stderr",
     "output_type": "stream",
     "text": [
      "<ipython-input-44-2477ff17394a>:5: DataConversionWarning: A column-vector y was passed when a 1d array was expected. Please change the shape of y to (n_samples,), for example using ravel().\n",
      "  rf=RandomForestRegressor(n_estimators=i, random_state=123).fit(X_train_opt, y_train)\n",
      "<ipython-input-44-2477ff17394a>:5: DataConversionWarning: A column-vector y was passed when a 1d array was expected. Please change the shape of y to (n_samples,), for example using ravel().\n",
      "  rf=RandomForestRegressor(n_estimators=i, random_state=123).fit(X_train_opt, y_train)\n"
     ]
    },
    {
     "name": "stdout",
     "output_type": "stream",
     "text": [
      "12 trees\t0.05606368563685637\n",
      "None\n"
     ]
    },
    {
     "name": "stderr",
     "output_type": "stream",
     "text": [
      "<ipython-input-44-2477ff17394a>:5: DataConversionWarning: A column-vector y was passed when a 1d array was expected. Please change the shape of y to (n_samples,), for example using ravel().\n",
      "  rf=RandomForestRegressor(n_estimators=i, random_state=123).fit(X_train_opt, y_train)\n"
     ]
    },
    {
     "name": "stdout",
     "output_type": "stream",
     "text": [
      "13 trees\t0.055274931447539324\n",
      "None\n"
     ]
    },
    {
     "name": "stderr",
     "output_type": "stream",
     "text": [
      "<ipython-input-44-2477ff17394a>:5: DataConversionWarning: A column-vector y was passed when a 1d array was expected. Please change the shape of y to (n_samples,), for example using ravel().\n",
      "  rf=RandomForestRegressor(n_estimators=i, random_state=123).fit(X_train_opt, y_train)\n"
     ]
    },
    {
     "name": "stdout",
     "output_type": "stream",
     "text": [
      "14 trees\t0.05338476854156296\n",
      "None\n"
     ]
    },
    {
     "name": "stderr",
     "output_type": "stream",
     "text": [
      "<ipython-input-44-2477ff17394a>:5: DataConversionWarning: A column-vector y was passed when a 1d array was expected. Please change the shape of y to (n_samples,), for example using ravel().\n",
      "  rf=RandomForestRegressor(n_estimators=i, random_state=123).fit(X_train_opt, y_train)\n"
     ]
    },
    {
     "name": "stdout",
     "output_type": "stream",
     "text": [
      "15 trees\t0.0532249322493225\n",
      "None\n"
     ]
    },
    {
     "name": "stderr",
     "output_type": "stream",
     "text": [
      "<ipython-input-44-2477ff17394a>:5: DataConversionWarning: A column-vector y was passed when a 1d array was expected. Please change the shape of y to (n_samples,), for example using ravel().\n",
      "  rf=RandomForestRegressor(n_estimators=i, random_state=123).fit(X_train_opt, y_train)\n"
     ]
    },
    {
     "name": "stdout",
     "output_type": "stream",
     "text": [
      "16 trees\t0.05125762195121951\n",
      "None\n",
      "17 trees\t0.05249388134019749"
     ]
    },
    {
     "name": "stderr",
     "output_type": "stream",
     "text": [
      "<ipython-input-44-2477ff17394a>:5: DataConversionWarning: A column-vector y was passed when a 1d array was expected. Please change the shape of y to (n_samples,), for example using ravel().\n",
      "  rf=RandomForestRegressor(n_estimators=i, random_state=123).fit(X_train_opt, y_train)\n",
      "<ipython-input-44-2477ff17394a>:5: DataConversionWarning: A column-vector y was passed when a 1d array was expected. Please change the shape of y to (n_samples,), for example using ravel().\n",
      "  rf=RandomForestRegressor(n_estimators=i, random_state=123).fit(X_train_opt, y_train)\n"
     ]
    },
    {
     "name": "stdout",
     "output_type": "stream",
     "text": [
      "\n",
      "None\n",
      "18 trees\t0.05051189400782897\n",
      "None\n"
     ]
    },
    {
     "name": "stderr",
     "output_type": "stream",
     "text": [
      "<ipython-input-44-2477ff17394a>:5: DataConversionWarning: A column-vector y was passed when a 1d array was expected. Please change the shape of y to (n_samples,), for example using ravel().\n",
      "  rf=RandomForestRegressor(n_estimators=i, random_state=123).fit(X_train_opt, y_train)\n"
     ]
    },
    {
     "name": "stdout",
     "output_type": "stream",
     "text": [
      "19 trees\t0.05202351192486993\n",
      "None\n"
     ]
    },
    {
     "name": "stderr",
     "output_type": "stream",
     "text": [
      "<ipython-input-44-2477ff17394a>:5: DataConversionWarning: A column-vector y was passed when a 1d array was expected. Please change the shape of y to (n_samples,), for example using ravel().\n",
      "  rf=RandomForestRegressor(n_estimators=i, random_state=123).fit(X_train_opt, y_train)\n"
     ]
    },
    {
     "name": "stdout",
     "output_type": "stream",
     "text": [
      "20 trees\t0.052317073170731705\n",
      "None\n"
     ]
    },
    {
     "data": {
      "image/png": "[encoded data removed]",
      "text/plain": [
       "<Figure size 576x288 with 1 Axes>"
      ]
     },
     "metadata": {
      "needs_background": "light"
     },
     "output_type": "display_data"
    }
   ],
   "source": [
    "# The optimal number of trees \n",
    "from sklearn.ensemble import RandomForestRegressor    \n",
    "rf_best_n_estimator(X_train_opt, X_test_opt, y_train, y_test, range(1,21))"
   ]
  },
  {
   "cell_type": "markdown",
   "metadata": {},
   "source": [
    "    Оптимальним число дерев у випадковому лісі з інтервалу від 1 до 10 виявилося 9, а для інтервалу від 1 до 20 - 18 дерева. Для 9 дерев знайдемо оптимальне значення параметра rf_max_leaf_nodes у інтервалі від 2 до 20, причому також виберемо оптимальне значення цього параметру з інтервалу від 2 до 10."
   ]
  },
  {
   "cell_type": "code",
   "execution_count": 46,
   "metadata": {},
   "outputs": [],
   "source": [
    "def rf_max_leaf_nodes(X_train_opt, X_test_opt, y_train, y_test, n):\n",
    "    mse_train = []\n",
    "    mse_test = []\n",
    "    for i in n:\n",
    "        rf = RandomForestRegressor(n_estimators=9, max_leaf_nodes=i, random_state=123).fit(X_train_opt, y_train)\n",
    "        mse_train.append(mean_squared_error(y_train, rf.predict(X_train_opt)))\n",
    "        mse_test.append(mean_squared_error(y_test, rf.predict(X_test_opt)))\n",
    "        print(print(str(i)+' leaves\\t'+str(mean_squared_error(y_test, rf.predict(X_test_opt)))))\n",
    "    fig, ax = plt.subplots(figsize=(8, 4))\n",
    "    ax.plot(n, mse_train, alpha=0.5, color='blue', label='train')\n",
    "    ax.plot(n, mse_test, alpha=0.5, color='red', label='test')\n",
    "    ax.set_ylabel(\"MSE\")\n",
    "    ax.set_xlabel(\"max_leaf_nodes\")"
   ]
  },
  {
   "cell_type": "code",
   "execution_count": 47,
   "metadata": {},
   "outputs": [
    {
     "name": "stderr",
     "output_type": "stream",
     "text": [
      "<ipython-input-46-72cc1d46945a>:5: DataConversionWarning: A column-vector y was passed when a 1d array was expected. Please change the shape of y to (n_samples,), for example using ravel().\n",
      "  rf = RandomForestRegressor(n_estimators=9, max_leaf_nodes=i, random_state=123).fit(X_train_opt, y_train)\n",
      "<ipython-input-46-72cc1d46945a>:5: DataConversionWarning: A column-vector y was passed when a 1d array was expected. Please change the shape of y to (n_samples,), for example using ravel().\n",
      "  rf = RandomForestRegressor(n_estimators=9, max_leaf_nodes=i, random_state=123).fit(X_train_opt, y_train)\n"
     ]
    },
    {
     "name": "stdout",
     "output_type": "stream",
     "text": [
      "2 leaves\t0.11364190851401612\n",
      "None\n",
      "3 leaves\t0.07787604823486119\n",
      "None\n",
      "4 leaves\t0.07759902187001723\n",
      "None\n"
     ]
    },
    {
     "name": "stderr",
     "output_type": "stream",
     "text": [
      "<ipython-input-46-72cc1d46945a>:5: DataConversionWarning: A column-vector y was passed when a 1d array was expected. Please change the shape of y to (n_samples,), for example using ravel().\n",
      "  rf = RandomForestRegressor(n_estimators=9, max_leaf_nodes=i, random_state=123).fit(X_train_opt, y_train)\n",
      "<ipython-input-46-72cc1d46945a>:5: DataConversionWarning: A column-vector y was passed when a 1d array was expected. Please change the shape of y to (n_samples,), for example using ravel().\n",
      "  rf = RandomForestRegressor(n_estimators=9, max_leaf_nodes=i, random_state=123).fit(X_train_opt, y_train)\n"
     ]
    },
    {
     "name": "stdout",
     "output_type": "stream",
     "text": [
      "5 leaves\t0.07380380360576963\n",
      "None\n",
      "6 leaves\t0.058059254179021705\n",
      "None\n"
     ]
    },
    {
     "name": "stderr",
     "output_type": "stream",
     "text": [
      "<ipython-input-46-72cc1d46945a>:5: DataConversionWarning: A column-vector y was passed when a 1d array was expected. Please change the shape of y to (n_samples,), for example using ravel().\n",
      "  rf = RandomForestRegressor(n_estimators=9, max_leaf_nodes=i, random_state=123).fit(X_train_opt, y_train)\n",
      "<ipython-input-46-72cc1d46945a>:5: DataConversionWarning: A column-vector y was passed when a 1d array was expected. Please change the shape of y to (n_samples,), for example using ravel().\n",
      "  rf = RandomForestRegressor(n_estimators=9, max_leaf_nodes=i, random_state=123).fit(X_train_opt, y_train)\n"
     ]
    },
    {
     "name": "stdout",
     "output_type": "stream",
     "text": [
      "7 leaves\t0.051666082728411535\n",
      "None\n",
      "8 leaves\t0.05314343842372646\n",
      "None\n"
     ]
    },
    {
     "name": "stderr",
     "output_type": "stream",
     "text": [
      "<ipython-input-46-72cc1d46945a>:5: DataConversionWarning: A column-vector y was passed when a 1d array was expected. Please change the shape of y to (n_samples,), for example using ravel().\n",
      "  rf = RandomForestRegressor(n_estimators=9, max_leaf_nodes=i, random_state=123).fit(X_train_opt, y_train)\n",
      "<ipython-input-46-72cc1d46945a>:5: DataConversionWarning: A column-vector y was passed when a 1d array was expected. Please change the shape of y to (n_samples,), for example using ravel().\n",
      "  rf = RandomForestRegressor(n_estimators=9, max_leaf_nodes=i, random_state=123).fit(X_train_opt, y_train)\n"
     ]
    },
    {
     "name": "stdout",
     "output_type": "stream",
     "text": [
      "9 leaves\t0.05264611469513107\n",
      "None\n",
      "10 leaves\t0.05314540341478448\n",
      "None\n"
     ]
    },
    {
     "name": "stderr",
     "output_type": "stream",
     "text": [
      "<ipython-input-46-72cc1d46945a>:5: DataConversionWarning: A column-vector y was passed when a 1d array was expected. Please change the shape of y to (n_samples,), for example using ravel().\n",
      "  rf = RandomForestRegressor(n_estimators=9, max_leaf_nodes=i, random_state=123).fit(X_train_opt, y_train)\n",
      "<ipython-input-46-72cc1d46945a>:5: DataConversionWarning: A column-vector y was passed when a 1d array was expected. Please change the shape of y to (n_samples,), for example using ravel().\n",
      "  rf = RandomForestRegressor(n_estimators=9, max_leaf_nodes=i, random_state=123).fit(X_train_opt, y_train)\n"
     ]
    },
    {
     "name": "stdout",
     "output_type": "stream",
     "text": [
      "11 leaves\t0.053185282346851354\n",
      "None\n",
      "12 leaves\t0.047308141350311896\n",
      "None\n"
     ]
    },
    {
     "name": "stderr",
     "output_type": "stream",
     "text": [
      "<ipython-input-46-72cc1d46945a>:5: DataConversionWarning: A column-vector y was passed when a 1d array was expected. Please change the shape of y to (n_samples,), for example using ravel().\n",
      "  rf = RandomForestRegressor(n_estimators=9, max_leaf_nodes=i, random_state=123).fit(X_train_opt, y_train)\n",
      "<ipython-input-46-72cc1d46945a>:5: DataConversionWarning: A column-vector y was passed when a 1d array was expected. Please change the shape of y to (n_samples,), for example using ravel().\n",
      "  rf = RandomForestRegressor(n_estimators=9, max_leaf_nodes=i, random_state=123).fit(X_train_opt, y_train)\n"
     ]
    },
    {
     "name": "stdout",
     "output_type": "stream",
     "text": [
      "13 leaves\t0.05332923956345619\n",
      "None\n",
      "14 leaves\t0.05721557574915453\n",
      "None\n"
     ]
    },
    {
     "name": "stderr",
     "output_type": "stream",
     "text": [
      "<ipython-input-46-72cc1d46945a>:5: DataConversionWarning: A column-vector y was passed when a 1d array was expected. Please change the shape of y to (n_samples,), for example using ravel().\n",
      "  rf = RandomForestRegressor(n_estimators=9, max_leaf_nodes=i, random_state=123).fit(X_train_opt, y_train)\n",
      "<ipython-input-46-72cc1d46945a>:5: DataConversionWarning: A column-vector y was passed when a 1d array was expected. Please change the shape of y to (n_samples,), for example using ravel().\n",
      "  rf = RandomForestRegressor(n_estimators=9, max_leaf_nodes=i, random_state=123).fit(X_train_opt, y_train)\n"
     ]
    },
    {
     "name": "stdout",
     "output_type": "stream",
     "text": [
      "15 leaves\t0.05321007372743596\n",
      "None\n",
      "16 leaves\t0.052167328793245336\n",
      "None\n"
     ]
    },
    {
     "name": "stderr",
     "output_type": "stream",
     "text": [
      "<ipython-input-46-72cc1d46945a>:5: DataConversionWarning: A column-vector y was passed when a 1d array was expected. Please change the shape of y to (n_samples,), for example using ravel().\n",
      "  rf = RandomForestRegressor(n_estimators=9, max_leaf_nodes=i, random_state=123).fit(X_train_opt, y_train)\n",
      "<ipython-input-46-72cc1d46945a>:5: DataConversionWarning: A column-vector y was passed when a 1d array was expected. Please change the shape of y to (n_samples,), for example using ravel().\n",
      "  rf = RandomForestRegressor(n_estimators=9, max_leaf_nodes=i, random_state=123).fit(X_train_opt, y_train)\n"
     ]
    },
    {
     "name": "stdout",
     "output_type": "stream",
     "text": [
      "17 leaves\t0.05111211951327603\n",
      "None\n",
      "18 leaves\t0.0548831523267117\n",
      "None\n"
     ]
    },
    {
     "name": "stderr",
     "output_type": "stream",
     "text": [
      "<ipython-input-46-72cc1d46945a>:5: DataConversionWarning: A column-vector y was passed when a 1d array was expected. Please change the shape of y to (n_samples,), for example using ravel().\n",
      "  rf = RandomForestRegressor(n_estimators=9, max_leaf_nodes=i, random_state=123).fit(X_train_opt, y_train)\n"
     ]
    },
    {
     "name": "stdout",
     "output_type": "stream",
     "text": [
      "19 leaves\t0.060246813328220475\n",
      "None\n"
     ]
    },
    {
     "name": "stderr",
     "output_type": "stream",
     "text": [
      "<ipython-input-46-72cc1d46945a>:5: DataConversionWarning: A column-vector y was passed when a 1d array was expected. Please change the shape of y to (n_samples,), for example using ravel().\n",
      "  rf = RandomForestRegressor(n_estimators=9, max_leaf_nodes=i, random_state=123).fit(X_train_opt, y_train)\n",
      "<ipython-input-46-72cc1d46945a>:5: DataConversionWarning: A column-vector y was passed when a 1d array was expected. Please change the shape of y to (n_samples,), for example using ravel().\n",
      "  rf = RandomForestRegressor(n_estimators=9, max_leaf_nodes=i, random_state=123).fit(X_train_opt, y_train)\n"
     ]
    },
    {
     "name": "stdout",
     "output_type": "stream",
     "text": [
      "20 leaves\t0.05988483921120391\n",
      "None\n"
     ]
    },
    {
     "data": {
      "image/png": "[encoded data removed]",
      "text/plain": [
       "<Figure size 576x288 with 1 Axes>"
      ]
     },
     "metadata": {
      "needs_background": "light"
     },
     "output_type": "display_data"
    }
   ],
   "source": [
    "# The optimal number of max_leaf_nodes for 9 trees\n",
    "from sklearn.tree import DecisionTreeRegressor\n",
    "from sklearn.metrics import mean_squared_error\n",
    "rf_max_leaf_nodes(X_train_opt, X_test_opt, y_train, y_test, range(2,21))"
   ]
  },
  {
   "cell_type": "markdown",
   "metadata": {},
   "source": [
    "    Оптимальним числом листків у випадковому лісі з 9 дерев виявилося 7 для інтервалу від 2 до 10 і 12 для інтервалу від 2 до 20. Для цих варіантів моделі випадкового лісу побудуємо модель випадкового лісу з критеріями оптимізації MSE і MAE."
   ]
  },
  {
   "cell_type": "code",
   "execution_count": 48,
   "metadata": {},
   "outputs": [
    {
     "name": "stderr",
     "output_type": "stream",
     "text": [
      "<ipython-input-48-568be9d83e10>:3: DataConversionWarning: A column-vector y was passed when a 1d array was expected. Please change the shape of y to (n_samples,), for example using ravel().\n",
      "  rf1=RandomForestRegressor(n_estimators=9, max_leaf_nodes=7, criterion='mse', random_state=123).fit(X_train_opt, y_train)\n",
      "<ipython-input-48-568be9d83e10>:4: DataConversionWarning: A column-vector y was passed when a 1d array was expected. Please change the shape of y to (n_samples,), for example using ravel().\n",
      "  rf2=RandomForestRegressor(n_estimators=9, max_leaf_nodes=7, criterion='mae', random_state=123).fit(X_train_opt, y_train)\n",
      "<ipython-input-48-568be9d83e10>:5: DataConversionWarning: A column-vector y was passed when a 1d array was expected. Please change the shape of y to (n_samples,), for example using ravel().\n",
      "  rf3=RandomForestRegressor(n_estimators=9, max_leaf_nodes=12, criterion='mse', random_state=123).fit(X_train_opt, y_train)\n",
      "<ipython-input-48-568be9d83e10>:6: DataConversionWarning: A column-vector y was passed when a 1d array was expected. Please change the shape of y to (n_samples,), for example using ravel().\n",
      "  rf4=RandomForestRegressor(n_estimators=9, max_leaf_nodes=12, criterion='mae', random_state=123).fit(X_train_opt, y_train)\n"
     ]
    }
   ],
   "source": [
    "# Fitting Random Forest to the Training set\n",
    "from sklearn.ensemble import RandomForestRegressor\n",
    "rf1=RandomForestRegressor(n_estimators=9, max_leaf_nodes=7, criterion='mse', random_state=123).fit(X_train_opt, y_train)\n",
    "rf2=RandomForestRegressor(n_estimators=9, max_leaf_nodes=7, criterion='mae', random_state=123).fit(X_train_opt, y_train)\n",
    "rf3=RandomForestRegressor(n_estimators=9, max_leaf_nodes=12, criterion='mse', random_state=123).fit(X_train_opt, y_train)\n",
    "rf4=RandomForestRegressor(n_estimators=9, max_leaf_nodes=12, criterion='mae', random_state=123).fit(X_train_opt, y_train)"
   ]
  },
  {
   "cell_type": "markdown",
   "metadata": {},
   "source": [
    "    Для всіх цих моделей проведемо оцінку класів автомобілів для тестової вибірки, побудуємо матриці невідповідностей і на їх основі розрахуємо метрику торності Accuracy (напряму через score() цього зробити не можна, оскільки у даній роботі використовується регресійна модель дерева лісу, а отже score() видає коефіцієнт детермінації R^2, а не Accuracy)."
   ]
  },
  {
   "cell_type": "code",
   "execution_count": 49,
   "metadata": {},
   "outputs": [],
   "source": [
    "# Predicting the Test set results\n",
    "y_pred_rf1=rf1.predict(X_test_opt)\n",
    "y_pred_rf1=(y_pred_rf1>0.5)\n",
    "y_pred_rf2=rf2.predict(X_test_opt)\n",
    "y_pred_rf2=(y_pred_rf2>0.5)\n",
    "y_pred_rf3=rf3.predict(X_test_opt)\n",
    "y_pred_rf3=(y_pred_rf3>0.5)\n",
    "y_pred_rf4=rf4.predict(X_test_opt)\n",
    "y_pred_rf4=(y_pred_rf4>0.5)"
   ]
  },
  {
   "cell_type": "code",
   "execution_count": 50,
   "metadata": {},
   "outputs": [
    {
     "name": "stdout",
     "output_type": "stream",
     "text": [
      "[[16  1]\n",
      " [ 1 23]]\n",
      "[[16  1]\n",
      " [ 4 20]]\n",
      "[[16  1]\n",
      " [ 1 23]]\n",
      "[[17  0]\n",
      " [ 4 20]]\n"
     ]
    }
   ],
   "source": [
    "# Making the Confusion Matrix\n",
    "from sklearn.metrics import confusion_matrix\n",
    "rf1_cm=confusion_matrix(y_test, y_pred_rf1)\n",
    "rf2_cm=confusion_matrix(y_test, y_pred_rf2)\n",
    "rf3_cm=confusion_matrix(y_test, y_pred_rf3)\n",
    "rf4_cm=confusion_matrix(y_test, y_pred_rf4)\n",
    "print(rf1_cm)\n",
    "print(rf2_cm)\n",
    "print(rf3_cm)\n",
    "print(rf4_cm)"
   ]
  },
  {
   "cell_type": "code",
   "execution_count": 51,
   "metadata": {},
   "outputs": [
    {
     "data": {
      "text/plain": [
       "(0.9512195121951219,\n",
       " 0.8780487804878049,\n",
       " 0.9512195121951219,\n",
       " 0.9024390243902439)"
      ]
     },
     "execution_count": 51,
     "metadata": {},
     "output_type": "execute_result"
    }
   ],
   "source": [
    "# Accuracy Scores\n",
    "rf1_score=(rf1_cm[0, 0]+rf1_cm[1, 1])/(rf1_cm[0, 0]+rf1_cm[1, 1]+rf1_cm[0, 1]+rf1_cm[1, 0])\n",
    "rf2_score=(rf2_cm[0, 0]+rf2_cm[1, 1])/(rf2_cm[0, 0]+rf2_cm[1, 1]+rf2_cm[0, 1]+rf2_cm[1, 0])\n",
    "rf3_score=(rf3_cm[0, 0]+rf3_cm[1, 1])/(rf3_cm[0, 0]+rf3_cm[1, 1]+rf3_cm[0, 1]+rf3_cm[1, 0])\n",
    "rf4_score=(rf4_cm[0, 0]+rf4_cm[1, 1])/(rf4_cm[0, 0]+rf4_cm[1, 1]+rf4_cm[0, 1]+rf4_cm[1, 0])\n",
    "rf1_score, rf2_score, rf3_score, rf4_score"
   ]
  },
  {
   "cell_type": "markdown",
   "metadata": {},
   "source": [
    "    Можна побачити, що моделі, які оптимізувалися за критерієм MSE мають кращі класифікаційні якості, ніж ті, що оптимізувалися за критерієм MAE. Так, їхній показник Accuracy складає аж 95% і вони класиікували лише 1 низькоризиковий автомобіль як високоризиковий і 1 високоризиковий, як низькоризиковий. З 2 моделей однакової якості, які оптимізувалися за критерієм MSE, виберемо ту, яка є простішою: з 9 деревами та 7 листками замість 12 листків.\n",
    "    Далі розглянемо вплив збільшення кількості дерев у випадковому лісі на класифікаційну здатність моделі. Для оптимальних 18 дерев з інтервалу [1; 20] знайдемо оптимальне значення параметра rf_max_leaf_nodes у інтервалі від 2 до 20, причому також виберемо оптимальне значення цього параметру з інтервалу від 2 до 10."
   ]
  },
  {
   "cell_type": "code",
   "execution_count": 52,
   "metadata": {},
   "outputs": [],
   "source": [
    "def rf_max_leaf_nodes(X_train_opt, X_test_opt, y_train, y_test, n):\n",
    "    mse_train = []\n",
    "    mse_test = []\n",
    "    for i in n:\n",
    "        rf = RandomForestRegressor(n_estimators=18, max_leaf_nodes=i, random_state=123).fit(X_train_opt, y_train)\n",
    "        mse_train.append(mean_squared_error(y_train, rf.predict(X_train_opt)))\n",
    "        mse_test.append(mean_squared_error(y_test, rf.predict(X_test_opt)))\n",
    "        print(print(str(i)+' leaves\\t'+str(mean_squared_error(y_test, rf.predict(X_test_opt)))))\n",
    "    fig, ax = plt.subplots(figsize=(8, 4))\n",
    "    ax.plot(n, mse_train, alpha=0.5, color='blue', label='train')\n",
    "    ax.plot(n, mse_test, alpha=0.5, color='red', label='test')\n",
    "    ax.set_ylabel(\"MSE\")\n",
    "    ax.set_xlabel(\"max_leaf_nodes\")"
   ]
  },
  {
   "cell_type": "code",
   "execution_count": 53,
   "metadata": {},
   "outputs": [
    {
     "name": "stderr",
     "output_type": "stream",
     "text": [
      "<ipython-input-52-d03b29e99a00>:5: DataConversionWarning: A column-vector y was passed when a 1d array was expected. Please change the shape of y to (n_samples,), for example using ravel().\n",
      "  rf = RandomForestRegressor(n_estimators=18, max_leaf_nodes=i, random_state=123).fit(X_train_opt, y_train)\n"
     ]
    },
    {
     "name": "stdout",
     "output_type": "stream",
     "text": [
      "2 leaves\t0.11491267915089057\n",
      "None\n",
      "3 leaves\t0.08820984342176098\n",
      "None\n"
     ]
    },
    {
     "name": "stderr",
     "output_type": "stream",
     "text": [
      "<ipython-input-52-d03b29e99a00>:5: DataConversionWarning: A column-vector y was passed when a 1d array was expected. Please change the shape of y to (n_samples,), for example using ravel().\n",
      "  rf = RandomForestRegressor(n_estimators=18, max_leaf_nodes=i, random_state=123).fit(X_train_opt, y_train)\n",
      "<ipython-input-52-d03b29e99a00>:5: DataConversionWarning: A column-vector y was passed when a 1d array was expected. Please change the shape of y to (n_samples,), for example using ravel().\n",
      "  rf = RandomForestRegressor(n_estimators=18, max_leaf_nodes=i, random_state=123).fit(X_train_opt, y_train)\n"
     ]
    },
    {
     "name": "stdout",
     "output_type": "stream",
     "text": [
      "4 leaves\t0.08754107483998358\n",
      "None\n",
      "5 leaves\t0.08084956717154274\n",
      "None\n"
     ]
    },
    {
     "name": "stderr",
     "output_type": "stream",
     "text": [
      "<ipython-input-52-d03b29e99a00>:5: DataConversionWarning: A column-vector y was passed when a 1d array was expected. Please change the shape of y to (n_samples,), for example using ravel().\n",
      "  rf = RandomForestRegressor(n_estimators=18, max_leaf_nodes=i, random_state=123).fit(X_train_opt, y_train)\n",
      "<ipython-input-52-d03b29e99a00>:5: DataConversionWarning: A column-vector y was passed when a 1d array was expected. Please change the shape of y to (n_samples,), for example using ravel().\n",
      "  rf = RandomForestRegressor(n_estimators=18, max_leaf_nodes=i, random_state=123).fit(X_train_opt, y_train)\n"
     ]
    },
    {
     "name": "stdout",
     "output_type": "stream",
     "text": [
      "6 leaves\t0.06930142152430203\n",
      "None\n"
     ]
    },
    {
     "name": "stderr",
     "output_type": "stream",
     "text": [
      "<ipython-input-52-d03b29e99a00>:5: DataConversionWarning: A column-vector y was passed when a 1d array was expected. Please change the shape of y to (n_samples,), for example using ravel().\n",
      "  rf = RandomForestRegressor(n_estimators=18, max_leaf_nodes=i, random_state=123).fit(X_train_opt, y_train)\n"
     ]
    },
    {
     "name": "stdout",
     "output_type": "stream",
     "text": [
      "7 leaves\t0.06254907851979044\n",
      "None\n"
     ]
    },
    {
     "name": "stderr",
     "output_type": "stream",
     "text": [
      "<ipython-input-52-d03b29e99a00>:5: DataConversionWarning: A column-vector y was passed when a 1d array was expected. Please change the shape of y to (n_samples,), for example using ravel().\n",
      "  rf = RandomForestRegressor(n_estimators=18, max_leaf_nodes=i, random_state=123).fit(X_train_opt, y_train)\n"
     ]
    },
    {
     "name": "stdout",
     "output_type": "stream",
     "text": [
      "8 leaves\t0.06124566175600848\n",
      "None\n",
      "9 leaves\t0.0567488965567632"
     ]
    },
    {
     "name": "stderr",
     "output_type": "stream",
     "text": [
      "<ipython-input-52-d03b29e99a00>:5: DataConversionWarning: A column-vector y was passed when a 1d array was expected. Please change the shape of y to (n_samples,), for example using ravel().\n",
      "  rf = RandomForestRegressor(n_estimators=18, max_leaf_nodes=i, random_state=123).fit(X_train_opt, y_train)\n"
     ]
    },
    {
     "name": "stdout",
     "output_type": "stream",
     "text": [
      "\n",
      "None\n"
     ]
    },
    {
     "name": "stderr",
     "output_type": "stream",
     "text": [
      "<ipython-input-52-d03b29e99a00>:5: DataConversionWarning: A column-vector y was passed when a 1d array was expected. Please change the shape of y to (n_samples,), for example using ravel().\n",
      "  rf = RandomForestRegressor(n_estimators=18, max_leaf_nodes=i, random_state=123).fit(X_train_opt, y_train)\n"
     ]
    },
    {
     "name": "stdout",
     "output_type": "stream",
     "text": [
      "10 leaves\t0.05784022579841266\n",
      "None\n"
     ]
    },
    {
     "name": "stderr",
     "output_type": "stream",
     "text": [
      "<ipython-input-52-d03b29e99a00>:5: DataConversionWarning: A column-vector y was passed when a 1d array was expected. Please change the shape of y to (n_samples,), for example using ravel().\n",
      "  rf = RandomForestRegressor(n_estimators=18, max_leaf_nodes=i, random_state=123).fit(X_train_opt, y_train)\n"
     ]
    },
    {
     "name": "stdout",
     "output_type": "stream",
     "text": [
      "11 leaves\t0.05565448755136802\n",
      "None\n"
     ]
    },
    {
     "name": "stderr",
     "output_type": "stream",
     "text": [
      "<ipython-input-52-d03b29e99a00>:5: DataConversionWarning: A column-vector y was passed when a 1d array was expected. Please change the shape of y to (n_samples,), for example using ravel().\n",
      "  rf = RandomForestRegressor(n_estimators=18, max_leaf_nodes=i, random_state=123).fit(X_train_opt, y_train)\n"
     ]
    },
    {
     "name": "stdout",
     "output_type": "stream",
     "text": [
      "12 leaves\t0.04948735903210426\n",
      "None\n"
     ]
    },
    {
     "name": "stderr",
     "output_type": "stream",
     "text": [
      "<ipython-input-52-d03b29e99a00>:5: DataConversionWarning: A column-vector y was passed when a 1d array was expected. Please change the shape of y to (n_samples,), for example using ravel().\n",
      "  rf = RandomForestRegressor(n_estimators=18, max_leaf_nodes=i, random_state=123).fit(X_train_opt, y_train)\n"
     ]
    },
    {
     "name": "stdout",
     "output_type": "stream",
     "text": [
      "13 leaves\t0.05066128355846803\n",
      "None\n"
     ]
    },
    {
     "name": "stderr",
     "output_type": "stream",
     "text": [
      "<ipython-input-52-d03b29e99a00>:5: DataConversionWarning: A column-vector y was passed when a 1d array was expected. Please change the shape of y to (n_samples,), for example using ravel().\n",
      "  rf = RandomForestRegressor(n_estimators=18, max_leaf_nodes=i, random_state=123).fit(X_train_opt, y_train)\n"
     ]
    },
    {
     "name": "stdout",
     "output_type": "stream",
     "text": [
      "14 leaves\t0.04911166556085779\n",
      "None\n"
     ]
    },
    {
     "name": "stderr",
     "output_type": "stream",
     "text": [
      "<ipython-input-52-d03b29e99a00>:5: DataConversionWarning: A column-vector y was passed when a 1d array was expected. Please change the shape of y to (n_samples,), for example using ravel().\n",
      "  rf = RandomForestRegressor(n_estimators=18, max_leaf_nodes=i, random_state=123).fit(X_train_opt, y_train)\n"
     ]
    },
    {
     "name": "stdout",
     "output_type": "stream",
     "text": [
      "15 leaves\t0.04627671795458894\n",
      "None\n",
      "16 leaves\t0.045175723383521216"
     ]
    },
    {
     "name": "stderr",
     "output_type": "stream",
     "text": [
      "<ipython-input-52-d03b29e99a00>:5: DataConversionWarning: A column-vector y was passed when a 1d array was expected. Please change the shape of y to (n_samples,), for example using ravel().\n",
      "  rf = RandomForestRegressor(n_estimators=18, max_leaf_nodes=i, random_state=123).fit(X_train_opt, y_train)\n"
     ]
    },
    {
     "name": "stdout",
     "output_type": "stream",
     "text": [
      "\n",
      "None\n"
     ]
    },
    {
     "name": "stderr",
     "output_type": "stream",
     "text": [
      "<ipython-input-52-d03b29e99a00>:5: DataConversionWarning: A column-vector y was passed when a 1d array was expected. Please change the shape of y to (n_samples,), for example using ravel().\n",
      "  rf = RandomForestRegressor(n_estimators=18, max_leaf_nodes=i, random_state=123).fit(X_train_opt, y_train)\n"
     ]
    },
    {
     "name": "stdout",
     "output_type": "stream",
     "text": [
      "17 leaves\t0.04775187364929375\n",
      "None\n"
     ]
    },
    {
     "name": "stderr",
     "output_type": "stream",
     "text": [
      "<ipython-input-52-d03b29e99a00>:5: DataConversionWarning: A column-vector y was passed when a 1d array was expected. Please change the shape of y to (n_samples,), for example using ravel().\n",
      "  rf = RandomForestRegressor(n_estimators=18, max_leaf_nodes=i, random_state=123).fit(X_train_opt, y_train)\n"
     ]
    },
    {
     "name": "stdout",
     "output_type": "stream",
     "text": [
      "18 leaves\t0.04764052186345969\n",
      "None\n"
     ]
    },
    {
     "name": "stderr",
     "output_type": "stream",
     "text": [
      "<ipython-input-52-d03b29e99a00>:5: DataConversionWarning: A column-vector y was passed when a 1d array was expected. Please change the shape of y to (n_samples,), for example using ravel().\n",
      "  rf = RandomForestRegressor(n_estimators=18, max_leaf_nodes=i, random_state=123).fit(X_train_opt, y_train)\n"
     ]
    },
    {
     "name": "stdout",
     "output_type": "stream",
     "text": [
      "19 leaves\t0.04940648668050825\n",
      "None\n"
     ]
    },
    {
     "name": "stderr",
     "output_type": "stream",
     "text": [
      "<ipython-input-52-d03b29e99a00>:5: DataConversionWarning: A column-vector y was passed when a 1d array was expected. Please change the shape of y to (n_samples,), for example using ravel().\n",
      "  rf = RandomForestRegressor(n_estimators=18, max_leaf_nodes=i, random_state=123).fit(X_train_opt, y_train)\n"
     ]
    },
    {
     "name": "stdout",
     "output_type": "stream",
     "text": [
      "20 leaves\t0.05033137916413179\n",
      "None\n"
     ]
    },
    {
     "data": {
      "image/png": "[encoded data removed]",
      "text/plain": [
       "<Figure size 576x288 with 1 Axes>"
      ]
     },
     "metadata": {
      "needs_background": "light"
     },
     "output_type": "display_data"
    }
   ],
   "source": [
    "# The optimal number of max_leaf_nodes for 18 trees\n",
    "from sklearn.tree import DecisionTreeRegressor\n",
    "from sklearn.metrics import mean_squared_error\n",
    "rf_max_leaf_nodes(X_train_opt, X_test_opt, y_train, y_test, range(2,21))"
   ]
  },
  {
   "cell_type": "markdown",
   "metadata": {},
   "source": [
    "    Оптимальним числом листків у випадковому лісі з 18 дерев виявилося 9 листків для інтервалу від 2 до 10 і 16 листків для інтервалу від 2 до 20. Для цих варіантів моделі випадкового лісу побудуємо модель випадкового лісу з критеріями оптимізації MSE і MAE."
   ]
  },
  {
   "cell_type": "code",
   "execution_count": 54,
   "metadata": {},
   "outputs": [
    {
     "name": "stderr",
     "output_type": "stream",
     "text": [
      "<ipython-input-54-11e6d17913d5>:3: DataConversionWarning: A column-vector y was passed when a 1d array was expected. Please change the shape of y to (n_samples,), for example using ravel().\n",
      "  rf5=RandomForestRegressor(n_estimators=18, max_leaf_nodes=9, criterion='mse', random_state=123).fit(X_train_opt, y_train)\n",
      "<ipython-input-54-11e6d17913d5>:4: DataConversionWarning: A column-vector y was passed when a 1d array was expected. Please change the shape of y to (n_samples,), for example using ravel().\n",
      "  rf6=RandomForestRegressor(n_estimators=18, max_leaf_nodes=9, criterion='mae', random_state=123).fit(X_train_opt, y_train)\n",
      "<ipython-input-54-11e6d17913d5>:5: DataConversionWarning: A column-vector y was passed when a 1d array was expected. Please change the shape of y to (n_samples,), for example using ravel().\n",
      "  rf7=RandomForestRegressor(n_estimators=18, max_leaf_nodes=16, criterion='mse', random_state=123).fit(X_train_opt, y_train)\n",
      "<ipython-input-54-11e6d17913d5>:6: DataConversionWarning: A column-vector y was passed when a 1d array was expected. Please change the shape of y to (n_samples,), for example using ravel().\n",
      "  rf8=RandomForestRegressor(n_estimators=18, max_leaf_nodes=16, criterion='mae', random_state=123).fit(X_train_opt, y_train)\n"
     ]
    }
   ],
   "source": [
    "# Fitting Random Forest to the Training set\n",
    "from sklearn.ensemble import RandomForestRegressor\n",
    "rf5=RandomForestRegressor(n_estimators=18, max_leaf_nodes=9, criterion='mse', random_state=123).fit(X_train_opt, y_train)\n",
    "rf6=RandomForestRegressor(n_estimators=18, max_leaf_nodes=9, criterion='mae', random_state=123).fit(X_train_opt, y_train)\n",
    "rf7=RandomForestRegressor(n_estimators=18, max_leaf_nodes=16, criterion='mse', random_state=123).fit(X_train_opt, y_train)\n",
    "rf8=RandomForestRegressor(n_estimators=18, max_leaf_nodes=16, criterion='mae', random_state=123).fit(X_train_opt, y_train)"
   ]
  },
  {
   "cell_type": "markdown",
   "metadata": {},
   "source": [
    "    Для цих моделей проведемо оцінку класів автомобілів для тестової вибірки, побудуємо матриці невідповідностей і на їх основі розрахуємо метрику торності Accuracy (напряму через score() цього зробити не можна, оскільки у даній роботі використовується регресійна модель дерева лісу, а отже score() видає коефіцієнт детермінації R^2, а не Accuracy)."
   ]
  },
  {
   "cell_type": "code",
   "execution_count": 55,
   "metadata": {},
   "outputs": [],
   "source": [
    "# Predicting the Test set results\n",
    "y_pred_rf5=rf5.predict(X_test_opt)\n",
    "y_pred_rf5=(y_pred_rf5>0.5)\n",
    "y_pred_rf6=rf6.predict(X_test_opt)\n",
    "y_pred_rf6=(y_pred_rf6>0.5)\n",
    "y_pred_rf7=rf7.predict(X_test_opt)\n",
    "y_pred_rf7=(y_pred_rf7>0.5)\n",
    "y_pred_rf8=rf8.predict(X_test_opt)\n",
    "y_pred_rf8=(y_pred_rf8>0.5)"
   ]
  },
  {
   "cell_type": "code",
   "execution_count": 56,
   "metadata": {},
   "outputs": [
    {
     "name": "stdout",
     "output_type": "stream",
     "text": [
      "[[16  1]\n",
      " [ 1 23]]\n",
      "[[16  1]\n",
      " [ 4 20]]\n",
      "[[16  1]\n",
      " [ 1 23]]\n",
      "[[16  1]\n",
      " [ 2 22]]\n"
     ]
    }
   ],
   "source": [
    "# Making the Confusion Matrix\n",
    "from sklearn.metrics import confusion_matrix\n",
    "rf5_cm=confusion_matrix(y_test, y_pred_rf5)\n",
    "rf6_cm=confusion_matrix(y_test, y_pred_rf6)\n",
    "rf7_cm=confusion_matrix(y_test, y_pred_rf7)\n",
    "rf8_cm=confusion_matrix(y_test, y_pred_rf8)\n",
    "print(rf5_cm)\n",
    "print(rf6_cm)\n",
    "print(rf7_cm)\n",
    "print(rf8_cm)"
   ]
  },
  {
   "cell_type": "code",
   "execution_count": 57,
   "metadata": {},
   "outputs": [
    {
     "data": {
      "text/plain": [
       "(0.9512195121951219,\n",
       " 0.8780487804878049,\n",
       " 0.9512195121951219,\n",
       " 0.9024390243902439,\n",
       " 0.9512195121951219,\n",
       " 0.8780487804878049,\n",
       " 0.9512195121951219,\n",
       " 0.926829268292683)"
      ]
     },
     "execution_count": 57,
     "metadata": {},
     "output_type": "execute_result"
    }
   ],
   "source": [
    "# Accuracy Scores\n",
    "rf5_score=(rf5_cm[0, 0]+rf5_cm[1, 1])/(rf5_cm[0, 0]+rf5_cm[1, 1]+rf5_cm[0, 1]+rf5_cm[1, 0])\n",
    "rf6_score=(rf6_cm[0, 0]+rf6_cm[1, 1])/(rf6_cm[0, 0]+rf6_cm[1, 1]+rf6_cm[0, 1]+rf6_cm[1, 0])\n",
    "rf7_score=(rf7_cm[0, 0]+rf7_cm[1, 1])/(rf7_cm[0, 0]+rf7_cm[1, 1]+rf7_cm[0, 1]+rf7_cm[1, 0])\n",
    "rf8_score=(rf8_cm[0, 0]+rf8_cm[1, 1])/(rf8_cm[0, 0]+rf8_cm[1, 1]+rf8_cm[0, 1]+rf8_cm[1, 0])\n",
    "rf1_score, rf2_score, rf3_score, rf4_score, rf5_score, rf6_score, rf7_score, rf8_score"
   ]
  },
  {
   "cell_type": "markdown",
   "metadata": {},
   "source": [
    "    Можна побачити, що найкращі моделі випадкового лісу з 18 дерев максимум повторюють результати класифікації для оптимального випадкового лісу з 9 деревами, але не перевищують її якість. Разом з тим вони є складнішими за неї, а отже раціональніше буде використовувати модель з 9 листками, що демонструє ту саму якість, як і складніші моделі.\n",
    "    Таким чином, оптимальна модель випадкового лісу rf1 має 9 дерев, 7 листків і оптимізована за критерієм MSE. Саме вона буде порівнюватися з моделями інших типів."
   ]
  },
  {
   "cell_type": "markdown",
   "metadata": {},
   "source": [
    "    Далі розглянемо використання нейронних мереж для класифікації. У такому випадку варто використовувати нейронні мережі, що звужуються. При цьому постараємося не використовувати значну кількість нейроннів, аби відповідати умові співвідношення об'єму вибірки та числа ваг w<n/e, де w - число ваг у нейронній мережі, n - число спотережень у навчальній вибірці, e - бажана величина помилки.\n",
    "    У нашому випадку маємо n=0,8*205=164 спостереження у навчальній вибірці, а при помилці e від 0,05 до 0,1 максимальне число ваг не має перевищувати 3280 і 1640 відповідно. У даній роботі розглянемо нейронні мережі з різною архітектурою і функціями активації."
   ]
  },
  {
   "cell_type": "code",
   "execution_count": 58,
   "metadata": {},
   "outputs": [],
   "source": [
    "# Classification Neural Network"
   ]
  },
  {
   "cell_type": "code",
   "execution_count": 59,
   "metadata": {},
   "outputs": [],
   "source": [
    "# Install Tensorflow\n",
    "# Install Keras\n",
    "# Importing the Keras libraries and packages\n",
    "import keras\n",
    "from keras.models import Sequential\n",
    "from keras.layers import Input\n",
    "from keras.layers import Dense"
   ]
  },
  {
   "cell_type": "markdown",
   "metadata": {},
   "source": [
    "    Першою розглянемо нейронну мережу з архітектурою 8-7-1 і функціями активації relu і sigmoid. Для такої функції мережі навчання партіями по 10 протягом 100 епох."
   ]
  },
  {
   "cell_type": "code",
   "execution_count": 60,
   "metadata": {},
   "outputs": [],
   "source": [
    "# Initialising the ANN\n",
    "cnn1=Sequential()\n",
    "\n",
    "# Adding the input layer\n",
    "cnn1.add(Input(shape=(8,)))\n",
    "\n",
    "# Adding the hidden layer\n",
    "cnn1.add(Dense(7, activation='relu'))\n",
    "\n",
    "# Adding the output layer\n",
    "cnn1.add(Dense(1, activation='sigmoid'))\n",
    "\n",
    "# Compiling the ANN\n",
    "cnn1.compile(optimizer='adam', loss='binary_crossentropy', metrics=['accuracy'])"
   ]
  },
  {
   "cell_type": "code",
   "execution_count": 61,
   "metadata": {},
   "outputs": [
    {
     "name": "stdout",
     "output_type": "stream",
     "text": [
      "Epoch 1/100\n",
      "17/17 [==============================] - 0s 5ms/step - loss: 0.6719 - accuracy: 0.5610\n",
      "Epoch 2/100\n",
      "17/17 [==============================] - 0s 5ms/step - loss: 0.6506 - accuracy: 0.5610\n",
      "Epoch 3/100\n",
      "17/17 [==============================] - 0s 12ms/step - loss: 0.6322 - accuracy: 0.5610\n",
      "Epoch 4/100\n",
      "17/17 [==============================] - 0s 8ms/step - loss: 0.6174 - accuracy: 0.5610\n",
      "Epoch 5/100\n",
      "17/17 [==============================] - 0s 9ms/step - loss: 0.6038 - accuracy: 0.5793\n",
      "Epoch 6/100\n",
      "17/17 [==============================] - 0s 7ms/step - loss: 0.5920 - accuracy: 0.5976\n",
      "Epoch 7/100\n",
      "17/17 [==============================] - 0s 5ms/step - loss: 0.5811 - accuracy: 0.6159\n",
      "Epoch 8/100\n",
      "17/17 [==============================] - 0s 6ms/step - loss: 0.5721 - accuracy: 0.6341\n",
      "Epoch 9/100\n",
      "17/17 [==============================] - 0s 7ms/step - loss: 0.5632 - accuracy: 0.6402\n",
      "Epoch 10/100\n",
      "17/17 [==============================] - 0s 4ms/step - loss: 0.5557 - accuracy: 0.6829\n",
      "Epoch 11/100\n",
      "17/17 [==============================] - 0s 5ms/step - loss: 0.5481 - accuracy: 0.7012\n",
      "Epoch 12/100\n",
      "17/17 [==============================] - 0s 4ms/step - loss: 0.5411 - accuracy: 0.7256\n",
      "Epoch 13/100\n",
      "17/17 [==============================] - 0s 5ms/step - loss: 0.5343 - accuracy: 0.7439\n",
      "Epoch 14/100\n",
      "17/17 [==============================] - 0s 5ms/step - loss: 0.5277 - accuracy: 0.7439\n",
      "Epoch 15/100\n",
      "17/17 [==============================] - 0s 5ms/step - loss: 0.5216 - accuracy: 0.7439\n",
      "Epoch 16/100\n",
      "17/17 [==============================] - 0s 5ms/step - loss: 0.5159 - accuracy: 0.7683\n",
      "Epoch 17/100\n",
      "17/17 [==============================] - 0s 5ms/step - loss: 0.5108 - accuracy: 0.7927\n",
      "Epoch 18/100\n",
      "17/17 [==============================] - 0s 5ms/step - loss: 0.5050 - accuracy: 0.7988\n",
      "Epoch 19/100\n",
      "17/17 [==============================] - 0s 8ms/step - loss: 0.5003 - accuracy: 0.8049\n",
      "Epoch 20/100\n",
      "17/17 [==============================] - 0s 4ms/step - loss: 0.4948 - accuracy: 0.8171\n",
      "Epoch 21/100\n",
      "17/17 [==============================] - 0s 5ms/step - loss: 0.4905 - accuracy: 0.8415\n",
      "Epoch 22/100\n",
      "17/17 [==============================] - 0s 5ms/step - loss: 0.4848 - accuracy: 0.8476\n",
      "Epoch 23/100\n",
      "17/17 [==============================] - 0s 6ms/step - loss: 0.4797 - accuracy: 0.8598\n",
      "Epoch 24/100\n",
      "17/17 [==============================] - 0s 5ms/step - loss: 0.4745 - accuracy: 0.8659\n",
      "Epoch 25/100\n",
      "17/17 [==============================] - 0s 4ms/step - loss: 0.4698 - accuracy: 0.8659\n",
      "Epoch 26/100\n",
      "17/17 [==============================] - 0s 4ms/step - loss: 0.4646 - accuracy: 0.8720\n",
      "Epoch 27/100\n",
      "17/17 [==============================] - 0s 4ms/step - loss: 0.4599 - accuracy: 0.8537\n",
      "Epoch 28/100\n",
      "17/17 [==============================] - 0s 4ms/step - loss: 0.4551 - accuracy: 0.8537\n",
      "Epoch 29/100\n",
      "17/17 [==============================] - 0s 4ms/step - loss: 0.4510 - accuracy: 0.8537\n",
      "Epoch 30/100\n",
      "17/17 [==============================] - 0s 4ms/step - loss: 0.4467 - accuracy: 0.8415\n",
      "Epoch 31/100\n",
      "17/17 [==============================] - 0s 4ms/step - loss: 0.4424 - accuracy: 0.8415\n",
      "Epoch 32/100\n",
      "17/17 [==============================] - 0s 4ms/step - loss: 0.4383 - accuracy: 0.8415\n",
      "Epoch 33/100\n",
      "17/17 [==============================] - 0s 4ms/step - loss: 0.4346 - accuracy: 0.8232\n",
      "Epoch 34/100\n",
      "17/17 [==============================] - 0s 4ms/step - loss: 0.4295 - accuracy: 0.8171\n",
      "Epoch 35/100\n",
      "17/17 [==============================] - 0s 4ms/step - loss: 0.4232 - accuracy: 0.8354\n",
      "Epoch 36/100\n",
      "17/17 [==============================] - 0s 4ms/step - loss: 0.4177 - accuracy: 0.8110\n",
      "Epoch 37/100\n",
      "17/17 [==============================] - 0s 4ms/step - loss: 0.4121 - accuracy: 0.8232\n",
      "Epoch 38/100\n",
      "17/17 [==============================] - 0s 4ms/step - loss: 0.4067 - accuracy: 0.8415\n",
      "Epoch 39/100\n",
      "17/17 [==============================] - 0s 4ms/step - loss: 0.4018 - accuracy: 0.8415\n",
      "Epoch 40/100\n",
      "17/17 [==============================] - 0s 4ms/step - loss: 0.3969 - accuracy: 0.8415\n",
      "Epoch 41/100\n",
      "17/17 [==============================] - 0s 4ms/step - loss: 0.3919 - accuracy: 0.8415\n",
      "Epoch 42/100\n",
      "17/17 [==============================] - 0s 4ms/step - loss: 0.3865 - accuracy: 0.8415\n",
      "Epoch 43/100\n",
      "17/17 [==============================] - 0s 4ms/step - loss: 0.3814 - accuracy: 0.8476\n",
      "Epoch 44/100\n",
      "17/17 [==============================] - 0s 4ms/step - loss: 0.3770 - accuracy: 0.8476\n",
      "Epoch 45/100\n",
      "17/17 [==============================] - 0s 4ms/step - loss: 0.3729 - accuracy: 0.8476\n",
      "Epoch 46/100\n",
      "17/17 [==============================] - 0s 4ms/step - loss: 0.3691 - accuracy: 0.8476\n",
      "Epoch 47/100\n",
      "17/17 [==============================] - 0s 4ms/step - loss: 0.3657 - accuracy: 0.8476\n",
      "Epoch 48/100\n",
      "17/17 [==============================] - 0s 4ms/step - loss: 0.3628 - accuracy: 0.8476: 0s - loss: 0.3417 - accuracy: 0.85\n",
      "Epoch 49/100\n",
      "17/17 [==============================] - 0s 4ms/step - loss: 0.3591 - accuracy: 0.8476\n",
      "Epoch 50/100\n",
      "17/17 [==============================] - 0s 5ms/step - loss: 0.3567 - accuracy: 0.8476\n",
      "Epoch 51/100\n",
      "17/17 [==============================] - 0s 13ms/step - loss: 0.3541 - accuracy: 0.8537 0s - loss: 0.3580 - accuracy: 0.85\n",
      "Epoch 52/100\n",
      "17/17 [==============================] - 0s 6ms/step - loss: 0.3521 - accuracy: 0.8598\n",
      "Epoch 53/100\n",
      "17/17 [==============================] - 0s 6ms/step - loss: 0.3500 - accuracy: 0.8476\n",
      "Epoch 54/100\n",
      "17/17 [==============================] - 0s 5ms/step - loss: 0.3482 - accuracy: 0.8537\n",
      "Epoch 55/100\n",
      "17/17 [==============================] - 0s 6ms/step - loss: 0.3467 - accuracy: 0.8598\n",
      "Epoch 56/100\n",
      "17/17 [==============================] - 0s 5ms/step - loss: 0.3449 - accuracy: 0.8476\n",
      "Epoch 57/100\n",
      "17/17 [==============================] - 0s 4ms/step - loss: 0.3437 - accuracy: 0.8476\n",
      "Epoch 58/100\n",
      "17/17 [==============================] - 0s 4ms/step - loss: 0.3430 - accuracy: 0.8537\n",
      "Epoch 59/100\n",
      "17/17 [==============================] - 0s 5ms/step - loss: 0.3410 - accuracy: 0.8476\n",
      "Epoch 60/100\n",
      "17/17 [==============================] - 0s 8ms/step - loss: 0.3398 - accuracy: 0.8537\n",
      "Epoch 61/100\n",
      "17/17 [==============================] - 0s 4ms/step - loss: 0.3386 - accuracy: 0.8598\n",
      "Epoch 62/100\n",
      "17/17 [==============================] - 0s 4ms/step - loss: 0.3375 - accuracy: 0.8598\n",
      "Epoch 63/100\n",
      "17/17 [==============================] - 0s 4ms/step - loss: 0.3367 - accuracy: 0.8598\n",
      "Epoch 64/100\n",
      "17/17 [==============================] - 0s 4ms/step - loss: 0.3356 - accuracy: 0.8598\n",
      "Epoch 65/100\n",
      "17/17 [==============================] - 0s 4ms/step - loss: 0.3343 - accuracy: 0.8598\n",
      "Epoch 66/100\n",
      "17/17 [==============================] - 0s 4ms/step - loss: 0.3332 - accuracy: 0.8598\n",
      "Epoch 67/100\n",
      "17/17 [==============================] - 0s 4ms/step - loss: 0.3326 - accuracy: 0.8598\n",
      "Epoch 68/100\n",
      "17/17 [==============================] - 0s 4ms/step - loss: 0.3318 - accuracy: 0.8659\n",
      "Epoch 69/100\n",
      "17/17 [==============================] - 0s 4ms/step - loss: 0.3309 - accuracy: 0.8598\n",
      "Epoch 70/100\n",
      "17/17 [==============================] - 0s 5ms/step - loss: 0.3294 - accuracy: 0.8659\n",
      "Epoch 71/100\n",
      "17/17 [==============================] - 0s 4ms/step - loss: 0.3287 - accuracy: 0.8659\n",
      "Epoch 72/100\n",
      "17/17 [==============================] - ETA: 0s - loss: 0.3575 - accuracy: 0.85 - 0s 5ms/step - loss: 0.3280 - accuracy: 0.8659\n",
      "Epoch 73/100\n",
      "17/17 [==============================] - 0s 4ms/step - loss: 0.3273 - accuracy: 0.8659\n",
      "Epoch 74/100\n",
      "17/17 [==============================] - 0s 4ms/step - loss: 0.3265 - accuracy: 0.8659\n",
      "Epoch 75/100\n",
      "17/17 [==============================] - ETA: 0s - loss: 0.3432 - accuracy: 0.85 - 0s 4ms/step - loss: 0.3258 - accuracy: 0.8659\n",
      "Epoch 76/100\n",
      "17/17 [==============================] - 0s 4ms/step - loss: 0.3248 - accuracy: 0.8659\n",
      "Epoch 77/100\n",
      "17/17 [==============================] - 0s 4ms/step - loss: 0.3243 - accuracy: 0.8659\n",
      "Epoch 78/100\n",
      "17/17 [==============================] - ETA: 0s - loss: 0.3320 - accuracy: 0.86 - 0s 4ms/step - loss: 0.3235 - accuracy: 0.8659\n",
      "Epoch 79/100\n",
      "17/17 [==============================] - 0s 4ms/step - loss: 0.3231 - accuracy: 0.8659\n",
      "Epoch 80/100\n",
      "17/17 [==============================] - 0s 4ms/step - loss: 0.3223 - accuracy: 0.8659\n",
      "Epoch 81/100\n"
     ]
    },
    {
     "name": "stdout",
     "output_type": "stream",
     "text": [
      "17/17 [==============================] - 0s 4ms/step - loss: 0.3214 - accuracy: 0.8659\n",
      "Epoch 82/100\n",
      "17/17 [==============================] - 0s 4ms/step - loss: 0.3208 - accuracy: 0.8659: 0s - loss: 0.3085 - accuracy: 0.86\n",
      "Epoch 83/100\n",
      "17/17 [==============================] - 0s 4ms/step - loss: 0.3205 - accuracy: 0.8659\n",
      "Epoch 84/100\n",
      "17/17 [==============================] - 0s 5ms/step - loss: 0.3194 - accuracy: 0.8659\n",
      "Epoch 85/100\n",
      "17/17 [==============================] - 0s 6ms/step - loss: 0.3192 - accuracy: 0.8659\n",
      "Epoch 86/100\n",
      "17/17 [==============================] - 0s 5ms/step - loss: 0.3182 - accuracy: 0.8659\n",
      "Epoch 87/100\n",
      "17/17 [==============================] - 0s 5ms/step - loss: 0.3179 - accuracy: 0.8720\n",
      "Epoch 88/100\n",
      "17/17 [==============================] - 0s 4ms/step - loss: 0.3171 - accuracy: 0.8659\n",
      "Epoch 89/100\n",
      "17/17 [==============================] - 0s 4ms/step - loss: 0.3167 - accuracy: 0.8659\n",
      "Epoch 90/100\n",
      "17/17 [==============================] - 0s 4ms/step - loss: 0.3159 - accuracy: 0.8720\n",
      "Epoch 91/100\n",
      "17/17 [==============================] - 0s 4ms/step - loss: 0.3153 - accuracy: 0.8720\n",
      "Epoch 92/100\n",
      "17/17 [==============================] - 0s 4ms/step - loss: 0.3155 - accuracy: 0.8720\n",
      "Epoch 93/100\n",
      "17/17 [==============================] - 0s 5ms/step - loss: 0.3141 - accuracy: 0.8720\n",
      "Epoch 94/100\n",
      "17/17 [==============================] - 0s 5ms/step - loss: 0.3140 - accuracy: 0.8659\n",
      "Epoch 95/100\n",
      "17/17 [==============================] - 0s 4ms/step - loss: 0.3134 - accuracy: 0.8659\n",
      "Epoch 96/100\n",
      "17/17 [==============================] - 0s 4ms/step - loss: 0.3126 - accuracy: 0.8659\n",
      "Epoch 97/100\n",
      "17/17 [==============================] - 0s 4ms/step - loss: 0.3122 - accuracy: 0.8598\n",
      "Epoch 98/100\n",
      "17/17 [==============================] - 0s 4ms/step - loss: 0.3114 - accuracy: 0.8598\n",
      "Epoch 99/100\n",
      "17/17 [==============================] - 0s 4ms/step - loss: 0.3114 - accuracy: 0.8598\n",
      "Epoch 100/100\n",
      "17/17 [==============================] - 0s 4ms/step - loss: 0.3106 - accuracy: 0.8598\n"
     ]
    },
    {
     "data": {
      "text/plain": [
       "<tensorflow.python.keras.callbacks.History at 0x28adc2256a0>"
      ]
     },
     "execution_count": 61,
     "metadata": {},
     "output_type": "execute_result"
    }
   ],
   "source": [
    "# Fitting the ANN to the Training set\n",
    "cnn1.fit(X_train_opt, y_train, batch_size=10, epochs=100)"
   ]
  },
  {
   "cell_type": "markdown",
   "metadata": {},
   "source": [
    "    Для побудованої та навченної нейронної мережі оцінимо класи автомобілів у тестовій вибірці, побудуємо матрицю невідповідностей та з неї порахуємо метрику точності Accuracy."
   ]
  },
  {
   "cell_type": "code",
   "execution_count": 62,
   "metadata": {},
   "outputs": [],
   "source": [
    "# Predicting the Test set results\n",
    "y_pred_cnn1=cnn1.predict(X_test_opt)\n",
    "y_pred_cnn1=(y_pred_cnn1>0.5)"
   ]
  },
  {
   "cell_type": "code",
   "execution_count": 63,
   "metadata": {},
   "outputs": [
    {
     "name": "stdout",
     "output_type": "stream",
     "text": [
      "[[16  1]\n",
      " [ 2 22]]\n"
     ]
    }
   ],
   "source": [
    "# Making the Confusion Matrix\n",
    "from sklearn.metrics import confusion_matrix\n",
    "cnn1_cm=confusion_matrix(y_test, y_pred_cnn1)\n",
    "print(cnn1_cm)"
   ]
  },
  {
   "cell_type": "code",
   "execution_count": 64,
   "metadata": {},
   "outputs": [
    {
     "data": {
      "text/plain": [
       "0.926829268292683"
      ]
     },
     "execution_count": 64,
     "metadata": {},
     "output_type": "execute_result"
    }
   ],
   "source": [
    "# Accuracy Score\n",
    "cnn1_score=(cnn1_cm[0, 0]+cnn1_cm[1, 1])/(cnn1_cm[0, 0]+cnn1_cm[1, 1]+cnn1_cm[0, 1]+cnn1_cm[1, 0])\n",
    "cnn1_score"
   ]
  },
  {
   "cell_type": "markdown",
   "metadata": {},
   "source": [
    "    Було отримано якісну модель з точністю класифікації 92,7%. Така модель визначисла 1 низькоризиковий автомобіля як високоризиковий і 2 високиризикових - як низькоризикові."
   ]
  },
  {
   "cell_type": "markdown",
   "metadata": {},
   "source": [
    "    Далі було побудовано нейронну мережу з архітектурою 8-3-1 і функціями активації relu і sigmoid. Для такої мережі проведемо навчання партіями по 10 протягом 100 епох."
   ]
  },
  {
   "cell_type": "code",
   "execution_count": 65,
   "metadata": {},
   "outputs": [],
   "source": [
    "# Initialising the ANN\n",
    "cnn2=Sequential()\n",
    "\n",
    "# Adding the input layer\n",
    "cnn2.add(Input(shape=(8,)))\n",
    "\n",
    "# Adding the hidden layer\n",
    "cnn2.add(Dense(3, activation='relu'))\n",
    "\n",
    "# Adding the output layer\n",
    "cnn2.add(Dense(1, activation='sigmoid'))\n",
    "\n",
    "# Compiling the ANN\n",
    "cnn2.compile(optimizer='adam', loss='binary_crossentropy', metrics=['accuracy'])"
   ]
  },
  {
   "cell_type": "code",
   "execution_count": 66,
   "metadata": {},
   "outputs": [
    {
     "name": "stdout",
     "output_type": "stream",
     "text": [
      "Epoch 1/100\n",
      "17/17 [==============================] - 0s 5ms/step - loss: 0.7007 - accuracy: 0.6707\n",
      "Epoch 2/100\n",
      "17/17 [==============================] - 0s 4ms/step - loss: 0.6918 - accuracy: 0.6768\n",
      "Epoch 3/100\n",
      "17/17 [==============================] - 0s 5ms/step - loss: 0.6831 - accuracy: 0.6768\n",
      "Epoch 4/100\n",
      "17/17 [==============================] - 0s 5ms/step - loss: 0.6751 - accuracy: 0.6829\n",
      "Epoch 5/100\n",
      "17/17 [==============================] - 0s 4ms/step - loss: 0.6665 - accuracy: 0.6951\n",
      "Epoch 6/100\n",
      "17/17 [==============================] - 0s 5ms/step - loss: 0.6580 - accuracy: 0.7012\n",
      "Epoch 7/100\n",
      "17/17 [==============================] - 0s 5ms/step - loss: 0.6494 - accuracy: 0.6951\n",
      "Epoch 8/100\n",
      "17/17 [==============================] - 0s 5ms/step - loss: 0.6409 - accuracy: 0.7073\n",
      "Epoch 9/100\n",
      "17/17 [==============================] - 0s 4ms/step - loss: 0.6332 - accuracy: 0.7012\n",
      "Epoch 10/100\n",
      "17/17 [==============================] - 0s 6ms/step - loss: 0.6247 - accuracy: 0.7134\n",
      "Epoch 11/100\n",
      "17/17 [==============================] - 0s 5ms/step - loss: 0.6170 - accuracy: 0.7134\n",
      "Epoch 12/100\n",
      "17/17 [==============================] - ETA: 0s - loss: 0.5994 - accuracy: 0.72 - 0s 4ms/step - loss: 0.6091 - accuracy: 0.7073\n",
      "Epoch 13/100\n",
      "17/17 [==============================] - 0s 4ms/step - loss: 0.6019 - accuracy: 0.7317\n",
      "Epoch 14/100\n",
      "17/17 [==============================] - 0s 4ms/step - loss: 0.5951 - accuracy: 0.7500\n",
      "Epoch 15/100\n",
      "17/17 [==============================] - 0s 5ms/step - loss: 0.5884 - accuracy: 0.7561\n",
      "Epoch 16/100\n",
      "17/17 [==============================] - 0s 5ms/step - loss: 0.5818 - accuracy: 0.7622\n",
      "Epoch 17/100\n",
      "17/17 [==============================] - 0s 9ms/step - loss: 0.5759 - accuracy: 0.7622: 0s - loss: 0.5860 - accuracy: 0.74\n",
      "Epoch 18/100\n",
      "17/17 [==============================] - 0s 6ms/step - loss: 0.5696 - accuracy: 0.7622\n",
      "Epoch 19/100\n",
      "17/17 [==============================] - 0s 6ms/step - loss: 0.5628 - accuracy: 0.7622\n",
      "Epoch 20/100\n",
      "17/17 [==============================] - 0s 6ms/step - loss: 0.5560 - accuracy: 0.7805\n",
      "Epoch 21/100\n",
      "17/17 [==============================] - 0s 6ms/step - loss: 0.5495 - accuracy: 0.7805\n",
      "Epoch 22/100\n",
      "17/17 [==============================] - 0s 5ms/step - loss: 0.5430 - accuracy: 0.7805\n",
      "Epoch 23/100\n",
      "17/17 [==============================] - 0s 5ms/step - loss: 0.5355 - accuracy: 0.7805\n",
      "Epoch 24/100\n",
      "17/17 [==============================] - 0s 8ms/step - loss: 0.5289 - accuracy: 0.7805\n",
      "Epoch 25/100\n",
      "17/17 [==============================] - 0s 7ms/step - loss: 0.5220 - accuracy: 0.7805\n",
      "Epoch 26/100\n",
      "17/17 [==============================] - 0s 6ms/step - loss: 0.5152 - accuracy: 0.7866\n",
      "Epoch 27/100\n",
      "17/17 [==============================] - 0s 5ms/step - loss: 0.5080 - accuracy: 0.7866\n",
      "Epoch 28/100\n",
      "17/17 [==============================] - 0s 8ms/step - loss: 0.5009 - accuracy: 0.7866\n",
      "Epoch 29/100\n",
      "17/17 [==============================] - 0s 7ms/step - loss: 0.4941 - accuracy: 0.7988\n",
      "Epoch 30/100\n",
      "17/17 [==============================] - 0s 5ms/step - loss: 0.4874 - accuracy: 0.7988\n",
      "Epoch 31/100\n",
      "17/17 [==============================] - 0s 8ms/step - loss: 0.4807 - accuracy: 0.7988\n",
      "Epoch 32/100\n",
      "17/17 [==============================] - 0s 9ms/step - loss: 0.4741 - accuracy: 0.7988\n",
      "Epoch 33/100\n",
      "17/17 [==============================] - 0s 11ms/step - loss: 0.4677 - accuracy: 0.7988 0s - loss: 0.4639 - accuracy: 0.80\n",
      "Epoch 34/100\n",
      "17/17 [==============================] - 0s 7ms/step - loss: 0.4613 - accuracy: 0.7988\n",
      "Epoch 35/100\n",
      "17/17 [==============================] - 0s 7ms/step - loss: 0.4555 - accuracy: 0.7988\n",
      "Epoch 36/100\n",
      "17/17 [==============================] - 0s 9ms/step - loss: 0.4498 - accuracy: 0.8049\n",
      "Epoch 37/100\n",
      "17/17 [==============================] - ETA: 0s - loss: 0.4406 - accuracy: 0.80 - 0s 7ms/step - loss: 0.4437 - accuracy: 0.8049\n",
      "Epoch 38/100\n",
      "17/17 [==============================] - 0s 7ms/step - loss: 0.4379 - accuracy: 0.8110\n",
      "Epoch 39/100\n",
      "17/17 [==============================] - 0s 7ms/step - loss: 0.4325 - accuracy: 0.8110\n",
      "Epoch 40/100\n",
      "17/17 [==============================] - 0s 13ms/step - loss: 0.4273 - accuracy: 0.8110\n",
      "Epoch 41/100\n",
      "17/17 [==============================] - 0s 11ms/step - loss: 0.4227 - accuracy: 0.8110\n",
      "Epoch 42/100\n",
      "17/17 [==============================] - 0s 12ms/step - loss: 0.4178 - accuracy: 0.8171\n",
      "Epoch 43/100\n",
      "17/17 [==============================] - 0s 9ms/step - loss: 0.4135 - accuracy: 0.8171\n",
      "Epoch 44/100\n",
      "17/17 [==============================] - 0s 7ms/step - loss: 0.4089 - accuracy: 0.8171\n",
      "Epoch 45/100\n",
      "17/17 [==============================] - 0s 5ms/step - loss: 0.4047 - accuracy: 0.8171\n",
      "Epoch 46/100\n",
      "17/17 [==============================] - 0s 9ms/step - loss: 0.4009 - accuracy: 0.8171\n",
      "Epoch 47/100\n",
      "17/17 [==============================] - 0s 7ms/step - loss: 0.3970 - accuracy: 0.8171\n",
      "Epoch 48/100\n",
      "17/17 [==============================] - 0s 6ms/step - loss: 0.3929 - accuracy: 0.8171\n",
      "Epoch 49/100\n",
      "17/17 [==============================] - 0s 5ms/step - loss: 0.3892 - accuracy: 0.8171\n",
      "Epoch 50/100\n",
      "17/17 [==============================] - 0s 5ms/step - loss: 0.3858 - accuracy: 0.8171\n",
      "Epoch 51/100\n",
      "17/17 [==============================] - 0s 4ms/step - loss: 0.3821 - accuracy: 0.8171\n",
      "Epoch 52/100\n",
      "17/17 [==============================] - 0s 5ms/step - loss: 0.3788 - accuracy: 0.8110\n",
      "Epoch 53/100\n",
      "17/17 [==============================] - 0s 5ms/step - loss: 0.3754 - accuracy: 0.8110\n",
      "Epoch 54/100\n",
      "17/17 [==============================] - 0s 4ms/step - loss: 0.3723 - accuracy: 0.8110\n",
      "Epoch 55/100\n",
      "17/17 [==============================] - 0s 4ms/step - loss: 0.3692 - accuracy: 0.8110\n",
      "Epoch 56/100\n",
      "17/17 [==============================] - 0s 7ms/step - loss: 0.3662 - accuracy: 0.8110\n",
      "Epoch 57/100\n",
      "17/17 [==============================] - 0s 9ms/step - loss: 0.3635 - accuracy: 0.8232\n",
      "Epoch 58/100\n",
      "17/17 [==============================] - 0s 5ms/step - loss: 0.3611 - accuracy: 0.8232\n",
      "Epoch 59/100\n",
      "17/17 [==============================] - 0s 6ms/step - loss: 0.3581 - accuracy: 0.8232\n",
      "Epoch 60/100\n",
      "17/17 [==============================] - 0s 7ms/step - loss: 0.3556 - accuracy: 0.8293\n",
      "Epoch 61/100\n",
      "17/17 [==============================] - 0s 7ms/step - loss: 0.3534 - accuracy: 0.8293\n",
      "Epoch 62/100\n",
      "17/17 [==============================] - 0s 9ms/step - loss: 0.3513 - accuracy: 0.8232\n",
      "Epoch 63/100\n",
      "17/17 [==============================] - 0s 9ms/step - loss: 0.3490 - accuracy: 0.8232\n",
      "Epoch 64/100\n",
      "17/17 [==============================] - 0s 10ms/step - loss: 0.3470 - accuracy: 0.8232\n",
      "Epoch 65/100\n",
      "17/17 [==============================] - 0s 7ms/step - loss: 0.3451 - accuracy: 0.8293\n",
      "Epoch 66/100\n",
      "17/17 [==============================] - 0s 8ms/step - loss: 0.3434 - accuracy: 0.8293\n",
      "Epoch 67/100\n",
      "17/17 [==============================] - 0s 6ms/step - loss: 0.3419 - accuracy: 0.8354\n",
      "Epoch 68/100\n",
      "17/17 [==============================] - 0s 5ms/step - loss: 0.3396 - accuracy: 0.8354\n",
      "Epoch 69/100\n",
      "17/17 [==============================] - 0s 6ms/step - loss: 0.3377 - accuracy: 0.8354\n",
      "Epoch 70/100\n",
      "17/17 [==============================] - 0s 5ms/step - loss: 0.3360 - accuracy: 0.8415\n",
      "Epoch 71/100\n",
      "17/17 [==============================] - 0s 5ms/step - loss: 0.3344 - accuracy: 0.8415\n",
      "Epoch 72/100\n",
      "17/17 [==============================] - 0s 7ms/step - loss: 0.3333 - accuracy: 0.8415\n",
      "Epoch 73/100\n",
      "17/17 [==============================] - 0s 5ms/step - loss: 0.3312 - accuracy: 0.8415\n",
      "Epoch 74/100\n",
      "17/17 [==============================] - 0s 6ms/step - loss: 0.3302 - accuracy: 0.8415\n",
      "Epoch 75/100\n",
      "17/17 [==============================] - 0s 4ms/step - loss: 0.3287 - accuracy: 0.8415\n",
      "Epoch 76/100\n",
      "17/17 [==============================] - 0s 5ms/step - loss: 0.3274 - accuracy: 0.8415\n",
      "Epoch 77/100\n",
      "17/17 [==============================] - 0s 8ms/step - loss: 0.3260 - accuracy: 0.8415\n",
      "Epoch 78/100\n",
      "17/17 [==============================] - 0s 5ms/step - loss: 0.3248 - accuracy: 0.8415\n",
      "Epoch 79/100\n",
      "17/17 [==============================] - 0s 4ms/step - loss: 0.3236 - accuracy: 0.8354\n",
      "Epoch 80/100\n",
      "17/17 [==============================] - 0s 4ms/step - loss: 0.3227 - accuracy: 0.8354\n",
      "Epoch 81/100\n"
     ]
    },
    {
     "name": "stdout",
     "output_type": "stream",
     "text": [
      "17/17 [==============================] - 0s 5ms/step - loss: 0.3224 - accuracy: 0.8354\n",
      "Epoch 82/100\n",
      "17/17 [==============================] - 0s 5ms/step - loss: 0.3206 - accuracy: 0.8415\n",
      "Epoch 83/100\n",
      "17/17 [==============================] - 0s 5ms/step - loss: 0.3195 - accuracy: 0.8354\n",
      "Epoch 84/100\n",
      "17/17 [==============================] - 0s 4ms/step - loss: 0.3185 - accuracy: 0.8354\n",
      "Epoch 85/100\n",
      "17/17 [==============================] - 0s 6ms/step - loss: 0.3175 - accuracy: 0.8415\n",
      "Epoch 86/100\n",
      "17/17 [==============================] - 0s 4ms/step - loss: 0.3164 - accuracy: 0.8415\n",
      "Epoch 87/100\n",
      "17/17 [==============================] - 0s 4ms/step - loss: 0.3157 - accuracy: 0.8537\n",
      "Epoch 88/100\n",
      "17/17 [==============================] - 0s 4ms/step - loss: 0.3148 - accuracy: 0.8537\n",
      "Epoch 89/100\n",
      "17/17 [==============================] - 0s 4ms/step - loss: 0.3140 - accuracy: 0.8476\n",
      "Epoch 90/100\n",
      "17/17 [==============================] - 0s 4ms/step - loss: 0.3137 - accuracy: 0.8476\n",
      "Epoch 91/100\n",
      "17/17 [==============================] - 0s 5ms/step - loss: 0.3122 - accuracy: 0.8476\n",
      "Epoch 92/100\n",
      "17/17 [==============================] - 0s 5ms/step - loss: 0.3115 - accuracy: 0.8476\n",
      "Epoch 93/100\n",
      "17/17 [==============================] - 0s 4ms/step - loss: 0.3108 - accuracy: 0.8415\n",
      "Epoch 94/100\n",
      "17/17 [==============================] - 0s 9ms/step - loss: 0.3100 - accuracy: 0.8415\n",
      "Epoch 95/100\n",
      "17/17 [==============================] - 0s 5ms/step - loss: 0.3093 - accuracy: 0.8415\n",
      "Epoch 96/100\n",
      "17/17 [==============================] - 0s 6ms/step - loss: 0.3087 - accuracy: 0.8415\n",
      "Epoch 97/100\n",
      "17/17 [==============================] - 0s 6ms/step - loss: 0.3080 - accuracy: 0.8415\n",
      "Epoch 98/100\n",
      "17/17 [==============================] - 0s 7ms/step - loss: 0.3071 - accuracy: 0.8415\n",
      "Epoch 99/100\n",
      "17/17 [==============================] - 0s 5ms/step - loss: 0.3068 - accuracy: 0.8415\n",
      "Epoch 100/100\n",
      "17/17 [==============================] - 0s 4ms/step - loss: 0.3061 - accuracy: 0.8415\n"
     ]
    },
    {
     "data": {
      "text/plain": [
       "<tensorflow.python.keras.callbacks.History at 0x28adc6baa90>"
      ]
     },
     "execution_count": 66,
     "metadata": {},
     "output_type": "execute_result"
    }
   ],
   "source": [
    "# Fitting the ANN to the Training set\n",
    "cnn2.fit(X_train_opt, y_train, batch_size=10, epochs=100)"
   ]
  },
  {
   "cell_type": "markdown",
   "metadata": {},
   "source": [
    "    Для побудованої та навченної нейронної мережі оцінимо класи автомобілів у тестовій вибірці, побудуємо матрицю невідповідностей та з неї порахуємо метрику точності Accuracy."
   ]
  },
  {
   "cell_type": "code",
   "execution_count": 67,
   "metadata": {},
   "outputs": [],
   "source": [
    "# Predicting the Test set results\n",
    "y_pred_cnn2=cnn2.predict(X_test_opt)\n",
    "y_pred_cnn2=(y_pred_cnn2>0.5)"
   ]
  },
  {
   "cell_type": "code",
   "execution_count": 68,
   "metadata": {},
   "outputs": [
    {
     "name": "stdout",
     "output_type": "stream",
     "text": [
      "[[15  2]\n",
      " [ 2 22]]\n"
     ]
    }
   ],
   "source": [
    "# Making the Confusion Matrix\n",
    "from sklearn.metrics import confusion_matrix\n",
    "cnn2_cm=confusion_matrix(y_test, y_pred_cnn2)\n",
    "print(cnn2_cm)"
   ]
  },
  {
   "cell_type": "code",
   "execution_count": 69,
   "metadata": {},
   "outputs": [
    {
     "data": {
      "text/plain": [
       "0.9024390243902439"
      ]
     },
     "execution_count": 69,
     "metadata": {},
     "output_type": "execute_result"
    }
   ],
   "source": [
    "# Accuracy Score\n",
    "cnn2_score=(cnn2_cm[0, 0]+cnn2_cm[1, 1])/(cnn2_cm[0, 0]+cnn2_cm[1, 1]+cnn2_cm[0, 1]+cnn2_cm[1, 0])\n",
    "cnn2_score"
   ]
  },
  {
   "cell_type": "markdown",
   "metadata": {},
   "source": [
    "    Було отримано модель з точністю класифікації 90%. Така модель визначила 2 низькоризикові автомобілі як високоризикові і 2 високиризикові - як низькоризикові."
   ]
  },
  {
   "cell_type": "markdown",
   "metadata": {},
   "source": [
    "    Далі було побудовано нейронну мережу з архітектурою 8-7-2-1 і функціями активації tanh, tanh і sigmoid. Для такої мережі проведемо навчання партіями по 10 протягом 100 епох."
   ]
  },
  {
   "cell_type": "code",
   "execution_count": 70,
   "metadata": {},
   "outputs": [],
   "source": [
    "# Initialising the ANN\n",
    "cnn3=Sequential()\n",
    "\n",
    "# Adding the input layer\n",
    "cnn3.add(Input(shape=(8,)))\n",
    "\n",
    "# Adding the first hidden layer\n",
    "cnn3.add(Dense(7, activation='tanh'))\n",
    "\n",
    "# Adding the second hidden layer\n",
    "cnn3.add(Dense(2, activation='tanh'))\n",
    "\n",
    "# Adding the output layer\n",
    "cnn3.add(Dense(1, activation='sigmoid'))\n",
    "\n",
    "# Compiling the ANN\n",
    "cnn3.compile(optimizer='adam', loss='binary_crossentropy', metrics=['accuracy'])"
   ]
  },
  {
   "cell_type": "code",
   "execution_count": 71,
   "metadata": {},
   "outputs": [
    {
     "name": "stdout",
     "output_type": "stream",
     "text": [
      "Epoch 1/100\n",
      "17/17 [==============================] - 0s 7ms/step - loss: 0.7242 - accuracy: 0.5183\n",
      "Epoch 2/100\n",
      "17/17 [==============================] - 0s 6ms/step - loss: 0.6839 - accuracy: 0.5976\n",
      "Epoch 3/100\n",
      "17/17 [==============================] - 0s 6ms/step - loss: 0.6505 - accuracy: 0.6220: 0s - loss: 0.6187 - accuracy: 0.65\n",
      "Epoch 4/100\n",
      "17/17 [==============================] - 0s 6ms/step - loss: 0.6237 - accuracy: 0.6585\n",
      "Epoch 5/100\n",
      "17/17 [==============================] - 0s 7ms/step - loss: 0.6010 - accuracy: 0.6829\n",
      "Epoch 6/100\n",
      "17/17 [==============================] - 0s 6ms/step - loss: 0.5817 - accuracy: 0.7134\n",
      "Epoch 7/100\n",
      "17/17 [==============================] - 0s 8ms/step - loss: 0.5643 - accuracy: 0.7317\n",
      "Epoch 8/100\n",
      "17/17 [==============================] - 0s 6ms/step - loss: 0.5501 - accuracy: 0.7500\n",
      "Epoch 9/100\n",
      "17/17 [==============================] - 0s 5ms/step - loss: 0.5349 - accuracy: 0.7683: 0s - loss: 0.5487 - accuracy: 0.75\n",
      "Epoch 10/100\n",
      "17/17 [==============================] - 0s 5ms/step - loss: 0.5221 - accuracy: 0.7744\n",
      "Epoch 11/100\n",
      "17/17 [==============================] - 0s 5ms/step - loss: 0.5104 - accuracy: 0.7805\n",
      "Epoch 12/100\n",
      "17/17 [==============================] - 0s 5ms/step - loss: 0.5000 - accuracy: 0.7866\n",
      "Epoch 13/100\n",
      "17/17 [==============================] - 0s 6ms/step - loss: 0.4893 - accuracy: 0.7805\n",
      "Epoch 14/100\n",
      "17/17 [==============================] - 0s 5ms/step - loss: 0.4794 - accuracy: 0.7866\n",
      "Epoch 15/100\n",
      "17/17 [==============================] - 0s 6ms/step - loss: 0.4702 - accuracy: 0.7988\n",
      "Epoch 16/100\n",
      "17/17 [==============================] - 0s 5ms/step - loss: 0.4624 - accuracy: 0.7988\n",
      "Epoch 17/100\n",
      "17/17 [==============================] - 0s 5ms/step - loss: 0.4549 - accuracy: 0.8049\n",
      "Epoch 18/100\n",
      "17/17 [==============================] - 0s 5ms/step - loss: 0.4480 - accuracy: 0.7988\n",
      "Epoch 19/100\n",
      "17/17 [==============================] - 0s 6ms/step - loss: 0.4416 - accuracy: 0.8049\n",
      "Epoch 20/100\n",
      "17/17 [==============================] - 0s 6ms/step - loss: 0.4362 - accuracy: 0.8110\n",
      "Epoch 21/100\n",
      "17/17 [==============================] - 0s 5ms/step - loss: 0.4297 - accuracy: 0.8110\n",
      "Epoch 22/100\n",
      "17/17 [==============================] - 0s 5ms/step - loss: 0.4244 - accuracy: 0.8110\n",
      "Epoch 23/100\n",
      "17/17 [==============================] - 0s 6ms/step - loss: 0.4194 - accuracy: 0.8293\n",
      "Epoch 24/100\n",
      "17/17 [==============================] - ETA: 0s - loss: 0.3406 - accuracy: 0.87 - 0s 6ms/step - loss: 0.4153 - accuracy: 0.8293\n",
      "Epoch 25/100\n",
      "17/17 [==============================] - 0s 5ms/step - loss: 0.4112 - accuracy: 0.8293\n",
      "Epoch 26/100\n",
      "17/17 [==============================] - 0s 6ms/step - loss: 0.4059 - accuracy: 0.8293\n",
      "Epoch 27/100\n",
      "17/17 [==============================] - 0s 6ms/step - loss: 0.4023 - accuracy: 0.8110\n",
      "Epoch 28/100\n",
      "17/17 [==============================] - 0s 7ms/step - loss: 0.3984 - accuracy: 0.8171\n",
      "Epoch 29/100\n",
      "17/17 [==============================] - 0s 8ms/step - loss: 0.3945 - accuracy: 0.8293\n",
      "Epoch 30/100\n",
      "17/17 [==============================] - 0s 7ms/step - loss: 0.3911 - accuracy: 0.8293\n",
      "Epoch 31/100\n",
      "17/17 [==============================] - ETA: 0s - loss: 0.3992 - accuracy: 0.81 - 0s 7ms/step - loss: 0.3878 - accuracy: 0.8171\n",
      "Epoch 32/100\n",
      "17/17 [==============================] - 0s 5ms/step - loss: 0.3839 - accuracy: 0.8171\n",
      "Epoch 33/100\n",
      "17/17 [==============================] - 0s 7ms/step - loss: 0.3813 - accuracy: 0.8293\n",
      "Epoch 34/100\n",
      "17/17 [==============================] - 0s 8ms/step - loss: 0.3779 - accuracy: 0.8354\n",
      "Epoch 35/100\n",
      "17/17 [==============================] - 0s 6ms/step - loss: 0.3746 - accuracy: 0.8354\n",
      "Epoch 36/100\n",
      "17/17 [==============================] - 0s 7ms/step - loss: 0.3721 - accuracy: 0.8293\n",
      "Epoch 37/100\n",
      "17/17 [==============================] - 0s 6ms/step - loss: 0.3700 - accuracy: 0.8415\n",
      "Epoch 38/100\n",
      "17/17 [==============================] - 0s 7ms/step - loss: 0.3676 - accuracy: 0.8293\n",
      "Epoch 39/100\n",
      "17/17 [==============================] - 0s 5ms/step - loss: 0.3633 - accuracy: 0.8293\n",
      "Epoch 40/100\n",
      "17/17 [==============================] - 0s 5ms/step - loss: 0.3611 - accuracy: 0.8232\n",
      "Epoch 41/100\n",
      "17/17 [==============================] - 0s 5ms/step - loss: 0.3588 - accuracy: 0.8232\n",
      "Epoch 42/100\n",
      "17/17 [==============================] - 0s 5ms/step - loss: 0.3567 - accuracy: 0.8354\n",
      "Epoch 43/100\n",
      "17/17 [==============================] - 0s 5ms/step - loss: 0.3540 - accuracy: 0.8415\n",
      "Epoch 44/100\n",
      "17/17 [==============================] - 0s 5ms/step - loss: 0.3516 - accuracy: 0.8415\n",
      "Epoch 45/100\n",
      "17/17 [==============================] - 0s 5ms/step - loss: 0.3499 - accuracy: 0.8232\n",
      "Epoch 46/100\n",
      "17/17 [==============================] - 0s 5ms/step - loss: 0.3485 - accuracy: 0.8171\n",
      "Epoch 47/100\n",
      "17/17 [==============================] - 0s 5ms/step - loss: 0.3453 - accuracy: 0.8232\n",
      "Epoch 48/100\n",
      "17/17 [==============================] - 0s 6ms/step - loss: 0.3427 - accuracy: 0.8232\n",
      "Epoch 49/100\n",
      "17/17 [==============================] - 0s 6ms/step - loss: 0.3409 - accuracy: 0.8232\n",
      "Epoch 50/100\n",
      "17/17 [==============================] - 0s 5ms/step - loss: 0.3388 - accuracy: 0.8171\n",
      "Epoch 51/100\n",
      "17/17 [==============================] - 0s 5ms/step - loss: 0.3376 - accuracy: 0.8232\n",
      "Epoch 52/100\n",
      "17/17 [==============================] - 0s 5ms/step - loss: 0.3357 - accuracy: 0.8293\n",
      "Epoch 53/100\n",
      "17/17 [==============================] - ETA: 0s - loss: 0.3287 - accuracy: 0.83 - 0s 8ms/step - loss: 0.3330 - accuracy: 0.8293\n",
      "Epoch 54/100\n",
      "17/17 [==============================] - 0s 6ms/step - loss: 0.3308 - accuracy: 0.8293\n",
      "Epoch 55/100\n",
      "17/17 [==============================] - 0s 5ms/step - loss: 0.3297 - accuracy: 0.8293\n",
      "Epoch 56/100\n",
      "17/17 [==============================] - 0s 5ms/step - loss: 0.3274 - accuracy: 0.8293\n",
      "Epoch 57/100\n",
      "17/17 [==============================] - 0s 6ms/step - loss: 0.3261 - accuracy: 0.8293\n",
      "Epoch 58/100\n",
      "17/17 [==============================] - 0s 5ms/step - loss: 0.3243 - accuracy: 0.8293\n",
      "Epoch 59/100\n",
      "17/17 [==============================] - 0s 7ms/step - loss: 0.3234 - accuracy: 0.8293\n",
      "Epoch 60/100\n",
      "17/17 [==============================] - 0s 6ms/step - loss: 0.3214 - accuracy: 0.8354\n",
      "Epoch 61/100\n",
      "17/17 [==============================] - 0s 6ms/step - loss: 0.3205 - accuracy: 0.8415\n",
      "Epoch 62/100\n",
      "17/17 [==============================] - 0s 6ms/step - loss: 0.3187 - accuracy: 0.8293\n",
      "Epoch 63/100\n",
      "17/17 [==============================] - 0s 5ms/step - loss: 0.3173 - accuracy: 0.8415\n",
      "Epoch 64/100\n",
      "17/17 [==============================] - 0s 5ms/step - loss: 0.3161 - accuracy: 0.8415\n",
      "Epoch 65/100\n",
      "17/17 [==============================] - 0s 5ms/step - loss: 0.3158 - accuracy: 0.8293\n",
      "Epoch 66/100\n",
      "17/17 [==============================] - 0s 4ms/step - loss: 0.3141 - accuracy: 0.8415\n",
      "Epoch 67/100\n",
      "17/17 [==============================] - 0s 5ms/step - loss: 0.3127 - accuracy: 0.8415\n",
      "Epoch 68/100\n",
      "17/17 [==============================] - 0s 5ms/step - loss: 0.3120 - accuracy: 0.8415\n",
      "Epoch 69/100\n",
      "17/17 [==============================] - 0s 7ms/step - loss: 0.3099 - accuracy: 0.8415\n",
      "Epoch 70/100\n",
      "17/17 [==============================] - 0s 5ms/step - loss: 0.3090 - accuracy: 0.8415\n",
      "Epoch 71/100\n",
      "17/17 [==============================] - 0s 6ms/step - loss: 0.3078 - accuracy: 0.8476\n",
      "Epoch 72/100\n",
      "17/17 [==============================] - 0s 5ms/step - loss: 0.3076 - accuracy: 0.8415\n",
      "Epoch 73/100\n",
      "17/17 [==============================] - 0s 6ms/step - loss: 0.3058 - accuracy: 0.8415\n",
      "Epoch 74/100\n",
      "17/17 [==============================] - 0s 6ms/step - loss: 0.3052 - accuracy: 0.8537\n",
      "Epoch 75/100\n",
      "17/17 [==============================] - 0s 5ms/step - loss: 0.3036 - accuracy: 0.8598: 0s - loss: 0.2989 - accuracy: 0.85\n",
      "Epoch 76/100\n",
      "17/17 [==============================] - 0s 6ms/step - loss: 0.3027 - accuracy: 0.8537\n",
      "Epoch 77/100\n",
      "17/17 [==============================] - 0s 5ms/step - loss: 0.3019 - accuracy: 0.8598\n",
      "Epoch 78/100\n",
      "17/17 [==============================] - 0s 5ms/step - loss: 0.3021 - accuracy: 0.8537\n",
      "Epoch 79/100\n",
      "17/17 [==============================] - 0s 5ms/step - loss: 0.2998 - accuracy: 0.8659\n",
      "Epoch 80/100\n"
     ]
    },
    {
     "name": "stdout",
     "output_type": "stream",
     "text": [
      "17/17 [==============================] - 0s 6ms/step - loss: 0.3003 - accuracy: 0.8659\n",
      "Epoch 81/100\n",
      "17/17 [==============================] - 0s 6ms/step - loss: 0.3003 - accuracy: 0.8659\n",
      "Epoch 82/100\n",
      "17/17 [==============================] - 0s 5ms/step - loss: 0.2979 - accuracy: 0.8659\n",
      "Epoch 83/100\n",
      "17/17 [==============================] - 0s 5ms/step - loss: 0.2973 - accuracy: 0.8598\n",
      "Epoch 84/100\n",
      "17/17 [==============================] - 0s 6ms/step - loss: 0.2954 - accuracy: 0.8659\n",
      "Epoch 85/100\n",
      "17/17 [==============================] - 0s 8ms/step - loss: 0.2951 - accuracy: 0.8720: 0s - loss: 0.2883 - accuracy: 0.\n",
      "Epoch 86/100\n",
      "17/17 [==============================] - 0s 5ms/step - loss: 0.2959 - accuracy: 0.8720\n",
      "Epoch 87/100\n",
      "17/17 [==============================] - 0s 7ms/step - loss: 0.2941 - accuracy: 0.8720\n",
      "Epoch 88/100\n",
      "17/17 [==============================] - 0s 8ms/step - loss: 0.2932 - accuracy: 0.8841\n",
      "Epoch 89/100\n",
      "17/17 [==============================] - 0s 7ms/step - loss: 0.2929 - accuracy: 0.8841\n",
      "Epoch 90/100\n",
      "17/17 [==============================] - 0s 6ms/step - loss: 0.2925 - accuracy: 0.8659\n",
      "Epoch 91/100\n",
      "17/17 [==============================] - 0s 5ms/step - loss: 0.2915 - accuracy: 0.8659\n",
      "Epoch 92/100\n",
      "17/17 [==============================] - 0s 5ms/step - loss: 0.2899 - accuracy: 0.8659\n",
      "Epoch 93/100\n",
      "17/17 [==============================] - 0s 5ms/step - loss: 0.2891 - accuracy: 0.8780\n",
      "Epoch 94/100\n",
      "17/17 [==============================] - 0s 5ms/step - loss: 0.2893 - accuracy: 0.8659\n",
      "Epoch 95/100\n",
      "17/17 [==============================] - 0s 5ms/step - loss: 0.2883 - accuracy: 0.8780\n",
      "Epoch 96/100\n",
      "17/17 [==============================] - 0s 6ms/step - loss: 0.2871 - accuracy: 0.8902\n",
      "Epoch 97/100\n",
      "17/17 [==============================] - 0s 5ms/step - loss: 0.2869 - accuracy: 0.8902\n",
      "Epoch 98/100\n",
      "17/17 [==============================] - 0s 5ms/step - loss: 0.2869 - accuracy: 0.8902\n",
      "Epoch 99/100\n",
      "17/17 [==============================] - 0s 5ms/step - loss: 0.2856 - accuracy: 0.8963\n",
      "Epoch 100/100\n",
      "17/17 [==============================] - 0s 5ms/step - loss: 0.2851 - accuracy: 0.9024\n"
     ]
    },
    {
     "data": {
      "text/plain": [
       "<tensorflow.python.keras.callbacks.History at 0x28adda65a00>"
      ]
     },
     "execution_count": 71,
     "metadata": {},
     "output_type": "execute_result"
    }
   ],
   "source": [
    "# Fitting the ANN to the Training set\n",
    "cnn3.fit(X_train_opt, y_train, batch_size=10, epochs=100)"
   ]
  },
  {
   "cell_type": "markdown",
   "metadata": {},
   "source": [
    "    Для побудованої та навченної нейронної мережі оцінимо класи автомобілів у тестовій вибірці, побудуємо матрицю невідповідностей та з неї порахуємо метрику точності Accuracy."
   ]
  },
  {
   "cell_type": "code",
   "execution_count": 72,
   "metadata": {},
   "outputs": [],
   "source": [
    "# Predicting the Test set results\n",
    "y_pred_cnn3=cnn3.predict(X_test_opt)\n",
    "y_pred_cnn3=(y_pred_cnn3>0.5)"
   ]
  },
  {
   "cell_type": "code",
   "execution_count": 73,
   "metadata": {},
   "outputs": [
    {
     "name": "stdout",
     "output_type": "stream",
     "text": [
      "[[14  3]\n",
      " [ 2 22]]\n"
     ]
    }
   ],
   "source": [
    "# Making the Confusion Matrix\n",
    "from sklearn.metrics import confusion_matrix\n",
    "cnn3_cm=confusion_matrix(y_test, y_pred_cnn3)\n",
    "print(cnn3_cm)"
   ]
  },
  {
   "cell_type": "code",
   "execution_count": 74,
   "metadata": {},
   "outputs": [
    {
     "data": {
      "text/plain": [
       "0.8780487804878049"
      ]
     },
     "execution_count": 74,
     "metadata": {},
     "output_type": "execute_result"
    }
   ],
   "source": [
    "# Accuracy Score\n",
    "cnn3_score=(cnn3_cm[0, 0]+cnn3_cm[1, 1])/(cnn3_cm[0, 0]+cnn3_cm[1, 1]+cnn3_cm[0, 1]+cnn3_cm[1, 0])\n",
    "cnn3_score"
   ]
  },
  {
   "cell_type": "markdown",
   "metadata": {},
   "source": [
    "    Було отримано модель з точністю класифікації 87,8%. Така модель визначила 3 низькоризикові автомобілі як високоризикові і 2 високиризикові - як низькоризикові."
   ]
  },
  {
   "cell_type": "markdown",
   "metadata": {},
   "source": [
    "    Далі було побудовано нейронну мережу з архітектурою 8-3-2-1 і функціями активації relu, tanh і sigmoid. Для такої мережі проведемо навчання партіями по 10 протягом 100 епох."
   ]
  },
  {
   "cell_type": "code",
   "execution_count": 75,
   "metadata": {},
   "outputs": [],
   "source": [
    "# Initialising the ANN\n",
    "cnn4=Sequential()\n",
    "\n",
    "# Adding the input layer\n",
    "cnn4.add(Input(shape=(8,)))\n",
    "\n",
    "# Adding the first hidden layer\n",
    "cnn4.add(Dense(3, activation='relu'))\n",
    "\n",
    "# Adding the second hidden layer\n",
    "cnn4.add(Dense(2, activation='tanh'))\n",
    "\n",
    "# Adding the output layer\n",
    "cnn4.add(Dense(1, activation='sigmoid'))\n",
    "\n",
    "# Compiling the ANN\n",
    "cnn4.compile(optimizer='adam', loss='binary_crossentropy', metrics=['accuracy'])"
   ]
  },
  {
   "cell_type": "code",
   "execution_count": 76,
   "metadata": {},
   "outputs": [
    {
     "name": "stdout",
     "output_type": "stream",
     "text": [
      "Epoch 1/100\n",
      "17/17 [==============================] - 0s 7ms/step - loss: 0.7391 - accuracy: 0.4695\n",
      "Epoch 2/100\n",
      "17/17 [==============================] - 0s 6ms/step - loss: 0.7262 - accuracy: 0.5305\n",
      "Epoch 3/100\n",
      "17/17 [==============================] - 0s 6ms/step - loss: 0.7137 - accuracy: 0.5793\n",
      "Epoch 4/100\n",
      "17/17 [==============================] - 0s 7ms/step - loss: 0.7031 - accuracy: 0.5732\n",
      "Epoch 5/100\n",
      "17/17 [==============================] - 0s 6ms/step - loss: 0.6922 - accuracy: 0.6220\n",
      "Epoch 6/100\n",
      "17/17 [==============================] - 0s 5ms/step - loss: 0.6819 - accuracy: 0.6585\n",
      "Epoch 7/100\n",
      "17/17 [==============================] - 0s 5ms/step - loss: 0.6730 - accuracy: 0.6829\n",
      "Epoch 8/100\n",
      "17/17 [==============================] - 0s 6ms/step - loss: 0.6647 - accuracy: 0.6890\n",
      "Epoch 9/100\n",
      "17/17 [==============================] - 0s 7ms/step - loss: 0.6562 - accuracy: 0.7134\n",
      "Epoch 10/100\n",
      "17/17 [==============================] - 0s 6ms/step - loss: 0.6480 - accuracy: 0.7134\n",
      "Epoch 11/100\n",
      "17/17 [==============================] - 0s 6ms/step - loss: 0.6402 - accuracy: 0.7256\n",
      "Epoch 12/100\n",
      "17/17 [==============================] - 0s 6ms/step - loss: 0.6327 - accuracy: 0.7195\n",
      "Epoch 13/100\n",
      "17/17 [==============================] - 0s 7ms/step - loss: 0.6237 - accuracy: 0.7073\n",
      "Epoch 14/100\n",
      "17/17 [==============================] - 0s 6ms/step - loss: 0.6158 - accuracy: 0.7012\n",
      "Epoch 15/100\n",
      "17/17 [==============================] - 0s 5ms/step - loss: 0.6088 - accuracy: 0.6951\n",
      "Epoch 16/100\n",
      "17/17 [==============================] - 0s 5ms/step - loss: 0.6007 - accuracy: 0.7012\n",
      "Epoch 17/100\n",
      "17/17 [==============================] - 0s 7ms/step - loss: 0.5937 - accuracy: 0.6951\n",
      "Epoch 18/100\n",
      "17/17 [==============================] - 0s 5ms/step - loss: 0.5863 - accuracy: 0.7134\n",
      "Epoch 19/100\n",
      "17/17 [==============================] - 0s 5ms/step - loss: 0.5793 - accuracy: 0.7378\n",
      "Epoch 20/100\n",
      "17/17 [==============================] - 0s 5ms/step - loss: 0.5727 - accuracy: 0.7378\n",
      "Epoch 21/100\n",
      "17/17 [==============================] - 0s 5ms/step - loss: 0.5659 - accuracy: 0.7378\n",
      "Epoch 22/100\n",
      "17/17 [==============================] - 0s 5ms/step - loss: 0.5599 - accuracy: 0.7439\n",
      "Epoch 23/100\n",
      "17/17 [==============================] - 0s 5ms/step - loss: 0.5533 - accuracy: 0.7439\n",
      "Epoch 24/100\n",
      "17/17 [==============================] - 0s 5ms/step - loss: 0.5467 - accuracy: 0.7500\n",
      "Epoch 25/100\n",
      "17/17 [==============================] - 0s 5ms/step - loss: 0.5413 - accuracy: 0.7439\n",
      "Epoch 26/100\n",
      "17/17 [==============================] - 0s 5ms/step - loss: 0.5345 - accuracy: 0.7439\n",
      "Epoch 27/100\n",
      "17/17 [==============================] - 0s 5ms/step - loss: 0.5287 - accuracy: 0.7439\n",
      "Epoch 28/100\n",
      "17/17 [==============================] - 0s 7ms/step - loss: 0.5229 - accuracy: 0.7439\n",
      "Epoch 29/100\n",
      "17/17 [==============================] - 0s 7ms/step - loss: 0.5179 - accuracy: 0.7561\n",
      "Epoch 30/100\n",
      "17/17 [==============================] - 0s 8ms/step - loss: 0.5114 - accuracy: 0.7561\n",
      "Epoch 31/100\n",
      "17/17 [==============================] - 0s 7ms/step - loss: 0.5056 - accuracy: 0.7561\n",
      "Epoch 32/100\n",
      "17/17 [==============================] - 0s 7ms/step - loss: 0.4999 - accuracy: 0.7561\n",
      "Epoch 33/100\n",
      "17/17 [==============================] - 0s 5ms/step - loss: 0.4945 - accuracy: 0.7622\n",
      "Epoch 34/100\n",
      "17/17 [==============================] - 0s 6ms/step - loss: 0.4898 - accuracy: 0.7744\n",
      "Epoch 35/100\n",
      "17/17 [==============================] - 0s 5ms/step - loss: 0.4842 - accuracy: 0.7805\n",
      "Epoch 36/100\n",
      "17/17 [==============================] - 0s 5ms/step - loss: 0.4787 - accuracy: 0.7805\n",
      "Epoch 37/100\n",
      "17/17 [==============================] - 0s 5ms/step - loss: 0.4735 - accuracy: 0.7805\n",
      "Epoch 38/100\n",
      "17/17 [==============================] - 0s 7ms/step - loss: 0.4689 - accuracy: 0.7866\n",
      "Epoch 39/100\n",
      "17/17 [==============================] - 0s 6ms/step - loss: 0.4637 - accuracy: 0.7988\n",
      "Epoch 40/100\n",
      "17/17 [==============================] - 0s 5ms/step - loss: 0.4586 - accuracy: 0.7988\n",
      "Epoch 41/100\n",
      "17/17 [==============================] - 0s 6ms/step - loss: 0.4539 - accuracy: 0.7988\n",
      "Epoch 42/100\n",
      "17/17 [==============================] - 0s 7ms/step - loss: 0.4481 - accuracy: 0.8110\n",
      "Epoch 43/100\n",
      "17/17 [==============================] - 0s 6ms/step - loss: 0.4432 - accuracy: 0.8171\n",
      "Epoch 44/100\n",
      "17/17 [==============================] - 0s 5ms/step - loss: 0.4392 - accuracy: 0.8171\n",
      "Epoch 45/100\n",
      "17/17 [==============================] - 0s 6ms/step - loss: 0.4342 - accuracy: 0.8293\n",
      "Epoch 46/100\n",
      "17/17 [==============================] - 0s 7ms/step - loss: 0.4304 - accuracy: 0.8293\n",
      "Epoch 47/100\n",
      "17/17 [==============================] - 0s 6ms/step - loss: 0.4260 - accuracy: 0.8232\n",
      "Epoch 48/100\n",
      "17/17 [==============================] - 0s 6ms/step - loss: 0.4220 - accuracy: 0.8232\n",
      "Epoch 49/100\n",
      "17/17 [==============================] - 0s 6ms/step - loss: 0.4187 - accuracy: 0.8232\n",
      "Epoch 50/100\n",
      "17/17 [==============================] - 0s 6ms/step - loss: 0.4151 - accuracy: 0.8232\n",
      "Epoch 51/100\n",
      "17/17 [==============================] - 0s 7ms/step - loss: 0.4119 - accuracy: 0.8232\n",
      "Epoch 52/100\n",
      "17/17 [==============================] - 0s 6ms/step - loss: 0.4088 - accuracy: 0.8232\n",
      "Epoch 53/100\n",
      "17/17 [==============================] - 0s 5ms/step - loss: 0.4059 - accuracy: 0.8232\n",
      "Epoch 54/100\n",
      "17/17 [==============================] - 0s 5ms/step - loss: 0.4034 - accuracy: 0.8232\n",
      "Epoch 55/100\n",
      "17/17 [==============================] - 0s 7ms/step - loss: 0.4002 - accuracy: 0.8293: 0s - loss: 0.4054 - accuracy: 0.82\n",
      "Epoch 56/100\n",
      "17/17 [==============================] - 0s 5ms/step - loss: 0.3979 - accuracy: 0.8293\n",
      "Epoch 57/100\n",
      "17/17 [==============================] - 0s 5ms/step - loss: 0.3961 - accuracy: 0.8232\n",
      "Epoch 58/100\n",
      "17/17 [==============================] - 0s 5ms/step - loss: 0.3937 - accuracy: 0.8232\n",
      "Epoch 59/100\n",
      "17/17 [==============================] - 0s 5ms/step - loss: 0.3918 - accuracy: 0.8232\n",
      "Epoch 60/100\n",
      "17/17 [==============================] - 0s 5ms/step - loss: 0.3900 - accuracy: 0.8232\n",
      "Epoch 61/100\n",
      "17/17 [==============================] - 0s 5ms/step - loss: 0.3884 - accuracy: 0.8232\n",
      "Epoch 62/100\n",
      "17/17 [==============================] - 0s 5ms/step - loss: 0.3871 - accuracy: 0.8232\n",
      "Epoch 63/100\n",
      "17/17 [==============================] - 0s 5ms/step - loss: 0.3850 - accuracy: 0.8232\n",
      "Epoch 64/100\n",
      "17/17 [==============================] - 0s 5ms/step - loss: 0.3840 - accuracy: 0.8232\n",
      "Epoch 65/100\n",
      "17/17 [==============================] - 0s 6ms/step - loss: 0.3833 - accuracy: 0.8171\n",
      "Epoch 66/100\n",
      "17/17 [==============================] - 0s 7ms/step - loss: 0.3819 - accuracy: 0.8171\n",
      "Epoch 67/100\n",
      "17/17 [==============================] - 0s 7ms/step - loss: 0.3798 - accuracy: 0.8232\n",
      "Epoch 68/100\n",
      "17/17 [==============================] - 0s 6ms/step - loss: 0.3787 - accuracy: 0.8232\n",
      "Epoch 69/100\n",
      "17/17 [==============================] - 0s 6ms/step - loss: 0.3771 - accuracy: 0.8232\n",
      "Epoch 70/100\n",
      "17/17 [==============================] - 0s 6ms/step - loss: 0.3763 - accuracy: 0.8354\n",
      "Epoch 71/100\n",
      "17/17 [==============================] - 0s 6ms/step - loss: 0.3763 - accuracy: 0.8232\n",
      "Epoch 72/100\n",
      "17/17 [==============================] - 0s 5ms/step - loss: 0.3749 - accuracy: 0.8293\n",
      "Epoch 73/100\n",
      "17/17 [==============================] - 0s 8ms/step - loss: 0.3734 - accuracy: 0.8354: 0s - loss: 0.3875 - accuracy: 0.\n",
      "Epoch 74/100\n",
      "17/17 [==============================] - 0s 8ms/step - loss: 0.3723 - accuracy: 0.8354\n",
      "Epoch 75/100\n",
      "17/17 [==============================] - 0s 5ms/step - loss: 0.3723 - accuracy: 0.8354\n",
      "Epoch 76/100\n",
      "17/17 [==============================] - 0s 5ms/step - loss: 0.3706 - accuracy: 0.8354\n",
      "Epoch 77/100\n",
      "17/17 [==============================] - 0s 6ms/step - loss: 0.3701 - accuracy: 0.8354\n",
      "Epoch 78/100\n",
      "17/17 [==============================] - 0s 8ms/step - loss: 0.3692 - accuracy: 0.8415\n",
      "Epoch 79/100\n",
      "17/17 [==============================] - 0s 5ms/step - loss: 0.3684 - accuracy: 0.8415\n",
      "Epoch 80/100\n",
      "17/17 [==============================] - 0s 5ms/step - loss: 0.3699 - accuracy: 0.8415\n",
      "Epoch 81/100\n",
      "17/17 [==============================] - 0s 6ms/step - loss: 0.3672 - accuracy: 0.8415\n",
      "Epoch 82/100\n"
     ]
    },
    {
     "name": "stdout",
     "output_type": "stream",
     "text": [
      "17/17 [==============================] - 0s 5ms/step - loss: 0.3665 - accuracy: 0.8415\n",
      "Epoch 83/100\n",
      "17/17 [==============================] - 0s 5ms/step - loss: 0.3655 - accuracy: 0.8415\n",
      "Epoch 84/100\n",
      "17/17 [==============================] - 0s 5ms/step - loss: 0.3649 - accuracy: 0.8415\n",
      "Epoch 85/100\n",
      "17/17 [==============================] - 0s 12ms/step - loss: 0.3646 - accuracy: 0.8415\n",
      "Epoch 86/100\n",
      "17/17 [==============================] - 0s 5ms/step - loss: 0.3639 - accuracy: 0.8415\n",
      "Epoch 87/100\n",
      "17/17 [==============================] - 0s 6ms/step - loss: 0.3630 - accuracy: 0.8476\n",
      "Epoch 88/100\n",
      "17/17 [==============================] - 0s 5ms/step - loss: 0.3625 - accuracy: 0.8476\n",
      "Epoch 89/100\n",
      "17/17 [==============================] - 0s 7ms/step - loss: 0.3621 - accuracy: 0.8476\n",
      "Epoch 90/100\n",
      "17/17 [==============================] - 0s 6ms/step - loss: 0.3614 - accuracy: 0.8476\n",
      "Epoch 91/100\n",
      "17/17 [==============================] - 0s 7ms/step - loss: 0.3609 - accuracy: 0.8476\n",
      "Epoch 92/100\n",
      "17/17 [==============================] - 0s 5ms/step - loss: 0.3601 - accuracy: 0.8476\n",
      "Epoch 93/100\n",
      "17/17 [==============================] - 0s 8ms/step - loss: 0.3598 - accuracy: 0.8476\n",
      "Epoch 94/100\n",
      "17/17 [==============================] - 0s 6ms/step - loss: 0.3594 - accuracy: 0.8476\n",
      "Epoch 95/100\n",
      "17/17 [==============================] - 0s 5ms/step - loss: 0.3588 - accuracy: 0.8476\n",
      "Epoch 96/100\n",
      "17/17 [==============================] - 0s 7ms/step - loss: 0.3586 - accuracy: 0.8476\n",
      "Epoch 97/100\n",
      "17/17 [==============================] - 0s 5ms/step - loss: 0.3578 - accuracy: 0.8476\n",
      "Epoch 98/100\n",
      "17/17 [==============================] - 0s 6ms/step - loss: 0.3576 - accuracy: 0.8476\n",
      "Epoch 99/100\n",
      "17/17 [==============================] - 0s 5ms/step - loss: 0.3572 - accuracy: 0.8476\n",
      "Epoch 100/100\n",
      "17/17 [==============================] - 0s 5ms/step - loss: 0.3565 - accuracy: 0.8476\n"
     ]
    },
    {
     "data": {
      "text/plain": [
       "<tensorflow.python.keras.callbacks.History at 0x28addd69d30>"
      ]
     },
     "execution_count": 76,
     "metadata": {},
     "output_type": "execute_result"
    }
   ],
   "source": [
    "# Fitting the ANN to the Training set\n",
    "cnn4.fit(X_train_opt, y_train, batch_size=10, epochs=100)"
   ]
  },
  {
   "cell_type": "markdown",
   "metadata": {},
   "source": [
    "    Для побудованої та навченної нейронної мережі оцінимо класи автомобілів у тестовій вибірці, побудуємо матрицю невідповідностей та з неї порахуємо метрику точності Accuracy."
   ]
  },
  {
   "cell_type": "code",
   "execution_count": 77,
   "metadata": {},
   "outputs": [],
   "source": [
    "# Predicting the Test set results\n",
    "y_pred_cnn4=cnn4.predict(X_test_opt)\n",
    "y_pred_cnn4=(y_pred_cnn4>0.5)"
   ]
  },
  {
   "cell_type": "code",
   "execution_count": 78,
   "metadata": {},
   "outputs": [
    {
     "name": "stdout",
     "output_type": "stream",
     "text": [
      "[[15  2]\n",
      " [ 2 22]]\n"
     ]
    }
   ],
   "source": [
    "# Making the Confusion Matrix\n",
    "from sklearn.metrics import confusion_matrix\n",
    "cnn4_cm=confusion_matrix(y_test, y_pred_cnn4)\n",
    "print(cnn4_cm)"
   ]
  },
  {
   "cell_type": "code",
   "execution_count": 79,
   "metadata": {},
   "outputs": [
    {
     "data": {
      "text/plain": [
       "0.9024390243902439"
      ]
     },
     "execution_count": 79,
     "metadata": {},
     "output_type": "execute_result"
    }
   ],
   "source": [
    "# Accuracy Score\n",
    "cnn4_score=(cnn4_cm[0, 0]+cnn4_cm[1, 1])/(cnn4_cm[0, 0]+cnn4_cm[1, 1]+cnn4_cm[0, 1]+cnn4_cm[1, 0])\n",
    "cnn4_score"
   ]
  },
  {
   "cell_type": "markdown",
   "metadata": {},
   "source": [
    "    Було отримано модель з точністю класифікації 90%. Така модель визначила 2 низькоризикові автомобілі як високоризикові і 2 високиризикові - як низькоризикові."
   ]
  },
  {
   "cell_type": "markdown",
   "metadata": {},
   "source": [
    "    Далі було побудовано нейронну мережу з архітектурою 8-34-2-1 і функціями активації relu, tanh і sigmoid. Для такої мережі проведемо навчання партіями по 10 протягом 100 епох."
   ]
  },
  {
   "cell_type": "code",
   "execution_count": 80,
   "metadata": {},
   "outputs": [],
   "source": [
    "# Initialising the ANN\n",
    "cnn5=Sequential()\n",
    "\n",
    "# Adding the input layer\n",
    "cnn5.add(Input(shape=(8,)))\n",
    "\n",
    "# Adding the first hidden layer\n",
    "cnn5.add(Dense(4, activation='relu'))\n",
    "\n",
    "# Adding the second hidden layer\n",
    "cnn5.add(Dense(2, activation='tanh'))\n",
    "\n",
    "# Adding the output layer\n",
    "cnn5.add(Dense(1, activation='sigmoid'))\n",
    "\n",
    "# Compiling the ANN\n",
    "cnn5.compile(optimizer='adam', loss='binary_crossentropy', metrics=['accuracy'])"
   ]
  },
  {
   "cell_type": "code",
   "execution_count": 81,
   "metadata": {},
   "outputs": [
    {
     "name": "stdout",
     "output_type": "stream",
     "text": [
      "Epoch 1/100\n",
      "17/17 [==============================] - 0s 5ms/step - loss: 0.8296 - accuracy: 0.3476\n",
      "Epoch 2/100\n",
      "17/17 [==============================] - 0s 5ms/step - loss: 0.8046 - accuracy: 0.3841\n",
      "Epoch 3/100\n",
      "17/17 [==============================] - 0s 5ms/step - loss: 0.7802 - accuracy: 0.3902\n",
      "Epoch 4/100\n",
      "17/17 [==============================] - 0s 4ms/step - loss: 0.7609 - accuracy: 0.3963\n",
      "Epoch 5/100\n",
      "17/17 [==============================] - 0s 5ms/step - loss: 0.7474 - accuracy: 0.3780\n",
      "Epoch 6/100\n",
      "17/17 [==============================] - 0s 5ms/step - loss: 0.7315 - accuracy: 0.3902\n",
      "Epoch 7/100\n",
      "17/17 [==============================] - 0s 5ms/step - loss: 0.7202 - accuracy: 0.3963\n",
      "Epoch 8/100\n",
      "17/17 [==============================] - 0s 5ms/step - loss: 0.7119 - accuracy: 0.4024\n",
      "Epoch 9/100\n",
      "17/17 [==============================] - 0s 5ms/step - loss: 0.7027 - accuracy: 0.4451\n",
      "Epoch 10/100\n",
      "17/17 [==============================] - 0s 7ms/step - loss: 0.6949 - accuracy: 0.4939\n",
      "Epoch 11/100\n",
      "17/17 [==============================] - 0s 5ms/step - loss: 0.6870 - accuracy: 0.5305\n",
      "Epoch 12/100\n",
      "17/17 [==============================] - 0s 6ms/step - loss: 0.6795 - accuracy: 0.5305\n",
      "Epoch 13/100\n",
      "17/17 [==============================] - 0s 6ms/step - loss: 0.6723 - accuracy: 0.5549\n",
      "Epoch 14/100\n",
      "17/17 [==============================] - 0s 6ms/step - loss: 0.6655 - accuracy: 0.5549\n",
      "Epoch 15/100\n",
      "17/17 [==============================] - 0s 6ms/step - loss: 0.6595 - accuracy: 0.5549\n",
      "Epoch 16/100\n",
      "17/17 [==============================] - 0s 6ms/step - loss: 0.6537 - accuracy: 0.5732\n",
      "Epoch 17/100\n",
      "17/17 [==============================] - 0s 7ms/step - loss: 0.6480 - accuracy: 0.5854\n",
      "Epoch 18/100\n",
      "17/17 [==============================] - 0s 6ms/step - loss: 0.6427 - accuracy: 0.5854\n",
      "Epoch 19/100\n",
      "17/17 [==============================] - 0s 5ms/step - loss: 0.6377 - accuracy: 0.5854\n",
      "Epoch 20/100\n",
      "17/17 [==============================] - 0s 5ms/step - loss: 0.6330 - accuracy: 0.5854\n",
      "Epoch 21/100\n",
      "17/17 [==============================] - 0s 6ms/step - loss: 0.6286 - accuracy: 0.6159\n",
      "Epoch 22/100\n",
      "17/17 [==============================] - 0s 5ms/step - loss: 0.6231 - accuracy: 0.6829\n",
      "Epoch 23/100\n",
      "17/17 [==============================] - 0s 4ms/step - loss: 0.6172 - accuracy: 0.6768\n",
      "Epoch 24/100\n",
      "17/17 [==============================] - 0s 5ms/step - loss: 0.6116 - accuracy: 0.6890\n",
      "Epoch 25/100\n",
      "17/17 [==============================] - 0s 4ms/step - loss: 0.6059 - accuracy: 0.7073\n",
      "Epoch 26/100\n",
      "17/17 [==============================] - 0s 5ms/step - loss: 0.6003 - accuracy: 0.7073\n",
      "Epoch 27/100\n",
      "17/17 [==============================] - 0s 5ms/step - loss: 0.5941 - accuracy: 0.7073\n",
      "Epoch 28/100\n",
      "17/17 [==============================] - 0s 5ms/step - loss: 0.5883 - accuracy: 0.7073\n",
      "Epoch 29/100\n",
      "17/17 [==============================] - 0s 4ms/step - loss: 0.5823 - accuracy: 0.7012\n",
      "Epoch 30/100\n",
      "17/17 [==============================] - 0s 6ms/step - loss: 0.5755 - accuracy: 0.7012\n",
      "Epoch 31/100\n",
      "17/17 [==============================] - 0s 5ms/step - loss: 0.5681 - accuracy: 0.7073\n",
      "Epoch 32/100\n",
      "17/17 [==============================] - 0s 5ms/step - loss: 0.5583 - accuracy: 0.7012\n",
      "Epoch 33/100\n",
      "17/17 [==============================] - 0s 4ms/step - loss: 0.5473 - accuracy: 0.7134\n",
      "Epoch 34/100\n",
      "17/17 [==============================] - 0s 4ms/step - loss: 0.5360 - accuracy: 0.7195\n",
      "Epoch 35/100\n",
      "17/17 [==============================] - 0s 6ms/step - loss: 0.5232 - accuracy: 0.7317\n",
      "Epoch 36/100\n",
      "17/17 [==============================] - 0s 5ms/step - loss: 0.5095 - accuracy: 0.7378\n",
      "Epoch 37/100\n",
      "17/17 [==============================] - 0s 5ms/step - loss: 0.4975 - accuracy: 0.7439\n",
      "Epoch 38/100\n",
      "17/17 [==============================] - 0s 5ms/step - loss: 0.4861 - accuracy: 0.7439\n",
      "Epoch 39/100\n",
      "17/17 [==============================] - 0s 7ms/step - loss: 0.4769 - accuracy: 0.7500\n",
      "Epoch 40/100\n",
      "17/17 [==============================] - 0s 6ms/step - loss: 0.4670 - accuracy: 0.7561\n",
      "Epoch 41/100\n",
      "17/17 [==============================] - 0s 8ms/step - loss: 0.4590 - accuracy: 0.7561: 0s - loss: 0.4556 - accuracy: 0.76\n",
      "Epoch 42/100\n",
      "17/17 [==============================] - 0s 6ms/step - loss: 0.4502 - accuracy: 0.7622\n",
      "Epoch 43/100\n",
      "17/17 [==============================] - 0s 5ms/step - loss: 0.4417 - accuracy: 0.7683\n",
      "Epoch 44/100\n",
      "17/17 [==============================] - 0s 6ms/step - loss: 0.4343 - accuracy: 0.7988\n",
      "Epoch 45/100\n",
      "17/17 [==============================] - 0s 5ms/step - loss: 0.4268 - accuracy: 0.7988\n",
      "Epoch 46/100\n",
      "17/17 [==============================] - 0s 7ms/step - loss: 0.4208 - accuracy: 0.7927\n",
      "Epoch 47/100\n",
      "17/17 [==============================] - 0s 8ms/step - loss: 0.4134 - accuracy: 0.8049\n",
      "Epoch 48/100\n",
      "17/17 [==============================] - 0s 6ms/step - loss: 0.4065 - accuracy: 0.8171\n",
      "Epoch 49/100\n",
      "17/17 [==============================] - 0s 4ms/step - loss: 0.4006 - accuracy: 0.8171\n",
      "Epoch 50/100\n",
      "17/17 [==============================] - 0s 6ms/step - loss: 0.3959 - accuracy: 0.8171\n",
      "Epoch 51/100\n",
      "17/17 [==============================] - 0s 5ms/step - loss: 0.3903 - accuracy: 0.8293\n",
      "Epoch 52/100\n",
      "17/17 [==============================] - 0s 5ms/step - loss: 0.3858 - accuracy: 0.8232\n",
      "Epoch 53/100\n",
      "17/17 [==============================] - 0s 7ms/step - loss: 0.3800 - accuracy: 0.8232\n",
      "Epoch 54/100\n",
      "17/17 [==============================] - 0s 5ms/step - loss: 0.3752 - accuracy: 0.8293\n",
      "Epoch 55/100\n",
      "17/17 [==============================] - 0s 5ms/step - loss: 0.3709 - accuracy: 0.8232\n",
      "Epoch 56/100\n",
      "17/17 [==============================] - 0s 5ms/step - loss: 0.3670 - accuracy: 0.8171\n",
      "Epoch 57/100\n",
      "17/17 [==============================] - 0s 4ms/step - loss: 0.3627 - accuracy: 0.8354\n",
      "Epoch 58/100\n",
      "17/17 [==============================] - 0s 5ms/step - loss: 0.3592 - accuracy: 0.8415\n",
      "Epoch 59/100\n",
      "17/17 [==============================] - 0s 5ms/step - loss: 0.3562 - accuracy: 0.8415\n",
      "Epoch 60/100\n",
      "17/17 [==============================] - 0s 5ms/step - loss: 0.3533 - accuracy: 0.8415\n",
      "Epoch 61/100\n",
      "17/17 [==============================] - 0s 5ms/step - loss: 0.3507 - accuracy: 0.8354\n",
      "Epoch 62/100\n",
      "17/17 [==============================] - 0s 5ms/step - loss: 0.3481 - accuracy: 0.8354\n",
      "Epoch 63/100\n",
      "17/17 [==============================] - 0s 5ms/step - loss: 0.3458 - accuracy: 0.8354\n",
      "Epoch 64/100\n",
      "17/17 [==============================] - 0s 5ms/step - loss: 0.3436 - accuracy: 0.8354\n",
      "Epoch 65/100\n",
      "17/17 [==============================] - 0s 5ms/step - loss: 0.3418 - accuracy: 0.8354\n",
      "Epoch 66/100\n",
      "17/17 [==============================] - 0s 5ms/step - loss: 0.3396 - accuracy: 0.8354\n",
      "Epoch 67/100\n",
      "17/17 [==============================] - 0s 5ms/step - loss: 0.3380 - accuracy: 0.8354\n",
      "Epoch 68/100\n",
      "17/17 [==============================] - 0s 4ms/step - loss: 0.3363 - accuracy: 0.8354\n",
      "Epoch 69/100\n",
      "17/17 [==============================] - 0s 5ms/step - loss: 0.3360 - accuracy: 0.8354\n",
      "Epoch 70/100\n",
      "17/17 [==============================] - 0s 5ms/step - loss: 0.3335 - accuracy: 0.8354\n",
      "Epoch 71/100\n",
      "17/17 [==============================] - 0s 5ms/step - loss: 0.3325 - accuracy: 0.8354\n",
      "Epoch 72/100\n",
      "17/17 [==============================] - 0s 5ms/step - loss: 0.3308 - accuracy: 0.8354\n",
      "Epoch 73/100\n",
      "17/17 [==============================] - 0s 5ms/step - loss: 0.3296 - accuracy: 0.8354\n",
      "Epoch 74/100\n",
      "17/17 [==============================] - 0s 5ms/step - loss: 0.3278 - accuracy: 0.8354\n",
      "Epoch 75/100\n",
      "17/17 [==============================] - 0s 5ms/step - loss: 0.3264 - accuracy: 0.8354\n",
      "Epoch 76/100\n",
      "17/17 [==============================] - 0s 6ms/step - loss: 0.3256 - accuracy: 0.8354: 0s - loss: 0.3565 - accuracy: 0.80\n",
      "Epoch 77/100\n",
      "17/17 [==============================] - 0s 5ms/step - loss: 0.3252 - accuracy: 0.8354\n",
      "Epoch 78/100\n",
      "17/17 [==============================] - 0s 4ms/step - loss: 0.3234 - accuracy: 0.8354\n",
      "Epoch 79/100\n",
      "17/17 [==============================] - 0s 5ms/step - loss: 0.3224 - accuracy: 0.8354: 0s - loss: 0.3137 - accuracy: 0.82\n",
      "Epoch 80/100\n",
      "17/17 [==============================] - 0s 5ms/step - loss: 0.3206 - accuracy: 0.8354\n",
      "Epoch 81/100\n"
     ]
    },
    {
     "name": "stdout",
     "output_type": "stream",
     "text": [
      "17/17 [==============================] - 0s 4ms/step - loss: 0.3200 - accuracy: 0.8354\n",
      "Epoch 82/100\n",
      "17/17 [==============================] - 0s 5ms/step - loss: 0.3185 - accuracy: 0.8354\n",
      "Epoch 83/100\n",
      "17/17 [==============================] - 0s 6ms/step - loss: 0.3181 - accuracy: 0.8354\n",
      "Epoch 84/100\n",
      "17/17 [==============================] - 0s 5ms/step - loss: 0.3167 - accuracy: 0.8354\n",
      "Epoch 85/100\n",
      "17/17 [==============================] - 0s 8ms/step - loss: 0.3160 - accuracy: 0.8354\n",
      "Epoch 86/100\n",
      "17/17 [==============================] - 0s 5ms/step - loss: 0.3151 - accuracy: 0.8354\n",
      "Epoch 87/100\n",
      "17/17 [==============================] - 0s 6ms/step - loss: 0.3143 - accuracy: 0.8354\n",
      "Epoch 88/100\n",
      "17/17 [==============================] - 0s 6ms/step - loss: 0.3138 - accuracy: 0.8293\n",
      "Epoch 89/100\n",
      "17/17 [==============================] - 0s 6ms/step - loss: 0.3125 - accuracy: 0.8293\n",
      "Epoch 90/100\n",
      "17/17 [==============================] - 0s 6ms/step - loss: 0.3119 - accuracy: 0.8293\n",
      "Epoch 91/100\n",
      "17/17 [==============================] - 0s 5ms/step - loss: 0.3115 - accuracy: 0.8293\n",
      "Epoch 92/100\n",
      "17/17 [==============================] - 0s 5ms/step - loss: 0.3104 - accuracy: 0.8354\n",
      "Epoch 93/100\n",
      "17/17 [==============================] - 0s 8ms/step - loss: 0.3101 - accuracy: 0.8354\n",
      "Epoch 94/100\n",
      "17/17 [==============================] - 0s 5ms/step - loss: 0.3091 - accuracy: 0.8354\n",
      "Epoch 95/100\n",
      "17/17 [==============================] - 0s 5ms/step - loss: 0.3091 - accuracy: 0.8354\n",
      "Epoch 96/100\n",
      "17/17 [==============================] - ETA: 0s - loss: 0.3078 - accuracy: 0.83 - 0s 7ms/step - loss: 0.3078 - accuracy: 0.8354\n",
      "Epoch 97/100\n",
      "17/17 [==============================] - 0s 7ms/step - loss: 0.3072 - accuracy: 0.8354\n",
      "Epoch 98/100\n",
      "17/17 [==============================] - ETA: 0s - loss: 0.2979 - accuracy: 0.85 - 0s 5ms/step - loss: 0.3062 - accuracy: 0.8354\n",
      "Epoch 99/100\n",
      "17/17 [==============================] - 0s 5ms/step - loss: 0.3055 - accuracy: 0.8293\n",
      "Epoch 100/100\n",
      "17/17 [==============================] - 0s 8ms/step - loss: 0.3052 - accuracy: 0.8293\n"
     ]
    },
    {
     "data": {
      "text/plain": [
       "<tensorflow.python.keras.callbacks.History at 0x28ade27b700>"
      ]
     },
     "execution_count": 81,
     "metadata": {},
     "output_type": "execute_result"
    }
   ],
   "source": [
    "# Fitting the ANN to the Training set\n",
    "cnn5.fit(X_train_opt, y_train, batch_size=10, epochs=100)"
   ]
  },
  {
   "cell_type": "markdown",
   "metadata": {},
   "source": [
    "    Для побудованої та навченної нейронної мережі оцінимо класи автомобілів у тестовій вибірці, побудуємо матрицю невідповідностей та з неї порахуємо метрику точності Accuracy."
   ]
  },
  {
   "cell_type": "code",
   "execution_count": 89,
   "metadata": {},
   "outputs": [],
   "source": [
    "# Predicting the Test set results\n",
    "y_pred_cnn5=cnn5.predict(X_test_opt)\n",
    "y_pred_cnn5=(y_pred_cnn5>0.5)"
   ]
  },
  {
   "cell_type": "code",
   "execution_count": 90,
   "metadata": {},
   "outputs": [
    {
     "name": "stdout",
     "output_type": "stream",
     "text": [
      "[[14  3]\n",
      " [ 3 21]]\n"
     ]
    }
   ],
   "source": [
    "# Making the Confusion Matrix\n",
    "from sklearn.metrics import confusion_matrix\n",
    "cnn5_cm=confusion_matrix(y_test, y_pred_cnn5)\n",
    "print(cnn5_cm)"
   ]
  },
  {
   "cell_type": "code",
   "execution_count": 91,
   "metadata": {},
   "outputs": [
    {
     "data": {
      "text/plain": [
       "0.8536585365853658"
      ]
     },
     "execution_count": 91,
     "metadata": {},
     "output_type": "execute_result"
    }
   ],
   "source": [
    "# Accuracy Score\n",
    "cnn5_score=(cnn5_cm[0, 0]+cnn5_cm[1, 1])/(cnn5_cm[0, 0]+cnn5_cm[1, 1]+cnn5_cm[0, 1]+cnn5_cm[1, 0])\n",
    "cnn5_score"
   ]
  },
  {
   "cell_type": "markdown",
   "metadata": {},
   "source": [
    "    Було отримано модель з точністю класифікації 85%. Така модель визначила 3 низькоризикові автомобілі як високоризикові і 3 високиризикові - як низькоризикові."
   ]
  },
  {
   "cell_type": "markdown",
   "metadata": {},
   "source": [
    "    Порівняємо розглянуті нейронні мережі за метрикою якості Accuracy й виберемо найкращу з них."
   ]
  },
  {
   "cell_type": "code",
   "execution_count": 85,
   "metadata": {},
   "outputs": [
    {
     "data": {
      "text/plain": [
       "(0.926829268292683,\n",
       " 0.9024390243902439,\n",
       " 0.8780487804878049,\n",
       " 0.9024390243902439,\n",
       " 0.8536585365853658)"
      ]
     },
     "execution_count": 85,
     "metadata": {},
     "output_type": "execute_result"
    }
   ],
   "source": [
    "# CNN Selecetion\n",
    "cnn1_score, cnn2_score, cnn3_score, cnn4_score, cnn5_score"
   ]
  },
  {
   "cell_type": "markdown",
   "metadata": {},
   "source": [
    "    Найбільшу придатність до класифікації показала перша нейронна мережа з архітектурою 8-7-1 і функціями активації relu і sigmoid. Цю модель є оптимальною серед розглянутих для вирішення задачі класифікації автомобілів, а тому буде використовуватися для порівняння з інишими типами моделей."
   ]
  },
  {
   "cell_type": "markdown",
   "metadata": {},
   "source": [
    "    Виведемо метрики точності Accuracy і матриці невідповідностей для найкращих моделей із кожного розглянутого типу."
   ]
  },
  {
   "cell_type": "code",
   "execution_count": 88,
   "metadata": {},
   "outputs": [
    {
     "name": "stdout",
     "output_type": "stream",
     "text": [
      "Logistic Regression:\n",
      "Accuracy=0.9024390243902439\n",
      "Confusion Matrix:\n",
      "[[15  2]\n",
      " [ 2 22]]\n",
      "\n",
      "Support Vector Machine (kernel=rbf):\n",
      "Accuracy=0.9024390243902439\n",
      "Confusion Matrix:\n",
      "[[16  1]\n",
      " [ 3 21]]\n",
      "\n",
      "Support Vector Machine (kernel=linear):\n",
      "Accuracy=0.9024390243902439\n",
      "Confusion Matrix:\n",
      "[[16  1]\n",
      " [ 3 21]]\n",
      "\n",
      "Support Vector Machine (kernel=poly):\n",
      "Accuracy=0.9024390243902439\n",
      "Confusion Matrix:\n",
      "[[16  1]\n",
      " [ 3 21]]\n",
      "\n",
      "Naive Bayes:\n",
      "Accuracy=0.7804878048780488\n",
      "Confusion Matrix:\n",
      "[[10  7]\n",
      " [ 2 22]]\n",
      "\n",
      "K-Nearest Neighbors (8 neighbors):\n",
      "Accuracy=0.7317073170731707\n",
      "Confusion Matrix:\n",
      "[[11  6]\n",
      " [ 5 19]]\n",
      "\n",
      "Classification Tree (10 leaves, criterion=gini):\n",
      "Accuracy=0.9512195121951219\n",
      "Confusion Matrix:\n",
      "[[17  0]\n",
      " [ 2 22]]\n",
      "\n",
      "Random Forest(9 trees, 7 leaves, criterion=mse):\n",
      "Accuracy=0.9512195121951219\n",
      "Confusion Matrix:\n",
      "[[16  1]\n",
      " [ 1 23]]\n",
      "\n",
      "Classification Neural Network (8-7-1, activation functions - relu and sigmoid):\n",
      "Accuracy=0.926829268292683\n",
      "Confusion Matrix:\n",
      "[[16  1]\n",
      " [ 2 22]]\n"
     ]
    }
   ],
   "source": [
    "# Model Comparison\n",
    "print('Logistic Regression:')\n",
    "print('Accuracy='+str(logistic_score))\n",
    "print('Confusion Matrix:\\n'+str(logistic_cm)+'\\n')\n",
    "print('Support Vector Machine (kernel=rbf):')\n",
    "print('Accuracy='+str(svm1_score))\n",
    "print('Confusion Matrix:\\n'+str(SVM1_cm)+'\\n')\n",
    "print('Support Vector Machine (kernel=linear):')\n",
    "print('Accuracy='+str(svm2_score))\n",
    "print('Confusion Matrix:\\n'+str(SVM3_cm)+'\\n')\n",
    "print('Support Vector Machine (kernel=poly):')\n",
    "print('Accuracy='+str(svm3_score))\n",
    "print('Confusion Matrix:\\n'+str(SVM3_cm)+'\\n')\n",
    "print('Naive Bayes:')\n",
    "print('Accuracy='+str(nb_score))\n",
    "print('Confusion Matrix:\\n'+str(nb_cm)+'\\n')\n",
    "print('K-Nearest Neighbors (8 neighbors):')\n",
    "print('Accuracy='+str(knn_score))\n",
    "print('Confusion Matrix:\\n'+str(knn_cm)+'\\n')\n",
    "print('Classification Tree (10 leaves, criterion=gini):')\n",
    "print('Accuracy='+str(ct3_score))\n",
    "print('Confusion Matrix:\\n'+str(ct3_cm)+'\\n')\n",
    "print('Random Forest(9 trees, 7 leaves, criterion=mse):')\n",
    "print('Accuracy='+str(rf1_score))\n",
    "print('Confusion Matrix:\\n'+str(rf1_cm)+'\\n')\n",
    "print('Classification Neural Network (8-7-1, activation functions - relu and sigmoid):')\n",
    "print('Accuracy='+str(cnn1_score))\n",
    "print('Confusion Matrix:\\n'+str(cnn1_cm))"
   ]
  },
  {
   "cell_type": "markdown",
   "metadata": {},
   "source": [
    "    Можна побачити, що найбільший показник метрики точності Accuracy мають модель дерева рішень з 10 листками, оптимізованою по критерію gini, а також модель випадкового лісу з 9 деревами, 7 листками і оптимізацією по критерію MSE. Обидві ці моделі оцінили клас автомобілі у тестовій вибірці з точністю в 95%, що є кращим за інші моделі. Разом з тим, оптимальна модель дерева рішень є простішою за оптимальну модель випадкового лісу, а тому вона її доречніше використовувати при вирішенні задачі класифікації автомобілів.\n",
    "    Пророблена робота показує можливість вирішення задачі класифікації задачі класифікації з допомогою різних методів і моделей, які хоч і мають доволі відмінні результати, проте цілком можливо, що з множини розглянутих моделей можна буде виокремити ті, які мають достатню високу точнісь, що дозволяє використовувати їх для ефективної класифікації."
   ]
  }
 ],
 "metadata": {
  "kernelspec": {
   "display_name": "Python 3",
   "language": "python",
   "name": "python3"
  },
  "language_info": {
   "codemirror_mode": {
    "name": "ipython",
    "version": 3
   },
   "file_extension": ".py",
   "mimetype": "text/x-python",
   "name": "python",
   "nbconvert_exporter": "python",
   "pygments_lexer": "ipython3",
   "version": "3.8.3"
  }
 },
 "nbformat": 4,
 "nbformat_minor": 4
}
