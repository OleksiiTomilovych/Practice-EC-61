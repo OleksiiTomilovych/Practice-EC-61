{
 "cells": [
  {
   "cell_type": "code",
   "execution_count": 1,
   "metadata": {},
   "outputs": [],
   "source": [
    "# Regression Neural Network"
   ]
  },
  {
   "cell_type": "code",
   "execution_count": 2,
   "metadata": {},
   "outputs": [
    {
     "data": {
      "text/plain": [
       "'\\n      У даній лабораторній роботі на основі даних про автомобілі спробуємо використати регресійні нейронні мережі для\\nпрогнозування ціни автомобіля.\\n        Для цього дані для побудови моделей буде прошкальовано та розділено на навчальну та тестову вибірку, аби перевірити\\nпрогнозні якості моделей. Для перевірки якості оцінки та прогнозу моделями буде використовуватися така метрика, як\\ncередньоквадратична помилка MSE.\\n    У роботі буде розглянуто нейронні мережі з різною архітектурою.\\n'"
      ]
     },
     "execution_count": 2,
     "metadata": {},
     "output_type": "execute_result"
    }
   ],
   "source": [
    "'''\n",
    "      У даній лабораторній роботі на основі даних про автомобілі спробуємо використати регресійні нейронні мережі для\n",
    "прогнозування ціни автомобіля.\n",
    "        Для цього дані для побудови моделей буде прошкальовано та розділено на навчальну та тестову вибірку, аби перевірити\n",
    "прогнозні якості моделей. Для перевірки якості оцінки та прогнозу моделями буде використовуватися така метрика, як\n",
    "cередньоквадратична помилка MSE.\n",
    "    У роботі буде розглянуто нейронні мережі з різною архітектурою.\n",
    "'''"
   ]
  },
  {
   "cell_type": "code",
   "execution_count": 3,
   "metadata": {},
   "outputs": [],
   "source": [
    "# Importing the libraries\n",
    "import numpy as np\n",
    "import matplotlib.pyplot as plt\n",
    "import pandas as pd"
   ]
  },
  {
   "cell_type": "code",
   "execution_count": 4,
   "metadata": {},
   "outputs": [
    {
     "data": {
      "text/html": [
       "<div>\n",
       "<style scoped>\n",
       "    .dataframe tbody tr th:only-of-type {\n",
       "        vertical-align: middle;\n",
       "    }\n",
       "\n",
       "    .dataframe tbody tr th {\n",
       "        vertical-align: top;\n",
       "    }\n",
       "\n",
       "    .dataframe thead th {\n",
       "        text-align: right;\n",
       "    }\n",
       "</style>\n",
       "<table border=\"1\" class=\"dataframe\">\n",
       "  <thead>\n",
       "    <tr style=\"text-align: right;\">\n",
       "      <th></th>\n",
       "      <th>symboling</th>\n",
       "      <th>fuel-type</th>\n",
       "      <th>aspiration</th>\n",
       "      <th>num-of-doors</th>\n",
       "      <th>engine-location</th>\n",
       "      <th>wheel-base</th>\n",
       "      <th>length</th>\n",
       "      <th>width</th>\n",
       "      <th>height</th>\n",
       "      <th>curb-weight</th>\n",
       "      <th>...</th>\n",
       "      <th>engine-type.ohcv</th>\n",
       "      <th>num-of-cylinders.five</th>\n",
       "      <th>num-of-cylinders.four</th>\n",
       "      <th>num-of-cylinders.more than six</th>\n",
       "      <th>num-of-cylinders.six</th>\n",
       "      <th>fuel-system.1bbl</th>\n",
       "      <th>fuel-system.2bbl</th>\n",
       "      <th>fuel-system.idi</th>\n",
       "      <th>fuel-system.mpfi</th>\n",
       "      <th>price</th>\n",
       "    </tr>\n",
       "  </thead>\n",
       "  <tbody>\n",
       "    <tr>\n",
       "      <th>0</th>\n",
       "      <td>3</td>\n",
       "      <td>1</td>\n",
       "      <td>0</td>\n",
       "      <td>1</td>\n",
       "      <td>0</td>\n",
       "      <td>88.6</td>\n",
       "      <td>168.8</td>\n",
       "      <td>64.1</td>\n",
       "      <td>48.8</td>\n",
       "      <td>2548</td>\n",
       "      <td>...</td>\n",
       "      <td>0</td>\n",
       "      <td>0</td>\n",
       "      <td>1</td>\n",
       "      <td>0</td>\n",
       "      <td>0</td>\n",
       "      <td>0</td>\n",
       "      <td>0</td>\n",
       "      <td>0</td>\n",
       "      <td>1</td>\n",
       "      <td>13495.0</td>\n",
       "    </tr>\n",
       "    <tr>\n",
       "      <th>1</th>\n",
       "      <td>3</td>\n",
       "      <td>1</td>\n",
       "      <td>0</td>\n",
       "      <td>1</td>\n",
       "      <td>0</td>\n",
       "      <td>88.6</td>\n",
       "      <td>168.8</td>\n",
       "      <td>64.1</td>\n",
       "      <td>48.8</td>\n",
       "      <td>2548</td>\n",
       "      <td>...</td>\n",
       "      <td>0</td>\n",
       "      <td>0</td>\n",
       "      <td>1</td>\n",
       "      <td>0</td>\n",
       "      <td>0</td>\n",
       "      <td>0</td>\n",
       "      <td>0</td>\n",
       "      <td>0</td>\n",
       "      <td>1</td>\n",
       "      <td>16500.0</td>\n",
       "    </tr>\n",
       "    <tr>\n",
       "      <th>2</th>\n",
       "      <td>1</td>\n",
       "      <td>1</td>\n",
       "      <td>0</td>\n",
       "      <td>1</td>\n",
       "      <td>0</td>\n",
       "      <td>94.5</td>\n",
       "      <td>171.2</td>\n",
       "      <td>65.5</td>\n",
       "      <td>52.4</td>\n",
       "      <td>2823</td>\n",
       "      <td>...</td>\n",
       "      <td>1</td>\n",
       "      <td>0</td>\n",
       "      <td>0</td>\n",
       "      <td>0</td>\n",
       "      <td>1</td>\n",
       "      <td>0</td>\n",
       "      <td>0</td>\n",
       "      <td>0</td>\n",
       "      <td>1</td>\n",
       "      <td>16500.0</td>\n",
       "    </tr>\n",
       "    <tr>\n",
       "      <th>3</th>\n",
       "      <td>2</td>\n",
       "      <td>1</td>\n",
       "      <td>0</td>\n",
       "      <td>0</td>\n",
       "      <td>0</td>\n",
       "      <td>99.8</td>\n",
       "      <td>176.6</td>\n",
       "      <td>66.2</td>\n",
       "      <td>54.3</td>\n",
       "      <td>2337</td>\n",
       "      <td>...</td>\n",
       "      <td>0</td>\n",
       "      <td>0</td>\n",
       "      <td>1</td>\n",
       "      <td>0</td>\n",
       "      <td>0</td>\n",
       "      <td>0</td>\n",
       "      <td>0</td>\n",
       "      <td>0</td>\n",
       "      <td>1</td>\n",
       "      <td>13950.0</td>\n",
       "    </tr>\n",
       "    <tr>\n",
       "      <th>4</th>\n",
       "      <td>2</td>\n",
       "      <td>1</td>\n",
       "      <td>0</td>\n",
       "      <td>0</td>\n",
       "      <td>0</td>\n",
       "      <td>99.4</td>\n",
       "      <td>176.6</td>\n",
       "      <td>66.4</td>\n",
       "      <td>54.3</td>\n",
       "      <td>2824</td>\n",
       "      <td>...</td>\n",
       "      <td>0</td>\n",
       "      <td>1</td>\n",
       "      <td>0</td>\n",
       "      <td>0</td>\n",
       "      <td>0</td>\n",
       "      <td>0</td>\n",
       "      <td>0</td>\n",
       "      <td>0</td>\n",
       "      <td>1</td>\n",
       "      <td>17450.0</td>\n",
       "    </tr>\n",
       "    <tr>\n",
       "      <th>...</th>\n",
       "      <td>...</td>\n",
       "      <td>...</td>\n",
       "      <td>...</td>\n",
       "      <td>...</td>\n",
       "      <td>...</td>\n",
       "      <td>...</td>\n",
       "      <td>...</td>\n",
       "      <td>...</td>\n",
       "      <td>...</td>\n",
       "      <td>...</td>\n",
       "      <td>...</td>\n",
       "      <td>...</td>\n",
       "      <td>...</td>\n",
       "      <td>...</td>\n",
       "      <td>...</td>\n",
       "      <td>...</td>\n",
       "      <td>...</td>\n",
       "      <td>...</td>\n",
       "      <td>...</td>\n",
       "      <td>...</td>\n",
       "      <td>...</td>\n",
       "    </tr>\n",
       "    <tr>\n",
       "      <th>200</th>\n",
       "      <td>-1</td>\n",
       "      <td>1</td>\n",
       "      <td>0</td>\n",
       "      <td>0</td>\n",
       "      <td>0</td>\n",
       "      <td>109.1</td>\n",
       "      <td>188.8</td>\n",
       "      <td>68.9</td>\n",
       "      <td>55.5</td>\n",
       "      <td>2952</td>\n",
       "      <td>...</td>\n",
       "      <td>0</td>\n",
       "      <td>0</td>\n",
       "      <td>1</td>\n",
       "      <td>0</td>\n",
       "      <td>0</td>\n",
       "      <td>0</td>\n",
       "      <td>0</td>\n",
       "      <td>0</td>\n",
       "      <td>1</td>\n",
       "      <td>16845.0</td>\n",
       "    </tr>\n",
       "    <tr>\n",
       "      <th>201</th>\n",
       "      <td>-1</td>\n",
       "      <td>1</td>\n",
       "      <td>1</td>\n",
       "      <td>0</td>\n",
       "      <td>0</td>\n",
       "      <td>109.1</td>\n",
       "      <td>188.8</td>\n",
       "      <td>68.8</td>\n",
       "      <td>55.5</td>\n",
       "      <td>3049</td>\n",
       "      <td>...</td>\n",
       "      <td>0</td>\n",
       "      <td>0</td>\n",
       "      <td>1</td>\n",
       "      <td>0</td>\n",
       "      <td>0</td>\n",
       "      <td>0</td>\n",
       "      <td>0</td>\n",
       "      <td>0</td>\n",
       "      <td>1</td>\n",
       "      <td>19045.0</td>\n",
       "    </tr>\n",
       "    <tr>\n",
       "      <th>202</th>\n",
       "      <td>-1</td>\n",
       "      <td>1</td>\n",
       "      <td>0</td>\n",
       "      <td>0</td>\n",
       "      <td>0</td>\n",
       "      <td>109.1</td>\n",
       "      <td>188.8</td>\n",
       "      <td>68.9</td>\n",
       "      <td>55.5</td>\n",
       "      <td>3012</td>\n",
       "      <td>...</td>\n",
       "      <td>1</td>\n",
       "      <td>0</td>\n",
       "      <td>0</td>\n",
       "      <td>0</td>\n",
       "      <td>1</td>\n",
       "      <td>0</td>\n",
       "      <td>0</td>\n",
       "      <td>0</td>\n",
       "      <td>1</td>\n",
       "      <td>21485.0</td>\n",
       "    </tr>\n",
       "    <tr>\n",
       "      <th>203</th>\n",
       "      <td>-1</td>\n",
       "      <td>0</td>\n",
       "      <td>1</td>\n",
       "      <td>0</td>\n",
       "      <td>0</td>\n",
       "      <td>109.1</td>\n",
       "      <td>188.8</td>\n",
       "      <td>68.9</td>\n",
       "      <td>55.5</td>\n",
       "      <td>3217</td>\n",
       "      <td>...</td>\n",
       "      <td>0</td>\n",
       "      <td>0</td>\n",
       "      <td>0</td>\n",
       "      <td>0</td>\n",
       "      <td>1</td>\n",
       "      <td>0</td>\n",
       "      <td>0</td>\n",
       "      <td>1</td>\n",
       "      <td>0</td>\n",
       "      <td>22470.0</td>\n",
       "    </tr>\n",
       "    <tr>\n",
       "      <th>204</th>\n",
       "      <td>-1</td>\n",
       "      <td>1</td>\n",
       "      <td>1</td>\n",
       "      <td>0</td>\n",
       "      <td>0</td>\n",
       "      <td>109.1</td>\n",
       "      <td>188.8</td>\n",
       "      <td>68.9</td>\n",
       "      <td>55.5</td>\n",
       "      <td>3062</td>\n",
       "      <td>...</td>\n",
       "      <td>0</td>\n",
       "      <td>0</td>\n",
       "      <td>1</td>\n",
       "      <td>0</td>\n",
       "      <td>0</td>\n",
       "      <td>0</td>\n",
       "      <td>0</td>\n",
       "      <td>0</td>\n",
       "      <td>1</td>\n",
       "      <td>22625.0</td>\n",
       "    </tr>\n",
       "  </tbody>\n",
       "</table>\n",
       "<p>205 rows × 46 columns</p>\n",
       "</div>"
      ],
      "text/plain": [
       "     symboling  fuel-type  aspiration  num-of-doors  engine-location  \\\n",
       "0            3          1           0             1                0   \n",
       "1            3          1           0             1                0   \n",
       "2            1          1           0             1                0   \n",
       "3            2          1           0             0                0   \n",
       "4            2          1           0             0                0   \n",
       "..         ...        ...         ...           ...              ...   \n",
       "200         -1          1           0             0                0   \n",
       "201         -1          1           1             0                0   \n",
       "202         -1          1           0             0                0   \n",
       "203         -1          0           1             0                0   \n",
       "204         -1          1           1             0                0   \n",
       "\n",
       "     wheel-base  length  width  height  curb-weight  ...  engine-type.ohcv  \\\n",
       "0          88.6   168.8   64.1    48.8         2548  ...                 0   \n",
       "1          88.6   168.8   64.1    48.8         2548  ...                 0   \n",
       "2          94.5   171.2   65.5    52.4         2823  ...                 1   \n",
       "3          99.8   176.6   66.2    54.3         2337  ...                 0   \n",
       "4          99.4   176.6   66.4    54.3         2824  ...                 0   \n",
       "..          ...     ...    ...     ...          ...  ...               ...   \n",
       "200       109.1   188.8   68.9    55.5         2952  ...                 0   \n",
       "201       109.1   188.8   68.8    55.5         3049  ...                 0   \n",
       "202       109.1   188.8   68.9    55.5         3012  ...                 1   \n",
       "203       109.1   188.8   68.9    55.5         3217  ...                 0   \n",
       "204       109.1   188.8   68.9    55.5         3062  ...                 0   \n",
       "\n",
       "     num-of-cylinders.five  num-of-cylinders.four  \\\n",
       "0                        0                      1   \n",
       "1                        0                      1   \n",
       "2                        0                      0   \n",
       "3                        0                      1   \n",
       "4                        1                      0   \n",
       "..                     ...                    ...   \n",
       "200                      0                      1   \n",
       "201                      0                      1   \n",
       "202                      0                      0   \n",
       "203                      0                      0   \n",
       "204                      0                      1   \n",
       "\n",
       "     num-of-cylinders.more than six  num-of-cylinders.six  fuel-system.1bbl  \\\n",
       "0                                 0                     0                 0   \n",
       "1                                 0                     0                 0   \n",
       "2                                 0                     1                 0   \n",
       "3                                 0                     0                 0   \n",
       "4                                 0                     0                 0   \n",
       "..                              ...                   ...               ...   \n",
       "200                               0                     0                 0   \n",
       "201                               0                     0                 0   \n",
       "202                               0                     1                 0   \n",
       "203                               0                     1                 0   \n",
       "204                               0                     0                 0   \n",
       "\n",
       "     fuel-system.2bbl  fuel-system.idi  fuel-system.mpfi    price  \n",
       "0                   0                0                 1  13495.0  \n",
       "1                   0                0                 1  16500.0  \n",
       "2                   0                0                 1  16500.0  \n",
       "3                   0                0                 1  13950.0  \n",
       "4                   0                0                 1  17450.0  \n",
       "..                ...              ...               ...      ...  \n",
       "200                 0                0                 1  16845.0  \n",
       "201                 0                0                 1  19045.0  \n",
       "202                 0                0                 1  21485.0  \n",
       "203                 0                1                 0  22470.0  \n",
       "204                 0                0                 1  22625.0  \n",
       "\n",
       "[205 rows x 46 columns]"
      ]
     },
     "execution_count": 4,
     "metadata": {},
     "output_type": "execute_result"
    }
   ],
   "source": [
    "# Importing the datasets\n",
    "df=pd.read_csv('Cars_prep (Tomilovych, EC-61).csv', sep=';')\n",
    "df"
   ]
  },
  {
   "cell_type": "code",
   "execution_count": 5,
   "metadata": {},
   "outputs": [
    {
     "data": {
      "text/plain": [
       "'\\n    Початкові дані піддаються шкалюванню шлязом стандартизації. Варто зауважити, що шкалюванню піддаються тільки кількісні\\nзмінні, оскільки якісні змінні раніше було кодовано й тепер вони розташовані в необхі дному інтервалі [0; 1]. Також було\\nстандартизовано змінну symboling, яка вказує на належність до деякого класу з множини впорядкованих класів і через це не була\\nкодована з якісними змінними.\\n    Варто зауважити, що оголошений метод ss зберігає параметри тільки останньої змінної, яку він шкалює. Але оскільки\\nстворення окремих методів для кожної змінної є трудомістким, оскільки легше буде знову експортувати їх з файлу, то було\\nдодано окремий метод шкалювання ScalerY тільки для результуючої змінної price - ціни автомобіля. Також останньою незалежною\\nзмінною, що піддалася шкалюванню, було навмисне вибрано engine-size - така, що має найбільший коефіцієнт кореляції з залежною\\nзмінною і буде в подальшому використовуватися для візуалізації результатів.\\n'"
      ]
     },
     "execution_count": 5,
     "metadata": {},
     "output_type": "execute_result"
    }
   ],
   "source": [
    "'''\n",
    "    Початкові дані піддаються шкалюванню шлязом стандартизації. Варто зауважити, що шкалюванню піддаються тільки кількісні\n",
    "змінні, оскільки якісні змінні раніше було кодовано й тепер вони розташовані в необхі дному інтервалі [0; 1]. Також було\n",
    "стандартизовано змінну symboling, яка вказує на належність до деякого класу з множини впорядкованих класів і через це не була\n",
    "кодована з якісними змінними.\n",
    "    Варто зауважити, що оголошений метод ss зберігає параметри тільки останньої змінної, яку він шкалює. Але оскільки\n",
    "створення окремих методів для кожної змінної є трудомістким, оскільки легше буде знову експортувати їх з файлу, то було\n",
    "додано окремий метод шкалювання ScalerY тільки для результуючої змінної price - ціни автомобіля. Також останньою незалежною\n",
    "змінною, що піддалася шкалюванню, було навмисне вибрано engine-size - така, що має найбільший коефіцієнт кореляції з залежною\n",
    "змінною і буде в подальшому використовуватися для візуалізації результатів.\n",
    "'''"
   ]
  },
  {
   "cell_type": "code",
   "execution_count": 6,
   "metadata": {},
   "outputs": [],
   "source": [
    "#Feature Scaling\n",
    "from sklearn.preprocessing import StandardScaler\n",
    "ss=StandardScaler()\n",
    "df['symboling']=ss.fit_transform(df[['symboling']])\n",
    "df['wheel-base']=ss.fit_transform(df[['wheel-base']])\n",
    "df['length']=ss.fit_transform(df[['length']])\n",
    "df['width']=ss.fit_transform(df[['width']])\n",
    "df['height']=ss.fit_transform(df[['height']])\n",
    "df['curb-weight']=ss.fit_transform(df[['curb-weight']])\n",
    "df['bore']=ss.fit_transform(df[['bore']])\n",
    "df['stroke']=ss.fit_transform(df[['stroke']])\n",
    "df['compression-ratio']=ss.fit_transform(df[['compression-ratio']])\n",
    "df['horsepower']=ss.fit_transform(df[['horsepower']])\n",
    "df['peak-rpm']=ss.fit_transform(df[['peak-rpm']])\n",
    "df['city-mpg']=ss.fit_transform(df[['city-mpg']])\n",
    "df['highway-mpg']=ss.fit_transform(df[['highway-mpg']])\n",
    "df['engine-size']=ss.fit_transform(df[['engine-size']])\n",
    "\n",
    "ScalerY=StandardScaler()\n",
    "df['price']=ScalerY.fit_transform(df[['price']])"
   ]
  },
  {
   "cell_type": "code",
   "execution_count": 7,
   "metadata": {},
   "outputs": [
    {
     "data": {
      "text/plain": [
       "'\\n    Для перевірки прогнозних якостей моделей спостереження були розбиті на навчальну (80%) і тестову (20%) вибірки. Оцінка\\nпараметрів моделі буде буде проводитися на навчальній вибірці, а для перевірки прогнозних якостей моделі буде використано\\nтестову вибірку.\\n'"
      ]
     },
     "execution_count": 7,
     "metadata": {},
     "output_type": "execute_result"
    }
   ],
   "source": [
    "'''\n",
    "    Для перевірки прогнозних якостей моделей спостереження були розбиті на навчальну (80%) і тестову (20%) вибірки. Оцінка\n",
    "параметрів моделі буде буде проводитися на навчальній вибірці, а для перевірки прогнозних якостей моделі буде використано\n",
    "тестову вибірку.\n",
    "'''"
   ]
  },
  {
   "cell_type": "code",
   "execution_count": 8,
   "metadata": {},
   "outputs": [],
   "source": [
    "# Splitting the dataset into the Training set and Test set\n",
    "y=df.iloc[:, 45:46].values\n",
    "X=df.iloc[:, 0:45].values\n",
    "from sklearn.model_selection import train_test_split\n",
    "X_train, X_test, y_train, y_test=train_test_split(X, y, test_size=0.2, random_state=123)"
   ]
  },
  {
   "cell_type": "code",
   "execution_count": 9,
   "metadata": {},
   "outputs": [
    {
     "data": {
      "text/plain": [
       "'\\n    Встановлюємо додаткові бібліотеки для роботи з нейронними мережами.\\n'"
      ]
     },
     "execution_count": 9,
     "metadata": {},
     "output_type": "execute_result"
    }
   ],
   "source": [
    "'''\n",
    "    Встановлюємо додаткові бібліотеки для роботи з нейронними мережами.\n",
    "'''"
   ]
  },
  {
   "cell_type": "code",
   "execution_count": 10,
   "metadata": {},
   "outputs": [],
   "source": [
    "# Install Tensorflow\n",
    "# Install Keras\n",
    "# Importing the Keras libraries and packages\n",
    "import keras\n",
    "from keras.models import Sequential\n",
    "from keras.layers import Dense\n",
    "from keras.layers import Input"
   ]
  },
  {
   "cell_type": "code",
   "execution_count": 11,
   "metadata": {},
   "outputs": [
    {
     "data": {
      "text/plain": [
       "'\\n    Ініціюємо нейронну мережу та задаємо її архітектуру й параметри навчання. Дана нейронна мережа має архітектуру 45-45-1,\\nтобто наявний вхідний шар з 45 нейронами (за числом незалежних змінних), один прихований шар з 45 нейронами і вихідний шар з\\n1 нейроном.\\n'"
      ]
     },
     "execution_count": 11,
     "metadata": {},
     "output_type": "execute_result"
    }
   ],
   "source": [
    "'''\n",
    "    Ініціюємо нейронну мережу та задаємо її архітектуру й параметри навчання. Дана нейронна мережа має архітектуру 45-45-1,\n",
    "тобто наявний вхідний шар з 45 нейронами (за числом незалежних змінних), один прихований шар з 45 нейронами і вихідний шар з\n",
    "1 нейроном.\n",
    "'''"
   ]
  },
  {
   "cell_type": "code",
   "execution_count": 12,
   "metadata": {},
   "outputs": [],
   "source": [
    "# Initialising the ANN\n",
    "rnn1=Sequential()\n",
    "\n",
    "# Adding the input layer\n",
    "rnn1.add(Input(shape=(45,)))\n",
    "\n",
    "# Adding the hidden layer\n",
    "rnn1.add(Dense(45, activation='tanh'))\n",
    "\n",
    "# Adding the output layer\n",
    "rnn1.add(Dense(1, activation='linear'))\n",
    "\n",
    "# Compiling the ANN\n",
    "rnn1.compile(optimizer='adam', loss='mean_squared_error', metrics=['accuracy'])"
   ]
  },
  {
   "cell_type": "code",
   "execution_count": 13,
   "metadata": {},
   "outputs": [
    {
     "data": {
      "text/plain": [
       "'\\n    Дана нейронна мережа була навчена на навчальній вибірці всіх незалежних змінних, для неї також було проведено оцінку та\\nпрогноз цін автомобілів.\\n'"
      ]
     },
     "execution_count": 13,
     "metadata": {},
     "output_type": "execute_result"
    }
   ],
   "source": [
    "'''\n",
    "    Дана нейронна мережа була навчена на навчальній вибірці всіх незалежних змінних, для неї також було проведено оцінку та\n",
    "прогноз цін автомобілів.\n",
    "'''"
   ]
  },
  {
   "cell_type": "code",
   "execution_count": 14,
   "metadata": {},
   "outputs": [
    {
     "name": "stdout",
     "output_type": "stream",
     "text": [
      "Epoch 1/100\n",
      "17/17 [==============================] - 0s 4ms/step - loss: 0.7588 - accuracy: 0.0000e+00\n",
      "Epoch 2/100\n",
      "17/17 [==============================] - 0s 4ms/step - loss: 0.3507 - accuracy: 0.0000e+00\n",
      "Epoch 3/100\n",
      "17/17 [==============================] - ETA: 0s - loss: 0.2850 - accuracy: 0.0000e+ - 0s 4ms/step - loss: 0.2754 - accuracy: 0.0000e+00\n",
      "Epoch 4/100\n",
      "17/17 [==============================] - 0s 4ms/step - loss: 0.2328 - accuracy: 0.0000e+00: 0s - loss: 0.2359 - accuracy: 0.0000e+\n",
      "Epoch 5/100\n",
      "17/17 [==============================] - 0s 4ms/step - loss: 0.1958 - accuracy: 0.0000e+00\n",
      "Epoch 6/100\n",
      "17/17 [==============================] - 0s 5ms/step - loss: 0.1728 - accuracy: 0.0000e+00\n",
      "Epoch 7/100\n",
      "17/17 [==============================] - 0s 5ms/step - loss: 0.1540 - accuracy: 0.0000e+00\n",
      "Epoch 8/100\n",
      "17/17 [==============================] - 0s 5ms/step - loss: 0.1384 - accuracy: 0.0000e+00\n",
      "Epoch 9/100\n",
      "17/17 [==============================] - ETA: 0s - loss: 0.0940 - accuracy: 0.0000e+ - 0s 4ms/step - loss: 0.1255 - accuracy: 0.0000e+00\n",
      "Epoch 10/100\n",
      "17/17 [==============================] - 0s 4ms/step - loss: 0.1215 - accuracy: 0.0000e+00\n",
      "Epoch 11/100\n",
      "17/17 [==============================] - ETA: 0s - loss: 0.0971 - accuracy: 0.0000e+ - 0s 4ms/step - loss: 0.1118 - accuracy: 0.0000e+00\n",
      "Epoch 12/100\n",
      "17/17 [==============================] - ETA: 0s - loss: 0.1113 - accuracy: 0.0000e+ - 0s 4ms/step - loss: 0.1051 - accuracy: 0.0000e+00\n",
      "Epoch 13/100\n",
      "17/17 [==============================] - 0s 4ms/step - loss: 0.0973 - accuracy: 0.0000e+00\n",
      "Epoch 14/100\n",
      "17/17 [==============================] - 0s 4ms/step - loss: 0.0960 - accuracy: 0.0000e+00\n",
      "Epoch 15/100\n",
      "17/17 [==============================] - 0s 4ms/step - loss: 0.0882 - accuracy: 0.0000e+00\n",
      "Epoch 16/100\n",
      "17/17 [==============================] - 0s 4ms/step - loss: 0.0837 - accuracy: 0.0000e+00: 0s - loss: 0.0775 - accuracy: 0.0000e+\n",
      "Epoch 17/100\n",
      "17/17 [==============================] - 0s 4ms/step - loss: 0.0809 - accuracy: 0.0000e+00\n",
      "Epoch 18/100\n",
      "17/17 [==============================] - 0s 4ms/step - loss: 0.0778 - accuracy: 0.0000e+00\n",
      "Epoch 19/100\n",
      "17/17 [==============================] - 0s 4ms/step - loss: 0.0779 - accuracy: 0.0000e+00\n",
      "Epoch 20/100\n",
      "17/17 [==============================] - ETA: 0s - loss: 0.0782 - accuracy: 0.0000e+ - 0s 4ms/step - loss: 0.0726 - accuracy: 0.0000e+00\n",
      "Epoch 21/100\n",
      "17/17 [==============================] - 0s 4ms/step - loss: 0.0741 - accuracy: 0.0000e+00\n",
      "Epoch 22/100\n",
      "17/17 [==============================] - 0s 4ms/step - loss: 0.0692 - accuracy: 0.0000e+00\n",
      "Epoch 23/100\n",
      "17/17 [==============================] - 0s 5ms/step - loss: 0.0672 - accuracy: 0.0000e+00\n",
      "Epoch 24/100\n",
      "17/17 [==============================] - 0s 4ms/step - loss: 0.0666 - accuracy: 0.0000e+00\n",
      "Epoch 25/100\n",
      "17/17 [==============================] - 0s 4ms/step - loss: 0.0651 - accuracy: 0.0000e+00\n",
      "Epoch 26/100\n",
      "17/17 [==============================] - 0s 4ms/step - loss: 0.0624 - accuracy: 0.0000e+00\n",
      "Epoch 27/100\n",
      "17/17 [==============================] - 0s 5ms/step - loss: 0.0612 - accuracy: 0.0000e+00\n",
      "Epoch 28/100\n",
      "17/17 [==============================] - 0s 4ms/step - loss: 0.0603 - accuracy: 0.0000e+00\n",
      "Epoch 29/100\n",
      "17/17 [==============================] - 0s 4ms/step - loss: 0.0597 - accuracy: 0.0000e+00\n",
      "Epoch 30/100\n",
      "17/17 [==============================] - 0s 4ms/step - loss: 0.0610 - accuracy: 0.0000e+00\n",
      "Epoch 31/100\n",
      "17/17 [==============================] - 0s 4ms/step - loss: 0.0592 - accuracy: 0.0000e+00\n",
      "Epoch 32/100\n",
      "17/17 [==============================] - 0s 4ms/step - loss: 0.0566 - accuracy: 0.0000e+00\n",
      "Epoch 33/100\n",
      "17/17 [==============================] - 0s 4ms/step - loss: 0.0571 - accuracy: 0.0000e+00\n",
      "Epoch 34/100\n",
      "17/17 [==============================] - 0s 4ms/step - loss: 0.0534 - accuracy: 0.0000e+00\n",
      "Epoch 35/100\n",
      "17/17 [==============================] - 0s 4ms/step - loss: 0.0536 - accuracy: 0.0000e+00\n",
      "Epoch 36/100\n",
      "17/17 [==============================] - 0s 4ms/step - loss: 0.0582 - accuracy: 0.0000e+00\n",
      "Epoch 37/100\n",
      "17/17 [==============================] - 0s 5ms/step - loss: 0.0531 - accuracy: 0.0000e+00\n",
      "Epoch 38/100\n",
      "17/17 [==============================] - 0s 4ms/step - loss: 0.0505 - accuracy: 0.0000e+00\n",
      "Epoch 39/100\n",
      "17/17 [==============================] - 0s 4ms/step - loss: 0.0497 - accuracy: 0.0000e+00\n",
      "Epoch 40/100\n",
      "17/17 [==============================] - 0s 5ms/step - loss: 0.0478 - accuracy: 0.0000e+00\n",
      "Epoch 41/100\n",
      "17/17 [==============================] - 0s 5ms/step - loss: 0.0465 - accuracy: 0.0000e+00\n",
      "Epoch 42/100\n",
      "17/17 [==============================] - 0s 4ms/step - loss: 0.0455 - accuracy: 0.0000e+00\n",
      "Epoch 43/100\n",
      "17/17 [==============================] - 0s 5ms/step - loss: 0.0463 - accuracy: 0.0000e+00\n",
      "Epoch 44/100\n",
      "17/17 [==============================] - 0s 5ms/step - loss: 0.0439 - accuracy: 0.0000e+00\n",
      "Epoch 45/100\n",
      "17/17 [==============================] - 0s 5ms/step - loss: 0.0429 - accuracy: 0.0000e+00\n",
      "Epoch 46/100\n",
      "17/17 [==============================] - 0s 5ms/step - loss: 0.0427 - accuracy: 0.0000e+00\n",
      "Epoch 47/100\n",
      "17/17 [==============================] - 0s 5ms/step - loss: 0.0408 - accuracy: 0.0000e+00\n",
      "Epoch 48/100\n",
      "17/17 [==============================] - 0s 4ms/step - loss: 0.0420 - accuracy: 0.0000e+00\n",
      "Epoch 49/100\n",
      "17/17 [==============================] - 0s 4ms/step - loss: 0.0407 - accuracy: 0.0000e+00\n",
      "Epoch 50/100\n",
      "17/17 [==============================] - 0s 5ms/step - loss: 0.0400 - accuracy: 0.0000e+00\n",
      "Epoch 51/100\n",
      "17/17 [==============================] - 0s 5ms/step - loss: 0.0409 - accuracy: 0.0000e+00\n",
      "Epoch 52/100\n",
      "17/17 [==============================] - 0s 4ms/step - loss: 0.0399 - accuracy: 0.0000e+00\n",
      "Epoch 53/100\n",
      "17/17 [==============================] - 0s 4ms/step - loss: 0.0374 - accuracy: 0.0000e+00\n",
      "Epoch 54/100\n",
      "17/17 [==============================] - 0s 5ms/step - loss: 0.0372 - accuracy: 0.0000e+00\n",
      "Epoch 55/100\n",
      "17/17 [==============================] - 0s 4ms/step - loss: 0.0372 - accuracy: 0.0000e+00\n",
      "Epoch 56/100\n",
      "17/17 [==============================] - 0s 4ms/step - loss: 0.0367 - accuracy: 0.0000e+00\n",
      "Epoch 57/100\n",
      "17/17 [==============================] - 0s 5ms/step - loss: 0.0355 - accuracy: 0.0000e+00\n",
      "Epoch 58/100\n",
      "17/17 [==============================] - 0s 5ms/step - loss: 0.0350 - accuracy: 0.0000e+00\n",
      "Epoch 59/100\n",
      "17/17 [==============================] - 0s 5ms/step - loss: 0.0336 - accuracy: 0.0000e+00\n",
      "Epoch 60/100\n",
      "17/17 [==============================] - 0s 5ms/step - loss: 0.0331 - accuracy: 0.0000e+00\n",
      "Epoch 61/100\n",
      "17/17 [==============================] - 0s 5ms/step - loss: 0.0327 - accuracy: 0.0000e+00\n",
      "Epoch 62/100\n",
      "17/17 [==============================] - 0s 5ms/step - loss: 0.0338 - accuracy: 0.0000e+00\n",
      "Epoch 63/100\n",
      "17/17 [==============================] - 0s 5ms/step - loss: 0.0332 - accuracy: 0.0000e+00\n",
      "Epoch 64/100\n",
      "17/17 [==============================] - 0s 5ms/step - loss: 0.0346 - accuracy: 0.0000e+00\n",
      "Epoch 65/100\n",
      "17/17 [==============================] - 0s 5ms/step - loss: 0.0345 - accuracy: 0.0000e+00\n",
      "Epoch 66/100\n",
      "17/17 [==============================] - 0s 5ms/step - loss: 0.0340 - accuracy: 0.0000e+00\n",
      "Epoch 67/100\n",
      "17/17 [==============================] - 0s 4ms/step - loss: 0.0318 - accuracy: 0.0000e+00\n",
      "Epoch 68/100\n",
      "17/17 [==============================] - 0s 4ms/step - loss: 0.0319 - accuracy: 0.0000e+00\n",
      "Epoch 69/100\n",
      "17/17 [==============================] - 0s 5ms/step - loss: 0.0315 - accuracy: 0.0000e+00\n",
      "Epoch 70/100\n",
      "17/17 [==============================] - 0s 5ms/step - loss: 0.0277 - accuracy: 0.0000e+00\n",
      "Epoch 71/100\n",
      "17/17 [==============================] - 0s 4ms/step - loss: 0.0316 - accuracy: 0.0000e+00\n",
      "Epoch 72/100\n",
      "17/17 [==============================] - 0s 4ms/step - loss: 0.0327 - accuracy: 0.0000e+00\n",
      "Epoch 73/100\n",
      "17/17 [==============================] - 0s 4ms/step - loss: 0.0271 - accuracy: 0.0000e+00\n",
      "Epoch 74/100\n",
      "17/17 [==============================] - 0s 5ms/step - loss: 0.0277 - accuracy: 0.0000e+00\n",
      "Epoch 75/100\n",
      "17/17 [==============================] - 0s 4ms/step - loss: 0.0282 - accuracy: 0.0000e+00\n",
      "Epoch 76/100\n"
     ]
    },
    {
     "name": "stdout",
     "output_type": "stream",
     "text": [
      "17/17 [==============================] - 0s 4ms/step - loss: 0.0268 - accuracy: 0.0000e+00\n",
      "Epoch 77/100\n",
      "17/17 [==============================] - 0s 5ms/step - loss: 0.0262 - accuracy: 0.0000e+00\n",
      "Epoch 78/100\n",
      "17/17 [==============================] - 0s 4ms/step - loss: 0.0261 - accuracy: 0.0000e+00\n",
      "Epoch 79/100\n",
      "17/17 [==============================] - ETA: 0s - loss: 0.0264 - accuracy: 0.0000e+ - 0s 4ms/step - loss: 0.0272 - accuracy: 0.0000e+00\n",
      "Epoch 80/100\n",
      "17/17 [==============================] - 0s 5ms/step - loss: 0.0269 - accuracy: 0.0000e+00\n",
      "Epoch 81/100\n",
      "17/17 [==============================] - 0s 5ms/step - loss: 0.0244 - accuracy: 0.0000e+00\n",
      "Epoch 82/100\n",
      "17/17 [==============================] - 0s 5ms/step - loss: 0.0258 - accuracy: 0.0000e+00\n",
      "Epoch 83/100\n",
      "17/17 [==============================] - 0s 5ms/step - loss: 0.0259 - accuracy: 0.0000e+00\n",
      "Epoch 84/100\n",
      "17/17 [==============================] - 0s 5ms/step - loss: 0.0265 - accuracy: 0.0000e+00\n",
      "Epoch 85/100\n",
      "17/17 [==============================] - 0s 4ms/step - loss: 0.0261 - accuracy: 0.0000e+00\n",
      "Epoch 86/100\n",
      "17/17 [==============================] - 0s 5ms/step - loss: 0.0250 - accuracy: 0.0000e+00\n",
      "Epoch 87/100\n",
      "17/17 [==============================] - 0s 5ms/step - loss: 0.0249 - accuracy: 0.0000e+00\n",
      "Epoch 88/100\n",
      "17/17 [==============================] - 0s 5ms/step - loss: 0.0241 - accuracy: 0.0000e+00\n",
      "Epoch 89/100\n",
      "17/17 [==============================] - 0s 5ms/step - loss: 0.0248 - accuracy: 0.0000e+00\n",
      "Epoch 90/100\n",
      "17/17 [==============================] - 0s 5ms/step - loss: 0.0225 - accuracy: 0.0000e+00\n",
      "Epoch 91/100\n",
      "17/17 [==============================] - 0s 6ms/step - loss: 0.0221 - accuracy: 0.0000e+00\n",
      "Epoch 92/100\n",
      "17/17 [==============================] - 0s 5ms/step - loss: 0.0220 - accuracy: 0.0000e+00\n",
      "Epoch 93/100\n",
      "17/17 [==============================] - 0s 5ms/step - loss: 0.0211 - accuracy: 0.0000e+00\n",
      "Epoch 94/100\n",
      "17/17 [==============================] - 0s 4ms/step - loss: 0.0210 - accuracy: 0.0000e+00\n",
      "Epoch 95/100\n",
      "17/17 [==============================] - 0s 4ms/step - loss: 0.0210 - accuracy: 0.0000e+00\n",
      "Epoch 96/100\n",
      "17/17 [==============================] - 0s 4ms/step - loss: 0.0214 - accuracy: 0.0000e+00\n",
      "Epoch 97/100\n",
      "17/17 [==============================] - 0s 4ms/step - loss: 0.0235 - accuracy: 0.0000e+00\n",
      "Epoch 98/100\n",
      "17/17 [==============================] - 0s 4ms/step - loss: 0.0228 - accuracy: 0.0000e+00\n",
      "Epoch 99/100\n",
      "17/17 [==============================] - 0s 4ms/step - loss: 0.0214 - accuracy: 0.0000e+00\n",
      "Epoch 100/100\n",
      "17/17 [==============================] - 0s 4ms/step - loss: 0.0223 - accuracy: 0.0000e+00\n"
     ]
    },
    {
     "data": {
      "text/plain": [
       "<tensorflow.python.keras.callbacks.History at 0x2c15c0e42b0>"
      ]
     },
     "execution_count": 14,
     "metadata": {},
     "output_type": "execute_result"
    }
   ],
   "source": [
    "# Fitting the ANN to the Training set\n",
    "rnn1.fit(X_train, y_train, batch_size=10, epochs=100)"
   ]
  },
  {
   "cell_type": "code",
   "execution_count": 15,
   "metadata": {},
   "outputs": [],
   "source": [
    "# Predict the Training set results\n",
    "y_modeled1=rnn1.predict(X_train)"
   ]
  },
  {
   "cell_type": "code",
   "execution_count": 16,
   "metadata": {},
   "outputs": [],
   "source": [
    "# Predicting the Test set results\n",
    "y_pred1=rnn1.predict(X_test)"
   ]
  },
  {
   "cell_type": "code",
   "execution_count": 17,
   "metadata": {},
   "outputs": [
    {
     "data": {
      "text/plain": [
       "'\\n    Ініціюємо іншу нейронну мережу та задаємо її архітектуру й параметри навчання. Нейронна мережа має архітектуру\\n45-45-45-1, тобто наявний вхідний шар з 45 нейронами (за числом незалежних змінних), два приховані шари з 45 нейронами кожен\\nі вихідний шар з 1 нейроном.\\n'"
      ]
     },
     "execution_count": 17,
     "metadata": {},
     "output_type": "execute_result"
    }
   ],
   "source": [
    "'''\n",
    "    Ініціюємо іншу нейронну мережу та задаємо її архітектуру й параметри навчання. Нейронна мережа має архітектуру\n",
    "45-45-45-1, тобто наявний вхідний шар з 45 нейронами (за числом незалежних змінних), два приховані шари з 45 нейронами кожен\n",
    "і вихідний шар з 1 нейроном.\n",
    "'''"
   ]
  },
  {
   "cell_type": "code",
   "execution_count": 18,
   "metadata": {},
   "outputs": [],
   "source": [
    "# Initialising the ANN\n",
    "rnn2=Sequential()\n",
    "\n",
    "# Adding the input layer\n",
    "rnn2.add(Input(shape=(45,)))\n",
    "\n",
    "# Adding the first hidden layer\n",
    "rnn2.add(Dense(45, activation='tanh'))\n",
    "\n",
    "# Adding the second hidden layer\n",
    "rnn2.add(Dense(45, activation='tanh'))\n",
    "\n",
    "# Adding the output layer\n",
    "rnn2.add(Dense(1, activation='linear'))\n",
    "\n",
    "# Compiling the ANN\n",
    "rnn2.compile(optimizer='adam', loss='mean_squared_error', metrics=['accuracy'])"
   ]
  },
  {
   "cell_type": "code",
   "execution_count": 19,
   "metadata": {},
   "outputs": [
    {
     "data": {
      "text/plain": [
       "'\\n    Дана нейронна мережа була навчена на навчальній вибірці всіх незалежних змінних, для неї також було проведено оцінку та\\nпрогноз цін автомобілів.\\n'"
      ]
     },
     "execution_count": 19,
     "metadata": {},
     "output_type": "execute_result"
    }
   ],
   "source": [
    "'''\n",
    "    Дана нейронна мережа була навчена на навчальній вибірці всіх незалежних змінних, для неї також було проведено оцінку та\n",
    "прогноз цін автомобілів.\n",
    "'''"
   ]
  },
  {
   "cell_type": "code",
   "execution_count": 20,
   "metadata": {},
   "outputs": [
    {
     "name": "stdout",
     "output_type": "stream",
     "text": [
      "Epoch 1/100\n",
      "17/17 [==============================] - 0s 6ms/step - loss: 0.6068 - accuracy: 0.0000e+00\n",
      "Epoch 2/100\n",
      "17/17 [==============================] - 0s 6ms/step - loss: 0.3487 - accuracy: 0.0000e+00\n",
      "Epoch 3/100\n",
      "17/17 [==============================] - ETA: 0s - loss: 0.2788 - accuracy: 0.0000e+ - 0s 6ms/step - loss: 0.2362 - accuracy: 0.0000e+00\n",
      "Epoch 4/100\n",
      "17/17 [==============================] - 0s 5ms/step - loss: 0.1979 - accuracy: 0.0000e+00\n",
      "Epoch 5/100\n",
      "17/17 [==============================] - 0s 7ms/step - loss: 0.1618 - accuracy: 0.0000e+00\n",
      "Epoch 6/100\n",
      "17/17 [==============================] - 0s 5ms/step - loss: 0.1404 - accuracy: 0.0000e+00\n",
      "Epoch 7/100\n",
      "17/17 [==============================] - 0s 5ms/step - loss: 0.1272 - accuracy: 0.0000e+00\n",
      "Epoch 8/100\n",
      "17/17 [==============================] - 0s 5ms/step - loss: 0.1184 - accuracy: 0.0000e+00\n",
      "Epoch 9/100\n",
      "17/17 [==============================] - 0s 5ms/step - loss: 0.1115 - accuracy: 0.0000e+00\n",
      "Epoch 10/100\n",
      "17/17 [==============================] - 0s 5ms/step - loss: 0.0993 - accuracy: 0.0000e+00\n",
      "Epoch 11/100\n",
      "17/17 [==============================] - 0s 4ms/step - loss: 0.0932 - accuracy: 0.0000e+00\n",
      "Epoch 12/100\n",
      "17/17 [==============================] - 0s 4ms/step - loss: 0.0866 - accuracy: 0.0000e+00\n",
      "Epoch 13/100\n",
      "17/17 [==============================] - 0s 4ms/step - loss: 0.0842 - accuracy: 0.0000e+00\n",
      "Epoch 14/100\n",
      "17/17 [==============================] - 0s 5ms/step - loss: 0.0785 - accuracy: 0.0000e+00\n",
      "Epoch 15/100\n",
      "17/17 [==============================] - 0s 5ms/step - loss: 0.0778 - accuracy: 0.0000e+00\n",
      "Epoch 16/100\n",
      "17/17 [==============================] - 0s 4ms/step - loss: 0.0730 - accuracy: 0.0000e+00\n",
      "Epoch 17/100\n",
      "17/17 [==============================] - 0s 5ms/step - loss: 0.0658 - accuracy: 0.0000e+00\n",
      "Epoch 18/100\n",
      "17/17 [==============================] - 0s 5ms/step - loss: 0.0677 - accuracy: 0.0000e+00\n",
      "Epoch 19/100\n",
      "17/17 [==============================] - 0s 4ms/step - loss: 0.0640 - accuracy: 0.0000e+00\n",
      "Epoch 20/100\n",
      "17/17 [==============================] - 0s 4ms/step - loss: 0.0620 - accuracy: 0.0000e+00\n",
      "Epoch 21/100\n",
      "17/17 [==============================] - 0s 4ms/step - loss: 0.0595 - accuracy: 0.0000e+00\n",
      "Epoch 22/100\n",
      "17/17 [==============================] - 0s 4ms/step - loss: 0.0536 - accuracy: 0.0000e+00\n",
      "Epoch 23/100\n",
      "17/17 [==============================] - 0s 4ms/step - loss: 0.0506 - accuracy: 0.0000e+00\n",
      "Epoch 24/100\n",
      "17/17 [==============================] - 0s 4ms/step - loss: 0.0530 - accuracy: 0.0000e+00\n",
      "Epoch 25/100\n",
      "17/17 [==============================] - 0s 4ms/step - loss: 0.0557 - accuracy: 0.0000e+00\n",
      "Epoch 26/100\n",
      "17/17 [==============================] - 0s 4ms/step - loss: 0.0503 - accuracy: 0.0000e+00\n",
      "Epoch 27/100\n",
      "17/17 [==============================] - 0s 5ms/step - loss: 0.0470 - accuracy: 0.0000e+00\n",
      "Epoch 28/100\n",
      "17/17 [==============================] - 0s 5ms/step - loss: 0.0459 - accuracy: 0.0000e+00\n",
      "Epoch 29/100\n",
      "17/17 [==============================] - 0s 5ms/step - loss: 0.0429 - accuracy: 0.0000e+00\n",
      "Epoch 30/100\n",
      "17/17 [==============================] - 0s 3ms/step - loss: 0.0473 - accuracy: 0.0000e+00\n",
      "Epoch 31/100\n",
      "17/17 [==============================] - 0s 3ms/step - loss: 0.0457 - accuracy: 0.0000e+00\n",
      "Epoch 32/100\n",
      "17/17 [==============================] - 0s 3ms/step - loss: 0.0395 - accuracy: 0.0000e+00\n",
      "Epoch 33/100\n",
      "17/17 [==============================] - 0s 3ms/step - loss: 0.0407 - accuracy: 0.0000e+00\n",
      "Epoch 34/100\n",
      "17/17 [==============================] - 0s 3ms/step - loss: 0.0439 - accuracy: 0.0000e+00\n",
      "Epoch 35/100\n",
      "17/17 [==============================] - 0s 3ms/step - loss: 0.0463 - accuracy: 0.0000e+00\n",
      "Epoch 36/100\n",
      "17/17 [==============================] - 0s 4ms/step - loss: 0.0384 - accuracy: 0.0000e+00\n",
      "Epoch 37/100\n",
      "17/17 [==============================] - 0s 4ms/step - loss: 0.0348 - accuracy: 0.0000e+00\n",
      "Epoch 38/100\n",
      "17/17 [==============================] - 0s 4ms/step - loss: 0.0319 - accuracy: 0.0000e+00\n",
      "Epoch 39/100\n",
      "17/17 [==============================] - 0s 4ms/step - loss: 0.0339 - accuracy: 0.0000e+00\n",
      "Epoch 40/100\n",
      "17/17 [==============================] - 0s 4ms/step - loss: 0.0323 - accuracy: 0.0000e+00\n",
      "Epoch 41/100\n",
      "17/17 [==============================] - 0s 4ms/step - loss: 0.0322 - accuracy: 0.0000e+00\n",
      "Epoch 42/100\n",
      "17/17 [==============================] - 0s 4ms/step - loss: 0.0291 - accuracy: 0.0000e+00\n",
      "Epoch 43/100\n",
      "17/17 [==============================] - 0s 7ms/step - loss: 0.0282 - accuracy: 0.0000e+00\n",
      "Epoch 44/100\n",
      "17/17 [==============================] - 0s 6ms/step - loss: 0.0281 - accuracy: 0.0000e+00\n",
      "Epoch 45/100\n",
      "17/17 [==============================] - 0s 5ms/step - loss: 0.0279 - accuracy: 0.0000e+00\n",
      "Epoch 46/100\n",
      "17/17 [==============================] - 0s 5ms/step - loss: 0.0295 - accuracy: 0.0000e+00\n",
      "Epoch 47/100\n",
      "17/17 [==============================] - 0s 5ms/step - loss: 0.0278 - accuracy: 0.0000e+00\n",
      "Epoch 48/100\n",
      "17/17 [==============================] - 0s 5ms/step - loss: 0.0276 - accuracy: 0.0000e+00\n",
      "Epoch 49/100\n",
      "17/17 [==============================] - 0s 4ms/step - loss: 0.0271 - accuracy: 0.0000e+00\n",
      "Epoch 50/100\n",
      "17/17 [==============================] - 0s 5ms/step - loss: 0.0299 - accuracy: 0.0000e+00\n",
      "Epoch 51/100\n",
      "17/17 [==============================] - 0s 5ms/step - loss: 0.0347 - accuracy: 0.0000e+00\n",
      "Epoch 52/100\n",
      "17/17 [==============================] - 0s 5ms/step - loss: 0.0254 - accuracy: 0.0000e+00\n",
      "Epoch 53/100\n",
      "17/17 [==============================] - 0s 5ms/step - loss: 0.0257 - accuracy: 0.0000e+00\n",
      "Epoch 54/100\n",
      "17/17 [==============================] - 0s 5ms/step - loss: 0.0255 - accuracy: 0.0000e+00\n",
      "Epoch 55/100\n",
      "17/17 [==============================] - 0s 4ms/step - loss: 0.0235 - accuracy: 0.0000e+00\n",
      "Epoch 56/100\n",
      "17/17 [==============================] - 0s 5ms/step - loss: 0.0229 - accuracy: 0.0000e+00\n",
      "Epoch 57/100\n",
      "17/17 [==============================] - 0s 5ms/step - loss: 0.0286 - accuracy: 0.0000e+00\n",
      "Epoch 58/100\n",
      "17/17 [==============================] - 0s 4ms/step - loss: 0.0222 - accuracy: 0.0000e+00\n",
      "Epoch 59/100\n",
      "17/17 [==============================] - 0s 5ms/step - loss: 0.0219 - accuracy: 0.0000e+00\n",
      "Epoch 60/100\n",
      "17/17 [==============================] - 0s 5ms/step - loss: 0.0205 - accuracy: 0.0000e+00\n",
      "Epoch 61/100\n",
      "17/17 [==============================] - 0s 5ms/step - loss: 0.0210 - accuracy: 0.0000e+00\n",
      "Epoch 62/100\n",
      "17/17 [==============================] - 0s 4ms/step - loss: 0.0246 - accuracy: 0.0000e+00\n",
      "Epoch 63/100\n",
      "17/17 [==============================] - 0s 5ms/step - loss: 0.0239 - accuracy: 0.0000e+00\n",
      "Epoch 64/100\n",
      "17/17 [==============================] - 0s 5ms/step - loss: 0.0215 - accuracy: 0.0000e+00\n",
      "Epoch 65/100\n",
      "17/17 [==============================] - 0s 5ms/step - loss: 0.0258 - accuracy: 0.0000e+00\n",
      "Epoch 66/100\n",
      "17/17 [==============================] - 0s 4ms/step - loss: 0.0220 - accuracy: 0.0000e+00\n",
      "Epoch 67/100\n",
      "17/17 [==============================] - 0s 4ms/step - loss: 0.0212 - accuracy: 0.0000e+00\n",
      "Epoch 68/100\n",
      "17/17 [==============================] - 0s 5ms/step - loss: 0.0207 - accuracy: 0.0000e+00: 0s - loss: 0.0209 - accuracy: 0.0000e+\n",
      "Epoch 69/100\n",
      "17/17 [==============================] - 0s 5ms/step - loss: 0.0186 - accuracy: 0.0000e+00\n",
      "Epoch 70/100\n",
      "17/17 [==============================] - 0s 6ms/step - loss: 0.0199 - accuracy: 0.0000e+00\n",
      "Epoch 71/100\n",
      "17/17 [==============================] - 0s 5ms/step - loss: 0.0190 - accuracy: 0.0000e+00\n",
      "Epoch 72/100\n",
      "17/17 [==============================] - 0s 5ms/step - loss: 0.0185 - accuracy: 0.0000e+00\n",
      "Epoch 73/100\n",
      "17/17 [==============================] - 0s 4ms/step - loss: 0.0213 - accuracy: 0.0000e+00\n",
      "Epoch 74/100\n",
      "17/17 [==============================] - 0s 4ms/step - loss: 0.0207 - accuracy: 0.0000e+00\n",
      "Epoch 75/100\n",
      "17/17 [==============================] - ETA: 0s - loss: 0.0170 - accuracy: 0.0000e+ - 0s 4ms/step - loss: 0.0175 - accuracy: 0.0000e+00\n",
      "Epoch 76/100\n",
      "17/17 [==============================] - 0s 4ms/step - loss: 0.0170 - accuracy: 0.0000e+00\n",
      "Epoch 77/100\n",
      "17/17 [==============================] - 0s 4ms/step - loss: 0.0181 - accuracy: 0.0000e+00\n",
      "Epoch 78/100\n"
     ]
    },
    {
     "name": "stdout",
     "output_type": "stream",
     "text": [
      "17/17 [==============================] - 0s 4ms/step - loss: 0.0167 - accuracy: 0.0000e+00\n",
      "Epoch 79/100\n",
      "17/17 [==============================] - 0s 5ms/step - loss: 0.0176 - accuracy: 0.0000e+00\n",
      "Epoch 80/100\n",
      "17/17 [==============================] - 0s 5ms/step - loss: 0.0207 - accuracy: 0.0000e+00\n",
      "Epoch 81/100\n",
      "17/17 [==============================] - 0s 5ms/step - loss: 0.0231 - accuracy: 0.0000e+00\n",
      "Epoch 82/100\n",
      "17/17 [==============================] - 0s 5ms/step - loss: 0.0216 - accuracy: 0.0000e+00\n",
      "Epoch 83/100\n",
      "17/17 [==============================] - 0s 4ms/step - loss: 0.0202 - accuracy: 0.0000e+00\n",
      "Epoch 84/100\n",
      "17/17 [==============================] - 0s 4ms/step - loss: 0.0179 - accuracy: 0.0000e+00\n",
      "Epoch 85/100\n",
      "17/17 [==============================] - 0s 5ms/step - loss: 0.0160 - accuracy: 0.0000e+00\n",
      "Epoch 86/100\n",
      "17/17 [==============================] - 0s 5ms/step - loss: 0.0159 - accuracy: 0.0000e+00\n",
      "Epoch 87/100\n",
      "17/17 [==============================] - 0s 5ms/step - loss: 0.0150 - accuracy: 0.0000e+00\n",
      "Epoch 88/100\n",
      "17/17 [==============================] - 0s 5ms/step - loss: 0.0166 - accuracy: 0.0000e+00\n",
      "Epoch 89/100\n",
      "17/17 [==============================] - 0s 5ms/step - loss: 0.0152 - accuracy: 0.0000e+00\n",
      "Epoch 90/100\n",
      "17/17 [==============================] - 0s 4ms/step - loss: 0.0145 - accuracy: 0.0000e+00\n",
      "Epoch 91/100\n",
      "17/17 [==============================] - 0s 4ms/step - loss: 0.0180 - accuracy: 0.0000e+00\n",
      "Epoch 92/100\n",
      "17/17 [==============================] - 0s 4ms/step - loss: 0.0150 - accuracy: 0.0000e+00\n",
      "Epoch 93/100\n",
      "17/17 [==============================] - 0s 4ms/step - loss: 0.0149 - accuracy: 0.0000e+00\n",
      "Epoch 94/100\n",
      "17/17 [==============================] - 0s 4ms/step - loss: 0.0146 - accuracy: 0.0000e+00\n",
      "Epoch 95/100\n",
      "17/17 [==============================] - 0s 4ms/step - loss: 0.0129 - accuracy: 0.0000e+00\n",
      "Epoch 96/100\n",
      "17/17 [==============================] - 0s 5ms/step - loss: 0.0161 - accuracy: 0.0000e+00\n",
      "Epoch 97/100\n",
      "17/17 [==============================] - 0s 4ms/step - loss: 0.0158 - accuracy: 0.0000e+00\n",
      "Epoch 98/100\n",
      "17/17 [==============================] - 0s 4ms/step - loss: 0.0148 - accuracy: 0.0000e+00: 0s - loss: 0.0160 - accuracy: 0.0000e+\n",
      "Epoch 99/100\n",
      "17/17 [==============================] - 0s 4ms/step - loss: 0.0145 - accuracy: 0.0000e+00\n",
      "Epoch 100/100\n",
      "17/17 [==============================] - 0s 4ms/step - loss: 0.0130 - accuracy: 0.0000e+00\n"
     ]
    },
    {
     "data": {
      "text/plain": [
       "<tensorflow.python.keras.callbacks.History at 0x2c15c55c520>"
      ]
     },
     "execution_count": 20,
     "metadata": {},
     "output_type": "execute_result"
    }
   ],
   "source": [
    "# Fitting the ANN to the Training set\n",
    "rnn2.fit(X_train, y_train, batch_size=10, epochs=100)"
   ]
  },
  {
   "cell_type": "code",
   "execution_count": 21,
   "metadata": {},
   "outputs": [],
   "source": [
    "# Predict the Training set results\n",
    "y_modeled2=rnn2.predict(X_train)"
   ]
  },
  {
   "cell_type": "code",
   "execution_count": 22,
   "metadata": {},
   "outputs": [],
   "source": [
    "# Predicting the Test set results\n",
    "y_pred2=rnn2.predict(X_test)"
   ]
  },
  {
   "cell_type": "code",
   "execution_count": 23,
   "metadata": {},
   "outputs": [
    {
     "data": {
      "text/plain": [
       "'\\n    Ініціюємо нейронну мережу та задаємо її архітектуру й параметри навчання. Дана нейронна мережа має архітектуру 45-60-1:\\nнаявний вхідний щар з 45 нейронами (за числом незалежних змінних), один прихований шар з 60 нейронами і вихідний шар з\\n1 нейроном, тобто ця нейронна мережа розширюється. Такий тип мереж використовують в основному в задачах апроксимації та\\nпрогнозування, на відміну від нейроних мереж, що звужуються: їх зазвичай використовують в задачах класифікації.\\n'"
      ]
     },
     "execution_count": 23,
     "metadata": {},
     "output_type": "execute_result"
    }
   ],
   "source": [
    "'''\n",
    "    Ініціюємо нейронну мережу та задаємо її архітектуру й параметри навчання. Дана нейронна мережа має архітектуру 45-60-1:\n",
    "наявний вхідний щар з 45 нейронами (за числом незалежних змінних), один прихований шар з 60 нейронами і вихідний шар з\n",
    "1 нейроном, тобто ця нейронна мережа розширюється. Такий тип мереж використовують в основному в задачах апроксимації та\n",
    "прогнозування, на відміну від нейроних мереж, що звужуються: їх зазвичай використовують в задачах класифікації.\n",
    "'''"
   ]
  },
  {
   "cell_type": "code",
   "execution_count": 24,
   "metadata": {},
   "outputs": [],
   "source": [
    "# Initialising the ANN\n",
    "rnn3=Sequential()\n",
    "\n",
    "# Adding the input layer\n",
    "rnn3.add(Input(shape=(45,)))\n",
    "\n",
    "# Adding the hidden layer\n",
    "rnn3.add(Dense(60, activation='tanh'))\n",
    "\n",
    "# Adding the output layer\n",
    "rnn3.add(Dense(1, activation='linear'))\n",
    "\n",
    "# Compiling the ANN\n",
    "rnn3.compile(optimizer='adam', loss='mean_squared_error', metrics=['accuracy'])"
   ]
  },
  {
   "cell_type": "code",
   "execution_count": 25,
   "metadata": {},
   "outputs": [
    {
     "data": {
      "text/plain": [
       "'\\n    Дана нейронна мережа була навчена на навчальній вибірці всіх незалежних змінних, для неї також було проведено оцінку та\\nпрогноз цін автомобілів.\\n'"
      ]
     },
     "execution_count": 25,
     "metadata": {},
     "output_type": "execute_result"
    }
   ],
   "source": [
    "'''\n",
    "    Дана нейронна мережа була навчена на навчальній вибірці всіх незалежних змінних, для неї також було проведено оцінку та\n",
    "прогноз цін автомобілів.\n",
    "'''"
   ]
  },
  {
   "cell_type": "code",
   "execution_count": 26,
   "metadata": {},
   "outputs": [
    {
     "name": "stdout",
     "output_type": "stream",
     "text": [
      "Epoch 1/100\n",
      "17/17 [==============================] - 0s 5ms/step - loss: 1.1108 - accuracy: 0.0000e+00\n",
      "Epoch 2/100\n",
      "17/17 [==============================] - 0s 5ms/step - loss: 0.5175 - accuracy: 0.0000e+00\n",
      "Epoch 3/100\n",
      "17/17 [==============================] - 0s 5ms/step - loss: 0.3562 - accuracy: 0.0000e+00\n",
      "Epoch 4/100\n",
      "17/17 [==============================] - 0s 5ms/step - loss: 0.2914 - accuracy: 0.0000e+00\n",
      "Epoch 5/100\n",
      "17/17 [==============================] - 0s 5ms/step - loss: 0.2437 - accuracy: 0.0000e+00\n",
      "Epoch 6/100\n",
      "17/17 [==============================] - 0s 5ms/step - loss: 0.2150 - accuracy: 0.0000e+00: 0s - loss: 0.2327 - accuracy: 0.0000e+\n",
      "Epoch 7/100\n",
      "17/17 [==============================] - 0s 5ms/step - loss: 0.1809 - accuracy: 0.0000e+00\n",
      "Epoch 8/100\n",
      "17/17 [==============================] - 0s 4ms/step - loss: 0.1738 - accuracy: 0.0000e+00\n",
      "Epoch 9/100\n",
      "17/17 [==============================] - 0s 4ms/step - loss: 0.1543 - accuracy: 0.0000e+00\n",
      "Epoch 10/100\n",
      "17/17 [==============================] - 0s 4ms/step - loss: 0.1470 - accuracy: 0.0000e+00\n",
      "Epoch 11/100\n",
      "17/17 [==============================] - 0s 5ms/step - loss: 0.1398 - accuracy: 0.0000e+00\n",
      "Epoch 12/100\n",
      "17/17 [==============================] - 0s 5ms/step - loss: 0.1276 - accuracy: 0.0000e+00\n",
      "Epoch 13/100\n",
      "17/17 [==============================] - 0s 5ms/step - loss: 0.1215 - accuracy: 0.0000e+00\n",
      "Epoch 14/100\n",
      "17/17 [==============================] - 0s 5ms/step - loss: 0.1147 - accuracy: 0.0000e+00\n",
      "Epoch 15/100\n",
      "17/17 [==============================] - 0s 5ms/step - loss: 0.1107 - accuracy: 0.0000e+00\n",
      "Epoch 16/100\n",
      "17/17 [==============================] - 0s 4ms/step - loss: 0.1051 - accuracy: 0.0000e+00\n",
      "Epoch 17/100\n",
      "17/17 [==============================] - 0s 4ms/step - loss: 0.1006 - accuracy: 0.0000e+00\n",
      "Epoch 18/100\n",
      "17/17 [==============================] - 0s 4ms/step - loss: 0.0949 - accuracy: 0.0000e+00\n",
      "Epoch 19/100\n",
      "17/17 [==============================] - 0s 4ms/step - loss: 0.0924 - accuracy: 0.0000e+00\n",
      "Epoch 20/100\n",
      "17/17 [==============================] - 0s 4ms/step - loss: 0.0885 - accuracy: 0.0000e+00\n",
      "Epoch 21/100\n",
      "17/17 [==============================] - 0s 4ms/step - loss: 0.0882 - accuracy: 0.0000e+00\n",
      "Epoch 22/100\n",
      "17/17 [==============================] - 0s 4ms/step - loss: 0.0844 - accuracy: 0.0000e+00\n",
      "Epoch 23/100\n",
      "17/17 [==============================] - 0s 4ms/step - loss: 0.0823 - accuracy: 0.0000e+00\n",
      "Epoch 24/100\n",
      "17/17 [==============================] - 0s 4ms/step - loss: 0.0795 - accuracy: 0.0000e+00\n",
      "Epoch 25/100\n",
      "17/17 [==============================] - 0s 4ms/step - loss: 0.0832 - accuracy: 0.0000e+00\n",
      "Epoch 26/100\n",
      "17/17 [==============================] - 0s 4ms/step - loss: 0.0766 - accuracy: 0.0000e+00\n",
      "Epoch 27/100\n",
      "17/17 [==============================] - 0s 4ms/step - loss: 0.0741 - accuracy: 0.0000e+00\n",
      "Epoch 28/100\n",
      "17/17 [==============================] - 0s 4ms/step - loss: 0.0747 - accuracy: 0.0000e+00\n",
      "Epoch 29/100\n",
      "17/17 [==============================] - 0s 5ms/step - loss: 0.0687 - accuracy: 0.0000e+00\n",
      "Epoch 30/100\n",
      "17/17 [==============================] - 0s 5ms/step - loss: 0.0682 - accuracy: 0.0000e+00\n",
      "Epoch 31/100\n",
      "17/17 [==============================] - 0s 4ms/step - loss: 0.0679 - accuracy: 0.0000e+00\n",
      "Epoch 32/100\n",
      "17/17 [==============================] - 0s 5ms/step - loss: 0.0654 - accuracy: 0.0000e+00\n",
      "Epoch 33/100\n",
      "17/17 [==============================] - 0s 4ms/step - loss: 0.0618 - accuracy: 0.0000e+00\n",
      "Epoch 34/100\n",
      "17/17 [==============================] - 0s 4ms/step - loss: 0.0627 - accuracy: 0.0000e+00\n",
      "Epoch 35/100\n",
      "17/17 [==============================] - 0s 4ms/step - loss: 0.0589 - accuracy: 0.0000e+00\n",
      "Epoch 36/100\n",
      "17/17 [==============================] - 0s 4ms/step - loss: 0.0595 - accuracy: 0.0000e+00\n",
      "Epoch 37/100\n",
      "17/17 [==============================] - 0s 5ms/step - loss: 0.0565 - accuracy: 0.0000e+00\n",
      "Epoch 38/100\n",
      "17/17 [==============================] - 0s 4ms/step - loss: 0.0555 - accuracy: 0.0000e+00\n",
      "Epoch 39/100\n",
      "17/17 [==============================] - 0s 4ms/step - loss: 0.0552 - accuracy: 0.0000e+00\n",
      "Epoch 40/100\n",
      "17/17 [==============================] - 0s 4ms/step - loss: 0.0540 - accuracy: 0.0000e+00\n",
      "Epoch 41/100\n",
      "17/17 [==============================] - 0s 4ms/step - loss: 0.0529 - accuracy: 0.0000e+00\n",
      "Epoch 42/100\n",
      "17/17 [==============================] - ETA: 0s - loss: 0.0542 - accuracy: 0.0000e+ - 0s 4ms/step - loss: 0.0545 - accuracy: 0.0000e+00\n",
      "Epoch 43/100\n",
      "17/17 [==============================] - 0s 4ms/step - loss: 0.0491 - accuracy: 0.0000e+00\n",
      "Epoch 44/100\n",
      "17/17 [==============================] - 0s 4ms/step - loss: 0.0480 - accuracy: 0.0000e+00\n",
      "Epoch 45/100\n",
      "17/17 [==============================] - 0s 4ms/step - loss: 0.0508 - accuracy: 0.0000e+00\n",
      "Epoch 46/100\n",
      "17/17 [==============================] - 0s 5ms/step - loss: 0.0465 - accuracy: 0.0000e+00\n",
      "Epoch 47/100\n",
      "17/17 [==============================] - 0s 4ms/step - loss: 0.0456 - accuracy: 0.0000e+00\n",
      "Epoch 48/100\n",
      "17/17 [==============================] - 0s 5ms/step - loss: 0.0493 - accuracy: 0.0000e+00\n",
      "Epoch 49/100\n",
      "17/17 [==============================] - 0s 5ms/step - loss: 0.0461 - accuracy: 0.0000e+00\n",
      "Epoch 50/100\n",
      "17/17 [==============================] - 0s 4ms/step - loss: 0.0445 - accuracy: 0.0000e+00\n",
      "Epoch 51/100\n",
      "17/17 [==============================] - 0s 5ms/step - loss: 0.0421 - accuracy: 0.0000e+00\n",
      "Epoch 52/100\n",
      "17/17 [==============================] - 0s 5ms/step - loss: 0.0420 - accuracy: 0.0000e+00\n",
      "Epoch 53/100\n",
      "17/17 [==============================] - 0s 6ms/step - loss: 0.0408 - accuracy: 0.0000e+00\n",
      "Epoch 54/100\n",
      "17/17 [==============================] - 0s 5ms/step - loss: 0.0396 - accuracy: 0.0000e+00\n",
      "Epoch 55/100\n",
      "17/17 [==============================] - 0s 5ms/step - loss: 0.0413 - accuracy: 0.0000e+00\n",
      "Epoch 56/100\n",
      "17/17 [==============================] - 0s 8ms/step - loss: 0.0382 - accuracy: 0.0000e+00\n",
      "Epoch 57/100\n",
      "17/17 [==============================] - 0s 7ms/step - loss: 0.0398 - accuracy: 0.0000e+00\n",
      "Epoch 58/100\n",
      "17/17 [==============================] - 0s 7ms/step - loss: 0.0388 - accuracy: 0.0000e+00\n",
      "Epoch 59/100\n",
      "17/17 [==============================] - 0s 8ms/step - loss: 0.0387 - accuracy: 0.0000e+00\n",
      "Epoch 60/100\n",
      "17/17 [==============================] - 0s 5ms/step - loss: 0.0377 - accuracy: 0.0000e+00\n",
      "Epoch 61/100\n",
      "17/17 [==============================] - 0s 7ms/step - loss: 0.0383 - accuracy: 0.0000e+00\n",
      "Epoch 62/100\n",
      "17/17 [==============================] - 0s 6ms/step - loss: 0.0355 - accuracy: 0.0000e+00\n",
      "Epoch 63/100\n",
      "17/17 [==============================] - 0s 8ms/step - loss: 0.0325 - accuracy: 0.0000e+00: 0s - loss: 0.0317 - accuracy: 0.0000e+\n",
      "Epoch 64/100\n",
      "17/17 [==============================] - 0s 8ms/step - loss: 0.0352 - accuracy: 0.0000e+00\n",
      "Epoch 65/100\n",
      "17/17 [==============================] - 0s 5ms/step - loss: 0.0332 - accuracy: 0.0000e+00\n",
      "Epoch 66/100\n",
      "17/17 [==============================] - 0s 5ms/step - loss: 0.0335 - accuracy: 0.0000e+00\n",
      "Epoch 67/100\n",
      "17/17 [==============================] - 0s 5ms/step - loss: 0.0340 - accuracy: 0.0000e+00\n",
      "Epoch 68/100\n",
      "17/17 [==============================] - 0s 4ms/step - loss: 0.0314 - accuracy: 0.0000e+00\n",
      "Epoch 69/100\n",
      "17/17 [==============================] - 0s 6ms/step - loss: 0.0316 - accuracy: 0.0000e+00\n",
      "Epoch 70/100\n",
      "17/17 [==============================] - 0s 5ms/step - loss: 0.0316 - accuracy: 0.0000e+00\n",
      "Epoch 71/100\n",
      "17/17 [==============================] - 0s 5ms/step - loss: 0.0301 - accuracy: 0.0000e+00\n",
      "Epoch 72/100\n",
      "17/17 [==============================] - 0s 4ms/step - loss: 0.0365 - accuracy: 0.0000e+00\n",
      "Epoch 73/100\n",
      "17/17 [==============================] - ETA: 0s - loss: 0.0304 - accuracy: 0.0000e+ - 0s 4ms/step - loss: 0.0304 - accuracy: 0.0000e+00\n",
      "Epoch 74/100\n",
      "17/17 [==============================] - 0s 4ms/step - loss: 0.0299 - accuracy: 0.0000e+00\n",
      "Epoch 75/100\n",
      "17/17 [==============================] - 0s 4ms/step - loss: 0.0300 - accuracy: 0.0000e+00\n",
      "Epoch 76/100\n",
      "17/17 [==============================] - 0s 4ms/step - loss: 0.0308 - accuracy: 0.0000e+00\n",
      "Epoch 77/100\n",
      "17/17 [==============================] - 0s 4ms/step - loss: 0.0296 - accuracy: 0.0000e+00\n",
      "Epoch 78/100\n"
     ]
    },
    {
     "name": "stdout",
     "output_type": "stream",
     "text": [
      "17/17 [==============================] - 0s 4ms/step - loss: 0.0302 - accuracy: 0.0000e+00\n",
      "Epoch 79/100\n",
      "17/17 [==============================] - 0s 5ms/step - loss: 0.0277 - accuracy: 0.0000e+00\n",
      "Epoch 80/100\n",
      "17/17 [==============================] - 0s 5ms/step - loss: 0.0267 - accuracy: 0.0000e+00\n",
      "Epoch 81/100\n",
      "17/17 [==============================] - 0s 4ms/step - loss: 0.0254 - accuracy: 0.0000e+00\n",
      "Epoch 82/100\n",
      "17/17 [==============================] - 0s 4ms/step - loss: 0.0262 - accuracy: 0.0000e+00\n",
      "Epoch 83/100\n",
      "17/17 [==============================] - 0s 4ms/step - loss: 0.0251 - accuracy: 0.0000e+00\n",
      "Epoch 84/100\n",
      "17/17 [==============================] - ETA: 0s - loss: 0.0252 - accuracy: 0.0000e+ - 0s 4ms/step - loss: 0.0247 - accuracy: 0.0000e+00\n",
      "Epoch 85/100\n",
      "17/17 [==============================] - 0s 4ms/step - loss: 0.0247 - accuracy: 0.0000e+00\n",
      "Epoch 86/100\n",
      "17/17 [==============================] - 0s 4ms/step - loss: 0.0259 - accuracy: 0.0000e+00\n",
      "Epoch 87/100\n",
      "17/17 [==============================] - 0s 4ms/step - loss: 0.0249 - accuracy: 0.0000e+00\n",
      "Epoch 88/100\n",
      "17/17 [==============================] - 0s 5ms/step - loss: 0.0233 - accuracy: 0.0000e+00\n",
      "Epoch 89/100\n",
      "17/17 [==============================] - 0s 4ms/step - loss: 0.0244 - accuracy: 0.0000e+00\n",
      "Epoch 90/100\n",
      "17/17 [==============================] - ETA: 0s - loss: 0.0216 - accuracy: 0.0000e+ - 0s 4ms/step - loss: 0.0224 - accuracy: 0.0000e+00\n",
      "Epoch 91/100\n",
      "17/17 [==============================] - 0s 5ms/step - loss: 0.0238 - accuracy: 0.0000e+00\n",
      "Epoch 92/100\n",
      "17/17 [==============================] - 0s 4ms/step - loss: 0.0227 - accuracy: 0.0000e+00\n",
      "Epoch 93/100\n",
      "17/17 [==============================] - 0s 4ms/step - loss: 0.0240 - accuracy: 0.0000e+00\n",
      "Epoch 94/100\n",
      "17/17 [==============================] - 0s 4ms/step - loss: 0.0224 - accuracy: 0.0000e+00\n",
      "Epoch 95/100\n",
      "17/17 [==============================] - 0s 4ms/step - loss: 0.0205 - accuracy: 0.0000e+00\n",
      "Epoch 96/100\n",
      "17/17 [==============================] - 0s 4ms/step - loss: 0.0228 - accuracy: 0.0000e+00\n",
      "Epoch 97/100\n",
      "17/17 [==============================] - 0s 5ms/step - loss: 0.0218 - accuracy: 0.0000e+00\n",
      "Epoch 98/100\n",
      "17/17 [==============================] - 0s 4ms/step - loss: 0.0209 - accuracy: 0.0000e+00\n",
      "Epoch 99/100\n",
      "17/17 [==============================] - 0s 4ms/step - loss: 0.0208 - accuracy: 0.0000e+00\n",
      "Epoch 100/100\n",
      "17/17 [==============================] - 0s 4ms/step - loss: 0.0227 - accuracy: 0.0000e+00\n"
     ]
    },
    {
     "data": {
      "text/plain": [
       "<tensorflow.python.keras.callbacks.History at 0x2c15d83f310>"
      ]
     },
     "execution_count": 26,
     "metadata": {},
     "output_type": "execute_result"
    }
   ],
   "source": [
    "# Fitting the ANN to the Training set\n",
    "rnn3.fit(X_train, y_train, batch_size=10, epochs=100)"
   ]
  },
  {
   "cell_type": "code",
   "execution_count": 27,
   "metadata": {},
   "outputs": [],
   "source": [
    "# Predict the Training set results\n",
    "y_modeled3=rnn3.predict(X_train)"
   ]
  },
  {
   "cell_type": "code",
   "execution_count": 28,
   "metadata": {},
   "outputs": [],
   "source": [
    "# Predicting the Test set results\n",
    "y_pred3=rnn3.predict(X_test)"
   ]
  },
  {
   "cell_type": "code",
   "execution_count": 29,
   "metadata": {},
   "outputs": [
    {
     "data": {
      "text/plain": [
       "'\\n    Ініціюємо нейронну мережу та задаємо її архітектуру й параметри навчання. Нейронна мережа має архітектуру 45-60-60-1,\\nтобто наявний вхідний щар з 45 нейронами (за числом незалежних змінних), два приховані шари з 60 нейронами кожен і вихідний\\nшар з 1 нейроном. Аналогічно попередній моделі, ця теж розширюється.\\n'"
      ]
     },
     "execution_count": 29,
     "metadata": {},
     "output_type": "execute_result"
    }
   ],
   "source": [
    "'''\n",
    "    Ініціюємо нейронну мережу та задаємо її архітектуру й параметри навчання. Нейронна мережа має архітектуру 45-60-60-1,\n",
    "тобто наявний вхідний щар з 45 нейронами (за числом незалежних змінних), два приховані шари з 60 нейронами кожен і вихідний\n",
    "шар з 1 нейроном. Аналогічно попередній моделі, ця теж розширюється.\n",
    "'''"
   ]
  },
  {
   "cell_type": "code",
   "execution_count": 30,
   "metadata": {},
   "outputs": [],
   "source": [
    "# Initialising the ANN\n",
    "rnn4=Sequential()\n",
    "\n",
    "# Adding the input layer\n",
    "rnn4.add(Input(shape=(45,)))\n",
    "\n",
    "# Adding the first hidden layer\n",
    "rnn4.add(Dense(60, activation='tanh'))\n",
    "\n",
    "# Adding the second hidden layer\n",
    "rnn4.add(Dense(60, activation='tanh'))\n",
    "\n",
    "# Adding the output layer\n",
    "rnn4.add(Dense(1, activation='linear'))\n",
    "\n",
    "# Compiling the ANN\n",
    "rnn4.compile(optimizer='adam', loss='mean_squared_error', metrics=['accuracy'])"
   ]
  },
  {
   "cell_type": "code",
   "execution_count": 31,
   "metadata": {},
   "outputs": [
    {
     "data": {
      "text/plain": [
       "'\\n    Дана нейронна мережа була навчена на навчальній вибірці всіх незалежних змінних, для неї також було проведено оцінку та\\nпрогноз цін автомобілів.\\n'"
      ]
     },
     "execution_count": 31,
     "metadata": {},
     "output_type": "execute_result"
    }
   ],
   "source": [
    "'''\n",
    "    Дана нейронна мережа була навчена на навчальній вибірці всіх незалежних змінних, для неї також було проведено оцінку та\n",
    "прогноз цін автомобілів.\n",
    "'''"
   ]
  },
  {
   "cell_type": "code",
   "execution_count": 32,
   "metadata": {},
   "outputs": [
    {
     "name": "stdout",
     "output_type": "stream",
     "text": [
      "Epoch 1/100\n",
      "17/17 [==============================] - 0s 4ms/step - loss: 0.7089 - accuracy: 0.0000e+00\n",
      "Epoch 2/100\n",
      "17/17 [==============================] - 0s 5ms/step - loss: 0.2900 - accuracy: 0.0000e+00\n",
      "Epoch 3/100\n",
      "17/17 [==============================] - 0s 5ms/step - loss: 0.2103 - accuracy: 0.0000e+00\n",
      "Epoch 4/100\n",
      "17/17 [==============================] - 0s 5ms/step - loss: 0.1774 - accuracy: 0.0000e+00\n",
      "Epoch 5/100\n",
      "17/17 [==============================] - 0s 5ms/step - loss: 0.1576 - accuracy: 0.0000e+00\n",
      "Epoch 6/100\n",
      "17/17 [==============================] - 0s 5ms/step - loss: 0.1331 - accuracy: 0.0000e+00\n",
      "Epoch 7/100\n",
      "17/17 [==============================] - 0s 5ms/step - loss: 0.1368 - accuracy: 0.0000e+00\n",
      "Epoch 8/100\n",
      "17/17 [==============================] - 0s 5ms/step - loss: 0.1224 - accuracy: 0.0000e+00\n",
      "Epoch 9/100\n",
      "17/17 [==============================] - 0s 5ms/step - loss: 0.1076 - accuracy: 0.0000e+00\n",
      "Epoch 10/100\n",
      "17/17 [==============================] - 0s 5ms/step - loss: 0.0938 - accuracy: 0.0000e+00\n",
      "Epoch 11/100\n",
      "17/17 [==============================] - 0s 5ms/step - loss: 0.0851 - accuracy: 0.0000e+00\n",
      "Epoch 12/100\n",
      "17/17 [==============================] - 0s 4ms/step - loss: 0.0814 - accuracy: 0.0000e+00\n",
      "Epoch 13/100\n",
      "17/17 [==============================] - 0s 5ms/step - loss: 0.0742 - accuracy: 0.0000e+00\n",
      "Epoch 14/100\n",
      "17/17 [==============================] - 0s 4ms/step - loss: 0.0803 - accuracy: 0.0000e+00\n",
      "Epoch 15/100\n",
      "17/17 [==============================] - 0s 5ms/step - loss: 0.0837 - accuracy: 0.0000e+00\n",
      "Epoch 16/100\n",
      "17/17 [==============================] - 0s 5ms/step - loss: 0.0813 - accuracy: 0.0000e+00\n",
      "Epoch 17/100\n",
      "17/17 [==============================] - 0s 5ms/step - loss: 0.0809 - accuracy: 0.0000e+00\n",
      "Epoch 18/100\n",
      "17/17 [==============================] - 0s 5ms/step - loss: 0.0643 - accuracy: 0.0000e+00\n",
      "Epoch 19/100\n",
      "17/17 [==============================] - 0s 5ms/step - loss: 0.0561 - accuracy: 0.0000e+00\n",
      "Epoch 20/100\n",
      "17/17 [==============================] - 0s 5ms/step - loss: 0.0510 - accuracy: 0.0000e+00\n",
      "Epoch 21/100\n",
      "17/17 [==============================] - 0s 5ms/step - loss: 0.0471 - accuracy: 0.0000e+00\n",
      "Epoch 22/100\n",
      "17/17 [==============================] - 0s 5ms/step - loss: 0.0532 - accuracy: 0.0000e+00\n",
      "Epoch 23/100\n",
      "17/17 [==============================] - 0s 5ms/step - loss: 0.0515 - accuracy: 0.0000e+00\n",
      "Epoch 24/100\n",
      "17/17 [==============================] - ETA: 0s - loss: 0.0489 - accuracy: 0.0000e+ - 0s 4ms/step - loss: 0.0545 - accuracy: 0.0000e+00\n",
      "Epoch 25/100\n",
      "17/17 [==============================] - 0s 6ms/step - loss: 0.0445 - accuracy: 0.0000e+00\n",
      "Epoch 26/100\n",
      "17/17 [==============================] - 0s 5ms/step - loss: 0.0420 - accuracy: 0.0000e+00\n",
      "Epoch 27/100\n",
      "17/17 [==============================] - 0s 5ms/step - loss: 0.0436 - accuracy: 0.0000e+00\n",
      "Epoch 28/100\n",
      "17/17 [==============================] - 0s 5ms/step - loss: 0.0390 - accuracy: 0.0000e+00\n",
      "Epoch 29/100\n",
      "17/17 [==============================] - 0s 4ms/step - loss: 0.0410 - accuracy: 0.0000e+00\n",
      "Epoch 30/100\n",
      "17/17 [==============================] - 0s 5ms/step - loss: 0.0451 - accuracy: 0.0000e+00\n",
      "Epoch 31/100\n",
      "17/17 [==============================] - 0s 4ms/step - loss: 0.0366 - accuracy: 0.0000e+00\n",
      "Epoch 32/100\n",
      "17/17 [==============================] - 0s 4ms/step - loss: 0.0335 - accuracy: 0.0000e+00\n",
      "Epoch 33/100\n",
      "17/17 [==============================] - 0s 4ms/step - loss: 0.0340 - accuracy: 0.0000e+00\n",
      "Epoch 34/100\n",
      "17/17 [==============================] - 0s 6ms/step - loss: 0.0336 - accuracy: 0.0000e+00\n",
      "Epoch 35/100\n",
      "17/17 [==============================] - 0s 6ms/step - loss: 0.0302 - accuracy: 0.0000e+00\n",
      "Epoch 36/100\n",
      "17/17 [==============================] - 0s 5ms/step - loss: 0.0350 - accuracy: 0.0000e+00\n",
      "Epoch 37/100\n",
      "17/17 [==============================] - 0s 5ms/step - loss: 0.0342 - accuracy: 0.0000e+00\n",
      "Epoch 38/100\n",
      "17/17 [==============================] - 0s 5ms/step - loss: 0.0324 - accuracy: 0.0000e+00\n",
      "Epoch 39/100\n",
      "17/17 [==============================] - 0s 5ms/step - loss: 0.0331 - accuracy: 0.0000e+00\n",
      "Epoch 40/100\n",
      "17/17 [==============================] - 0s 6ms/step - loss: 0.0322 - accuracy: 0.0000e+00\n",
      "Epoch 41/100\n",
      "17/17 [==============================] - 0s 6ms/step - loss: 0.0309 - accuracy: 0.0000e+00\n",
      "Epoch 42/100\n",
      "17/17 [==============================] - 0s 5ms/step - loss: 0.0260 - accuracy: 0.0000e+00\n",
      "Epoch 43/100\n",
      "17/17 [==============================] - 0s 5ms/step - loss: 0.0274 - accuracy: 0.0000e+00\n",
      "Epoch 44/100\n",
      "17/17 [==============================] - 0s 4ms/step - loss: 0.0247 - accuracy: 0.0000e+00\n",
      "Epoch 45/100\n",
      "17/17 [==============================] - 0s 4ms/step - loss: 0.0251 - accuracy: 0.0000e+00\n",
      "Epoch 46/100\n",
      "17/17 [==============================] - 0s 5ms/step - loss: 0.0287 - accuracy: 0.0000e+00\n",
      "Epoch 47/100\n",
      "17/17 [==============================] - 0s 4ms/step - loss: 0.0311 - accuracy: 0.0000e+00\n",
      "Epoch 48/100\n",
      "17/17 [==============================] - 0s 4ms/step - loss: 0.0332 - accuracy: 0.0000e+00\n",
      "Epoch 49/100\n",
      "17/17 [==============================] - 0s 5ms/step - loss: 0.0359 - accuracy: 0.0000e+00\n",
      "Epoch 50/100\n",
      "17/17 [==============================] - 0s 5ms/step - loss: 0.0239 - accuracy: 0.0000e+00\n",
      "Epoch 51/100\n",
      "17/17 [==============================] - 0s 5ms/step - loss: 0.0245 - accuracy: 0.0000e+00\n",
      "Epoch 52/100\n",
      "17/17 [==============================] - 0s 5ms/step - loss: 0.0230 - accuracy: 0.0000e+00\n",
      "Epoch 53/100\n",
      "17/17 [==============================] - 0s 5ms/step - loss: 0.0197 - accuracy: 0.0000e+00\n",
      "Epoch 54/100\n",
      "17/17 [==============================] - 0s 5ms/step - loss: 0.0215 - accuracy: 0.0000e+00\n",
      "Epoch 55/100\n",
      "17/17 [==============================] - 0s 4ms/step - loss: 0.0233 - accuracy: 0.0000e+00\n",
      "Epoch 56/100\n",
      "17/17 [==============================] - ETA: 0s - loss: 0.0251 - accuracy: 0.0000e+ - 0s 4ms/step - loss: 0.0252 - accuracy: 0.0000e+00\n",
      "Epoch 57/100\n",
      "17/17 [==============================] - 0s 4ms/step - loss: 0.0219 - accuracy: 0.0000e+00\n",
      "Epoch 58/100\n",
      "17/17 [==============================] - 0s 4ms/step - loss: 0.0224 - accuracy: 0.0000e+00\n",
      "Epoch 59/100\n",
      "17/17 [==============================] - 0s 4ms/step - loss: 0.0197 - accuracy: 0.0000e+00\n",
      "Epoch 60/100\n",
      "17/17 [==============================] - 0s 4ms/step - loss: 0.0242 - accuracy: 0.0000e+00\n",
      "Epoch 61/100\n",
      "17/17 [==============================] - ETA: 0s - loss: 0.0198 - accuracy: 0.0000e+ - 0s 4ms/step - loss: 0.0207 - accuracy: 0.0000e+00\n",
      "Epoch 62/100\n",
      "17/17 [==============================] - 0s 4ms/step - loss: 0.0201 - accuracy: 0.0000e+00\n",
      "Epoch 63/100\n",
      "17/17 [==============================] - 0s 5ms/step - loss: 0.0209 - accuracy: 0.0000e+00\n",
      "Epoch 64/100\n",
      "17/17 [==============================] - 0s 5ms/step - loss: 0.0195 - accuracy: 0.0000e+00\n",
      "Epoch 65/100\n",
      "17/17 [==============================] - 0s 4ms/step - loss: 0.0244 - accuracy: 0.0000e+00\n",
      "Epoch 66/100\n",
      "17/17 [==============================] - 0s 4ms/step - loss: 0.0294 - accuracy: 0.0000e+00\n",
      "Epoch 67/100\n",
      "17/17 [==============================] - 0s 4ms/step - loss: 0.0235 - accuracy: 0.0000e+00\n",
      "Epoch 68/100\n",
      "17/17 [==============================] - 0s 5ms/step - loss: 0.0211 - accuracy: 0.0000e+00\n",
      "Epoch 69/100\n",
      "17/17 [==============================] - 0s 5ms/step - loss: 0.0238 - accuracy: 0.0000e+00\n",
      "Epoch 70/100\n",
      "17/17 [==============================] - 0s 5ms/step - loss: 0.0200 - accuracy: 0.0000e+00\n",
      "Epoch 71/100\n",
      "17/17 [==============================] - ETA: 0s - loss: 0.0185 - accuracy: 0.0000e+ - 0s 4ms/step - loss: 0.0185 - accuracy: 0.0000e+00\n",
      "Epoch 72/100\n",
      "17/17 [==============================] - 0s 5ms/step - loss: 0.0174 - accuracy: 0.0000e+00\n",
      "Epoch 73/100\n",
      "17/17 [==============================] - 0s 5ms/step - loss: 0.0184 - accuracy: 0.0000e+00\n",
      "Epoch 74/100\n",
      "17/17 [==============================] - 0s 5ms/step - loss: 0.0188 - accuracy: 0.0000e+00\n",
      "Epoch 75/100\n",
      "17/17 [==============================] - 0s 4ms/step - loss: 0.0187 - accuracy: 0.0000e+00\n",
      "Epoch 76/100\n",
      "17/17 [==============================] - 0s 4ms/step - loss: 0.0189 - accuracy: 0.0000e+00\n",
      "Epoch 77/100\n",
      "17/17 [==============================] - 0s 4ms/step - loss: 0.0156 - accuracy: 0.0000e+00\n",
      "Epoch 78/100\n"
     ]
    },
    {
     "name": "stdout",
     "output_type": "stream",
     "text": [
      "17/17 [==============================] - 0s 5ms/step - loss: 0.0172 - accuracy: 0.0000e+00\n",
      "Epoch 79/100\n",
      "17/17 [==============================] - 0s 5ms/step - loss: 0.0152 - accuracy: 0.0000e+00\n",
      "Epoch 80/100\n",
      "17/17 [==============================] - 0s 4ms/step - loss: 0.0171 - accuracy: 0.0000e+00\n",
      "Epoch 81/100\n",
      "17/17 [==============================] - 0s 5ms/step - loss: 0.0153 - accuracy: 0.0000e+00\n",
      "Epoch 82/100\n",
      "17/17 [==============================] - 0s 5ms/step - loss: 0.0165 - accuracy: 0.0000e+00\n",
      "Epoch 83/100\n",
      "17/17 [==============================] - 0s 4ms/step - loss: 0.0164 - accuracy: 0.0000e+00\n",
      "Epoch 84/100\n",
      "17/17 [==============================] - 0s 3ms/step - loss: 0.0162 - accuracy: 0.0000e+00\n",
      "Epoch 85/100\n",
      "17/17 [==============================] - 0s 5ms/step - loss: 0.0167 - accuracy: 0.0000e+00\n",
      "Epoch 86/100\n",
      "17/17 [==============================] - 0s 5ms/step - loss: 0.0160 - accuracy: 0.0000e+00\n",
      "Epoch 87/100\n",
      "17/17 [==============================] - 0s 5ms/step - loss: 0.0186 - accuracy: 0.0000e+00\n",
      "Epoch 88/100\n",
      "17/17 [==============================] - 0s 5ms/step - loss: 0.0157 - accuracy: 0.0000e+00\n",
      "Epoch 89/100\n",
      "17/17 [==============================] - 0s 5ms/step - loss: 0.0153 - accuracy: 0.0000e+00\n",
      "Epoch 90/100\n",
      "17/17 [==============================] - 0s 5ms/step - loss: 0.0159 - accuracy: 0.0000e+00: 0s - loss: 0.0165 - accuracy: 0.0000e+\n",
      "Epoch 91/100\n",
      "17/17 [==============================] - 0s 5ms/step - loss: 0.0143 - accuracy: 0.0000e+00\n",
      "Epoch 92/100\n",
      "17/17 [==============================] - 0s 5ms/step - loss: 0.0147 - accuracy: 0.0000e+00\n",
      "Epoch 93/100\n",
      "17/17 [==============================] - 0s 6ms/step - loss: 0.0191 - accuracy: 0.0000e+00: 0s - loss: 0.0188 - accuracy: 0.0000e+\n",
      "Epoch 94/100\n",
      "17/17 [==============================] - 0s 5ms/step - loss: 0.0148 - accuracy: 0.0000e+00\n",
      "Epoch 95/100\n",
      "17/17 [==============================] - 0s 5ms/step - loss: 0.0146 - accuracy: 0.0000e+00\n",
      "Epoch 96/100\n",
      "17/17 [==============================] - 0s 5ms/step - loss: 0.0182 - accuracy: 0.0000e+00\n",
      "Epoch 97/100\n",
      "17/17 [==============================] - 0s 5ms/step - loss: 0.0165 - accuracy: 0.0000e+00\n",
      "Epoch 98/100\n",
      "17/17 [==============================] - ETA: 0s - loss: 0.0157 - accuracy: 0.0000e+ - 0s 4ms/step - loss: 0.0165 - accuracy: 0.0000e+00\n",
      "Epoch 99/100\n",
      "17/17 [==============================] - 0s 5ms/step - loss: 0.0146 - accuracy: 0.0000e+00\n",
      "Epoch 100/100\n",
      "17/17 [==============================] - 0s 5ms/step - loss: 0.0133 - accuracy: 0.0000e+00\n"
     ]
    },
    {
     "data": {
      "text/plain": [
       "<tensorflow.python.keras.callbacks.History at 0x2c15daf58e0>"
      ]
     },
     "execution_count": 32,
     "metadata": {},
     "output_type": "execute_result"
    }
   ],
   "source": [
    "# Fitting the ANN to the Training set\n",
    "rnn4.fit(X_train, y_train, batch_size=10, epochs=100)"
   ]
  },
  {
   "cell_type": "code",
   "execution_count": 33,
   "metadata": {},
   "outputs": [],
   "source": [
    "# Predict the Training set results\n",
    "y_modeled4=rnn4.predict(X_train)"
   ]
  },
  {
   "cell_type": "code",
   "execution_count": 34,
   "metadata": {},
   "outputs": [],
   "source": [
    "# Predicting the Test set results\n",
    "y_pred4=rnn4.predict(X_test)"
   ]
  },
  {
   "cell_type": "code",
   "execution_count": 35,
   "metadata": {},
   "outputs": [
    {
     "data": {
      "text/plain": [
       "'\\n    Далі буде розглянуто моделі, що навчаються на меншому числі більш значущих факторів. У минулих роботах було виявлено\\n27 незалежних змінних, значущих з заданим рівнем SL=0,05. Відповідно ініціюємо нейронну мережу та задаємо її архітектуру\\nй параметри навчання. Нейронна мережа має архітектуру 27-27-1, тобто наявний вхідний щар з 27 нейронами (за числом значущих \\nнезалежних змінних), один прихований шар з 27 нейронами і вихідний шар з 1 нейроном.\\n'"
      ]
     },
     "execution_count": 35,
     "metadata": {},
     "output_type": "execute_result"
    }
   ],
   "source": [
    "'''\n",
    "    Далі буде розглянуто моделі, що навчаються на меншому числі більш значущих факторів. У минулих роботах було виявлено\n",
    "27 незалежних змінних, значущих з заданим рівнем SL=0,05. Відповідно ініціюємо нейронну мережу та задаємо її архітектуру\n",
    "й параметри навчання. Нейронна мережа має архітектуру 27-27-1, тобто наявний вхідний щар з 27 нейронами (за числом значущих \n",
    "незалежних змінних), один прихований шар з 27 нейронами і вихідний шар з 1 нейроном.\n",
    "'''"
   ]
  },
  {
   "cell_type": "code",
   "execution_count": 36,
   "metadata": {},
   "outputs": [],
   "source": [
    "# Initialising the ANN\n",
    "rnn5=Sequential()\n",
    "\n",
    "# Adding the input layer\n",
    "rnn5.add(Input(shape=(27,)))\n",
    "\n",
    "# Adding the hidden layer\n",
    "rnn5.add(Dense(27, activation='tanh'))\n",
    "\n",
    "# Adding the output layer\n",
    "rnn5.add(Dense(1, activation='linear'))\n",
    "\n",
    "# Compiling the ANN\n",
    "rnn5.compile(optimizer='adam', loss='mean_squared_error', metrics=['accuracy'])"
   ]
  },
  {
   "cell_type": "code",
   "execution_count": 37,
   "metadata": {},
   "outputs": [
    {
     "data": {
      "text/plain": [
       "'\\n    Дана нейронна мережа була навчена на навчальній вибірці 27 значущих незалежних змінних, для неї також було проведено\\nоцінку та прогноз цін автомобілів.\\n'"
      ]
     },
     "execution_count": 37,
     "metadata": {},
     "output_type": "execute_result"
    }
   ],
   "source": [
    "'''\n",
    "    Дана нейронна мережа була навчена на навчальній вибірці 27 значущих незалежних змінних, для неї також було проведено\n",
    "оцінку та прогноз цін автомобілів.\n",
    "'''"
   ]
  },
  {
   "cell_type": "code",
   "execution_count": 38,
   "metadata": {},
   "outputs": [
    {
     "name": "stdout",
     "output_type": "stream",
     "text": [
      "Epoch 1/100\n",
      "17/17 [==============================] - 0s 5ms/step - loss: 0.7608 - accuracy: 0.0000e+00\n",
      "Epoch 2/100\n",
      "17/17 [==============================] - 0s 4ms/step - loss: 0.5686 - accuracy: 0.0000e+00\n",
      "Epoch 3/100\n",
      "17/17 [==============================] - 0s 4ms/step - loss: 0.4533 - accuracy: 0.0000e+00\n",
      "Epoch 4/100\n",
      "17/17 [==============================] - 0s 4ms/step - loss: 0.3726 - accuracy: 0.0000e+00\n",
      "Epoch 5/100\n",
      "17/17 [==============================] - 0s 4ms/step - loss: 0.3171 - accuracy: 0.0000e+00\n",
      "Epoch 6/100\n",
      "17/17 [==============================] - 0s 5ms/step - loss: 0.2713 - accuracy: 0.0000e+00\n",
      "Epoch 7/100\n",
      "17/17 [==============================] - 0s 4ms/step - loss: 0.2386 - accuracy: 0.0000e+00\n",
      "Epoch 8/100\n",
      "17/17 [==============================] - 0s 4ms/step - loss: 0.2166 - accuracy: 0.0000e+00\n",
      "Epoch 9/100\n",
      "17/17 [==============================] - 0s 4ms/step - loss: 0.1937 - accuracy: 0.0000e+00\n",
      "Epoch 10/100\n",
      "17/17 [==============================] - 0s 4ms/step - loss: 0.1798 - accuracy: 0.0000e+00\n",
      "Epoch 11/100\n",
      "17/17 [==============================] - 0s 5ms/step - loss: 0.1690 - accuracy: 0.0000e+00: 0s - loss: 0.1751 - accuracy: 0.0000e+\n",
      "Epoch 12/100\n",
      "17/17 [==============================] - 0s 4ms/step - loss: 0.1595 - accuracy: 0.0000e+00\n",
      "Epoch 13/100\n",
      "17/17 [==============================] - 0s 4ms/step - loss: 0.1484 - accuracy: 0.0000e+00\n",
      "Epoch 14/100\n",
      "17/17 [==============================] - 0s 4ms/step - loss: 0.1423 - accuracy: 0.0000e+00\n",
      "Epoch 15/100\n",
      "17/17 [==============================] - 0s 5ms/step - loss: 0.1367 - accuracy: 0.0000e+00\n",
      "Epoch 16/100\n",
      "17/17 [==============================] - ETA: 0s - loss: 0.1232 - accuracy: 0.0000e+ - 0s 4ms/step - loss: 0.1297 - accuracy: 0.0000e+00\n",
      "Epoch 17/100\n",
      "17/17 [==============================] - ETA: 0s - loss: 0.1092 - accuracy: 0.0000e+ - 0s 4ms/step - loss: 0.1245 - accuracy: 0.0000e+00\n",
      "Epoch 18/100\n",
      "17/17 [==============================] - 0s 4ms/step - loss: 0.1190 - accuracy: 0.0000e+00\n",
      "Epoch 19/100\n",
      "17/17 [==============================] - 0s 4ms/step - loss: 0.1155 - accuracy: 0.0000e+00\n",
      "Epoch 20/100\n",
      "17/17 [==============================] - 0s 4ms/step - loss: 0.1112 - accuracy: 0.0000e+00\n",
      "Epoch 21/100\n",
      "17/17 [==============================] - 0s 4ms/step - loss: 0.1084 - accuracy: 0.0000e+00\n",
      "Epoch 22/100\n",
      "17/17 [==============================] - 0s 5ms/step - loss: 0.1050 - accuracy: 0.0000e+00\n",
      "Epoch 23/100\n",
      "17/17 [==============================] - 0s 5ms/step - loss: 0.1049 - accuracy: 0.0000e+00\n",
      "Epoch 24/100\n",
      "17/17 [==============================] - 0s 4ms/step - loss: 0.0987 - accuracy: 0.0000e+00\n",
      "Epoch 25/100\n",
      "17/17 [==============================] - 0s 4ms/step - loss: 0.0988 - accuracy: 0.0000e+00\n",
      "Epoch 26/100\n",
      "17/17 [==============================] - 0s 4ms/step - loss: 0.0949 - accuracy: 0.0000e+00\n",
      "Epoch 27/100\n",
      "17/17 [==============================] - 0s 4ms/step - loss: 0.0916 - accuracy: 0.0000e+00\n",
      "Epoch 28/100\n",
      "17/17 [==============================] - 0s 4ms/step - loss: 0.0898 - accuracy: 0.0000e+00\n",
      "Epoch 29/100\n",
      "17/17 [==============================] - 0s 4ms/step - loss: 0.0886 - accuracy: 0.0000e+00\n",
      "Epoch 30/100\n",
      "17/17 [==============================] - 0s 4ms/step - loss: 0.0862 - accuracy: 0.0000e+00\n",
      "Epoch 31/100\n",
      "17/17 [==============================] - 0s 4ms/step - loss: 0.0855 - accuracy: 0.0000e+00\n",
      "Epoch 32/100\n",
      "17/17 [==============================] - 0s 4ms/step - loss: 0.0834 - accuracy: 0.0000e+00\n",
      "Epoch 33/100\n",
      "17/17 [==============================] - 0s 4ms/step - loss: 0.0805 - accuracy: 0.0000e+00\n",
      "Epoch 34/100\n",
      "17/17 [==============================] - 0s 4ms/step - loss: 0.0804 - accuracy: 0.0000e+00\n",
      "Epoch 35/100\n",
      "17/17 [==============================] - 0s 5ms/step - loss: 0.0787 - accuracy: 0.0000e+00\n",
      "Epoch 36/100\n",
      "17/17 [==============================] - 0s 4ms/step - loss: 0.0770 - accuracy: 0.0000e+00\n",
      "Epoch 37/100\n",
      "17/17 [==============================] - 0s 5ms/step - loss: 0.0762 - accuracy: 0.0000e+00\n",
      "Epoch 38/100\n",
      "17/17 [==============================] - 0s 4ms/step - loss: 0.0739 - accuracy: 0.0000e+00\n",
      "Epoch 39/100\n",
      "17/17 [==============================] - 0s 4ms/step - loss: 0.0741 - accuracy: 0.0000e+00\n",
      "Epoch 40/100\n",
      "17/17 [==============================] - 0s 4ms/step - loss: 0.0724 - accuracy: 0.0000e+00\n",
      "Epoch 41/100\n",
      "17/17 [==============================] - 0s 4ms/step - loss: 0.0714 - accuracy: 0.0000e+00\n",
      "Epoch 42/100\n",
      "17/17 [==============================] - 0s 5ms/step - loss: 0.0706 - accuracy: 0.0000e+00\n",
      "Epoch 43/100\n",
      "17/17 [==============================] - 0s 4ms/step - loss: 0.0696 - accuracy: 0.0000e+00\n",
      "Epoch 44/100\n",
      "17/17 [==============================] - 0s 5ms/step - loss: 0.0687 - accuracy: 0.0000e+00\n",
      "Epoch 45/100\n",
      "17/17 [==============================] - 0s 5ms/step - loss: 0.0675 - accuracy: 0.0000e+00\n",
      "Epoch 46/100\n",
      "17/17 [==============================] - 0s 5ms/step - loss: 0.0687 - accuracy: 0.0000e+00\n",
      "Epoch 47/100\n",
      "17/17 [==============================] - 0s 4ms/step - loss: 0.0671 - accuracy: 0.0000e+00\n",
      "Epoch 48/100\n",
      "17/17 [==============================] - ETA: 0s - loss: 0.0686 - accuracy: 0.0000e+ - 0s 5ms/step - loss: 0.0651 - accuracy: 0.0000e+00\n",
      "Epoch 49/100\n",
      "17/17 [==============================] - 0s 5ms/step - loss: 0.0656 - accuracy: 0.0000e+00\n",
      "Epoch 50/100\n",
      "17/17 [==============================] - 0s 4ms/step - loss: 0.0631 - accuracy: 0.0000e+00\n",
      "Epoch 51/100\n",
      "17/17 [==============================] - 0s 5ms/step - loss: 0.0630 - accuracy: 0.0000e+00\n",
      "Epoch 52/100\n",
      "17/17 [==============================] - 0s 4ms/step - loss: 0.0617 - accuracy: 0.0000e+00\n",
      "Epoch 53/100\n",
      "17/17 [==============================] - 0s 4ms/step - loss: 0.0627 - accuracy: 0.0000e+00\n",
      "Epoch 54/100\n",
      "17/17 [==============================] - 0s 4ms/step - loss: 0.0596 - accuracy: 0.0000e+00\n",
      "Epoch 55/100\n",
      "17/17 [==============================] - 0s 4ms/step - loss: 0.0617 - accuracy: 0.0000e+00\n",
      "Epoch 56/100\n",
      "17/17 [==============================] - 0s 4ms/step - loss: 0.0600 - accuracy: 0.0000e+00\n",
      "Epoch 57/100\n",
      "17/17 [==============================] - 0s 4ms/step - loss: 0.0587 - accuracy: 0.0000e+00\n",
      "Epoch 58/100\n",
      "17/17 [==============================] - 0s 4ms/step - loss: 0.0580 - accuracy: 0.0000e+00\n",
      "Epoch 59/100\n",
      "17/17 [==============================] - 0s 4ms/step - loss: 0.0572 - accuracy: 0.0000e+00\n",
      "Epoch 60/100\n",
      "17/17 [==============================] - 0s 4ms/step - loss: 0.0565 - accuracy: 0.0000e+00\n",
      "Epoch 61/100\n",
      "17/17 [==============================] - 0s 4ms/step - loss: 0.0569 - accuracy: 0.0000e+00\n",
      "Epoch 62/100\n",
      "17/17 [==============================] - 0s 4ms/step - loss: 0.0560 - accuracy: 0.0000e+00: 0s - loss: 0.0576 - accuracy: 0.0000e+\n",
      "Epoch 63/100\n",
      "17/17 [==============================] - 0s 5ms/step - loss: 0.0537 - accuracy: 0.0000e+00\n",
      "Epoch 64/100\n",
      "17/17 [==============================] - 0s 5ms/step - loss: 0.0535 - accuracy: 0.0000e+00\n",
      "Epoch 65/100\n",
      "17/17 [==============================] - 0s 5ms/step - loss: 0.0525 - accuracy: 0.0000e+00\n",
      "Epoch 66/100\n",
      "17/17 [==============================] - 0s 4ms/step - loss: 0.0519 - accuracy: 0.0000e+00\n",
      "Epoch 67/100\n",
      "17/17 [==============================] - 0s 4ms/step - loss: 0.0517 - accuracy: 0.0000e+00\n",
      "Epoch 68/100\n",
      "17/17 [==============================] - 0s 5ms/step - loss: 0.0511 - accuracy: 0.0000e+00: 0s - loss: 0.0551 - accuracy: 0.0000e+\n",
      "Epoch 69/100\n",
      "17/17 [==============================] - 0s 5ms/step - loss: 0.0509 - accuracy: 0.0000e+00\n",
      "Epoch 70/100\n",
      "17/17 [==============================] - 0s 5ms/step - loss: 0.0505 - accuracy: 0.0000e+00\n",
      "Epoch 71/100\n",
      "17/17 [==============================] - 0s 5ms/step - loss: 0.0493 - accuracy: 0.0000e+00\n",
      "Epoch 72/100\n",
      "17/17 [==============================] - 0s 4ms/step - loss: 0.0499 - accuracy: 0.0000e+00\n",
      "Epoch 73/100\n",
      "17/17 [==============================] - 0s 4ms/step - loss: 0.0505 - accuracy: 0.0000e+00\n",
      "Epoch 74/100\n",
      "17/17 [==============================] - 0s 4ms/step - loss: 0.0505 - accuracy: 0.0000e+00\n",
      "Epoch 75/100\n",
      "17/17 [==============================] - 0s 4ms/step - loss: 0.0483 - accuracy: 0.0000e+00\n",
      "Epoch 76/100\n",
      "17/17 [==============================] - 0s 5ms/step - loss: 0.0457 - accuracy: 0.0000e+00\n",
      "Epoch 77/100\n"
     ]
    },
    {
     "name": "stdout",
     "output_type": "stream",
     "text": [
      "17/17 [==============================] - 0s 5ms/step - loss: 0.0467 - accuracy: 0.0000e+00\n",
      "Epoch 78/100\n",
      "17/17 [==============================] - 0s 5ms/step - loss: 0.0453 - accuracy: 0.0000e+00\n",
      "Epoch 79/100\n",
      "17/17 [==============================] - 0s 4ms/step - loss: 0.0447 - accuracy: 0.0000e+00\n",
      "Epoch 80/100\n",
      "17/17 [==============================] - 0s 5ms/step - loss: 0.0462 - accuracy: 0.0000e+00\n",
      "Epoch 81/100\n",
      "17/17 [==============================] - 0s 5ms/step - loss: 0.0453 - accuracy: 0.0000e+00\n",
      "Epoch 82/100\n",
      "17/17 [==============================] - 0s 6ms/step - loss: 0.0441 - accuracy: 0.0000e+00\n",
      "Epoch 83/100\n",
      "17/17 [==============================] - 0s 6ms/step - loss: 0.0430 - accuracy: 0.0000e+00\n",
      "Epoch 84/100\n",
      "17/17 [==============================] - 0s 6ms/step - loss: 0.0429 - accuracy: 0.0000e+00\n",
      "Epoch 85/100\n",
      "17/17 [==============================] - 0s 7ms/step - loss: 0.0425 - accuracy: 0.0000e+00\n",
      "Epoch 86/100\n",
      "17/17 [==============================] - 0s 5ms/step - loss: 0.0414 - accuracy: 0.0000e+00\n",
      "Epoch 87/100\n",
      "17/17 [==============================] - 0s 6ms/step - loss: 0.0426 - accuracy: 0.0000e+00\n",
      "Epoch 88/100\n",
      "17/17 [==============================] - 0s 5ms/step - loss: 0.0409 - accuracy: 0.0000e+00\n",
      "Epoch 89/100\n",
      "17/17 [==============================] - 0s 5ms/step - loss: 0.0402 - accuracy: 0.0000e+00\n",
      "Epoch 90/100\n",
      "17/17 [==============================] - 0s 8ms/step - loss: 0.0411 - accuracy: 0.0000e+00\n",
      "Epoch 91/100\n",
      "17/17 [==============================] - 0s 6ms/step - loss: 0.0402 - accuracy: 0.0000e+00\n",
      "Epoch 92/100\n",
      "17/17 [==============================] - ETA: 0s - loss: 0.0385 - accuracy: 0.0000e+ - 0s 4ms/step - loss: 0.0408 - accuracy: 0.0000e+00\n",
      "Epoch 93/100\n",
      "17/17 [==============================] - 0s 4ms/step - loss: 0.0390 - accuracy: 0.0000e+00\n",
      "Epoch 94/100\n",
      "17/17 [==============================] - 0s 5ms/step - loss: 0.0395 - accuracy: 0.0000e+00\n",
      "Epoch 95/100\n",
      "17/17 [==============================] - 0s 5ms/step - loss: 0.0387 - accuracy: 0.0000e+00\n",
      "Epoch 96/100\n",
      "17/17 [==============================] - 0s 5ms/step - loss: 0.0386 - accuracy: 0.0000e+00\n",
      "Epoch 97/100\n",
      "17/17 [==============================] - 0s 5ms/step - loss: 0.0377 - accuracy: 0.0000e+00\n",
      "Epoch 98/100\n",
      "17/17 [==============================] - 0s 4ms/step - loss: 0.0392 - accuracy: 0.0000e+00\n",
      "Epoch 99/100\n",
      "17/17 [==============================] - 0s 4ms/step - loss: 0.0371 - accuracy: 0.0000e+00\n",
      "Epoch 100/100\n",
      "17/17 [==============================] - 0s 4ms/step - loss: 0.0382 - accuracy: 0.0000e+00\n"
     ]
    },
    {
     "data": {
      "text/plain": [
       "<tensorflow.python.keras.callbacks.History at 0x2c15f1c6910>"
      ]
     },
     "execution_count": 38,
     "metadata": {},
     "output_type": "execute_result"
    }
   ],
   "source": [
    "# Fitting the ANN to the Training set\n",
    "opt_columns=[1, 2, 4, 6, 7, 8, 9, 10, 12, 15, 17, 22, 23, 24, 26, 27, 29, 31, 32, 34, 35, 36, 37, 38, 39, 40, 43]\n",
    "rnn5.fit(X_train[:, opt_columns], y_train, batch_size=10, epochs=100)"
   ]
  },
  {
   "cell_type": "code",
   "execution_count": 39,
   "metadata": {},
   "outputs": [],
   "source": [
    "# Predict the Training set results\n",
    "y_modeled5=rnn5.predict(X_train[:, opt_columns])"
   ]
  },
  {
   "cell_type": "code",
   "execution_count": 40,
   "metadata": {},
   "outputs": [],
   "source": [
    "# Predicting the Test set results\n",
    "y_pred5=rnn5.predict(X_test[:, opt_columns])"
   ]
  },
  {
   "cell_type": "code",
   "execution_count": 41,
   "metadata": {},
   "outputs": [
    {
     "data": {
      "text/plain": [
       "'\\n    Далі ініціюємо нову нейронну мережу та задаємо її архітектуру й параметри навчання. Вона має архітектуру 27-27-27-1,\\nтобто наявний вхідний щар з 27 нейронами (за числом значущих  незалежних змінних), два приховані шари з 27 нейронами кожен і\\nвихідний шар з 1 нейроном.\\n'"
      ]
     },
     "execution_count": 41,
     "metadata": {},
     "output_type": "execute_result"
    }
   ],
   "source": [
    "'''\n",
    "    Далі ініціюємо нову нейронну мережу та задаємо її архітектуру й параметри навчання. Вона має архітектуру 27-27-27-1,\n",
    "тобто наявний вхідний щар з 27 нейронами (за числом значущих  незалежних змінних), два приховані шари з 27 нейронами кожен і\n",
    "вихідний шар з 1 нейроном.\n",
    "'''"
   ]
  },
  {
   "cell_type": "code",
   "execution_count": 42,
   "metadata": {},
   "outputs": [],
   "source": [
    "# Initialising the ANN\n",
    "rnn6=Sequential()\n",
    "\n",
    "# Adding the input layer\n",
    "rnn6.add(Input(shape=(27,)))\n",
    "\n",
    "# Adding the first hidden layer\n",
    "rnn6.add(Dense(27, activation='tanh'))\n",
    "\n",
    "# Adding the second hidden layer\n",
    "rnn6.add(Dense(27, activation='tanh'))\n",
    "\n",
    "# Adding the output layer\n",
    "rnn6.add(Dense(1, activation='linear'))\n",
    "\n",
    "# Compiling the ANN\n",
    "rnn6.compile(optimizer='adam', loss='mean_squared_error', metrics=['accuracy'])"
   ]
  },
  {
   "cell_type": "code",
   "execution_count": 43,
   "metadata": {},
   "outputs": [
    {
     "data": {
      "text/plain": [
       "'\\n    Дана нейронна мережа була навчена на навчальній вибірці 27 значущих незалежних змінних, для неї також було проведено\\nоцінку та прогноз цін автомобілів.\\n'"
      ]
     },
     "execution_count": 43,
     "metadata": {},
     "output_type": "execute_result"
    }
   ],
   "source": [
    "'''\n",
    "    Дана нейронна мережа була навчена на навчальній вибірці 27 значущих незалежних змінних, для неї також було проведено\n",
    "оцінку та прогноз цін автомобілів.\n",
    "'''"
   ]
  },
  {
   "cell_type": "code",
   "execution_count": 44,
   "metadata": {},
   "outputs": [
    {
     "name": "stdout",
     "output_type": "stream",
     "text": [
      "Epoch 1/100\n",
      "17/17 [==============================] - 0s 9ms/step - loss: 0.9398 - accuracy: 0.0000e+00\n",
      "Epoch 2/100\n",
      "17/17 [==============================] - 0s 6ms/step - loss: 0.4889 - accuracy: 0.0000e+00\n",
      "Epoch 3/100\n",
      "17/17 [==============================] - 0s 5ms/step - loss: 0.3546 - accuracy: 0.0000e+00\n",
      "Epoch 4/100\n",
      "17/17 [==============================] - 0s 4ms/step - loss: 0.3082 - accuracy: 0.0000e+00\n",
      "Epoch 5/100\n",
      "17/17 [==============================] - 0s 5ms/step - loss: 0.2638 - accuracy: 0.0000e+00\n",
      "Epoch 6/100\n",
      "17/17 [==============================] - 0s 8ms/step - loss: 0.2339 - accuracy: 0.0000e+00\n",
      "Epoch 7/100\n",
      "17/17 [==============================] - 0s 5ms/step - loss: 0.2154 - accuracy: 0.0000e+00\n",
      "Epoch 8/100\n",
      "17/17 [==============================] - 0s 4ms/step - loss: 0.1924 - accuracy: 0.0000e+00\n",
      "Epoch 9/100\n",
      "17/17 [==============================] - 0s 5ms/step - loss: 0.1788 - accuracy: 0.0000e+00\n",
      "Epoch 10/100\n",
      "17/17 [==============================] - 0s 5ms/step - loss: 0.1669 - accuracy: 0.0000e+00\n",
      "Epoch 11/100\n",
      "17/17 [==============================] - 0s 5ms/step - loss: 0.1581 - accuracy: 0.0000e+00\n",
      "Epoch 12/100\n",
      "17/17 [==============================] - 0s 5ms/step - loss: 0.1486 - accuracy: 0.0000e+00\n",
      "Epoch 13/100\n",
      "17/17 [==============================] - 0s 5ms/step - loss: 0.1415 - accuracy: 0.0000e+00\n",
      "Epoch 14/100\n",
      "17/17 [==============================] - 0s 4ms/step - loss: 0.1344 - accuracy: 0.0000e+00\n",
      "Epoch 15/100\n",
      "17/17 [==============================] - 0s 5ms/step - loss: 0.1319 - accuracy: 0.0000e+00\n",
      "Epoch 16/100\n",
      "17/17 [==============================] - 0s 4ms/step - loss: 0.1204 - accuracy: 0.0000e+00\n",
      "Epoch 17/100\n",
      "17/17 [==============================] - 0s 5ms/step - loss: 0.1161 - accuracy: 0.0000e+00\n",
      "Epoch 18/100\n",
      "17/17 [==============================] - 0s 4ms/step - loss: 0.1105 - accuracy: 0.0000e+00\n",
      "Epoch 19/100\n",
      "17/17 [==============================] - 0s 4ms/step - loss: 0.1095 - accuracy: 0.0000e+00\n",
      "Epoch 20/100\n",
      "17/17 [==============================] - 0s 5ms/step - loss: 0.0999 - accuracy: 0.0000e+00\n",
      "Epoch 21/100\n",
      "17/17 [==============================] - 0s 5ms/step - loss: 0.0990 - accuracy: 0.0000e+00\n",
      "Epoch 22/100\n",
      "17/17 [==============================] - 0s 5ms/step - loss: 0.0936 - accuracy: 0.0000e+00\n",
      "Epoch 23/100\n",
      "17/17 [==============================] - 0s 5ms/step - loss: 0.0901 - accuracy: 0.0000e+00\n",
      "Epoch 24/100\n",
      "17/17 [==============================] - 0s 5ms/step - loss: 0.0867 - accuracy: 0.0000e+00\n",
      "Epoch 25/100\n",
      "17/17 [==============================] - 0s 4ms/step - loss: 0.0829 - accuracy: 0.0000e+00\n",
      "Epoch 26/100\n",
      "17/17 [==============================] - 0s 5ms/step - loss: 0.0807 - accuracy: 0.0000e+00\n",
      "Epoch 27/100\n",
      "17/17 [==============================] - 0s 5ms/step - loss: 0.0787 - accuracy: 0.0000e+00\n",
      "Epoch 28/100\n",
      "17/17 [==============================] - 0s 10ms/step - loss: 0.0777 - accuracy: 0.0000e+00\n",
      "Epoch 29/100\n",
      "17/17 [==============================] - 0s 8ms/step - loss: 0.0780 - accuracy: 0.0000e+00\n",
      "Epoch 30/100\n",
      "17/17 [==============================] - 0s 5ms/step - loss: 0.0733 - accuracy: 0.0000e+00\n",
      "Epoch 31/100\n",
      "17/17 [==============================] - 0s 4ms/step - loss: 0.0727 - accuracy: 0.0000e+00\n",
      "Epoch 32/100\n",
      "17/17 [==============================] - 0s 5ms/step - loss: 0.0709 - accuracy: 0.0000e+00\n",
      "Epoch 33/100\n",
      "17/17 [==============================] - 0s 4ms/step - loss: 0.0668 - accuracy: 0.0000e+00\n",
      "Epoch 34/100\n",
      "17/17 [==============================] - 0s 5ms/step - loss: 0.0660 - accuracy: 0.0000e+00\n",
      "Epoch 35/100\n",
      "17/17 [==============================] - 0s 5ms/step - loss: 0.0670 - accuracy: 0.0000e+00\n",
      "Epoch 36/100\n",
      "17/17 [==============================] - 0s 4ms/step - loss: 0.0656 - accuracy: 0.0000e+00\n",
      "Epoch 37/100\n",
      "17/17 [==============================] - 0s 4ms/step - loss: 0.0622 - accuracy: 0.0000e+00\n",
      "Epoch 38/100\n",
      "17/17 [==============================] - 0s 6ms/step - loss: 0.0603 - accuracy: 0.0000e+00\n",
      "Epoch 39/100\n",
      "17/17 [==============================] - 0s 4ms/step - loss: 0.0595 - accuracy: 0.0000e+00\n",
      "Epoch 40/100\n",
      "17/17 [==============================] - 0s 4ms/step - loss: 0.0572 - accuracy: 0.0000e+00\n",
      "Epoch 41/100\n",
      "17/17 [==============================] - 0s 5ms/step - loss: 0.0575 - accuracy: 0.0000e+00\n",
      "Epoch 42/100\n",
      "17/17 [==============================] - 0s 5ms/step - loss: 0.0614 - accuracy: 0.0000e+00\n",
      "Epoch 43/100\n",
      "17/17 [==============================] - 0s 5ms/step - loss: 0.0573 - accuracy: 0.0000e+00\n",
      "Epoch 44/100\n",
      "17/17 [==============================] - 0s 5ms/step - loss: 0.0571 - accuracy: 0.0000e+00\n",
      "Epoch 45/100\n",
      "17/17 [==============================] - 0s 6ms/step - loss: 0.0542 - accuracy: 0.0000e+00\n",
      "Epoch 46/100\n",
      "17/17 [==============================] - 0s 4ms/step - loss: 0.0568 - accuracy: 0.0000e+00\n",
      "Epoch 47/100\n",
      "17/17 [==============================] - 0s 4ms/step - loss: 0.0536 - accuracy: 0.0000e+00\n",
      "Epoch 48/100\n",
      "17/17 [==============================] - 0s 4ms/step - loss: 0.0532 - accuracy: 0.0000e+00\n",
      "Epoch 49/100\n",
      "17/17 [==============================] - 0s 4ms/step - loss: 0.0521 - accuracy: 0.0000e+00\n",
      "Epoch 50/100\n",
      "17/17 [==============================] - 0s 4ms/step - loss: 0.0505 - accuracy: 0.0000e+00\n",
      "Epoch 51/100\n",
      "17/17 [==============================] - 0s 5ms/step - loss: 0.0489 - accuracy: 0.0000e+00\n",
      "Epoch 52/100\n",
      "17/17 [==============================] - 0s 5ms/step - loss: 0.0475 - accuracy: 0.0000e+00\n",
      "Epoch 53/100\n",
      "17/17 [==============================] - 0s 5ms/step - loss: 0.0461 - accuracy: 0.0000e+00\n",
      "Epoch 54/100\n",
      "17/17 [==============================] - 0s 4ms/step - loss: 0.0479 - accuracy: 0.0000e+00\n",
      "Epoch 55/100\n",
      "17/17 [==============================] - 0s 4ms/step - loss: 0.0490 - accuracy: 0.0000e+00\n",
      "Epoch 56/100\n",
      "17/17 [==============================] - 0s 4ms/step - loss: 0.0468 - accuracy: 0.0000e+00\n",
      "Epoch 57/100\n",
      "17/17 [==============================] - 0s 6ms/step - loss: 0.0464 - accuracy: 0.0000e+00\n",
      "Epoch 58/100\n",
      "17/17 [==============================] - 0s 5ms/step - loss: 0.0456 - accuracy: 0.0000e+00\n",
      "Epoch 59/100\n",
      "17/17 [==============================] - 0s 4ms/step - loss: 0.0431 - accuracy: 0.0000e+00\n",
      "Epoch 60/100\n",
      "17/17 [==============================] - 0s 6ms/step - loss: 0.0416 - accuracy: 0.0000e+00\n",
      "Epoch 61/100\n",
      "17/17 [==============================] - 0s 4ms/step - loss: 0.0420 - accuracy: 0.0000e+00\n",
      "Epoch 62/100\n",
      "17/17 [==============================] - 0s 4ms/step - loss: 0.0427 - accuracy: 0.0000e+00\n",
      "Epoch 63/100\n",
      "17/17 [==============================] - 0s 4ms/step - loss: 0.0402 - accuracy: 0.0000e+00\n",
      "Epoch 64/100\n",
      "17/17 [==============================] - 0s 4ms/step - loss: 0.0411 - accuracy: 0.0000e+00\n",
      "Epoch 65/100\n",
      "17/17 [==============================] - 0s 4ms/step - loss: 0.0392 - accuracy: 0.0000e+00\n",
      "Epoch 66/100\n",
      "17/17 [==============================] - 0s 4ms/step - loss: 0.0381 - accuracy: 0.0000e+00\n",
      "Epoch 67/100\n",
      "17/17 [==============================] - 0s 4ms/step - loss: 0.0432 - accuracy: 0.0000e+00\n",
      "Epoch 68/100\n",
      "17/17 [==============================] - 0s 4ms/step - loss: 0.0411 - accuracy: 0.0000e+00\n",
      "Epoch 69/100\n",
      "17/17 [==============================] - 0s 4ms/step - loss: 0.0392 - accuracy: 0.0000e+00\n",
      "Epoch 70/100\n",
      "17/17 [==============================] - 0s 5ms/step - loss: 0.0372 - accuracy: 0.0000e+00\n",
      "Epoch 71/100\n",
      "17/17 [==============================] - 0s 5ms/step - loss: 0.0385 - accuracy: 0.0000e+00\n",
      "Epoch 72/100\n",
      "17/17 [==============================] - 0s 5ms/step - loss: 0.0389 - accuracy: 0.0000e+00\n",
      "Epoch 73/100\n",
      "17/17 [==============================] - 0s 5ms/step - loss: 0.0381 - accuracy: 0.0000e+00\n",
      "Epoch 74/100\n",
      "17/17 [==============================] - 0s 4ms/step - loss: 0.0354 - accuracy: 0.0000e+00\n",
      "Epoch 75/100\n",
      "17/17 [==============================] - 0s 7ms/step - loss: 0.0357 - accuracy: 0.0000e+00\n",
      "Epoch 76/100\n",
      "17/17 [==============================] - 0s 4ms/step - loss: 0.0355 - accuracy: 0.0000e+00\n",
      "Epoch 77/100\n",
      "17/17 [==============================] - 0s 4ms/step - loss: 0.0360 - accuracy: 0.0000e+00\n",
      "Epoch 78/100\n",
      "17/17 [==============================] - 0s 4ms/step - loss: 0.0350 - accuracy: 0.0000e+00\n",
      "Epoch 79/100\n"
     ]
    },
    {
     "name": "stdout",
     "output_type": "stream",
     "text": [
      "17/17 [==============================] - 0s 5ms/step - loss: 0.0335 - accuracy: 0.0000e+00\n",
      "Epoch 80/100\n",
      "17/17 [==============================] - 0s 5ms/step - loss: 0.0342 - accuracy: 0.0000e+00\n",
      "Epoch 81/100\n",
      "17/17 [==============================] - 0s 5ms/step - loss: 0.0324 - accuracy: 0.0000e+00\n",
      "Epoch 82/100\n",
      "17/17 [==============================] - 0s 5ms/step - loss: 0.0349 - accuracy: 0.0000e+00\n",
      "Epoch 83/100\n",
      "17/17 [==============================] - 0s 4ms/step - loss: 0.0303 - accuracy: 0.0000e+00\n",
      "Epoch 84/100\n",
      "17/17 [==============================] - 0s 4ms/step - loss: 0.0330 - accuracy: 0.0000e+00\n",
      "Epoch 85/100\n",
      "17/17 [==============================] - 0s 5ms/step - loss: 0.0317 - accuracy: 0.0000e+00\n",
      "Epoch 86/100\n",
      "17/17 [==============================] - 0s 5ms/step - loss: 0.0306 - accuracy: 0.0000e+00\n",
      "Epoch 87/100\n",
      "17/17 [==============================] - 0s 5ms/step - loss: 0.0298 - accuracy: 0.0000e+00: 0s - loss: 0.0323 - accuracy: 0.0000e+\n",
      "Epoch 88/100\n",
      "17/17 [==============================] - ETA: 0s - loss: 0.0310 - accuracy: 0.0000e+ - 0s 5ms/step - loss: 0.0294 - accuracy: 0.0000e+00\n",
      "Epoch 89/100\n",
      "17/17 [==============================] - 0s 5ms/step - loss: 0.0310 - accuracy: 0.0000e+00\n",
      "Epoch 90/100\n",
      "17/17 [==============================] - 0s 6ms/step - loss: 0.0297 - accuracy: 0.0000e+00\n",
      "Epoch 91/100\n",
      "17/17 [==============================] - 0s 5ms/step - loss: 0.0291 - accuracy: 0.0000e+00\n",
      "Epoch 92/100\n",
      "17/17 [==============================] - 0s 5ms/step - loss: 0.0296 - accuracy: 0.0000e+00\n",
      "Epoch 93/100\n",
      "17/17 [==============================] - 0s 5ms/step - loss: 0.0295 - accuracy: 0.0000e+00\n",
      "Epoch 94/100\n",
      "17/17 [==============================] - 0s 4ms/step - loss: 0.0314 - accuracy: 0.0000e+00\n",
      "Epoch 95/100\n",
      "17/17 [==============================] - 0s 5ms/step - loss: 0.0282 - accuracy: 0.0000e+00\n",
      "Epoch 96/100\n",
      "17/17 [==============================] - 0s 5ms/step - loss: 0.0315 - accuracy: 0.0000e+00\n",
      "Epoch 97/100\n",
      "17/17 [==============================] - 0s 5ms/step - loss: 0.0317 - accuracy: 0.0000e+00\n",
      "Epoch 98/100\n",
      "17/17 [==============================] - 0s 5ms/step - loss: 0.0285 - accuracy: 0.0000e+00\n",
      "Epoch 99/100\n",
      "17/17 [==============================] - 0s 4ms/step - loss: 0.0268 - accuracy: 0.0000e+00\n",
      "Epoch 100/100\n",
      "17/17 [==============================] - 0s 4ms/step - loss: 0.0285 - accuracy: 0.0000e+00\n"
     ]
    },
    {
     "data": {
      "text/plain": [
       "<tensorflow.python.keras.callbacks.History at 0x2c15f471460>"
      ]
     },
     "execution_count": 44,
     "metadata": {},
     "output_type": "execute_result"
    }
   ],
   "source": [
    "# Fitting the ANN to the Training set\n",
    "rnn6.fit(X_train[:, opt_columns], y_train, batch_size=10, epochs=100)"
   ]
  },
  {
   "cell_type": "code",
   "execution_count": 45,
   "metadata": {},
   "outputs": [],
   "source": [
    "# Predict the Training set results\n",
    "y_modeled6=rnn6.predict(X_train[:, opt_columns])"
   ]
  },
  {
   "cell_type": "code",
   "execution_count": 46,
   "metadata": {},
   "outputs": [],
   "source": [
    "# Predicting the Test set results\n",
    "y_pred6=rnn6.predict(X_test[:, opt_columns])"
   ]
  },
  {
   "cell_type": "code",
   "execution_count": 47,
   "metadata": {},
   "outputs": [
    {
     "data": {
      "text/plain": [
       "'\\n    Тепер розглянемо мережу, що навчається на наборі значущих факторів, з архітектурою, що розширюється. Відповідно\\nініціюємо нейронну мережу та задаємо її архітектуру й параметри навчання. Нейронна мережа має архітектуру 27-36-1, тобто\\nнаявний вхідний шар з 27 нейронами (за числом значущих  незалежних змінних), один прихований шар з 36 нейронами і вихідний\\nшар з 1 нейроном.\\n'"
      ]
     },
     "execution_count": 47,
     "metadata": {},
     "output_type": "execute_result"
    }
   ],
   "source": [
    "'''\n",
    "    Тепер розглянемо мережу, що навчається на наборі значущих факторів, з архітектурою, що розширюється. Відповідно\n",
    "ініціюємо нейронну мережу та задаємо її архітектуру й параметри навчання. Нейронна мережа має архітектуру 27-36-1, тобто\n",
    "наявний вхідний шар з 27 нейронами (за числом значущих  незалежних змінних), один прихований шар з 36 нейронами і вихідний\n",
    "шар з 1 нейроном.\n",
    "'''"
   ]
  },
  {
   "cell_type": "code",
   "execution_count": 48,
   "metadata": {},
   "outputs": [],
   "source": [
    "# Initialising the ANN\n",
    "rnn7=Sequential()\n",
    "\n",
    "# Adding the input layer\n",
    "rnn7.add(Input(shape=(27,)))\n",
    "\n",
    "# Adding the hidden layer\n",
    "rnn7.add(Dense(36, activation='tanh'))\n",
    "\n",
    "# Adding the output layer\n",
    "rnn7.add(Dense(1, activation='linear'))\n",
    "\n",
    "# Compiling the ANN\n",
    "rnn7.compile(optimizer='adam', loss='mean_squared_error', metrics=['accuracy'])"
   ]
  },
  {
   "cell_type": "code",
   "execution_count": 49,
   "metadata": {},
   "outputs": [
    {
     "data": {
      "text/plain": [
       "'\\n    Дана нейронна мережа була навчена на навчальній вибірці 27 значущих незалежних змінних, для неї також було проведено\\nоцінку та прогноз цін автомобілів.\\n'"
      ]
     },
     "execution_count": 49,
     "metadata": {},
     "output_type": "execute_result"
    }
   ],
   "source": [
    "'''\n",
    "    Дана нейронна мережа була навчена на навчальній вибірці 27 значущих незалежних змінних, для неї також було проведено\n",
    "оцінку та прогноз цін автомобілів.\n",
    "'''"
   ]
  },
  {
   "cell_type": "code",
   "execution_count": 50,
   "metadata": {},
   "outputs": [
    {
     "name": "stdout",
     "output_type": "stream",
     "text": [
      "Epoch 1/100\n",
      "17/17 [==============================] - 0s 4ms/step - loss: 0.8287 - accuracy: 0.0000e+00\n",
      "Epoch 2/100\n",
      "17/17 [==============================] - 0s 5ms/step - loss: 0.5672 - accuracy: 0.0000e+00\n",
      "Epoch 3/100\n",
      "17/17 [==============================] - 0s 5ms/step - loss: 0.4709 - accuracy: 0.0000e+00\n",
      "Epoch 4/100\n",
      "17/17 [==============================] - 0s 5ms/step - loss: 0.4043 - accuracy: 0.0000e+00\n",
      "Epoch 5/100\n",
      "17/17 [==============================] - 0s 6ms/step - loss: 0.3500 - accuracy: 0.0000e+00\n",
      "Epoch 6/100\n",
      "17/17 [==============================] - 0s 5ms/step - loss: 0.3034 - accuracy: 0.0000e+00\n",
      "Epoch 7/100\n",
      "17/17 [==============================] - 0s 4ms/step - loss: 0.2725 - accuracy: 0.0000e+00\n",
      "Epoch 8/100\n",
      "17/17 [==============================] - 0s 4ms/step - loss: 0.2446 - accuracy: 0.0000e+00\n",
      "Epoch 9/100\n",
      "17/17 [==============================] - 0s 5ms/step - loss: 0.2252 - accuracy: 0.0000e+00\n",
      "Epoch 10/100\n",
      "17/17 [==============================] - 0s 5ms/step - loss: 0.2103 - accuracy: 0.0000e+00\n",
      "Epoch 11/100\n",
      "17/17 [==============================] - 0s 4ms/step - loss: 0.1912 - accuracy: 0.0000e+00\n",
      "Epoch 12/100\n",
      "17/17 [==============================] - 0s 4ms/step - loss: 0.1814 - accuracy: 0.0000e+00\n",
      "Epoch 13/100\n",
      "17/17 [==============================] - 0s 4ms/step - loss: 0.1684 - accuracy: 0.0000e+00\n",
      "Epoch 14/100\n",
      "17/17 [==============================] - 0s 4ms/step - loss: 0.1604 - accuracy: 0.0000e+00\n",
      "Epoch 15/100\n",
      "17/17 [==============================] - 0s 4ms/step - loss: 0.1532 - accuracy: 0.0000e+00\n",
      "Epoch 16/100\n",
      "17/17 [==============================] - 0s 4ms/step - loss: 0.1439 - accuracy: 0.0000e+00\n",
      "Epoch 17/100\n",
      "17/17 [==============================] - 0s 5ms/step - loss: 0.1364 - accuracy: 0.0000e+00\n",
      "Epoch 18/100\n",
      "17/17 [==============================] - 0s 5ms/step - loss: 0.1322 - accuracy: 0.0000e+00\n",
      "Epoch 19/100\n",
      "17/17 [==============================] - 0s 5ms/step - loss: 0.1268 - accuracy: 0.0000e+00\n",
      "Epoch 20/100\n",
      "17/17 [==============================] - 0s 5ms/step - loss: 0.1277 - accuracy: 0.0000e+00: 0s - loss: 0.1478 - accuracy: 0.0000e+\n",
      "Epoch 21/100\n",
      "17/17 [==============================] - 0s 4ms/step - loss: 0.1172 - accuracy: 0.0000e+00\n",
      "Epoch 22/100\n",
      "17/17 [==============================] - 0s 4ms/step - loss: 0.1145 - accuracy: 0.0000e+00\n",
      "Epoch 23/100\n",
      "17/17 [==============================] - 0s 4ms/step - loss: 0.1107 - accuracy: 0.0000e+00\n",
      "Epoch 24/100\n",
      "17/17 [==============================] - 0s 4ms/step - loss: 0.1100 - accuracy: 0.0000e+00\n",
      "Epoch 25/100\n",
      "17/17 [==============================] - 0s 5ms/step - loss: 0.1051 - accuracy: 0.0000e+00\n",
      "Epoch 26/100\n",
      "17/17 [==============================] - 0s 5ms/step - loss: 0.1038 - accuracy: 0.0000e+00\n",
      "Epoch 27/100\n",
      "17/17 [==============================] - 0s 5ms/step - loss: 0.1008 - accuracy: 0.0000e+00\n",
      "Epoch 28/100\n",
      "17/17 [==============================] - 0s 4ms/step - loss: 0.1008 - accuracy: 0.0000e+00\n",
      "Epoch 29/100\n",
      "17/17 [==============================] - 0s 4ms/step - loss: 0.0966 - accuracy: 0.0000e+00\n",
      "Epoch 30/100\n",
      "17/17 [==============================] - 0s 4ms/step - loss: 0.0938 - accuracy: 0.0000e+00\n",
      "Epoch 31/100\n",
      "17/17 [==============================] - 0s 5ms/step - loss: 0.0912 - accuracy: 0.0000e+00\n",
      "Epoch 32/100\n",
      "17/17 [==============================] - 0s 5ms/step - loss: 0.0891 - accuracy: 0.0000e+00\n",
      "Epoch 33/100\n",
      "17/17 [==============================] - 0s 5ms/step - loss: 0.0885 - accuracy: 0.0000e+00\n",
      "Epoch 34/100\n",
      "17/17 [==============================] - 0s 5ms/step - loss: 0.0869 - accuracy: 0.0000e+00\n",
      "Epoch 35/100\n",
      "17/17 [==============================] - 0s 4ms/step - loss: 0.0857 - accuracy: 0.0000e+00\n",
      "Epoch 36/100\n",
      "17/17 [==============================] - 0s 4ms/step - loss: 0.0823 - accuracy: 0.0000e+00\n",
      "Epoch 37/100\n",
      "17/17 [==============================] - 0s 4ms/step - loss: 0.0800 - accuracy: 0.0000e+00\n",
      "Epoch 38/100\n",
      "17/17 [==============================] - 0s 4ms/step - loss: 0.0799 - accuracy: 0.0000e+00\n",
      "Epoch 39/100\n",
      "17/17 [==============================] - 0s 5ms/step - loss: 0.0794 - accuracy: 0.0000e+00\n",
      "Epoch 40/100\n",
      "17/17 [==============================] - 0s 5ms/step - loss: 0.0783 - accuracy: 0.0000e+00\n",
      "Epoch 41/100\n",
      "17/17 [==============================] - 0s 5ms/step - loss: 0.0767 - accuracy: 0.0000e+00\n",
      "Epoch 42/100\n",
      "17/17 [==============================] - 0s 5ms/step - loss: 0.0750 - accuracy: 0.0000e+00\n",
      "Epoch 43/100\n",
      "17/17 [==============================] - ETA: 0s - loss: 0.0751 - accuracy: 0.0000e+ - 0s 5ms/step - loss: 0.0744 - accuracy: 0.0000e+00\n",
      "Epoch 44/100\n",
      "17/17 [==============================] - 0s 4ms/step - loss: 0.0743 - accuracy: 0.0000e+00\n",
      "Epoch 45/100\n",
      "17/17 [==============================] - 0s 4ms/step - loss: 0.0729 - accuracy: 0.0000e+00\n",
      "Epoch 46/100\n",
      "17/17 [==============================] - 0s 4ms/step - loss: 0.0701 - accuracy: 0.0000e+00\n",
      "Epoch 47/100\n",
      "17/17 [==============================] - 0s 5ms/step - loss: 0.0708 - accuracy: 0.0000e+00\n",
      "Epoch 48/100\n",
      "17/17 [==============================] - 0s 5ms/step - loss: 0.0690 - accuracy: 0.0000e+00\n",
      "Epoch 49/100\n",
      "17/17 [==============================] - ETA: 0s - loss: 0.0664 - accuracy: 0.0000e+ - 0s 4ms/step - loss: 0.0680 - accuracy: 0.0000e+00\n",
      "Epoch 50/100\n",
      "17/17 [==============================] - 0s 4ms/step - loss: 0.0683 - accuracy: 0.0000e+00\n",
      "Epoch 51/100\n",
      "17/17 [==============================] - 0s 4ms/step - loss: 0.0673 - accuracy: 0.0000e+00\n",
      "Epoch 52/100\n",
      "17/17 [==============================] - 0s 4ms/step - loss: 0.0654 - accuracy: 0.0000e+00\n",
      "Epoch 53/100\n",
      "17/17 [==============================] - 0s 4ms/step - loss: 0.0619 - accuracy: 0.0000e+00\n",
      "Epoch 54/100\n",
      "17/17 [==============================] - 0s 4ms/step - loss: 0.0634 - accuracy: 0.0000e+00: 0s - loss: 0.0636 - accuracy: 0.0000e+\n",
      "Epoch 55/100\n",
      "17/17 [==============================] - 0s 5ms/step - loss: 0.0623 - accuracy: 0.0000e+00\n",
      "Epoch 56/100\n",
      "17/17 [==============================] - 0s 4ms/step - loss: 0.0602 - accuracy: 0.0000e+00\n",
      "Epoch 57/100\n",
      "17/17 [==============================] - 0s 5ms/step - loss: 0.0628 - accuracy: 0.0000e+00\n",
      "Epoch 58/100\n",
      "17/17 [==============================] - 0s 4ms/step - loss: 0.0621 - accuracy: 0.0000e+00\n",
      "Epoch 59/100\n",
      "17/17 [==============================] - 0s 4ms/step - loss: 0.0590 - accuracy: 0.0000e+00\n",
      "Epoch 60/100\n",
      "17/17 [==============================] - 0s 4ms/step - loss: 0.0599 - accuracy: 0.0000e+00\n",
      "Epoch 61/100\n",
      "17/17 [==============================] - 0s 4ms/step - loss: 0.0585 - accuracy: 0.0000e+00\n",
      "Epoch 62/100\n",
      "17/17 [==============================] - 0s 4ms/step - loss: 0.0582 - accuracy: 0.0000e+00\n",
      "Epoch 63/100\n",
      "17/17 [==============================] - 0s 5ms/step - loss: 0.0568 - accuracy: 0.0000e+00\n",
      "Epoch 64/100\n",
      "17/17 [==============================] - 0s 5ms/step - loss: 0.0557 - accuracy: 0.0000e+00\n",
      "Epoch 65/100\n",
      "17/17 [==============================] - 0s 4ms/step - loss: 0.0567 - accuracy: 0.0000e+00\n",
      "Epoch 66/100\n",
      "17/17 [==============================] - 0s 4ms/step - loss: 0.0545 - accuracy: 0.0000e+00\n",
      "Epoch 67/100\n",
      "17/17 [==============================] - 0s 4ms/step - loss: 0.0549 - accuracy: 0.0000e+00\n",
      "Epoch 68/100\n",
      "17/17 [==============================] - 0s 4ms/step - loss: 0.0529 - accuracy: 0.0000e+00\n",
      "Epoch 69/100\n",
      "17/17 [==============================] - 0s 4ms/step - loss: 0.0536 - accuracy: 0.0000e+00\n",
      "Epoch 70/100\n",
      "17/17 [==============================] - 0s 5ms/step - loss: 0.0529 - accuracy: 0.0000e+00\n",
      "Epoch 71/100\n",
      "17/17 [==============================] - 0s 5ms/step - loss: 0.0519 - accuracy: 0.0000e+00\n",
      "Epoch 72/100\n",
      "17/17 [==============================] - ETA: 0s - loss: 0.0516 - accuracy: 0.0000e+ - 0s 4ms/step - loss: 0.0513 - accuracy: 0.0000e+00\n",
      "Epoch 73/100\n",
      "17/17 [==============================] - 0s 5ms/step - loss: 0.0501 - accuracy: 0.0000e+00\n",
      "Epoch 74/100\n",
      "17/17 [==============================] - 0s 4ms/step - loss: 0.0505 - accuracy: 0.0000e+00\n",
      "Epoch 75/100\n",
      "17/17 [==============================] - 0s 5ms/step - loss: 0.0501 - accuracy: 0.0000e+00\n",
      "Epoch 76/100\n",
      "17/17 [==============================] - 0s 4ms/step - loss: 0.0517 - accuracy: 0.0000e+00\n",
      "Epoch 77/100\n"
     ]
    },
    {
     "name": "stdout",
     "output_type": "stream",
     "text": [
      "17/17 [==============================] - 0s 4ms/step - loss: 0.0512 - accuracy: 0.0000e+00\n",
      "Epoch 78/100\n",
      "17/17 [==============================] - 0s 5ms/step - loss: 0.0494 - accuracy: 0.0000e+00\n",
      "Epoch 79/100\n",
      "17/17 [==============================] - 0s 5ms/step - loss: 0.0487 - accuracy: 0.0000e+00\n",
      "Epoch 80/100\n",
      "17/17 [==============================] - 0s 5ms/step - loss: 0.0482 - accuracy: 0.0000e+00\n",
      "Epoch 81/100\n",
      "17/17 [==============================] - 0s 4ms/step - loss: 0.0474 - accuracy: 0.0000e+00\n",
      "Epoch 82/100\n",
      "17/17 [==============================] - 0s 4ms/step - loss: 0.0462 - accuracy: 0.0000e+00: 0s - loss: 0.0451 - accuracy: 0.0000e+\n",
      "Epoch 83/100\n",
      "17/17 [==============================] - 0s 5ms/step - loss: 0.0462 - accuracy: 0.0000e+00\n",
      "Epoch 84/100\n",
      "17/17 [==============================] - 0s 5ms/step - loss: 0.0446 - accuracy: 0.0000e+00\n",
      "Epoch 85/100\n",
      "17/17 [==============================] - 0s 5ms/step - loss: 0.0452 - accuracy: 0.0000e+00\n",
      "Epoch 86/100\n",
      "17/17 [==============================] - 0s 5ms/step - loss: 0.0455 - accuracy: 0.0000e+00\n",
      "Epoch 87/100\n",
      "17/17 [==============================] - 0s 4ms/step - loss: 0.0443 - accuracy: 0.0000e+00\n",
      "Epoch 88/100\n",
      "17/17 [==============================] - 0s 4ms/step - loss: 0.0443 - accuracy: 0.0000e+00\n",
      "Epoch 89/100\n",
      "17/17 [==============================] - 0s 4ms/step - loss: 0.0436 - accuracy: 0.0000e+00\n",
      "Epoch 90/100\n",
      "17/17 [==============================] - ETA: 0s - loss: 0.0425 - accuracy: 0.0000e+ - 0s 4ms/step - loss: 0.0428 - accuracy: 0.0000e+00\n",
      "Epoch 91/100\n",
      "17/17 [==============================] - 0s 4ms/step - loss: 0.0429 - accuracy: 0.0000e+00\n",
      "Epoch 92/100\n",
      "17/17 [==============================] - 0s 4ms/step - loss: 0.0428 - accuracy: 0.0000e+00\n",
      "Epoch 93/100\n",
      "17/17 [==============================] - 0s 4ms/step - loss: 0.0413 - accuracy: 0.0000e+00\n",
      "Epoch 94/100\n",
      "17/17 [==============================] - 0s 4ms/step - loss: 0.0413 - accuracy: 0.0000e+00\n",
      "Epoch 95/100\n",
      "17/17 [==============================] - 0s 4ms/step - loss: 0.0408 - accuracy: 0.0000e+00\n",
      "Epoch 96/100\n",
      "17/17 [==============================] - 0s 4ms/step - loss: 0.0438 - accuracy: 0.0000e+00\n",
      "Epoch 97/100\n",
      "17/17 [==============================] - 0s 4ms/step - loss: 0.0416 - accuracy: 0.0000e+00\n",
      "Epoch 98/100\n",
      "17/17 [==============================] - 0s 4ms/step - loss: 0.0414 - accuracy: 0.0000e+00\n",
      "Epoch 99/100\n",
      "17/17 [==============================] - 0s 4ms/step - loss: 0.0400 - accuracy: 0.0000e+00\n",
      "Epoch 100/100\n",
      "17/17 [==============================] - 0s 4ms/step - loss: 0.0394 - accuracy: 0.0000e+00\n"
     ]
    },
    {
     "data": {
      "text/plain": [
       "<tensorflow.python.keras.callbacks.History at 0x2c15f7d2af0>"
      ]
     },
     "execution_count": 50,
     "metadata": {},
     "output_type": "execute_result"
    }
   ],
   "source": [
    "# Fitting the ANN to the Training set\n",
    "rnn7.fit(X_train[:, opt_columns], y_train, batch_size=10, epochs=100)"
   ]
  },
  {
   "cell_type": "code",
   "execution_count": 51,
   "metadata": {},
   "outputs": [],
   "source": [
    "# Predict the Training set results\n",
    "y_modeled7=rnn7.predict(X_train[:, opt_columns])"
   ]
  },
  {
   "cell_type": "code",
   "execution_count": 52,
   "metadata": {},
   "outputs": [],
   "source": [
    "# Predicting the Test set results\n",
    "y_pred7=rnn7.predict(X_test[:, opt_columns])"
   ]
  },
  {
   "cell_type": "code",
   "execution_count": 53,
   "metadata": {},
   "outputs": [
    {
     "data": {
      "text/plain": [
       "'\\n    Також ініціюємо нейронну мережу з архітектурою 27-36-36-1, тобто вона має вхідний щар з 27 нейронами (за числом значущих\\nнезалежних змінних), два приховані шари з 36 нейронами кожен і вихідний шар з 1 нейроном.\\n'"
      ]
     },
     "execution_count": 53,
     "metadata": {},
     "output_type": "execute_result"
    }
   ],
   "source": [
    "'''\n",
    "    Також ініціюємо нейронну мережу з архітектурою 27-36-36-1, тобто вона має вхідний щар з 27 нейронами (за числом значущих\n",
    "незалежних змінних), два приховані шари з 36 нейронами кожен і вихідний шар з 1 нейроном.\n",
    "'''"
   ]
  },
  {
   "cell_type": "code",
   "execution_count": 54,
   "metadata": {},
   "outputs": [],
   "source": [
    "# Initialising the ANN\n",
    "rnn8=Sequential()\n",
    "\n",
    "# Adding the input layer\n",
    "rnn8.add(Input(shape=(27,)))\n",
    "\n",
    "# Adding the first hidden layer\n",
    "rnn8.add(Dense(36, activation='tanh'))\n",
    "\n",
    "# Adding the second hidden layer\n",
    "rnn8.add(Dense(36, activation='tanh'))\n",
    "\n",
    "# Adding the output layer\n",
    "rnn8.add(Dense(1, activation='linear'))\n",
    "\n",
    "# Compiling the ANN\n",
    "rnn8.compile(optimizer='adam', loss='mean_squared_error', metrics=['accuracy'])"
   ]
  },
  {
   "cell_type": "code",
   "execution_count": 55,
   "metadata": {},
   "outputs": [
    {
     "data": {
      "text/plain": [
       "'\\n    Дана нейронна мережа була навчена на навчальній вибірці 27 значущих незалежних змінних, для неї також було проведено\\nоцінку та прогноз цін автомобілів.\\n'"
      ]
     },
     "execution_count": 55,
     "metadata": {},
     "output_type": "execute_result"
    }
   ],
   "source": [
    "'''\n",
    "    Дана нейронна мережа була навчена на навчальній вибірці 27 значущих незалежних змінних, для неї також було проведено\n",
    "оцінку та прогноз цін автомобілів.\n",
    "'''"
   ]
  },
  {
   "cell_type": "code",
   "execution_count": 56,
   "metadata": {},
   "outputs": [
    {
     "name": "stdout",
     "output_type": "stream",
     "text": [
      "Epoch 1/100\n",
      "17/17 [==============================] - 0s 9ms/step - loss: 0.5989 - accuracy: 0.0000e+00\n",
      "Epoch 2/100\n",
      "17/17 [==============================] - 0s 6ms/step - loss: 0.3863 - accuracy: 0.0000e+00\n",
      "Epoch 3/100\n",
      "17/17 [==============================] - 0s 7ms/step - loss: 0.2887 - accuracy: 0.0000e+00\n",
      "Epoch 4/100\n",
      "17/17 [==============================] - 0s 5ms/step - loss: 0.2374 - accuracy: 0.0000e+00\n",
      "Epoch 5/100\n",
      "17/17 [==============================] - 0s 5ms/step - loss: 0.2032 - accuracy: 0.0000e+00\n",
      "Epoch 6/100\n",
      "17/17 [==============================] - 0s 8ms/step - loss: 0.1792 - accuracy: 0.0000e+00\n",
      "Epoch 7/100\n",
      "17/17 [==============================] - 0s 7ms/step - loss: 0.1563 - accuracy: 0.0000e+00\n",
      "Epoch 8/100\n",
      "17/17 [==============================] - 0s 5ms/step - loss: 0.1494 - accuracy: 0.0000e+00\n",
      "Epoch 9/100\n",
      "17/17 [==============================] - 0s 5ms/step - loss: 0.1419 - accuracy: 0.0000e+00\n",
      "Epoch 10/100\n",
      "17/17 [==============================] - 0s 5ms/step - loss: 0.1298 - accuracy: 0.0000e+00\n",
      "Epoch 11/100\n",
      "17/17 [==============================] - 0s 5ms/step - loss: 0.1246 - accuracy: 0.0000e+00\n",
      "Epoch 12/100\n",
      "17/17 [==============================] - 0s 5ms/step - loss: 0.1192 - accuracy: 0.0000e+00\n",
      "Epoch 13/100\n",
      "17/17 [==============================] - 0s 5ms/step - loss: 0.1137 - accuracy: 0.0000e+00\n",
      "Epoch 14/100\n",
      "17/17 [==============================] - 0s 5ms/step - loss: 0.1065 - accuracy: 0.0000e+00\n",
      "Epoch 15/100\n",
      "17/17 [==============================] - 0s 5ms/step - loss: 0.1022 - accuracy: 0.0000e+00\n",
      "Epoch 16/100\n",
      "17/17 [==============================] - 0s 5ms/step - loss: 0.0981 - accuracy: 0.0000e+00\n",
      "Epoch 17/100\n",
      "17/17 [==============================] - 0s 5ms/step - loss: 0.0936 - accuracy: 0.0000e+00\n",
      "Epoch 18/100\n",
      "17/17 [==============================] - 0s 4ms/step - loss: 0.0894 - accuracy: 0.0000e+00\n",
      "Epoch 19/100\n",
      "17/17 [==============================] - 0s 5ms/step - loss: 0.0871 - accuracy: 0.0000e+00\n",
      "Epoch 20/100\n",
      "17/17 [==============================] - 0s 5ms/step - loss: 0.0812 - accuracy: 0.0000e+00\n",
      "Epoch 21/100\n",
      "17/17 [==============================] - 0s 5ms/step - loss: 0.0789 - accuracy: 0.0000e+00\n",
      "Epoch 22/100\n",
      "17/17 [==============================] - 0s 4ms/step - loss: 0.0771 - accuracy: 0.0000e+00\n",
      "Epoch 23/100\n",
      "17/17 [==============================] - 0s 4ms/step - loss: 0.0741 - accuracy: 0.0000e+00\n",
      "Epoch 24/100\n",
      "17/17 [==============================] - 0s 4ms/step - loss: 0.0715 - accuracy: 0.0000e+00\n",
      "Epoch 25/100\n",
      "17/17 [==============================] - 0s 5ms/step - loss: 0.0747 - accuracy: 0.0000e+00\n",
      "Epoch 26/100\n",
      "17/17 [==============================] - 0s 5ms/step - loss: 0.0715 - accuracy: 0.0000e+00\n",
      "Epoch 27/100\n",
      "17/17 [==============================] - 0s 5ms/step - loss: 0.0703 - accuracy: 0.0000e+00\n",
      "Epoch 28/100\n",
      "17/17 [==============================] - 0s 5ms/step - loss: 0.0683 - accuracy: 0.0000e+00\n",
      "Epoch 29/100\n",
      "17/17 [==============================] - 0s 5ms/step - loss: 0.0629 - accuracy: 0.0000e+00\n",
      "Epoch 30/100\n",
      "17/17 [==============================] - 0s 5ms/step - loss: 0.0612 - accuracy: 0.0000e+00\n",
      "Epoch 31/100\n",
      "17/17 [==============================] - 0s 5ms/step - loss: 0.0615 - accuracy: 0.0000e+00\n",
      "Epoch 32/100\n",
      "17/17 [==============================] - 0s 5ms/step - loss: 0.0616 - accuracy: 0.0000e+00\n",
      "Epoch 33/100\n",
      "17/17 [==============================] - 0s 5ms/step - loss: 0.0628 - accuracy: 0.0000e+00\n",
      "Epoch 34/100\n",
      "17/17 [==============================] - 0s 5ms/step - loss: 0.0601 - accuracy: 0.0000e+00\n",
      "Epoch 35/100\n",
      "17/17 [==============================] - 0s 5ms/step - loss: 0.0571 - accuracy: 0.0000e+00\n",
      "Epoch 36/100\n",
      "17/17 [==============================] - 0s 5ms/step - loss: 0.0555 - accuracy: 0.0000e+00\n",
      "Epoch 37/100\n",
      "17/17 [==============================] - 0s 5ms/step - loss: 0.0522 - accuracy: 0.0000e+00\n",
      "Epoch 38/100\n",
      "17/17 [==============================] - 0s 5ms/step - loss: 0.0507 - accuracy: 0.0000e+00\n",
      "Epoch 39/100\n",
      "17/17 [==============================] - 0s 5ms/step - loss: 0.0535 - accuracy: 0.0000e+00\n",
      "Epoch 40/100\n",
      "17/17 [==============================] - 0s 4ms/step - loss: 0.0541 - accuracy: 0.0000e+00\n",
      "Epoch 41/100\n",
      "17/17 [==============================] - 0s 5ms/step - loss: 0.0493 - accuracy: 0.0000e+00\n",
      "Epoch 42/100\n",
      "17/17 [==============================] - 0s 4ms/step - loss: 0.0531 - accuracy: 0.0000e+00\n",
      "Epoch 43/100\n",
      "17/17 [==============================] - 0s 4ms/step - loss: 0.0481 - accuracy: 0.0000e+00\n",
      "Epoch 44/100\n",
      "17/17 [==============================] - 0s 4ms/step - loss: 0.0476 - accuracy: 0.0000e+00\n",
      "Epoch 45/100\n",
      "17/17 [==============================] - 0s 5ms/step - loss: 0.0460 - accuracy: 0.0000e+00\n",
      "Epoch 46/100\n",
      "17/17 [==============================] - 0s 4ms/step - loss: 0.0505 - accuracy: 0.0000e+00\n",
      "Epoch 47/100\n",
      "17/17 [==============================] - 0s 5ms/step - loss: 0.0452 - accuracy: 0.0000e+00\n",
      "Epoch 48/100\n",
      "17/17 [==============================] - 0s 5ms/step - loss: 0.0433 - accuracy: 0.0000e+00\n",
      "Epoch 49/100\n",
      "17/17 [==============================] - 0s 5ms/step - loss: 0.0428 - accuracy: 0.0000e+00\n",
      "Epoch 50/100\n",
      "17/17 [==============================] - 0s 5ms/step - loss: 0.0490 - accuracy: 0.0000e+00\n",
      "Epoch 51/100\n",
      "17/17 [==============================] - 0s 5ms/step - loss: 0.0434 - accuracy: 0.0000e+00\n",
      "Epoch 52/100\n",
      "17/17 [==============================] - 0s 5ms/step - loss: 0.0403 - accuracy: 0.0000e+00\n",
      "Epoch 53/100\n",
      "17/17 [==============================] - 0s 5ms/step - loss: 0.0423 - accuracy: 0.0000e+00\n",
      "Epoch 54/100\n",
      "17/17 [==============================] - 0s 5ms/step - loss: 0.0385 - accuracy: 0.0000e+00\n",
      "Epoch 55/100\n",
      "17/17 [==============================] - 0s 4ms/step - loss: 0.0433 - accuracy: 0.0000e+00\n",
      "Epoch 56/100\n",
      "17/17 [==============================] - 0s 4ms/step - loss: 0.0395 - accuracy: 0.0000e+00\n",
      "Epoch 57/100\n",
      "17/17 [==============================] - 0s 5ms/step - loss: 0.0417 - accuracy: 0.0000e+00\n",
      "Epoch 58/100\n",
      "17/17 [==============================] - 0s 5ms/step - loss: 0.0401 - accuracy: 0.0000e+00\n",
      "Epoch 59/100\n",
      "17/17 [==============================] - 0s 5ms/step - loss: 0.0373 - accuracy: 0.0000e+00\n",
      "Epoch 60/100\n",
      "17/17 [==============================] - 0s 5ms/step - loss: 0.0373 - accuracy: 0.0000e+00\n",
      "Epoch 61/100\n",
      "17/17 [==============================] - 0s 5ms/step - loss: 0.0359 - accuracy: 0.0000e+00\n",
      "Epoch 62/100\n",
      "17/17 [==============================] - 0s 5ms/step - loss: 0.0381 - accuracy: 0.0000e+00\n",
      "Epoch 63/100\n",
      "17/17 [==============================] - 0s 5ms/step - loss: 0.0377 - accuracy: 0.0000e+00\n",
      "Epoch 64/100\n",
      "17/17 [==============================] - 0s 4ms/step - loss: 0.0420 - accuracy: 0.0000e+00\n",
      "Epoch 65/100\n",
      "17/17 [==============================] - 0s 4ms/step - loss: 0.0401 - accuracy: 0.0000e+00\n",
      "Epoch 66/100\n",
      "17/17 [==============================] - 0s 4ms/step - loss: 0.0374 - accuracy: 0.0000e+00\n",
      "Epoch 67/100\n",
      "17/17 [==============================] - 0s 4ms/step - loss: 0.0348 - accuracy: 0.0000e+00\n",
      "Epoch 68/100\n",
      "17/17 [==============================] - 0s 5ms/step - loss: 0.0342 - accuracy: 0.0000e+00\n",
      "Epoch 69/100\n",
      "17/17 [==============================] - 0s 4ms/step - loss: 0.0345 - accuracy: 0.0000e+00\n",
      "Epoch 70/100\n",
      "17/17 [==============================] - 0s 5ms/step - loss: 0.0339 - accuracy: 0.0000e+00\n",
      "Epoch 71/100\n",
      "17/17 [==============================] - 0s 4ms/step - loss: 0.0333 - accuracy: 0.0000e+00\n",
      "Epoch 72/100\n",
      "17/17 [==============================] - 0s 4ms/step - loss: 0.0325 - accuracy: 0.0000e+00\n",
      "Epoch 73/100\n",
      "17/17 [==============================] - 0s 4ms/step - loss: 0.0313 - accuracy: 0.0000e+00: 0s - loss: 0.0305 - accuracy: 0.0000e+\n",
      "Epoch 74/100\n",
      "17/17 [==============================] - 0s 4ms/step - loss: 0.0337 - accuracy: 0.0000e+00\n",
      "Epoch 75/100\n",
      "17/17 [==============================] - 0s 4ms/step - loss: 0.0324 - accuracy: 0.0000e+00\n",
      "Epoch 76/100\n",
      "17/17 [==============================] - 0s 4ms/step - loss: 0.0331 - accuracy: 0.0000e+00\n",
      "Epoch 77/100\n",
      "17/17 [==============================] - 0s 4ms/step - loss: 0.0334 - accuracy: 0.0000e+00\n",
      "Epoch 78/100\n",
      "17/17 [==============================] - 0s 4ms/step - loss: 0.0303 - accuracy: 0.0000e+00\n",
      "Epoch 79/100\n"
     ]
    },
    {
     "name": "stdout",
     "output_type": "stream",
     "text": [
      "17/17 [==============================] - 0s 4ms/step - loss: 0.0297 - accuracy: 0.0000e+00\n",
      "Epoch 80/100\n",
      "17/17 [==============================] - 0s 4ms/step - loss: 0.0329 - accuracy: 0.0000e+00\n",
      "Epoch 81/100\n",
      "17/17 [==============================] - 0s 5ms/step - loss: 0.0312 - accuracy: 0.0000e+00\n",
      "Epoch 82/100\n",
      "17/17 [==============================] - 0s 5ms/step - loss: 0.0350 - accuracy: 0.0000e+00\n",
      "Epoch 83/100\n",
      "17/17 [==============================] - 0s 5ms/step - loss: 0.0319 - accuracy: 0.0000e+00\n",
      "Epoch 84/100\n",
      "17/17 [==============================] - 0s 6ms/step - loss: 0.0362 - accuracy: 0.0000e+00\n",
      "Epoch 85/100\n",
      "17/17 [==============================] - 0s 5ms/step - loss: 0.0294 - accuracy: 0.0000e+00\n",
      "Epoch 86/100\n",
      "17/17 [==============================] - 0s 4ms/step - loss: 0.0279 - accuracy: 0.0000e+00\n",
      "Epoch 87/100\n",
      "17/17 [==============================] - 0s 5ms/step - loss: 0.0280 - accuracy: 0.0000e+00\n",
      "Epoch 88/100\n",
      "17/17 [==============================] - 0s 6ms/step - loss: 0.0276 - accuracy: 0.0000e+00\n",
      "Epoch 89/100\n",
      "17/17 [==============================] - 0s 4ms/step - loss: 0.0290 - accuracy: 0.0000e+00\n",
      "Epoch 90/100\n",
      "17/17 [==============================] - 0s 4ms/step - loss: 0.0284 - accuracy: 0.0000e+00\n",
      "Epoch 91/100\n",
      "17/17 [==============================] - 0s 4ms/step - loss: 0.0272 - accuracy: 0.0000e+00\n",
      "Epoch 92/100\n",
      "17/17 [==============================] - 0s 4ms/step - loss: 0.0271 - accuracy: 0.0000e+00\n",
      "Epoch 93/100\n",
      "17/17 [==============================] - 0s 4ms/step - loss: 0.0265 - accuracy: 0.0000e+00\n",
      "Epoch 94/100\n",
      "17/17 [==============================] - 0s 5ms/step - loss: 0.0264 - accuracy: 0.0000e+00\n",
      "Epoch 95/100\n",
      "17/17 [==============================] - 0s 4ms/step - loss: 0.0268 - accuracy: 0.0000e+00\n",
      "Epoch 96/100\n",
      "17/17 [==============================] - 0s 4ms/step - loss: 0.0272 - accuracy: 0.0000e+00\n",
      "Epoch 97/100\n",
      "17/17 [==============================] - 0s 4ms/step - loss: 0.0267 - accuracy: 0.0000e+00\n",
      "Epoch 98/100\n",
      "17/17 [==============================] - 0s 4ms/step - loss: 0.0240 - accuracy: 0.0000e+00\n",
      "Epoch 99/100\n",
      "17/17 [==============================] - 0s 4ms/step - loss: 0.0243 - accuracy: 0.0000e+00: 0s - loss: 0.0235 - accuracy: 0.0000e+\n",
      "Epoch 100/100\n",
      "17/17 [==============================] - 0s 4ms/step - loss: 0.0248 - accuracy: 0.0000e+00\n"
     ]
    },
    {
     "data": {
      "text/plain": [
       "<tensorflow.python.keras.callbacks.History at 0x2c15f19cd60>"
      ]
     },
     "execution_count": 56,
     "metadata": {},
     "output_type": "execute_result"
    }
   ],
   "source": [
    "# Fitting the ANN to the Training set\n",
    "rnn8.fit(X_train[:, opt_columns], y_train, batch_size=10, epochs=100)"
   ]
  },
  {
   "cell_type": "code",
   "execution_count": 57,
   "metadata": {},
   "outputs": [],
   "source": [
    "# Predict the Training set results\n",
    "y_modeled8=rnn8.predict(X_train[:, opt_columns])"
   ]
  },
  {
   "cell_type": "code",
   "execution_count": 58,
   "metadata": {},
   "outputs": [],
   "source": [
    "# Predicting the Test set results\n",
    "y_pred8=rnn8.predict(X_test[:, opt_columns])"
   ]
  },
  {
   "cell_type": "code",
   "execution_count": 59,
   "metadata": {},
   "outputs": [
    {
     "data": {
      "text/plain": [
       "'\\n    Отримані нейронні мережі порівняємо між собою. Варто зауважити, що серед них немає мереж, що звужуються, але, як було\\nвказано раніше, такі моделі використовуються в основному для задач класифікації, в той час, як у даній роботі виконується\\nзадача апроксимації та прогнозу, для яких кращим є використання нейронних мереж, що розширюються. Власне такі мережі й були\\nрозглянуті в цій роботі. Варто також зауважити, що архітектура можливих нейронних мереж не обмежується тільки розглянутими\\nваріантами, але огляд більшої кількості варіантів нейронних мереж є надто трудомістким.\\n'"
      ]
     },
     "execution_count": 59,
     "metadata": {},
     "output_type": "execute_result"
    }
   ],
   "source": [
    "'''\n",
    "    Отримані нейронні мережі порівняємо між собою. Варто зауважити, що серед них немає мереж, що звужуються, але, як було\n",
    "вказано раніше, такі моделі використовуються в основному для задач класифікації, в той час, як у даній роботі виконується\n",
    "задача апроксимації та прогнозу, для яких кращим є використання нейронних мереж, що розширюються. Власне такі мережі й були\n",
    "розглянуті в цій роботі. Варто також зауважити, що архітектура можливих нейронних мереж не обмежується тільки розглянутими\n",
    "варіантами, але огляд більшої кількості варіантів нейронних мереж є надто трудомістким.\n",
    "'''"
   ]
  },
  {
   "cell_type": "code",
   "execution_count": 60,
   "metadata": {},
   "outputs": [
    {
     "data": {
      "text/plain": [
       "\"\\n    Далі порівняння результатів робоми нейронних мереж провдемо зворотне шкалювання змінних. Варто зауважити, що зворотне\\nшкалювання незалежних змінних має сенс тільки для змінної engine-size, параметри якої зберіг метод ss, оскільки вона ще буде\\nвикористана при візуалізації. Для інших факторів, у зв'язку з відсутністю необхідності подальшого використання їхніх\\nнешкальованих значень, параметри прямого шкалювання не збереглися, а в разі потреби їх можна отримати провівши повторний\\nекспорт вхідних даних цієї роботи.\\n    Для реальних, модельних і прогнозних значень залежної змінної зворотнє шкалювання буде адекватним, оскільки використовує\\nспеціально створений для цього метод ScalerY.\\n\""
      ]
     },
     "execution_count": 60,
     "metadata": {},
     "output_type": "execute_result"
    }
   ],
   "source": [
    "'''\n",
    "    Далі порівняння результатів робоми нейронних мереж провдемо зворотне шкалювання змінних. Варто зауважити, що зворотне\n",
    "шкалювання незалежних змінних має сенс тільки для змінної engine-size, параметри якої зберіг метод ss, оскільки вона ще буде\n",
    "використана при візуалізації. Для інших факторів, у зв'язку з відсутністю необхідності подальшого використання їхніх\n",
    "нешкальованих значень, параметри прямого шкалювання не збереглися, а в разі потреби їх можна отримати провівши повторний\n",
    "експорт вхідних даних цієї роботи.\n",
    "    Для реальних, модельних і прогнозних значень залежної змінної зворотнє шкалювання буде адекватним, оскільки використовує\n",
    "спеціально створений для цього метод ScalerY.\n",
    "'''"
   ]
  },
  {
   "cell_type": "code",
   "execution_count": 61,
   "metadata": {},
   "outputs": [],
   "source": [
    "# Inverting scaling\n",
    "from sklearn.preprocessing import StandardScaler\n",
    "X_train=ss.inverse_transform(X_train)\n",
    "y_train=ScalerY.inverse_transform(y_train)\n",
    "\n",
    "y_modeled1=ScalerY.inverse_transform(y_modeled1)\n",
    "y_modeled2=ScalerY.inverse_transform(y_modeled2)\n",
    "y_modeled3=ScalerY.inverse_transform(y_modeled3)\n",
    "y_modeled4=ScalerY.inverse_transform(y_modeled4)\n",
    "y_modeled5=ScalerY.inverse_transform(y_modeled5)\n",
    "y_modeled6=ScalerY.inverse_transform(y_modeled6)\n",
    "y_modeled7=ScalerY.inverse_transform(y_modeled7)\n",
    "y_modeled8=ScalerY.inverse_transform(y_modeled8)\n",
    "\n",
    "X_test=ss.inverse_transform(X_test)\n",
    "y_test=ScalerY.inverse_transform(y_test)\n",
    "\n",
    "y_pred1=ScalerY.inverse_transform(y_pred1)\n",
    "y_pred2=ScalerY.inverse_transform(y_pred2)\n",
    "y_pred3=ScalerY.inverse_transform(y_pred3)\n",
    "y_pred4=ScalerY.inverse_transform(y_pred4)\n",
    "y_pred5=ScalerY.inverse_transform(y_pred5)\n",
    "y_pred6=ScalerY.inverse_transform(y_pred6)\n",
    "y_pred7=ScalerY.inverse_transform(y_pred7)\n",
    "y_pred8=ScalerY.inverse_transform(y_pred8)"
   ]
  },
  {
   "cell_type": "code",
   "execution_count": 62,
   "metadata": {},
   "outputs": [
    {
     "data": {
      "text/plain": [
       "'\\n    Для зворотно шкальованих значень залежної змінної розрахуємо і виведемо таку метрику якості моделей нейронних мереж, як\\nсередньоквадратична помилка MSE: окремо для навчальної і тестової вибірки по всіх розглянутих моделях.\\n'"
      ]
     },
     "execution_count": 62,
     "metadata": {},
     "output_type": "execute_result"
    }
   ],
   "source": [
    "'''\n",
    "    Для зворотно шкальованих значень залежної змінної розрахуємо і виведемо таку метрику якості моделей нейронних мереж, як\n",
    "середньоквадратична помилка MSE: окремо для навчальної і тестової вибірки по всіх розглянутих моделях.\n",
    "'''"
   ]
  },
  {
   "cell_type": "code",
   "execution_count": 63,
   "metadata": {},
   "outputs": [
    {
     "name": "stdout",
     "output_type": "stream",
     "text": [
      "Mean Squared Error:\n",
      "45-45-1 RNN\n",
      "1128897.086381998 2620153.13180656\n",
      "45-45-45-1 RNN\n",
      "721703.1009115664 4157993.471746276\n",
      "45-60-1 RNN\n",
      "1080990.804884521 3940980.4515078124\n",
      "45-60-60-1 RNN\n",
      "804947.2664804691 4429749.218385093\n",
      "27-27-1 RNN\n",
      "1975469.2272331908 2460374.9838385987\n",
      "27-27-27-1 RNN\n",
      "1548357.9780078297 3305242.6076946375\n",
      "27-36-1 RNN\n",
      "2133710.094797876 2803105.7627251092\n",
      "27-36-36-1 RNN\n",
      "1240232.7352145808 2366501.122747119\n"
     ]
    }
   ],
   "source": [
    "# Mean Squared Error\n",
    "from sklearn.metrics import mean_squared_error\n",
    "print(\"Mean Squared Error:\")\n",
    "\n",
    "rnn1_metrics=['45-45-1-rnn', np.nan, np.nan]\n",
    "rnn1_metrics.append(mean_squared_error(y_modeled1, y_train))\n",
    "rnn1_metrics.append(mean_squared_error(y_pred1, y_test))\n",
    "print(\"45-45-1 RNN\")\n",
    "print(mean_squared_error(y_modeled1, y_train), mean_squared_error(y_pred1, y_test))\n",
    "\n",
    "rnn2_metrics=['45-45-45-1-rnn', np.nan, np.nan]\n",
    "rnn2_metrics.append(mean_squared_error(y_modeled2, y_train))\n",
    "rnn2_metrics.append(mean_squared_error(y_pred2, y_test))\n",
    "print(\"45-45-45-1 RNN\")\n",
    "print(mean_squared_error(y_modeled2, y_train), mean_squared_error(y_pred2, y_test))\n",
    "\n",
    "rnn3_metrics=['45-60-1-rnn', np.nan, np.nan]\n",
    "rnn3_metrics.append(mean_squared_error(y_modeled3, y_train))\n",
    "rnn3_metrics.append(mean_squared_error(y_pred3, y_test))\n",
    "print(\"45-60-1 RNN\")\n",
    "print(mean_squared_error(y_modeled3, y_train), mean_squared_error(y_pred3, y_test))\n",
    "\n",
    "rnn4_metrics=['45-60-60-1-rnn', np.nan, np.nan]\n",
    "rnn4_metrics.append(mean_squared_error(y_modeled4, y_train))\n",
    "rnn4_metrics.append(mean_squared_error(y_pred4, y_test))\n",
    "print(\"45-60-60-1 RNN\")\n",
    "print(mean_squared_error(y_modeled4, y_train), mean_squared_error(y_pred4, y_test))\n",
    "\n",
    "rnn5_metrics=['27-27-1-rnn', np.nan, np.nan]\n",
    "rnn5_metrics.append(mean_squared_error(y_modeled5, y_train))\n",
    "rnn5_metrics.append(mean_squared_error(y_pred5, y_test))\n",
    "print(\"27-27-1 RNN\")\n",
    "print(mean_squared_error(y_modeled5, y_train), mean_squared_error(y_pred5, y_test))\n",
    "\n",
    "rnn6_metrics=['27-27-27-1-rnn', np.nan, np.nan]\n",
    "rnn6_metrics.append(mean_squared_error(y_modeled6, y_train))\n",
    "rnn6_metrics.append(mean_squared_error(y_pred6, y_test))\n",
    "print(\"27-27-27-1 RNN\")\n",
    "print(mean_squared_error(y_modeled6, y_train), mean_squared_error(y_pred6, y_test))\n",
    "\n",
    "rnn7_metrics=['27-36-1-rnn', np.nan, np.nan]\n",
    "rnn7_metrics.append(mean_squared_error(y_modeled7, y_train))\n",
    "rnn7_metrics.append(mean_squared_error(y_pred7, y_test))\n",
    "print(\"27-36-1 RNN\")\n",
    "print(mean_squared_error(y_modeled7, y_train), mean_squared_error(y_pred7, y_test))\n",
    "\n",
    "rnn8_metrics=['27-36-36-1-rnn', np.nan, np.nan]\n",
    "rnn8_metrics.append(mean_squared_error(y_modeled8, y_train))\n",
    "rnn8_metrics.append(mean_squared_error(y_pred8, y_test))\n",
    "print(\"27-36-36-1 RNN\")\n",
    "print(mean_squared_error(y_modeled8, y_train), mean_squared_error(y_pred8, y_test))"
   ]
  },
  {
   "cell_type": "code",
   "execution_count": 64,
   "metadata": {},
   "outputs": [
    {
     "data": {
      "text/plain": [
       "'\\n    Далі було графічно відображено залежність реальних і модельних даних моделей нейронних мереж від аргументу engine-size\\nдля навчальної вибірки для можливості графічного порівняння результатів апроксимації усіх розглянутих моделей.\\n'"
      ]
     },
     "execution_count": 64,
     "metadata": {},
     "output_type": "execute_result"
    }
   ],
   "source": [
    "'''\n",
    "    Далі було графічно відображено залежність реальних і модельних даних моделей нейронних мереж від аргументу engine-size\n",
    "для навчальної вибірки для можливості графічного порівняння результатів апроксимації усіх розглянутих моделей.\n",
    "'''"
   ]
  },
  {
   "cell_type": "code",
   "execution_count": 65,
   "metadata": {},
   "outputs": [
    {
     "data": {
      "image/png": "[encoded data removed]",
      "text/plain": [
       "<Figure size 432x288 with 1 Axes>"
      ]
     },
     "metadata": {
      "needs_background": "light"
     },
     "output_type": "display_data"
    }
   ],
   "source": [
    "# Visualising the Training set results\n",
    "plt.scatter(X_train[:, 10], y_train, color='red')\n",
    "plt.plot(X_train[:, 10], y_modeled1, 'bo')\n",
    "plt.title('Price vs Engine Size (Training set, Model 1)')\n",
    "plt.xlabel('Engine Size')\n",
    "plt.ylabel('Price')\n",
    "plt.show()"
   ]
  },
  {
   "cell_type": "code",
   "execution_count": 66,
   "metadata": {},
   "outputs": [
    {
     "data": {
      "image/png": "[encoded data removed]",
      "text/plain": [
       "<Figure size 432x288 with 1 Axes>"
      ]
     },
     "metadata": {
      "needs_background": "light"
     },
     "output_type": "display_data"
    }
   ],
   "source": [
    "# Visualising the Training set results\n",
    "plt.scatter(X_train[:, 10], y_train, color='red')\n",
    "plt.plot(X_train[:, 10], y_modeled2, 'bo')\n",
    "plt.title('Price vs Engine Size (Training set, Model 2)')\n",
    "plt.xlabel('Engine Size')\n",
    "plt.ylabel('Price')\n",
    "plt.show()"
   ]
  },
  {
   "cell_type": "code",
   "execution_count": 67,
   "metadata": {},
   "outputs": [
    {
     "data": {
      "image/png": "[encoded data removed]",
      "text/plain": [
       "<Figure size 432x288 with 1 Axes>"
      ]
     },
     "metadata": {
      "needs_background": "light"
     },
     "output_type": "display_data"
    }
   ],
   "source": [
    "# Visualising the Training set results\n",
    "plt.scatter(X_train[:, 10], y_train, color='red')\n",
    "plt.plot(X_train[:, 10], y_modeled3, 'bo')\n",
    "plt.title('Price vs Engine Size (Training set, Model 3)')\n",
    "plt.xlabel('Engine Size')\n",
    "plt.ylabel('Price')\n",
    "plt.show()"
   ]
  },
  {
   "cell_type": "code",
   "execution_count": 68,
   "metadata": {},
   "outputs": [
    {
     "data": {
      "image/png": "[encoded data removed]",
      "text/plain": [
       "<Figure size 432x288 with 1 Axes>"
      ]
     },
     "metadata": {
      "needs_background": "light"
     },
     "output_type": "display_data"
    }
   ],
   "source": [
    "# Visualising the Training set results\n",
    "plt.scatter(X_train[:, 10], y_train, color='red')\n",
    "plt.plot(X_train[:, 10], y_modeled4, 'bo')\n",
    "plt.title('Price vs Engine Size (Training set, Model 4)')\n",
    "plt.xlabel('Engine Size')\n",
    "plt.ylabel('Price')\n",
    "plt.show()"
   ]
  },
  {
   "cell_type": "code",
   "execution_count": 69,
   "metadata": {},
   "outputs": [
    {
     "data": {
      "image/png": "[encoded data removed]",
      "text/plain": [
       "<Figure size 432x288 with 1 Axes>"
      ]
     },
     "metadata": {
      "needs_background": "light"
     },
     "output_type": "display_data"
    }
   ],
   "source": [
    "# Visualising the Training set results\n",
    "plt.scatter(X_train[:, 10], y_train, color='red')\n",
    "plt.plot(X_train[:, 10], y_modeled5, 'bo')\n",
    "plt.title('Price vs Engine Size (Training set, Model 5)')\n",
    "plt.xlabel('Engine Size')\n",
    "plt.ylabel('Price')\n",
    "plt.show()"
   ]
  },
  {
   "cell_type": "code",
   "execution_count": 70,
   "metadata": {},
   "outputs": [
    {
     "data": {
      "image/png": "[encoded data removed]",
      "text/plain": [
       "<Figure size 432x288 with 1 Axes>"
      ]
     },
     "metadata": {
      "needs_background": "light"
     },
     "output_type": "display_data"
    }
   ],
   "source": [
    "# Visualising the Training set results\n",
    "plt.scatter(X_train[:, 10], y_train, color='red')\n",
    "plt.plot(X_train[:, 10], y_modeled6, 'bo')\n",
    "plt.title('Price vs Engine Size (Training set, Model 6)')\n",
    "plt.xlabel('Engine Size')\n",
    "plt.ylabel('Price')\n",
    "plt.show()"
   ]
  },
  {
   "cell_type": "code",
   "execution_count": 71,
   "metadata": {},
   "outputs": [
    {
     "data": {
      "image/png": "[encoded data removed]",
      "text/plain": [
       "<Figure size 432x288 with 1 Axes>"
      ]
     },
     "metadata": {
      "needs_background": "light"
     },
     "output_type": "display_data"
    }
   ],
   "source": [
    "# Visualising the Training set results\n",
    "plt.scatter(X_train[:, 10], y_train, color='red')\n",
    "plt.plot(X_train[:, 10], y_modeled7, 'bo')\n",
    "plt.title('Price vs Engine Size (Training set, Model 7)')\n",
    "plt.xlabel('Engine Size')\n",
    "plt.ylabel('Price')\n",
    "plt.show()"
   ]
  },
  {
   "cell_type": "code",
   "execution_count": 72,
   "metadata": {},
   "outputs": [
    {
     "data": {
      "image/png": "[encoded data removed]",
      "text/plain": [
       "<Figure size 432x288 with 1 Axes>"
      ]
     },
     "metadata": {
      "needs_background": "light"
     },
     "output_type": "display_data"
    }
   ],
   "source": [
    "# Visualising the Training set results\n",
    "plt.scatter(X_train[:, 10], y_train, color='red')\n",
    "plt.plot(X_train[:, 10], y_modeled8, 'bo')\n",
    "plt.title('Price vs Engine Size (Training set, Model 8)')\n",
    "plt.xlabel('Engine Size')\n",
    "plt.ylabel('Price')\n",
    "plt.show()"
   ]
  },
  {
   "cell_type": "code",
   "execution_count": 73,
   "metadata": {},
   "outputs": [
    {
     "data": {
      "text/plain": [
       "'\\n    Далі було графічно відображено залежність реальних і прогнозних даних моделей нейронних мереж від аргументу engine-size\\nдля тестової вибірки для можливості графічного порівняння прогнозних якостей усіх розглянутих моделей.\\n'"
      ]
     },
     "execution_count": 73,
     "metadata": {},
     "output_type": "execute_result"
    }
   ],
   "source": [
    "'''\n",
    "    Далі було графічно відображено залежність реальних і прогнозних даних моделей нейронних мереж від аргументу engine-size\n",
    "для тестової вибірки для можливості графічного порівняння прогнозних якостей усіх розглянутих моделей.\n",
    "'''"
   ]
  },
  {
   "cell_type": "code",
   "execution_count": 74,
   "metadata": {},
   "outputs": [
    {
     "data": {
      "image/png": "[encoded data removed]",
      "text/plain": [
       "<Figure size 432x288 with 1 Axes>"
      ]
     },
     "metadata": {
      "needs_background": "light"
     },
     "output_type": "display_data"
    }
   ],
   "source": [
    "# Visualising the Test set results\n",
    "plt.scatter(X_test[:, 10], y_test, color='red')\n",
    "plt.plot(X_test[:, 10], y_pred1, 'bo')\n",
    "plt.title('Price vs Engine Size (Test set, Model 1)')\n",
    "plt.xlabel('Engine Size')\n",
    "plt.ylabel('Price')\n",
    "plt.show()"
   ]
  },
  {
   "cell_type": "code",
   "execution_count": 75,
   "metadata": {},
   "outputs": [
    {
     "data": {
      "image/png": "[encoded data removed]",
      "text/plain": [
       "<Figure size 432x288 with 1 Axes>"
      ]
     },
     "metadata": {
      "needs_background": "light"
     },
     "output_type": "display_data"
    }
   ],
   "source": [
    "# Visualising the Test set results\n",
    "plt.scatter(X_test[:, 10], y_test, color='red')\n",
    "plt.plot(X_test[:, 10], y_pred2, 'bo')\n",
    "plt.title('Price vs Engine Size (Test set, Model 2)')\n",
    "plt.xlabel('Engine Size')\n",
    "plt.ylabel('Price')\n",
    "plt.show()"
   ]
  },
  {
   "cell_type": "code",
   "execution_count": 76,
   "metadata": {},
   "outputs": [
    {
     "data": {
      "image/png": "[encoded data removed]",
      "text/plain": [
       "<Figure size 432x288 with 1 Axes>"
      ]
     },
     "metadata": {
      "needs_background": "light"
     },
     "output_type": "display_data"
    }
   ],
   "source": [
    "# Visualising the Test set results\n",
    "plt.scatter(X_test[:, 10], y_test, color='red')\n",
    "plt.plot(X_test[:, 10], y_pred3, 'bo')\n",
    "plt.title('Price vs Engine Size (Test set, Model 3)')\n",
    "plt.xlabel('Engine Size')\n",
    "plt.ylabel('Price')\n",
    "plt.show()"
   ]
  },
  {
   "cell_type": "code",
   "execution_count": 77,
   "metadata": {},
   "outputs": [
    {
     "data": {
      "image/png": "[encoded data removed]",
      "text/plain": [
       "<Figure size 432x288 with 1 Axes>"
      ]
     },
     "metadata": {
      "needs_background": "light"
     },
     "output_type": "display_data"
    }
   ],
   "source": [
    "# Visualising the Test set results\n",
    "plt.scatter(X_test[:, 10], y_test, color='red')\n",
    "plt.plot(X_test[:, 10], y_pred4, 'bo')\n",
    "plt.title('Price vs Engine Size (Test set, Model 4)')\n",
    "plt.xlabel('Engine Size')\n",
    "plt.ylabel('Price')\n",
    "plt.show()"
   ]
  },
  {
   "cell_type": "code",
   "execution_count": 78,
   "metadata": {},
   "outputs": [
    {
     "data": {
      "image/png": "[encoded data removed]",
      "text/plain": [
       "<Figure size 432x288 with 1 Axes>"
      ]
     },
     "metadata": {
      "needs_background": "light"
     },
     "output_type": "display_data"
    }
   ],
   "source": [
    "# Visualising the Test set results\n",
    "plt.scatter(X_test[:, 10], y_test, color='red')\n",
    "plt.plot(X_test[:, 10], y_pred5, 'bo')\n",
    "plt.title('Price vs Engine Size (Test set, Model 5)')\n",
    "plt.xlabel('Engine Size')\n",
    "plt.ylabel('Price')\n",
    "plt.show()"
   ]
  },
  {
   "cell_type": "code",
   "execution_count": 79,
   "metadata": {},
   "outputs": [
    {
     "data": {
      "image/png": "[encoded data removed]",
      "text/plain": [
       "<Figure size 432x288 with 1 Axes>"
      ]
     },
     "metadata": {
      "needs_background": "light"
     },
     "output_type": "display_data"
    }
   ],
   "source": [
    "# Visualising the Test set results\n",
    "plt.scatter(X_test[:, 10], y_test, color='red')\n",
    "plt.plot(X_test[:, 10], y_pred6, 'bo')\n",
    "plt.title('Price vs Engine Size (Test set, Model 6)')\n",
    "plt.xlabel('Engine Size')\n",
    "plt.ylabel('Price')\n",
    "plt.show()"
   ]
  },
  {
   "cell_type": "code",
   "execution_count": 80,
   "metadata": {},
   "outputs": [
    {
     "data": {
      "image/png": "[encoded data removed]",
      "text/plain": [
       "<Figure size 432x288 with 1 Axes>"
      ]
     },
     "metadata": {
      "needs_background": "light"
     },
     "output_type": "display_data"
    }
   ],
   "source": [
    "# Visualising the Test set results\n",
    "plt.scatter(X_test[:, 10], y_test, color='red')\n",
    "plt.plot(X_test[:, 10], y_pred7, 'bo')\n",
    "plt.title('Price vs Engine Size (Test set, Model 7)')\n",
    "plt.xlabel('Engine Size')\n",
    "plt.ylabel('Price')\n",
    "plt.show()"
   ]
  },
  {
   "cell_type": "code",
   "execution_count": 81,
   "metadata": {},
   "outputs": [
    {
     "data": {
      "image/png": "[encoded data removed]",
      "text/plain": [
       "<Figure size 432x288 with 1 Axes>"
      ]
     },
     "metadata": {
      "needs_background": "light"
     },
     "output_type": "display_data"
    }
   ],
   "source": [
    "# Visualising the Test set results\n",
    "plt.scatter(X_test[:, 10], y_test, color='red')\n",
    "plt.plot(X_test[:, 10], y_pred8, 'bo')\n",
    "plt.title('Price vs Engine Size (Test set, Model 8)')\n",
    "plt.xlabel('Engine Size')\n",
    "plt.ylabel('Price')\n",
    "plt.show()"
   ]
  },
  {
   "cell_type": "code",
   "execution_count": 82,
   "metadata": {},
   "outputs": [
    {
     "data": {
      "text/plain": [
       "'\\n    Для визначення найкращої з розглядуваних моделей порівняємо метрики якості між ними, а також з моделями з попередніх\\nлабораторних робіт. Для цього імпортуємо датасет з метриками якості моделей з попередніх робіт й доповнимо його метриками\\nз цієї роботи.\\n'"
      ]
     },
     "execution_count": 82,
     "metadata": {},
     "output_type": "execute_result"
    }
   ],
   "source": [
    "'''\n",
    "    Для визначення найкращої з розглядуваних моделей порівняємо метрики якості між ними, а також з моделями з попередніх\n",
    "лабораторних робіт. Для цього імпортуємо датасет з метриками якості моделей з попередніх робіт й доповнимо його метриками\n",
    "з цієї роботи.\n",
    "'''"
   ]
  },
  {
   "cell_type": "code",
   "execution_count": 83,
   "metadata": {},
   "outputs": [
    {
     "data": {
      "text/html": [
       "<div>\n",
       "<style scoped>\n",
       "    .dataframe tbody tr th:only-of-type {\n",
       "        vertical-align: middle;\n",
       "    }\n",
       "\n",
       "    .dataframe tbody tr th {\n",
       "        vertical-align: top;\n",
       "    }\n",
       "\n",
       "    .dataframe thead th {\n",
       "        text-align: right;\n",
       "    }\n",
       "</style>\n",
       "<table border=\"1\" class=\"dataframe\">\n",
       "  <thead>\n",
       "    <tr style=\"text-align: right;\">\n",
       "      <th></th>\n",
       "      <th>model</th>\n",
       "      <th>train_r2</th>\n",
       "      <th>test_r2</th>\n",
       "      <th>train_mse</th>\n",
       "      <th>test_mse</th>\n",
       "    </tr>\n",
       "  </thead>\n",
       "  <tbody>\n",
       "    <tr>\n",
       "      <th>8</th>\n",
       "      <td>45-45-1-rnn</td>\n",
       "      <td>NaN</td>\n",
       "      <td>NaN</td>\n",
       "      <td>1.128897e+06</td>\n",
       "      <td>2.620153e+06</td>\n",
       "    </tr>\n",
       "    <tr>\n",
       "      <th>9</th>\n",
       "      <td>45-45-45-1-rnn</td>\n",
       "      <td>NaN</td>\n",
       "      <td>NaN</td>\n",
       "      <td>7.217031e+05</td>\n",
       "      <td>4.157993e+06</td>\n",
       "    </tr>\n",
       "    <tr>\n",
       "      <th>10</th>\n",
       "      <td>45-60-1-rnn</td>\n",
       "      <td>NaN</td>\n",
       "      <td>NaN</td>\n",
       "      <td>1.080991e+06</td>\n",
       "      <td>3.940980e+06</td>\n",
       "    </tr>\n",
       "    <tr>\n",
       "      <th>11</th>\n",
       "      <td>45-60-60-1-rnn</td>\n",
       "      <td>NaN</td>\n",
       "      <td>NaN</td>\n",
       "      <td>8.049473e+05</td>\n",
       "      <td>4.429749e+06</td>\n",
       "    </tr>\n",
       "    <tr>\n",
       "      <th>12</th>\n",
       "      <td>27-27-1-rnn</td>\n",
       "      <td>NaN</td>\n",
       "      <td>NaN</td>\n",
       "      <td>1.975469e+06</td>\n",
       "      <td>2.460375e+06</td>\n",
       "    </tr>\n",
       "    <tr>\n",
       "      <th>13</th>\n",
       "      <td>27-27-27-1-rnn</td>\n",
       "      <td>NaN</td>\n",
       "      <td>NaN</td>\n",
       "      <td>1.548358e+06</td>\n",
       "      <td>3.305243e+06</td>\n",
       "    </tr>\n",
       "    <tr>\n",
       "      <th>14</th>\n",
       "      <td>27-36-1-rnn</td>\n",
       "      <td>NaN</td>\n",
       "      <td>NaN</td>\n",
       "      <td>2.133710e+06</td>\n",
       "      <td>2.803106e+06</td>\n",
       "    </tr>\n",
       "    <tr>\n",
       "      <th>15</th>\n",
       "      <td>27-36-36-1-rnn</td>\n",
       "      <td>NaN</td>\n",
       "      <td>NaN</td>\n",
       "      <td>1.240233e+06</td>\n",
       "      <td>2.366501e+06</td>\n",
       "    </tr>\n",
       "  </tbody>\n",
       "</table>\n",
       "</div>"
      ],
      "text/plain": [
       "             model  train_r2  test_r2     train_mse      test_mse\n",
       "8      45-45-1-rnn       NaN      NaN  1.128897e+06  2.620153e+06\n",
       "9   45-45-45-1-rnn       NaN      NaN  7.217031e+05  4.157993e+06\n",
       "10     45-60-1-rnn       NaN      NaN  1.080991e+06  3.940980e+06\n",
       "11  45-60-60-1-rnn       NaN      NaN  8.049473e+05  4.429749e+06\n",
       "12     27-27-1-rnn       NaN      NaN  1.975469e+06  2.460375e+06\n",
       "13  27-27-27-1-rnn       NaN      NaN  1.548358e+06  3.305243e+06\n",
       "14     27-36-1-rnn       NaN      NaN  2.133710e+06  2.803106e+06\n",
       "15  27-36-36-1-rnn       NaN      NaN  1.240233e+06  2.366501e+06"
      ]
     },
     "execution_count": 83,
     "metadata": {},
     "output_type": "execute_result"
    }
   ],
   "source": [
    "metrics_df=pd.read_csv('Metrics_after_LR3 (Tomilovych, EC-61).csv', sep=';')\n",
    "for to_append in [rnn1_metrics, rnn2_metrics, rnn3_metrics, rnn4_metrics, rnn5_metrics, rnn6_metrics, rnn7_metrics, rnn8_metrics]:\n",
    "    a_series=pd.Series(to_append, index=metrics_df.columns)\n",
    "    metrics_df=metrics_df.append(a_series, ignore_index=True)\n",
    "metrics_df.iloc[8:]"
   ]
  },
  {
   "cell_type": "code",
   "execution_count": 88,
   "metadata": {},
   "outputs": [
    {
     "data": {
      "text/plain": [
       "\"\\n    З таблиці можна побачити, що найменше значення метрики MSE для навчальної вибірки має нейронна мережа з архітектурою\\n45-45-45-1, але вона тільки сьома з 8 розглядуваних моделей за значенням MSE для тестової вибірки. Разом з тим, це значення\\nвсе одно є непоганим.\\n    Найкраще значення значення метрики MSE для навчальної вибірки має нейронна мережа з архітектурою 27-36-36-1. Її навчальна\\nметрика MSE є п'ята з 8, але все одно досить низька. Разом з тим, така модель навчена тільки на 27 значущих незалежних\\nзмінних і має простішу архітектуру, ніж найкраща модель за значенням MSE у навчальній вибірці.\\n    Загалом не можна стверджувати яка з розглянутих нейронних мереж є кращою, але для вирішення саме задач прогнозування ціни\\nавтомобіля варто вибирати нейронну мережу 27-36-36-1.\\n    Тепер порівняємо роботи з цієї лабораторної роботи з моделями з попередніх робіт\\n\""
      ]
     },
     "execution_count": 88,
     "metadata": {},
     "output_type": "execute_result"
    }
   ],
   "source": [
    "'''\n",
    "    З таблиці можна побачити, що найменше значення метрики MSE для навчальної вибірки має нейронна мережа з архітектурою\n",
    "45-45-45-1, але вона тільки сьома з 8 розглядуваних моделей за значенням MSE для тестової вибірки. Разом з тим, це значення\n",
    "все одно є непоганим.\n",
    "    Найкраще значення значення метрики MSE для навчальної вибірки має нейронна мережа з архітектурою 27-36-36-1. Її навчальна\n",
    "метрика MSE є п'ята з 8, але все одно досить низька. Разом з тим, така модель навчена тільки на 27 значущих незалежних\n",
    "змінних і має простішу архітектуру, ніж найкраща модель за значенням MSE у навчальній вибірці.\n",
    "    Загалом не можна стверджувати яка з розглянутих нейронних мереж є кращою, але для вирішення саме задач прогнозування ціни\n",
    "автомобіля варто вибирати нейронну мережу 27-36-36-1.\n",
    "    Тепер порівняємо роботи з цієї лабораторної роботи з моделями з попередніх робіт\n",
    "'''"
   ]
  },
  {
   "cell_type": "code",
   "execution_count": 85,
   "metadata": {},
   "outputs": [
    {
     "data": {
      "text/html": [
       "<div>\n",
       "<style scoped>\n",
       "    .dataframe tbody tr th:only-of-type {\n",
       "        vertical-align: middle;\n",
       "    }\n",
       "\n",
       "    .dataframe tbody tr th {\n",
       "        vertical-align: top;\n",
       "    }\n",
       "\n",
       "    .dataframe thead th {\n",
       "        text-align: right;\n",
       "    }\n",
       "</style>\n",
       "<table border=\"1\" class=\"dataframe\">\n",
       "  <thead>\n",
       "    <tr style=\"text-align: right;\">\n",
       "      <th></th>\n",
       "      <th>model</th>\n",
       "      <th>train_r2</th>\n",
       "      <th>test_r2</th>\n",
       "      <th>train_mse</th>\n",
       "      <th>test_mse</th>\n",
       "    </tr>\n",
       "  </thead>\n",
       "  <tbody>\n",
       "    <tr>\n",
       "      <th>0</th>\n",
       "      <td>sr</td>\n",
       "      <td>0.712345</td>\n",
       "      <td>0.859868</td>\n",
       "      <td>1.719428e+07</td>\n",
       "      <td>5.580358e+06</td>\n",
       "    </tr>\n",
       "    <tr>\n",
       "      <th>1</th>\n",
       "      <td>mr</td>\n",
       "      <td>0.943201</td>\n",
       "      <td>0.875247</td>\n",
       "      <td>3.395103e+06</td>\n",
       "      <td>4.967967e+06</td>\n",
       "    </tr>\n",
       "    <tr>\n",
       "      <th>2</th>\n",
       "      <td>pr</td>\n",
       "      <td>0.724615</td>\n",
       "      <td>0.870935</td>\n",
       "      <td>1.646086e+07</td>\n",
       "      <td>5.139649e+06</td>\n",
       "    </tr>\n",
       "    <tr>\n",
       "      <th>3</th>\n",
       "      <td>omr</td>\n",
       "      <td>0.933351</td>\n",
       "      <td>0.914482</td>\n",
       "      <td>3.983876e+06</td>\n",
       "      <td>3.405523e+06</td>\n",
       "    </tr>\n",
       "    <tr>\n",
       "      <th>4</th>\n",
       "      <td>sdt</td>\n",
       "      <td>0.866935</td>\n",
       "      <td>0.877774</td>\n",
       "      <td>7.916376e+06</td>\n",
       "      <td>4.867335e+06</td>\n",
       "    </tr>\n",
       "    <tr>\n",
       "      <th>5</th>\n",
       "      <td>dt</td>\n",
       "      <td>0.928467</td>\n",
       "      <td>0.882820</td>\n",
       "      <td>4.255657e+06</td>\n",
       "      <td>4.666362e+06</td>\n",
       "    </tr>\n",
       "    <tr>\n",
       "      <th>6</th>\n",
       "      <td>rf</td>\n",
       "      <td>0.971976</td>\n",
       "      <td>0.908452</td>\n",
       "      <td>1.667228e+06</td>\n",
       "      <td>3.645657e+06</td>\n",
       "    </tr>\n",
       "    <tr>\n",
       "      <th>7</th>\n",
       "      <td>odt</td>\n",
       "      <td>0.928212</td>\n",
       "      <td>0.886986</td>\n",
       "      <td>4.270847e+06</td>\n",
       "      <td>4.500473e+06</td>\n",
       "    </tr>\n",
       "    <tr>\n",
       "      <th>8</th>\n",
       "      <td>45-45-1-rnn</td>\n",
       "      <td>NaN</td>\n",
       "      <td>NaN</td>\n",
       "      <td>1.128897e+06</td>\n",
       "      <td>2.620153e+06</td>\n",
       "    </tr>\n",
       "    <tr>\n",
       "      <th>9</th>\n",
       "      <td>45-45-45-1-rnn</td>\n",
       "      <td>NaN</td>\n",
       "      <td>NaN</td>\n",
       "      <td>7.217031e+05</td>\n",
       "      <td>4.157993e+06</td>\n",
       "    </tr>\n",
       "    <tr>\n",
       "      <th>10</th>\n",
       "      <td>45-60-1-rnn</td>\n",
       "      <td>NaN</td>\n",
       "      <td>NaN</td>\n",
       "      <td>1.080991e+06</td>\n",
       "      <td>3.940980e+06</td>\n",
       "    </tr>\n",
       "    <tr>\n",
       "      <th>11</th>\n",
       "      <td>45-60-60-1-rnn</td>\n",
       "      <td>NaN</td>\n",
       "      <td>NaN</td>\n",
       "      <td>8.049473e+05</td>\n",
       "      <td>4.429749e+06</td>\n",
       "    </tr>\n",
       "    <tr>\n",
       "      <th>12</th>\n",
       "      <td>27-27-1-rnn</td>\n",
       "      <td>NaN</td>\n",
       "      <td>NaN</td>\n",
       "      <td>1.975469e+06</td>\n",
       "      <td>2.460375e+06</td>\n",
       "    </tr>\n",
       "    <tr>\n",
       "      <th>13</th>\n",
       "      <td>27-27-27-1-rnn</td>\n",
       "      <td>NaN</td>\n",
       "      <td>NaN</td>\n",
       "      <td>1.548358e+06</td>\n",
       "      <td>3.305243e+06</td>\n",
       "    </tr>\n",
       "    <tr>\n",
       "      <th>14</th>\n",
       "      <td>27-36-1-rnn</td>\n",
       "      <td>NaN</td>\n",
       "      <td>NaN</td>\n",
       "      <td>2.133710e+06</td>\n",
       "      <td>2.803106e+06</td>\n",
       "    </tr>\n",
       "    <tr>\n",
       "      <th>15</th>\n",
       "      <td>27-36-36-1-rnn</td>\n",
       "      <td>NaN</td>\n",
       "      <td>NaN</td>\n",
       "      <td>1.240233e+06</td>\n",
       "      <td>2.366501e+06</td>\n",
       "    </tr>\n",
       "  </tbody>\n",
       "</table>\n",
       "</div>"
      ],
      "text/plain": [
       "             model  train_r2   test_r2     train_mse      test_mse\n",
       "0               sr  0.712345  0.859868  1.719428e+07  5.580358e+06\n",
       "1               mr  0.943201  0.875247  3.395103e+06  4.967967e+06\n",
       "2               pr  0.724615  0.870935  1.646086e+07  5.139649e+06\n",
       "3              omr  0.933351  0.914482  3.983876e+06  3.405523e+06\n",
       "4              sdt  0.866935  0.877774  7.916376e+06  4.867335e+06\n",
       "5               dt  0.928467  0.882820  4.255657e+06  4.666362e+06\n",
       "6               rf  0.971976  0.908452  1.667228e+06  3.645657e+06\n",
       "7              odt  0.928212  0.886986  4.270847e+06  4.500473e+06\n",
       "8      45-45-1-rnn       NaN       NaN  1.128897e+06  2.620153e+06\n",
       "9   45-45-45-1-rnn       NaN       NaN  7.217031e+05  4.157993e+06\n",
       "10     45-60-1-rnn       NaN       NaN  1.080991e+06  3.940980e+06\n",
       "11  45-60-60-1-rnn       NaN       NaN  8.049473e+05  4.429749e+06\n",
       "12     27-27-1-rnn       NaN       NaN  1.975469e+06  2.460375e+06\n",
       "13  27-27-27-1-rnn       NaN       NaN  1.548358e+06  3.305243e+06\n",
       "14     27-36-1-rnn       NaN       NaN  2.133710e+06  2.803106e+06\n",
       "15  27-36-36-1-rnn       NaN       NaN  1.240233e+06  2.366501e+06"
      ]
     },
     "execution_count": 85,
     "metadata": {},
     "output_type": "execute_result"
    }
   ],
   "source": [
    "metrics_df"
   ]
  },
  {
   "cell_type": "code",
   "execution_count": 89,
   "metadata": {},
   "outputs": [
    {
     "data": {
      "text/plain": [
       "'\\n    З цієї таблиці можна побачити, що нейронні мережі у більшості мають меншу помилку MSE і для навчальної, і для тестової\\nвибірки, ніж моделі з попередніх робіт. Це показує їхні кращі апроксимаційні та прогнозні якості, а отже серед усіх\\nрозглядуваних моделей найкращими є нейронні мережі, а серед них найкращоб для прогнозування ціни автомобілів є нейронна\\nмережа з архітектурою 27-36-36-1.\\n    Метрики якості моделей з цієї лабораторної роботи доповнили датасет метрик якості з попередніх робіт та будуть\\nекспортовані для можливості подальшого порівняння з інишими типами моделей.\\n'"
      ]
     },
     "execution_count": 89,
     "metadata": {},
     "output_type": "execute_result"
    }
   ],
   "source": [
    "'''\n",
    "    З цієї таблиці можна побачити, що нейронні мережі у більшості мають меншу помилку MSE і для навчальної, і для тестової\n",
    "вибірки, ніж моделі з попередніх робіт. Це показує їхні кращі апроксимаційні та прогнозні якості, а отже серед усіх\n",
    "розглядуваних моделей найкращими є нейронні мережі, а серед них найкращоб для прогнозування ціни автомобілів є нейронна\n",
    "мережа з архітектурою 27-36-36-1.\n",
    "    Метрики якості моделей з цієї лабораторної роботи доповнили датасет метрик якості з попередніх робіт та будуть\n",
    "експортовані для можливості подальшого порівняння з інишими типами моделей.\n",
    "'''"
   ]
  },
  {
   "cell_type": "code",
   "execution_count": 87,
   "metadata": {},
   "outputs": [],
   "source": [
    "# Exporting dataset with metrics\n",
    "metrics_df.to_csv('Metrics_after_LR4 (Tomilovych, EC-61).csv', sep=';', index=False)"
   ]
  }
 ],
 "metadata": {
  "kernelspec": {
   "display_name": "Python 3",
   "language": "python",
   "name": "python3"
  },
  "language_info": {
   "codemirror_mode": {
    "name": "ipython",
    "version": 3
   },
   "file_extension": ".py",
   "mimetype": "text/x-python",
   "name": "python",
   "nbconvert_exporter": "python",
   "pygments_lexer": "ipython3",
   "version": "3.8.3"
  }
 },
 "nbformat": 4,
 "nbformat_minor": 4
}
